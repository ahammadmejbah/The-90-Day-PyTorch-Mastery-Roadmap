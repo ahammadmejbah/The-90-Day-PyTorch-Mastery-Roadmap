{
 "cells": [
  {
   "cell_type": "markdown",
   "metadata": {},
   "source": [
    "<div align=\"center\">\n",
    "      <h3> <img src=\"https://github.com/ahammadmejbah/ahammadmejbah/blob/main/Software%20Intelligence%20longo.png?raw=true\" width=\"\"></h3>\n",
    "      <center> <h2><a href=\"https://github.com/ahammadmejbah/The-90-Day-PyTorch-Mastery-Roadmap/tree/main/Chapter%2001%3A%20Introduction%20to%20PyTorch/Day%201%3A%20Introduction%20to%20Deep%20Learning%20and%20PyTorch\"> Full Documentation Link: 👨🏻‍🎓 Day 03: Tensor Operations</a></h2>\n",
    "     </div>\n",
    "\n",
    "\n",
    "\n",
    "<body>\n",
    "<p align=\"center\">\n",
    "  <a href=\"mailto:ahammadmejbah@gmail.com\"><img src=\"https://img.shields.io/badge/Email-ahammadmejbah%40gmail.com-blue?style=flat-square&logo=gmail\"></a>\n",
    "  <a href=\"https://github.com/ahammadmejbah\"><img src=\"https://img.shields.io/badge/GitHub-%40ahammadmejbah-lightgrey?style=flat-square&logo=github\"></a>\n",
    "  <a href=\"https://linkedin.com/in/ahammadmejbah\"><img src=\"https://img.shields.io/badge/LinkedIn-Mejbah%20Ahammad-blue?style=flat-square&logo=linkedin\"></a>\n",
    "  <a href=\"https://softwareintelligence.ai/\"><img src=\"https://img.shields.io/badge/Website-Bytes%20of%20Intelligence-lightgrey?style=flat-square&logo=google-chrome\"></a>\n",
    "  <a href=\"https://www.youtube.com/@IntelligenceAcademy\"><img src=\"https://img.shields.io/badge/YouTube-IntelligenceAcademy-red?style=flat-square&logo=youtube\"></a>\n",
    "  <a href=\"https://www.researchgate.net/profile/Mejbah-Ahammad-2\"><img src=\"https://img.shields.io/badge/ResearchGate-Mejbah%20Ahammad-blue?style=flat-square&logo=researchgate\"></a>\n",
    "  <br>\n",
    "  <img src=\"https://img.shields.io/badge/Phone-%2B8801874603631-green?style=flat-square&logo=whatsapp\">\n",
    "  <a href=\"https://www.hackerrank.com/profile/ahammadmejbah\"><img src=\"https://img.shields.io/badge/Hackerrank-ahammadmejbah-green?style=flat-square&logo=hackerrank\"></a>\n",
    "</p>\n"
   ]
  },
  {
   "cell_type": "markdown",
   "metadata": {},
   "source": [
    "Welcome to **Day 3** of your 90-Day PyTorch Mastery Plan! Today, we will dive deep into **Tensor Operations**, the fundamental building blocks for performing computations in PyTorch. Mastering tensor operations is crucial as they form the basis of all computations in neural networks, from simple arithmetic to complex matrix manipulations.\n",
    "\n",
    "---\n",
    "\n",
    "## 📑 **Table of Contents**\n",
    "1. [Topics Overview](#1-topics-overview)\n",
    "2. [Basic Tensor Operations](#2-basic-tensor-operations)\n",
    "    - [2.1. Addition](#21-addition)\n",
    "    - [2.2. Subtraction](#22-subtraction)\n",
    "    - [2.3. Multiplication](#23-multiplication)\n",
    "    - [2.4. Division](#24-division)\n",
    "3. [In-Place vs. Out-of-Place Operations](#3-in-place-vs-out-of-place-operations)\n",
    "    - [3.1. Out-of-Place Operations](#31-out-of-place-operations)\n",
    "    - [3.2. In-Place Operations](#32-in-place-operations)\n",
    "    - [3.3. When to Use Which](#33-when-to-use-which)\n",
    "4. [Practical Activities](#4-practical-activities)\n",
    "    - [4.1. Experimenting with Basic Operations](#41-experimenting-with-basic-operations)\n",
    "    - [4.2. Understanding In-Place Operations](#42-understanding-in-place-operations)\n",
    "    - [4.3. Combining Operations](#43-combining-operations)\n",
    "5. [Resources](#5-resources)\n",
    "6. [Learning Objectives](#6-learning-objectives)\n",
    "7. [Expected Outcomes](#7-expected-outcomes)\n",
    "8. [Tips for Success](#8-tips-for-success)\n",
    "9. [Advanced Tips and Best Practices](#9-advanced-tips-and-best-practices)\n",
    "10. [Comprehensive Summary](#10-comprehensive-summary)\n",
    "11. [Moving Forward](#11-moving-forward)\n",
    "12. [Final Encouragement](#12-final-encouragement)\n"
   ]
  },
  {
   "cell_type": "markdown",
   "metadata": {},
   "source": [
    "## 1. Topics Overview\n",
    "\n",
    "### **Basic Tensor Operations**\n",
    "Understanding and performing basic tensor operations such as addition, subtraction, multiplication, and division is essential. These operations are not only fundamental in mathematical computations but also form the backbone of neural network training and data manipulation.\n",
    "\n",
    "### **In-Place vs. Out-of-Place Operations**\n",
    "PyTorch offers two types of operations:\n",
    "- **Out-of-Place Operations:** These operations create a new tensor and do not modify the original tensor.\n",
    "- **In-Place Operations:** These operations modify the original tensor directly, which can lead to memory savings but may have implications for gradient computations.\n",
    "\n",
    "Today, we'll explore both types, understand their differences, and learn when to use each.\n",
    "\n",
    "---\n",
    "\n",
    "## 2. Basic Tensor Operations\n",
    "\n",
    "Let's explore the four fundamental tensor operations: addition, subtraction, multiplication, and division. We'll provide detailed explanations and code examples for each.\n",
    "\n",
    "### 2.1. Addition\n",
    "\n",
    "**Element-wise Addition:**\n",
    "\n",
    "Adding two tensors of the same shape results in a new tensor where each element is the sum of the corresponding elements from the input tensors.\n"
   ]
  },
  {
   "cell_type": "code",
   "execution_count": 1,
   "metadata": {},
   "outputs": [
    {
     "name": "stdout",
     "output_type": "stream",
     "text": [
      "Addition (x + y): tensor([5, 7, 9])\n"
     ]
    }
   ],
   "source": [
    "import torch\n",
    "\n",
    "# Creating two tensors of the same shape\n",
    "x = torch.tensor([1, 2, 3])\n",
    "y = torch.tensor([4, 5, 6])\n",
    "\n",
    "# Element-wise addition\n",
    "z = x + y\n",
    "print(\"Addition (x + y):\", z)  # Output: tensor([5, 7, 9])"
   ]
  },
  {
   "cell_type": "markdown",
   "metadata": {},
   "source": [
    "**Broadcasted Addition:**\n",
    "\n",
    "When tensors of different shapes are involved, PyTorch applies broadcasting rules to perform the addition.\n"
   ]
  },
  {
   "cell_type": "code",
   "execution_count": 2,
   "metadata": {},
   "outputs": [
    {
     "name": "stdout",
     "output_type": "stream",
     "text": [
      "Broadcasted Addition (x + y):\n",
      " tensor([[2., 2., 2., 2.],\n",
      "        [2., 2., 2., 2.],\n",
      "        [2., 2., 2., 2.]])\n"
     ]
    }
   ],
   "source": [
    "# Tensor shapes: x is (3, 1), y is (1, 4)\n",
    "x = torch.ones(3, 1)\n",
    "y = torch.ones(1, 4)\n",
    "\n",
    "# Broadcasted addition\n",
    "z = x + y\n",
    "print(\"Broadcasted Addition (x + y):\\n\", z)\n",
    "# Output:\n",
    "# tensor([[2., 2., 2., 2.],\n",
    "#         [2., 2., 2., 2.],\n",
    "#         [2., 2., 2., 2.]])"
   ]
  },
  {
   "cell_type": "markdown",
   "metadata": {},
   "source": [
    "### 2.2. Subtraction\n",
    "\n",
    "**Element-wise Subtraction:**\n",
    "\n",
    "Subtracting one tensor from another of the same shape.\n"
   ]
  },
  {
   "cell_type": "code",
   "execution_count": 3,
   "metadata": {},
   "outputs": [
    {
     "name": "stdout",
     "output_type": "stream",
     "text": [
      "Subtraction (y - x): tensor([[0., 0., 0., 0.],\n",
      "        [0., 0., 0., 0.],\n",
      "        [0., 0., 0., 0.]])\n"
     ]
    }
   ],
   "source": [
    "# Element-wise subtraction\n",
    "z = y - x\n",
    "print(\"Subtraction (y - x):\", z)  # Output: tensor([3, 3, 3])"
   ]
  },
  {
   "cell_type": "markdown",
   "metadata": {},
   "source": [
    "**Broadcasted Subtraction:**"
   ]
  },
  {
   "cell_type": "code",
   "execution_count": 4,
   "metadata": {},
   "outputs": [
    {
     "name": "stdout",
     "output_type": "stream",
     "text": [
      "Broadcasted Subtraction (y - x):\n",
      " tensor([[0., 0., 0., 0.],\n",
      "        [0., 0., 0., 0.],\n",
      "        [0., 0., 0., 0.]])\n"
     ]
    }
   ],
   "source": [
    "# Using tensors from previous example\n",
    "z = y - x\n",
    "print(\"Broadcasted Subtraction (y - x):\\n\", z)\n",
    "# Output:\n",
    "# tensor([[0., 0., 0., 0.],\n",
    "#         [0., 0., 0., 0.],\n",
    "#         [0., 0., 0., 0.]])"
   ]
  },
  {
   "cell_type": "markdown",
   "metadata": {},
   "source": [
    "### 2.3. Multiplication\n",
    "\n",
    "**Element-wise Multiplication:**\n",
    "\n",
    "Multiplying two tensors of the same shape."
   ]
  },
  {
   "cell_type": "code",
   "execution_count": 5,
   "metadata": {},
   "outputs": [
    {
     "name": "stdout",
     "output_type": "stream",
     "text": [
      "Multiplication (x * y): tensor([[1., 1., 1., 1.],\n",
      "        [1., 1., 1., 1.],\n",
      "        [1., 1., 1., 1.]])\n"
     ]
    }
   ],
   "source": [
    "# Element-wise multiplication\n",
    "z = x * y\n",
    "print(\"Multiplication (x * y):\", z)  # Output: tensor([4, 10, 18])"
   ]
  },
  {
   "cell_type": "markdown",
   "metadata": {},
   "source": [
    "**Matrix Multiplication:**\n",
    "\n",
    "For 2D tensors (matrices), multiplication follows matrix multiplication rules."
   ]
  },
  {
   "cell_type": "code",
   "execution_count": 6,
   "metadata": {},
   "outputs": [
    {
     "name": "stdout",
     "output_type": "stream",
     "text": [
      "Matrix Multiplication (A.mm(B)):\n",
      " tensor([[19, 22],\n",
      "        [43, 50]])\n"
     ]
    }
   ],
   "source": [
    "# Creating two matrices\n",
    "A = torch.tensor([[1, 2], [3, 4]])\n",
    "B = torch.tensor([[5, 6], [7, 8]])\n",
    "\n",
    "# Matrix multiplication using torch.mm\n",
    "C = torch.mm(A, B)\n",
    "print(\"Matrix Multiplication (A.mm(B)):\\n\", C)\n",
    "# Output:\n",
    "# tensor([[19, 22],\n",
    "#         [43, 50]])"
   ]
  },
  {
   "cell_type": "markdown",
   "metadata": {},
   "source": [
    "**Element-wise vs. Matrix Multiplication:**"
   ]
  },
  {
   "cell_type": "code",
   "execution_count": 7,
   "metadata": {},
   "outputs": [
    {
     "name": "stdout",
     "output_type": "stream",
     "text": [
      "Element-wise Multiplication (A * B):\n",
      " tensor([[ 5, 12],\n",
      "        [21, 32]])\n"
     ]
    }
   ],
   "source": [
    "# Element-wise multiplication using *\n",
    "C_element = A * B\n",
    "print(\"Element-wise Multiplication (A * B):\\n\", C_element)\n",
    "# Output:\n",
    "# tensor([[ 5, 12],\n",
    "#         [21, 32]])"
   ]
  },
  {
   "cell_type": "markdown",
   "metadata": {},
   "source": [
    "### 2.4. Division\n",
    "\n",
    "**Element-wise Division:**\n",
    "\n",
    "Dividing one tensor by another of the same shape."
   ]
  },
  {
   "cell_type": "code",
   "execution_count": 8,
   "metadata": {},
   "outputs": [
    {
     "name": "stdout",
     "output_type": "stream",
     "text": [
      "Division (y / x): tensor([[1., 1., 1., 1.],\n",
      "        [1., 1., 1., 1.],\n",
      "        [1., 1., 1., 1.]])\n"
     ]
    }
   ],
   "source": [
    "# Element-wise division\n",
    "z = y / x\n",
    "print(\"Division (y / x):\", z)  # Output: tensor([4., 5., 6.])"
   ]
  },
  {
   "cell_type": "markdown",
   "metadata": {},
   "source": [
    "**Handling Division by Zero:**\n",
    "\n",
    "PyTorch handles division by zero by returning `inf` or `nan`."
   ]
  },
  {
   "cell_type": "code",
   "execution_count": 9,
   "metadata": {},
   "outputs": [
    {
     "name": "stdout",
     "output_type": "stream",
     "text": [
      "Division with Zero (y / x): tensor([4., inf, 2.])\n"
     ]
    }
   ],
   "source": [
    "# Creating tensors with zero\n",
    "x = torch.tensor([1.0, 0.0, 3.0])\n",
    "y = torch.tensor([4.0, 5.0, 6.0])\n",
    "\n",
    "# Division\n",
    "z = y / x\n",
    "print(\"Division with Zero (y / x):\", z)  # Output: tensor([4.0000,    inf, 2.0000])"
   ]
  },
  {
   "cell_type": "markdown",
   "metadata": {},
   "source": [
    "## 3. In-Place vs. Out-of-Place Operations\n",
    "\n",
    "Understanding the difference between in-place and out-of-place operations is crucial for efficient memory management and avoiding unintended side effects, especially during model training.\n",
    "\n",
    "### 3.1. Out-of-Place Operations\n",
    "\n",
    "**Definition:**\n",
    "Out-of-place operations create a new tensor without modifying the original tensors involved in the operation.\n",
    "\n",
    "**Example:**"
   ]
  },
  {
   "cell_type": "code",
   "execution_count": 10,
   "metadata": {},
   "outputs": [
    {
     "name": "stdout",
     "output_type": "stream",
     "text": [
      "Out-of-Place Addition (z = x + y): tensor([5., 7., 9.])\n",
      "Original x: tensor([1., 2., 3.])\n"
     ]
    }
   ],
   "source": [
    "x = torch.tensor([1, 2, 3], dtype=torch.float32)\n",
    "y = torch.tensor([4, 5, 6], dtype=torch.float32)\n",
    "\n",
    "# Out-of-place addition\n",
    "z = x + y\n",
    "print(\"Out-of-Place Addition (z = x + y):\", z)  # Output: tensor([5., 7., 9.])\n",
    "print(\"Original x:\", x)  # x remains unchanged\n",
    "# Output: tensor([1., 2., 3.])"
   ]
  },
  {
   "cell_type": "markdown",
   "metadata": {},
   "source": [
    "### 3.2. In-Place Operations\n",
    "\n",
    "**Definition:**\n",
    "In-place operations modify the original tensor directly, saving memory by not creating a new tensor.\n",
    "\n",
    "**Syntax:**\n",
    "In PyTorch, in-place operations are denoted by an underscore (`_`) at the end of the method name.\n",
    "\n",
    "**Example:**"
   ]
  },
  {
   "cell_type": "code",
   "execution_count": 11,
   "metadata": {},
   "outputs": [
    {
     "name": "stdout",
     "output_type": "stream",
     "text": [
      "In-Place Addition (x.add_(2)): tensor([3., 4., 5.])\n"
     ]
    }
   ],
   "source": [
    "x = torch.tensor([1, 2, 3], dtype=torch.float32)\n",
    "\n",
    "# In-place addition\n",
    "x.add_(2)\n",
    "print(\"In-Place Addition (x.add_(2)):\", x)  # Output: tensor([3., 4., 5.])"
   ]
  },
  {
   "cell_type": "markdown",
   "metadata": {},
   "source": [
    "**Advantages:**\n",
    "- **Memory Efficiency:** Reduces memory usage by avoiding the creation of new tensors.\n",
    "- **Performance:** Can lead to faster computations in certain scenarios.\n",
    "\n",
    "**Disadvantages:**\n",
    "- **Potential Side Effects:** Modifies the original tensor, which can lead to unintended consequences if the original tensor is used elsewhere.\n",
    "- **Autograd Implications:** In-place operations can interfere with gradient computations, especially if the tensor is involved in the computational graph.\n",
    "\n",
    "### 3.3. When to Use Which\n",
    "\n",
    "- **Use Out-of-Place Operations When:**\n",
    "  - You need to preserve the original tensors.\n",
    "  - Performing operations that are part of the computational graph for gradient computation.\n",
    "\n",
    "- **Use In-Place Operations When:**\n",
    "  - Memory constraints are a concern.\n",
    "  - You are certain that the original tensor does not need to be preserved.\n",
    "  - Managing gradients carefully to avoid disrupting the computational graph.\n",
    "\n",
    "**Caution:** Always be mindful when using in-place operations, especially when working with tensors that require gradients. In-place modifications can lead to errors during backpropagation if they overwrite values needed for gradient computation.\n",
    "\n",
    "---\n",
    "\n",
    "## 4. Practical Activities\n",
    "\n",
    "Engage in the following hands-on exercises to solidify your understanding of tensor operations.\n",
    "\n",
    "### 4.1. Experimenting with Basic Operations\n",
    "\n",
    "**Objective:** Perform and observe the effects of basic tensor operations.\n",
    "\n",
    "**Steps:**\n",
    "\n",
    "1. **Create Two Tensors:**\n"
   ]
  },
  {
   "cell_type": "code",
   "execution_count": 13,
   "metadata": {},
   "outputs": [],
   "source": [
    "import torch\n",
    "\n",
    "# Creating tensors\n",
    "x = torch.tensor([10, 20, 30], dtype=torch.float32)\n",
    "y = torch.tensor([1, 2, 3], dtype=torch.float32)"
   ]
  },
  {
   "cell_type": "markdown",
   "metadata": {},
   "source": [
    "2. **Perform Arithmetic Operations:**"
   ]
  },
  {
   "cell_type": "code",
   "execution_count": 15,
   "metadata": {},
   "outputs": [
    {
     "name": "stdout",
     "output_type": "stream",
     "text": [
      "Addition: tensor([11., 22., 33.])\n",
      "Subtraction: tensor([ 9., 18., 27.])\n",
      "Multiplication: tensor([10., 40., 90.])\n",
      "Division: tensor([10., 10., 10.])\n"
     ]
    }
   ],
   "source": [
    "# Addition\n",
    "add = x + y\n",
    "print(\"Addition:\", add)  # Output: tensor([11., 22., 33.])\n",
    "\n",
    "# Subtraction\n",
    "subtract = x - y\n",
    "print(\"Subtraction:\", subtract)  # Output: tensor([ 9., 18., 27.])\n",
    "\n",
    "# Multiplication\n",
    "multiply = x * y\n",
    "print(\"Multiplication:\", multiply)  # Output: tensor([10., 40., 90.])\n",
    "\n",
    "# Division\n",
    "divide = x / y\n",
    "print(\"Division:\", divide)  # Output: tensor([10., 10., 10.])"
   ]
  },
  {
   "cell_type": "markdown",
   "metadata": {},
   "source": [
    "3. **Matrix Multiplication:**"
   ]
  },
  {
   "cell_type": "code",
   "execution_count": 17,
   "metadata": {},
   "outputs": [
    {
     "name": "stdout",
     "output_type": "stream",
     "text": [
      "Matrix Multiplication (A.mm(B)):\n",
      " tensor([[19., 22.],\n",
      "        [43., 50.]])\n"
     ]
    }
   ],
   "source": [
    "# Creating matrices\n",
    "A = torch.tensor([[1, 2], [3, 4]], dtype=torch.float32)\n",
    "B = torch.tensor([[5, 6], [7, 8]], dtype=torch.float32)\n",
    "\n",
    "# Matrix multiplication using torch.mm\n",
    "C = torch.mm(A, B)\n",
    "print(\"Matrix Multiplication (A.mm(B)):\\n\", C)\n",
    "# Output:\n",
    "# tensor([[19., 22.],\n",
    "#         [43., 50.]])"
   ]
  },
  {
   "cell_type": "markdown",
   "metadata": {},
   "source": [
    "### 4.2. Understanding In-Place Operations\n",
    "\n",
    "**Objective:** Differentiate between in-place and out-of-place operations and understand their effects.\n",
    "\n",
    "**Steps:**\n",
    "\n",
    "1. **Out-of-Place Operation Example:**"
   ]
  },
  {
   "cell_type": "code",
   "execution_count": 18,
   "metadata": {},
   "outputs": [
    {
     "name": "stdout",
     "output_type": "stream",
     "text": [
      "Out-of-Place Addition (z = x + y): tensor([5., 7., 9.])\n",
      "Original x: tensor([1., 2., 3.])\n"
     ]
    }
   ],
   "source": [
    "x = torch.tensor([1, 2, 3], dtype=torch.float32)\n",
    "y = torch.tensor([4, 5, 6], dtype=torch.float32)\n",
    "\n",
    "# Out-of-place addition\n",
    "z = x + y\n",
    "print(\"Out-of-Place Addition (z = x + y):\", z)  # Output: tensor([5., 7., 9.])\n",
    "print(\"Original x:\", x)  # Output: tensor([1., 2., 3.])"
   ]
  },
  {
   "cell_type": "markdown",
   "metadata": {},
   "source": [
    "2. **In-Place Operation Example:**"
   ]
  },
  {
   "cell_type": "code",
   "execution_count": 19,
   "metadata": {},
   "outputs": [
    {
     "name": "stdout",
     "output_type": "stream",
     "text": [
      "In-Place Addition (x.add_(5)): tensor([6., 7., 8.])\n"
     ]
    }
   ],
   "source": [
    "x = torch.tensor([1, 2, 3], dtype=torch.float32)\n",
    "\n",
    "# In-place addition\n",
    "x.add_(5)\n",
    "print(\"In-Place Addition (x.add_(5)):\", x)  # Output: tensor([6., 7., 8.])"
   ]
  },
  {
   "cell_type": "markdown",
   "metadata": {},
   "source": [
    "3. **Autograd Implications:**"
   ]
  },
  {
   "cell_type": "code",
   "execution_count": 21,
   "metadata": {},
   "outputs": [
    {
     "name": "stdout",
     "output_type": "stream",
     "text": [
      "c (Out-of-Place): tensor([6., 8.], grad_fn=<AddBackward0>)\n",
      "a after Modification (Out-of-Place): tensor([3., 4.], grad_fn=<AddBackward0>)\n",
      "Gradients for a: tensor([1., 1.])\n"
     ]
    }
   ],
   "source": [
    "import torch\n",
    "\n",
    "# Creating tensors with requires_grad=True\n",
    "a = torch.tensor([2.0, 3.0], requires_grad=True)\n",
    "b = torch.tensor([4.0, 5.0], requires_grad=True)\n",
    "\n",
    "# Out-of-place operation\n",
    "c = a + b\n",
    "print(\"c (Out-of-Place):\", c)  # Output: tensor([6., 8.], grad_fn=<AddBackward0>)\n",
    "\n",
    "# Use out-of-place operation to modify 'a'\n",
    "a_modified = a + 1\n",
    "print(\"a after Modification (Out-of-Place):\", a_modified)  # Output: tensor([3., 4.], requires_grad=True)\n",
    "\n",
    "# Perform backward pass\n",
    "c.backward(torch.tensor([1.0, 1.0]))\n",
    "print(\"Gradients for a:\", a.grad)  # Should work correctly\n"
   ]
  },
  {
   "cell_type": "markdown",
   "metadata": {},
   "source": [
    "**Explanation:**\n",
    "The in-place operation modifies tensor `a`, which is part of the computational graph for `c`. This can disrupt gradient computation, leading to errors during the backward pass.\n",
    "\n",
    "### 4.3. Combining Operations\n",
    "\n",
    "**Objective:** Combine multiple tensor operations to perform complex computations.\n",
    "\n",
    "**Steps:**\n",
    "\n",
    "1. **Chain Operations:**"
   ]
  },
  {
   "cell_type": "code",
   "execution_count": 22,
   "metadata": {},
   "outputs": [
    {
     "name": "stdout",
     "output_type": "stream",
     "text": [
      "Chained Operations: tensor([1.2000, 2.6667, 4.2857, 6.0000])\n"
     ]
    }
   ],
   "source": [
    "x = torch.tensor([1, 2, 3, 4], dtype=torch.float32)\n",
    "y = torch.tensor([5, 6, 7, 8], dtype=torch.float32)\n",
    "\n",
    "# Chain of operations: ((x + y) * x) / y\n",
    "z = ((x + y) * x) / y\n",
    "print(\"Chained Operations:\", z)  # Output: tensor([ 1.2000,  2.3333,  3.5000,  4.8000])"
   ]
  },
  {
   "cell_type": "markdown",
   "metadata": {},
   "source": [
    "2. **Using Built-in Functions:**"
   ]
  },
  {
   "cell_type": "code",
   "execution_count": 23,
   "metadata": {},
   "outputs": [
    {
     "name": "stdout",
     "output_type": "stream",
     "text": [
      "Element-wise Square: tensor([ 1.,  4.,  9., 16.])\n",
      "Element-wise Exponential: tensor([ 2.7183,  7.3891, 20.0855, 54.5981])\n"
     ]
    }
   ],
   "source": [
    "# Element-wise square\n",
    "z = x.pow(2)\n",
    "print(\"Element-wise Square:\", z)  # Output: tensor([ 1.,  4.,  9., 16.])\n",
    "\n",
    "# Element-wise exponential\n",
    "z = x.exp()\n",
    "print(\"Element-wise Exponential:\", z)  # Output: tensor([ 2.7183,  7.3891, 20.0855, 54.5982])"
   ]
  },
  {
   "cell_type": "markdown",
   "metadata": {},
   "source": [
    "3. **Applying In-Place Operations in Chains:**"
   ]
  },
  {
   "cell_type": "code",
   "execution_count": 26,
   "metadata": {},
   "outputs": [
    {
     "name": "stdout",
     "output_type": "stream",
     "text": [
      "Multiplication (x * 2): tensor([2., 4., 6.], grad_fn=<MulBackward0>)\n",
      "Gradients: None\n"
     ]
    },
    {
     "name": "stderr",
     "output_type": "stream",
     "text": [
      "/tmp/ipykernel_7062/1901884673.py:10: UserWarning: The .grad attribute of a Tensor that is not a leaf Tensor is being accessed. Its .grad attribute won't be populated during autograd.backward(). If you indeed want the .grad field to be populated for a non-leaf Tensor, use .retain_grad() on the non-leaf Tensor. If you access the non-leaf Tensor by mistake, make sure you access the leaf Tensor instead. See github.com/pytorch/pytorch/pull/30531 for more informations. (Triggered internally at aten/src/ATen/core/TensorBody.h:489.)\n",
      "  print(\"Gradients:\", x.grad)  # This works correctly\n"
     ]
    }
   ],
   "source": [
    "x = torch.tensor([1.0, 2.0, 3.0], requires_grad=True)\n",
    "\n",
    "# Out-of-place multiplication\n",
    "x = x * 2\n",
    "print(\"Multiplication (x * 2):\", x)  # Output: tensor([2., 4., 6.], requires_grad=True)\n",
    "\n",
    "# Computing loss\n",
    "loss = x.sum()\n",
    "loss.backward()\n",
    "print(\"Gradients:\", x.grad)  # This works correctly\n"
   ]
  },
  {
   "cell_type": "markdown",
   "metadata": {},
   "source": [
    "\n",
    "    **Note:** Be cautious with in-place operations as they can overwrite values needed for gradient computation.\n",
    "\n",
    "---\n",
    "\n",
    "## 5. Resources\n",
    "\n",
    "Enhance your understanding with the following resources:\n",
    "\n",
    "1. **Official Documentation and Guides:**\n",
    "    - [PyTorch Tensor Operations Documentation](https://pytorch.org/docs/stable/torch.html#math-operations): Comprehensive list of tensor operations.\n",
    "    - [PyTorch Tutorials](https://pytorch.org/tutorials/): Explore various tutorials ranging from beginner to advanced levels.\n",
    "    - [PyTorch Autograd Documentation](https://pytorch.org/docs/stable/autograd.html): Detailed insights into automatic differentiation.\n",
    "\n",
    "2. **Books and Reading Materials:**\n",
    "    - *\"Deep Learning with PyTorch\"* by Eli Stevens, Luca Antiga, and Thomas Viehmann: Practical insights and projects.\n",
    "    - *\"Programming PyTorch for Deep Learning\"* by Ian Pointer: A guide to leveraging PyTorch for deep learning tasks.\n",
    "    - *\"Neural Networks and Deep Learning\"* by Michael Nielsen: Available [online](http://neuralnetworksanddeeplearning.com/).\n",
    "\n",
    "3. **Online Courses and Lectures:**\n",
    "    - [Fast.ai's Practical Deep Learning for Coders](https://www.fast.ai/): Hands-on approach with PyTorch.\n",
    "    - [Udacity's Intro to Deep Learning with PyTorch](https://www.udacity.com/course/deep-learning-pytorch--ud188): Focused on PyTorch implementations.\n",
    "    - [Coursera's Deep Learning Specialization](https://www.coursera.org/specializations/deep-learning): Comprehensive courses covering various aspects of deep learning.\n",
    "\n",
    "4. **Community and Support:**\n",
    "    - [PyTorch Forums](https://discuss.pytorch.org/): Engage with the PyTorch community for questions and discussions.\n",
    "    - [Stack Overflow PyTorch Tag](https://stackoverflow.com/questions/tagged/pytorch): Find solutions to common problems.\n",
    "    - [Reddit’s r/PyTorch](https://www.reddit.com/r/PyTorch/): Stay updated with the latest news, tutorials, and discussions related to PyTorch.\n",
    "\n",
    "5. **Tools and Extensions:**\n",
    "    - **Visualization:**\n",
    "        - [TensorBoard with PyTorch](https://pytorch.org/docs/stable/tensorboard.html): Visualizing training metrics.\n",
    "        - [Visdom](https://github.com/facebookresearch/visdom): Real-time visualization tool.\n",
    "    - **Performance Optimization:**\n",
    "        - [PyTorch Lightning](https://www.pytorchlightning.ai/): Simplifies training loops and scalability.\n",
    "        - [TorchScript](https://pytorch.org/docs/stable/jit.html): Transition models from research to production.\n",
    "    - **Debugging and Profiling:**\n",
    "        - [PyTorch Profiler](https://pytorch.org/docs/stable/profiler.html): Analyze and optimize the performance of PyTorch models.\n",
    "        - [Visual Studio Code with PyTorch Extensions](https://code.visualstudio.com/docs/python/pytorch): Enhance your development environment with debugging and IntelliSense for PyTorch.\n",
    "\n",
    "---\n",
    "\n",
    "## 6. Learning Objectives\n",
    "\n",
    "By the end of **Day 3**, you should be able to:\n",
    "\n",
    "1. **Perform Basic Tensor Operations:**\n",
    "    - Execute element-wise addition, subtraction, multiplication, and division.\n",
    "    - Understand and apply matrix multiplication and element-wise operations.\n",
    "\n",
    "2. **Differentiate Between In-Place and Out-of-Place Operations:**\n",
    "    - Recognize the syntax differences.\n",
    "    - Understand the implications of each type on memory and gradient computations.\n",
    "\n",
    "3. **Apply Advanced Operations:**\n",
    "    - Chain multiple tensor operations.\n",
    "    - Utilize built-in PyTorch functions for complex computations.\n",
    "\n",
    "4. **Manage Tensor Attributes During Operations:**\n",
    "    - Ensure tensors are on the correct device (CPU/GPU) before performing operations.\n",
    "    - Handle data type conversions effectively.\n",
    "\n",
    "---\n",
    "\n",
    "## 7. Expected Outcomes\n",
    "\n",
    "By the end of Day 3, you will have:\n",
    "\n",
    "- **Mastered Basic Tensor Operations:** Proficiently perform and manipulate tensors using addition, subtraction, multiplication, and division.\n",
    "- **Understood Operation Types:** Clear understanding of in-place vs. out-of-place operations and their appropriate use cases.\n",
    "- **Enhanced Computational Skills:** Ability to combine multiple operations to perform complex computations essential for neural network training.\n",
    "- **Prepared for Advanced Topics:** Solid foundation in tensor manipulations, paving the way for deeper explorations into neural network architectures and training mechanisms.\n",
    "\n",
    "---\n",
    "\n",
    "## 8. Tips for Success\n",
    "\n",
    "1. **Hands-On Practice:** Actively code along with the examples provided. Replicating the code will reinforce your understanding.\n",
    "2. **Experiment:** Modify the code snippets to see different outcomes. Change tensor values, shapes, and data types to explore various scenarios.\n",
    "3. **Visualize Results:** Use print statements or visualization tools to observe the results of your tensor operations.\n",
    "4. **Document Your Learning:** Keep a notebook or digital document to record key concepts, code snippets, and insights.\n",
    "5. **Seek Help When Stuck:** Utilize community forums and resources to resolve any challenges you encounter.\n"
   ]
  },
  {
   "cell_type": "markdown",
   "metadata": {},
   "source": [
    "## 9. Advanced Tips and Best Practices\n",
    "\n",
    "1. **Leverage GPU Acceleration:**\n",
    "    - **Move Tensors to GPU:**\n",
    "        ```python\n",
    "        if torch.cuda.is_available():\n",
    "            device = torch.device('cuda')\n",
    "            x = x.to(device)\n",
    "            y = y.to(device)\n",
    "            z = x + y\n",
    "            print(z.device)  # Output: cuda:0\n",
    "        ```\n",
    "    - **Ensure All Tensors Are on the Same Device:** Prevent runtime errors by maintaining consistency in tensor devices.\n",
    "\n",
    "2. **Efficient Memory Management:**\n",
    "    - **Use In-Place Operations Sparingly:** While they save memory, they can complicate the computational graph.\n",
    "    - **Detach Tensors When Necessary:**\n",
    "        ```python\n",
    "        y = z.detach()\n",
    "        ```\n",
    "        Detaching a tensor removes it from the computational graph, preventing gradient computations.\n",
    "\n",
    "3. **Avoid Common Pitfalls:**\n",
    "    - **Understand Broadcasting Rules:** Ensure tensor dimensions are compatible to avoid unexpected results.\n",
    "    - **Manage Gradient Tracking:** Be cautious with `requires_grad=True` to manage which tensors should track gradients.\n",
    "\n",
    "4. **Optimize Performance:**\n",
    "    - **Batch Operations:** Perform operations on batches of data to leverage parallel computation.\n",
    "    - **Minimize Data Transfers:** Reduce the number of times tensors are moved between CPU and GPU to enhance performance.\n",
    "\n",
    "5. **Code Readability and Maintenance:**\n",
    "    - **Use Descriptive Variable Names:** Enhance code clarity by naming tensors meaningfully.\n",
    "    - **Modularize Code:** Break down complex operations into smaller, reusable functions.\n",
    "\n",
    "6. **Integrate with Other Libraries:**\n",
    "    - **Seamless Conversion Between PyTorch and NumPy:**\n",
    "        ```python\n",
    "        # From Tensor to NumPy\n",
    "        np_array = x.cpu().numpy()\n",
    "\n",
    "        # From NumPy to Tensor\n",
    "        tensor_from_np = torch.from_numpy(np_array).to(device)\n",
    "        ```\n",
    "    - **Interoperability with Pandas:**\n",
    "        ```python\n",
    "        import pandas as pd\n",
    "\n",
    "        df = pd.DataFrame(np_array)\n",
    "        tensor_from_df = torch.tensor(df.values).to(device)\n",
    "        ```\n",
    "\n",
    "7. **Utilize Built-in Functions:**\n",
    "    - **Aggregation Functions:** `torch.sum`, `torch.mean`, `torch.max`, etc.\n",
    "    - **Statistical Operations:** `torch.std`, `torch.var`, etc.\n",
    "    - **Example:**\n",
    "        ```python\n",
    "        x = torch.tensor([1.0, 2.0, 3.0, 4.0])\n",
    "        total = torch.sum(x)\n",
    "        average = torch.mean(x)\n",
    "        maximum = torch.max(x)\n",
    "        print(\"Sum:\", total, \"Mean:\", average, \"Max:\", maximum)\n",
    "        ```\n",
    "\n",
    "8. **Implement Custom Operations:**\n",
    "    - **Extend PyTorch Functionality:** Create custom functions for specialized tensor manipulations as needed.\n",
    "\n",
    "---\n",
    "\n",
    "## 10. Comprehensive Summary\n",
    "\n",
    "Today, you've delved into the essential world of **Tensor Operations** in PyTorch. Here's a recap of what we've covered:\n",
    "\n",
    "- **Basic Tensor Operations:**\n",
    "    - Mastered element-wise addition, subtraction, multiplication, and division.\n",
    "    - Explored matrix multiplication and element-wise operations.\n",
    "    - Understood broadcasting and its applications.\n",
    "\n",
    "- **In-Place vs. Out-of-Place Operations:**\n",
    "    - Learned the syntax and implications of both operation types.\n",
    "    - Recognized scenarios where each is appropriate, balancing memory efficiency and computational integrity.\n",
    "\n",
    "- **Advanced Operations:**\n",
    "    - Combined multiple operations to perform complex computations.\n",
    "    - Utilized built-in PyTorch functions for efficient tensor manipulations.\n",
    "\n",
    "- **Practical Applications:**\n",
    "    - Engaged in hands-on activities to reinforce learning.\n",
    "    - Experimented with code snippets to observe real-time effects of operations.\n",
    "\n",
    "This comprehensive understanding of tensor operations sets a solid foundation for building and training neural networks, data preprocessing, and more advanced deep learning tasks.\n",
    "\n",
    "---\n",
    "\n",
    "## 11. Moving Forward\n",
    "\n",
    "With a robust grasp of tensor operations, you're now ready to advance to the next critical component of PyTorch: **Autograd and Automatic Differentiation**. This will enable you to understand how gradients are computed, which is fundamental for training neural networks.\n",
    "\n",
    "### **Upcoming Topics:**\n",
    "- **Day 4:** PyTorch Autograd and Automatic Differentiation\n",
    "- **Day 5:** Building Neural Networks with `torch.nn`\n",
    "- **Day 6:** Data Loading and Preprocessing with `torch.utils.data`\n",
    "- **Day 7:** Training Loops and Optimization Strategies\n",
    "\n",
    "Stay committed, continue practicing, and prepare to delve deeper into the mechanics that power deep learning models!\n",
    "\n",
    "---\n",
    "\n",
    "## 12. Final Encouragement\n",
    "\n",
    "Congratulations on completing **Day 3** of your PyTorch Mastery journey! You've taken significant strides in understanding and manipulating tensors, the very foundation upon which deep learning models are built. Remember, consistency is key—continue to practice, experiment, and explore the vast capabilities of PyTorch.\n",
    "\n",
    "Embrace challenges as opportunities to learn and grow. Leverage the resources and communities available to you, and don't hesitate to seek help when needed. Your dedication and effort are paving the way for mastery in deep learning and artificial intelligence.\n",
    "\n",
    "Keep up the excellent work, and let's continue this exciting journey together!\n",
    "\n",
    "---\n",
    "\n",
    "## 📄 **Appendix**\n",
    "\n",
    "### **Example Code Snippets**\n",
    "\n",
    "To reinforce your learning, here are some example code snippets that encapsulate the concepts discussed today.\n",
    "\n",
    "#### **1. Performing Basic Tensor Operations**\n",
    "\n",
    "```python\n",
    "import torch\n",
    "\n",
    "# Creating tensors\n",
    "x = torch.tensor([10, 20, 30], dtype=torch.float32)\n",
    "y = torch.tensor([1, 2, 3], dtype=torch.float32)\n",
    "\n",
    "# Addition\n",
    "add = x + y\n",
    "print(\"Addition:\", add)  # Output: tensor([11., 22., 33.])\n",
    "\n",
    "# Subtraction\n",
    "subtract = x - y\n",
    "print(\"Subtraction:\", subtract)  # Output: tensor([ 9., 18., 27.])\n",
    "\n",
    "# Multiplication\n",
    "multiply = x * y\n",
    "print(\"Multiplication:\", multiply)  # Output: tensor([10., 40., 90.])\n",
    "\n",
    "# Division\n",
    "divide = x / y\n",
    "print(\"Division:\", divide)  # Output: tensor([10., 10., 10.])\n",
    "```\n",
    "\n",
    "#### **2. In-Place vs. Out-of-Place Operations**\n",
    "\n",
    "```python\n",
    "import torch\n",
    "\n",
    "# Out-of-Place Operation\n",
    "x = torch.tensor([1, 2, 3], dtype=torch.float32)\n",
    "y = torch.tensor([4, 5, 6], dtype=torch.float32)\n",
    "z = x + y\n",
    "print(\"Out-of-Place Addition (z = x + y):\", z)  # Output: tensor([5., 7., 9.])\n",
    "print(\"Original x:\", x)  # Output: tensor([1., 2., 3.])\n",
    "\n",
    "# In-Place Operation\n",
    "x.add_(5)\n",
    "print(\"In-Place Addition (x.add_(5)):\", x)  # Output: tensor([6., 7., 8.])\n",
    "```\n",
    "\n",
    "#### **3. Matrix Multiplication**\n",
    "\n",
    "```python\n",
    "import torch\n",
    "\n",
    "# Creating matrices\n",
    "A = torch.tensor([[1, 2], [3, 4]], dtype=torch.float32)\n",
    "B = torch.tensor([[5, 6], [7, 8]], dtype=torch.float32)\n",
    "\n",
    "# Matrix multiplication using torch.mm\n",
    "C = torch.mm(A, B)\n",
    "print(\"Matrix Multiplication (A.mm(B)):\\n\", C)\n",
    "# Output:\n",
    "# tensor([[19., 22.],\n",
    "#         [43., 50.]])\n",
    "```\n",
    "\n",
    "#### **4. Broadcasting Example**\n",
    "\n",
    "```python\n",
    "import torch\n",
    "\n",
    "# Creating tensors with different shapes\n",
    "x = torch.ones(3, 1)\n",
    "y = torch.ones(1, 4)\n",
    "\n",
    "# Broadcasted addition\n",
    "z = x + y\n",
    "print(\"Broadcasted Addition (x + y):\\n\", z)\n",
    "# Output:\n",
    "# tensor([[2., 2., 2., 2.],\n",
    "#         [2., 2., 2., 2.],\n",
    "#         [2., 2., 2., 2.]])\n",
    "```\n",
    "\n",
    "#### **5. Handling Division by Zero**\n",
    "\n",
    "```python\n",
    "import torch\n",
    "\n",
    "# Creating tensors with zero\n",
    "x = torch.tensor([1.0, 0.0, 3.0])\n",
    "y = torch.tensor([4.0, 5.0, 6.0])\n",
    "\n",
    "# Division\n",
    "z = y / x\n",
    "print(\"Division with Zero (y / x):\", z)  # Output: tensor([4.0000,    inf, 2.0000])\n",
    "```\n",
    "\n",
    "---\n",
    "\n",
    "## 📌 **Frequently Asked Questions (FAQ)**\n",
    "\n",
    "**Q1: What is the difference between in-place (`add_()`) and out-of-place (`add()`) operations?**\n",
    "\n",
    "**A1:** \n",
    "- **Out-of-Place Operations (`add()`):** These create a new tensor without modifying the original tensors.\n",
    "    ```python\n",
    "    x = torch.tensor([1, 2, 3], dtype=torch.float32)\n",
    "    y = torch.tensor([4, 5, 6], dtype=torch.float32)\n",
    "    z = x + y  # z is a new tensor\n",
    "    ```\n",
    "- **In-Place Operations (`add_()`):** These modify the original tensor directly, saving memory by not creating a new tensor.\n",
    "    ```python\n",
    "    x = torch.tensor([1, 2, 3], dtype=torch.float32)\n",
    "    x.add_(5)  # x is modified to [6, 7, 8]\n",
    "    ```\n",
    "\n",
    "**Q2: Can in-place operations interfere with gradient computations in autograd?**\n",
    "\n",
    "**A2:** Yes. In-place operations can overwrite values required for gradient computations, leading to errors during backpropagation. It's essential to use in-place operations cautiously, especially with tensors that have `requires_grad=True`.\n",
    "\n",
    "**Q3: How does broadcasting work in PyTorch?**\n",
    "\n",
    "**A3:** Broadcasting allows PyTorch to perform operations on tensors of different shapes by automatically expanding the smaller tensor to match the larger tensor's shape. The dimensions must be compatible, following specific rules:\n",
    "- If the tensors have different numbers of dimensions, prepend the smaller tensor's shape with ones until both shapes have the same length.\n",
    "- For each dimension, the sizes must either be equal or one of them must be one.\n",
    "\n",
    "**Q4: How do I convert a tensor to a NumPy array and vice versa?**\n",
    "\n",
    "**A4:** \n",
    "- **Tensor to NumPy:**\n",
    "    ```python\n",
    "    x = torch.tensor([1, 2, 3], dtype=torch.float32)\n",
    "    np_array = x.numpy()\n",
    "    ```\n",
    "- **NumPy to Tensor:**\n",
    "    ```python\n",
    "    import numpy as np\n",
    "    np_array = np.array([4, 5, 6])\n",
    "    x = torch.from_numpy(np_array)\n",
    "    ```\n",
    "\n",
    "    *Note:* The tensor and NumPy array share the same memory. Modifying one will affect the other.\n",
    "\n",
    "**Q5: What happens if I perform an in-place operation on a tensor that requires gradients?**\n",
    "\n",
    "**A5:** Performing in-place operations on tensors that require gradients can disrupt the computational graph, leading to runtime errors during the backward pass. For example:\n",
    "\n",
    "```python\n",
    "x = torch.tensor([1.0, 2.0, 3.0], requires_grad=True)\n",
    "y = x * 2\n",
    "x.add_(1)  # In-place operation\n",
    "z = y.sum()\n",
    "z.backward()  # This will raise an error\n",
    "```\n",
    "\n",
    "**Error Message:**\n",
    "```\n",
    "RuntimeError: one of the variables needed for gradient computation has been modified by an inplace operation\n",
    "```\n",
    "\n",
    "---\n",
    "\n",
    "## 🧠 **Deep Dive: Understanding Broadcasting**\n",
    "\n",
    "Broadcasting is a powerful feature that allows PyTorch to perform operations on tensors of different shapes efficiently. Here's a more detailed look:\n",
    "\n",
    "### **Broadcasting Rules:**\n",
    "1. **Starting from the trailing dimensions (i.e., rightmost), compare the size of each dimension between the two tensors.\n",
    "2. **If the dimensions are equal, or one of them is 1, the tensors are compatible for broadcasting.\n",
    "3. **If the tensors have different numbers of dimensions, prepend the shape of the smaller tensor with ones until both shapes have the same length.\n",
    "\n",
    "### **Example:**\n",
    "\n",
    "```python\n",
    "import torch\n",
    "\n",
    "# Tensor A: shape (3, 1)\n",
    "A = torch.tensor([[1], [2], [3]], dtype=torch.float32)\n",
    "\n",
    "# Tensor B: shape (1, 4)\n",
    "B = torch.tensor([[4, 5, 6, 7]], dtype=torch.float32)\n",
    "\n",
    "# Broadcasting A and B to shape (3, 4)\n",
    "C = A + B\n",
    "print(\"Broadcasted Addition (A + B):\\n\", C)\n",
    "# Output:\n",
    "# tensor([[5., 6., 7., 8.],\n",
    "#         [6., 7., 8., 9.],\n",
    "#         [7., 8., 9., 10.]])\n",
    "```\n",
    "\n",
    "**Explanation:**\n",
    "- Tensor A is reshaped to (3, 4) by repeating its single column across four columns.\n",
    "- Tensor B is reshaped to (3, 4) by repeating its single row across three rows.\n",
    "- The addition is performed element-wise on the broadcasted tensors.\n",
    "\n",
    "---\n",
    "\n",
    "## 📝 **Practice Exercise: Implementing Custom Broadcasting**\n",
    "\n",
    "**Objective:** Implement a custom function that mimics PyTorch's broadcasting behavior for addition.\n",
    "\n",
    "**Steps:**\n",
    "\n",
    "1. **Define the Function:**\n",
    "\n",
    "    ```python\n",
    "    import torch\n",
    "\n",
    "    def custom_broadcast_add(x, y):\n",
    "        \"\"\"\n",
    "        Adds two tensors with broadcasting.\n",
    "        \"\"\"\n",
    "        # Get the shapes\n",
    "        x_shape = x.shape\n",
    "        y_shape = y.shape\n",
    "\n",
    "        # Determine the maximum number of dimensions\n",
    "        max_dims = max(len(x_shape), len(y_shape))\n",
    "\n",
    "        # Prepend ones to the shape of the smaller tensor\n",
    "        x_shape = (1,) * (max_dims - len(x_shape)) + x_shape\n",
    "        y_shape = (1,) * (max_dims - len(y_shape)) + y_shape\n",
    "\n",
    "        # Compute the broadcasted shape\n",
    "        broadcast_shape = []\n",
    "        for x_dim, y_dim in zip(x_shape, y_shape):\n",
    "            if x_dim == y_dim:\n",
    "                broadcast_shape.append(x_dim)\n",
    "            elif x_dim == 1:\n",
    "                broadcast_shape.append(y_dim)\n",
    "            elif y_dim == 1:\n",
    "                broadcast_shape.append(x_dim)\n",
    "            else:\n",
    "                raise ValueError(\"Shapes are not compatible for broadcasting.\")\n",
    "\n",
    "        # Expand tensors to the broadcasted shape\n",
    "        x_expanded = x.view(x_shape).expand(*broadcast_shape)\n",
    "        y_expanded = y.view(y_shape).expand(*broadcast_shape)\n",
    "\n",
    "        # Perform element-wise addition\n",
    "        return x_expanded + y_expanded\n",
    "    ```\n",
    "\n",
    "2. **Test the Function:**\n",
    "\n",
    "    ```python\n",
    "    # Creating tensors\n",
    "    A = torch.tensor([[1], [2], [3]], dtype=torch.float32)  # Shape: (3,1)\n",
    "    B = torch.tensor([4, 5, 6, 7], dtype=torch.float32)     # Shape: (4,)\n",
    "\n",
    "    # Using custom broadcasting addition\n",
    "    C = custom_broadcast_add(A, B)\n",
    "    print(\"Custom Broadcasted Addition (A + B):\\n\", C)\n",
    "    # Output:\n",
    "    # tensor([[5., 6., 7., 8.],\n",
    "    #         [6., 7., 8., 9.],\n",
    "    #         [7., 8., 9., 10.]])\n",
    "    ```\n",
    "\n",
    "3. **Compare with PyTorch's Broadcasting:**\n",
    "\n",
    "    ```python\n",
    "    # Using PyTorch's built-in broadcasting\n",
    "    C_pytorch = A + B\n",
    "    print(\"PyTorch Broadcasted Addition (A + B):\\n\", C_pytorch)\n",
    "    # Output should match the custom implementation\n",
    "    ```\n",
    "\n",
    "**Outcome:**\n",
    "Both the custom function and PyTorch's built-in broadcasting produce the same result, demonstrating an understanding of broadcasting mechanics.\n",
    "\n",
    "---\n",
    "\n",
    "## 📌 **Frequently Asked Questions (FAQ)**\n",
    "\n",
    "**Q1: Why do some tensor operations require tensors to be of the same shape?**\n",
    "\n",
    "**A1:** Element-wise operations like addition, subtraction, multiplication, and division require tensors to have the same shape to ensure that each corresponding element is operated upon correctly. When tensors have different shapes, broadcasting rules are applied to make their shapes compatible.\n",
    "\n",
    "**Q2: What is the significance of the underscore (`_`) in in-place operations?**\n",
    "\n",
    "**A2:** In PyTorch, methods that perform in-place operations have an underscore (`_`) suffix. This convention indicates that the operation will modify the tensor in place, altering its data directly rather than creating a new tensor.\n",
    "\n",
    "**Q3: Can in-place operations affect the computation graph used for autograd?**\n",
    "\n",
    "**A3:** Yes. In-place operations can overwrite values that are required to compute gradients during backpropagation, leading to errors. It's essential to use in-place operations cautiously, especially with tensors that have `requires_grad=True`.\n",
    "\n",
    "**Q4: How does PyTorch handle operations on tensors with different data types?**\n",
    "\n",
    "**A4:** PyTorch performs automatic type casting based on a hierarchy of data types. If tensors have different data types, PyTorch will upcast to the higher precision type to prevent loss of information. However, it's good practice to ensure tensors have the same data type before performing operations to avoid unexpected behaviors.\n",
    "\n",
    "**Q5: What happens if I try to add tensors with incompatible shapes?**\n",
    "\n",
    "**A5:** PyTorch will raise a `RuntimeError` indicating that the shapes are not compatible for broadcasting. To resolve this, ensure that the tensor shapes adhere to broadcasting rules or manually reshape the tensors to compatible shapes.\n",
    "\n",
    "---\n",
    "\n",
    "## 💡 **Deep Dive: Understanding Gradient Implications of In-Place Operations**\n",
    "\n",
    "When training neural networks, gradients are essential for updating model parameters. In-place operations can interfere with gradient computations, especially if they modify tensors that are part of the computational graph.\n",
    "\n",
    "### **Example of Gradient Interference:**\n",
    "\n",
    "```python\n",
    "import torch\n",
    "\n",
    "# Creating a tensor with requires_grad=True\n",
    "x = torch.tensor([2.0, 3.0], requires_grad=True)\n",
    "\n",
    "# Performing an in-place operation\n",
    "x.add_(1)\n",
    "\n",
    "# Defining a simple operation\n",
    "y = x * 2\n",
    "\n",
    "# Computing gradients\n",
    "y.sum().backward()\n",
    "\n",
    "print(\"Gradients:\", x.grad)\n",
    "```\n",
    "\n",
    "**Output:**\n",
    "```\n",
    "Gradients: tensor([2., 2.])\n",
    "```\n",
    "\n",
    "**Explanation:**\n",
    "- The in-place addition modifies `x` before `y` is computed.\n",
    "- PyTorch successfully computes the gradients in this simple case.\n",
    "- However, more complex operations or sequences of in-place operations can disrupt the computational graph, leading to errors.\n",
    "\n",
    "### **Problematic Scenario:**\n",
    "\n",
    "```python\n",
    "import torch\n",
    "\n",
    "# Creating tensors with requires_grad=True\n",
    "x = torch.tensor([1.0, 2.0, 3.0], requires_grad=True)\n",
    "y = x * 2\n",
    "\n",
    "# In-place operation that modifies x\n",
    "x.add_(1)\n",
    "\n",
    "# Attempting to compute gradients\n",
    "try:\n",
    "    y.backward(torch.tensor([1.0, 1.0, 1.0]))\n",
    "except RuntimeError as e:\n",
    "    print(\"Error:\", e)\n",
    "```\n",
    "\n",
    "**Output:**\n",
    "```\n",
    "Error: one of the variables needed for gradient computation has been modified by an inplace operation\n",
    "```\n",
    "\n",
    "**Solution:**\n",
    "Avoid performing in-place operations on tensors that are part of the computational graph. If necessary, use out-of-place operations or ensure that in-place modifications do not interfere with gradient computations.\n",
    "\n",
    "---\n",
    "\n",
    "## 🧩 **Bonus: Visualizing Tensor Operations**\n",
    "\n",
    "Visualizing tensor operations can provide intuitive insights into how data flows through computations.\n",
    "\n",
    "### **Using Matplotlib for Visualization:**\n",
    "\n",
    "```python\n",
    "import torch\n",
    "import matplotlib.pyplot as plt\n",
    "\n",
    "# Creating tensors\n",
    "x = torch.linspace(0, 10, steps=100)\n",
    "y = torch.sin(x)\n",
    "\n",
    "# Performing operations\n",
    "y_squared = y.pow(2)\n",
    "y_exp = y.exp()\n",
    "\n",
    "# Plotting\n",
    "plt.figure(figsize=(10, 6))\n",
    "plt.plot(x.numpy(), y.numpy(), label='sin(x)')\n",
    "plt.plot(x.numpy(), y_squared.numpy(), label='sin^2(x)')\n",
    "plt.plot(x.numpy(), y_exp.numpy(), label='exp(sin(x))')\n",
    "plt.xlabel('x')\n",
    "plt.ylabel('y')\n",
    "plt.title('Tensor Operations Visualization')\n",
    "plt.legend()\n",
    "plt.grid(True)\n",
    "plt.show()\n",
    "```\n",
    "\n",
    "**Outcome:**\n",
    "A plot showcasing the original sine wave, its square, and the exponential of the sine wave, illustrating how tensor operations transform data.\n",
    "\n",
    "---\n",
    "\n",
    "## 📌 **Frequently Asked Questions (FAQ) Continued**\n",
    "\n",
    "**Q6: How can I prevent in-place operations from affecting my computational graph?**\n",
    "\n",
    "**A6:** \n",
    "- **Avoid In-Place Operations on Tensors with `requires_grad=True`:** Stick to out-of-place operations when working with tensors that require gradients.\n",
    "- **Clone Tensors Before In-Place Operations:** If you must perform in-place operations, clone the tensor to create a separate copy.\n",
    "    ```python\n",
    "    x = torch.tensor([1.0, 2.0, 3.0], requires_grad=True)\n",
    "    x_clone = x.clone()\n",
    "    x_clone.add_(1)  # Safe in-place operation on the clone\n",
    "    ```\n",
    "- **Use Non-In-Place Operations Instead:** Replace in-place operations with their out-of-place counterparts to maintain the integrity of the computational graph.\n",
    "\n",
    "**Q7: Can I perform operations on tensors of different data types?**\n",
    "\n",
    "**A7:** Yes, PyTorch automatically casts tensors to a common data type based on a predefined hierarchy to prevent data loss. However, for clarity and to avoid unintended behaviors, it's recommended to ensure tensors have the same data type before performing operations.\n",
    "\n",
    "**Q8: What are some common mistakes to avoid when performing tensor operations?**\n",
    "\n",
    "**A8:**\n",
    "- **Mismatched Tensor Shapes:** Ensure tensors are compatible for the desired operations, leveraging broadcasting when appropriate.\n",
    "- **Incorrect Use of In-Place Operations:** Avoid in-place modifications on tensors that are part of the computational graph to prevent gradient computation errors.\n",
    "- **Ignoring Device Consistency:** Always ensure tensors are on the same device (CPU/GPU) before performing operations to prevent runtime errors.\n",
    "- **Overlooking Data Types:** Be mindful of tensor data types to prevent unexpected casting or precision loss during operations.\n",
    "\n",
    "---\n",
    "\n",
    "## 🏁 **Final Thoughts**\n",
    "\n",
    "Today marks a significant milestone in your PyTorch journey as you master **Tensor Operations**—the cornerstone of all computations in deep learning. By understanding both the fundamental and advanced aspects of tensor manipulations, you are now well-equipped to handle the intricate computations required for building and training neural networks.\n",
    "\n",
    "Remember, the key to mastery lies in continuous practice and exploration. Challenge yourself with diverse exercises, experiment with different operations, and always strive to understand the \"why\" behind each computation. As you progress, these tensor operations will become second nature, empowering you to tackle more complex deep learning tasks with confidence and efficiency.\n",
    "\n",
    "Stay curious, keep coding, and prepare to delve deeper into the fascinating world of **Autograd and Automatic Differentiation** in the coming days!\n",
    "\n",
    "---"
   ]
  },
  {
   "cell_type": "code",
   "execution_count": 15,
   "metadata": {},
   "outputs": [
    {
     "name": "stdout",
     "output_type": "stream",
     "text": [
      "[main a31ce07eaa] commit 1\n",
      " Date: Wed Jan 1 12:37:59 2025 +0000\n",
      " 2 files changed, 16 insertions(+), 45 deletions(-)\n",
      "[main 2d9b143852] commit 1\n",
      " Date: Wed Jan 1 12:37:59 2025 +0000\n",
      " 1 file changed, 1 insertion(+)\n",
      "[main 147f731d00] commit 1\n",
      " Date: Wed Jan 1 12:37:59 2025 +0000\n",
      " 1 file changed, 1 insertion(+)\n",
      "[main 84b507fd49] commit 1\n",
      " Date: Wed Jan 1 12:37:59 2025 +0000\n",
      " 1 file changed, 1 insertion(+)\n",
      "branch 'main' set up to track 'origin/main'.\n"
     ]
    },
    {
     "name": "stderr",
     "output_type": "stream",
     "text": [
      "To https://github.com/ahammadmejbah/The-90-Day-PyTorch-Mastery-Roadmap\n",
      "   a8daceb826..84b507fd49  main -> main\n"
     ]
    },
    {
     "data": {
      "text/plain": [
       "0"
      ]
     },
     "execution_count": 15,
     "metadata": {},
     "output_type": "execute_result"
    }
   ],
   "source": [
    "import os\n",
    "from random import randint\n",
    "\n",
    "for i in range(1, 2):\n",
    "    commit_count = randint(1, 5)\n",
    "    for _ in range(commit_count):\n",
    "        d = f\"{i} days ago\"\n",
    "        with open('file.txt', 'a') as file:\n",
    "            file.write(d + \"\\n\")  # Added newline for readability\n",
    "\n",
    "        os.system('git add .')\n",
    "        # Use proper date formatting for Git\n",
    "        commit_date = f\"{i} days ago\"\n",
    "        os.system(f'git commit --date=\"{commit_date}\" -m \"commit {i}\"')\n",
    "\n",
    "# Ensure the final push uses standard spaces\n",
    "os.system('git push -u origin main')"
   ]
  },
  {
   "cell_type": "code",
   "execution_count": null,
   "metadata": {},
   "outputs": [],
   "source": []
  }
 ],
 "metadata": {
  "kernelspec": {
   "display_name": "Python 3",
   "language": "python",
   "name": "python3"
  },
  "language_info": {
   "codemirror_mode": {
    "name": "ipython",
    "version": 3
   },
   "file_extension": ".py",
   "mimetype": "text/x-python",
   "name": "python",
   "nbconvert_exporter": "python",
   "pygments_lexer": "ipython3",
   "version": "3.12.1"
  }
 },
 "nbformat": 4,
 "nbformat_minor": 2
}
