{
 "cells": [
  {
   "cell_type": "markdown",
   "metadata": {},
   "source": [
    "### **Day 4: Indexing, Slicing, and Joining Tensors**\n",
    "\n",
    "Welcome to **Day 4** of your **90-Day PyTorch Mastery Plan**! Today, we delve into the essential skills of **Indexing, Slicing, and Joining Tensors**. Mastering these operations is crucial for data manipulation, preprocessing, and preparing inputs for neural networks. Through comprehensive explanations and extensive code examples, you'll gain the proficiency needed to handle tensors efficiently in various deep learning tasks.\n",
    "\n",
    "---\n",
    "\n",
    "## 📑 **Table of Contents**\n",
    "1. [Topics Overview](#1-topics-overview)\n",
    "2. [Indexing and Slicing Tensors](#2-indexing-and-slicing-tensors)\n",
    "    - [2.1. Basic Indexing](#21-basic-indexing)\n",
    "    - [2.2. Advanced Indexing](#22-advanced-indexing)\n",
    "    - [2.3. Slicing Tensors](#23-slicing-tensors)\n",
    "    - [2.4. Boolean Indexing](#24-boolean-indexing)\n",
    "    - [2.5. Fancy Indexing](#25-fancy-indexing)\n",
    "3. [Joining and Splitting Tensors](#3-joining-and-splitting-tensors)\n",
    "    - [3.1. Concatenation with `torch.cat`](#31-concatenation-with-torchcat)\n",
    "    - [3.2. Stacking with `torch.stack`](#32-stacking-with-torchstack)\n",
    "    - [3.3. Splitting with `torch.split`](#33-splitting-with-torchspl)\n",
    "    - [3.4. Other Joining Functions](#34-other-joining-functions)\n",
    "4. [Practical Activities](#4-practical-activities)\n",
    "    - [4.1. Practicing Indexing and Slicing](#41-practicing-indexing-and-slicing)\n",
    "    - [4.2. Exploring Joining Functions](#42-exploring-joining-functions)\n",
    "    - [4.3. Combining Indexing, Slicing, and Joining](#43-combining-indexing-slicing-and-joining)\n",
    "5. [Resources](#5-resources)\n",
    "6. [Learning Objectives](#6-learning-objectives)\n",
    "7. [Expected Outcomes](#7-expected-outcomes)\n",
    "8. [Tips for Success](#8-tips-for-success)\n",
    "9. [Advanced Tips and Best Practices](#9-advanced-tips-and-best-practices)\n",
    "10. [Comprehensive Summary](#10-comprehensive-summary)\n",
    "11. [Moving Forward](#11-moving-forward)\n",
    "12. [Final Encouragement](#12-final-encouragement)\n",
    "\n",
    "---\n",
    "\n",
    "## 1. Topics Overview\n",
    "\n",
    "### **Indexing and Slicing Tensors**\n",
    "Indexing and slicing are fundamental operations that allow you to access and manipulate specific elements or sub-tensors within a larger tensor. These operations are analogous to indexing and slicing in Python lists and NumPy arrays but come with additional capabilities tailored for deep learning workflows.\n",
    "\n",
    "### **Joining and Splitting Tensors**\n",
    "Joining tensors involves combining multiple tensors into a single tensor, while splitting tensors refers to dividing a tensor into smaller tensors. These operations are essential for tasks such as batch processing, data augmentation, and preparing inputs for neural network layers.\n",
    "\n",
    "---\n",
    "\n",
    "## 2. Indexing and Slicing Tensors\n",
    "\n",
    "### 2.1. Basic Indexing\n",
    "\n",
    "**Definition:**\n",
    "Basic indexing allows you to access individual elements or subsets of elements within a tensor using their indices."
   ]
  },
  {
   "cell_type": "code",
   "execution_count": null,
   "metadata": {},
   "outputs": [
    {
     "name": "stdout",
     "output_type": "stream",
     "text": [
      "[main 4845bbd64a] commit 1\n",
      " Date: Thu Jan 2 11:39:16 2025 +0000\n",
      " 2 files changed, 53 insertions(+), 1 deletion(-)\n",
      "[main c8ac3d0c54] commit 1\n",
      " Date: Thu Jan 2 11:39:16 2025 +0000\n",
      " 1 file changed, 1 insertion(+)\n",
      "[main b7783147a8] commit 1\n",
      " Date: Thu Jan 2 11:39:16 2025 +0000\n",
      " 1 file changed, 1 insertion(+)\n",
      "[main 058b08b570] commit 1\n",
      " Date: Thu Jan 2 11:39:16 2025 +0000\n",
      " 1 file changed, 1 insertion(+)\n",
      "[main 1fd87277b0] commit 1\n",
      " Date: Thu Jan 2 11:39:16 2025 +0000\n",
      " 1 file changed, 1 insertion(+)\n",
      "[main 8b49f37dbd] commit 1\n",
      " Date: Thu Jan 2 11:39:16 2025 +0000\n",
      " 1 file changed, 1 insertion(+)\n"
     ]
    },
    {
     "name": "stderr",
     "output_type": "stream",
     "text": [
      "To https://github.com/ahammadmejbah/The-90-Day-PyTorch-Mastery-Roadmap\n",
      "   366830b8aa..8b49f37dbd  main -> main\n"
     ]
    },
    {
     "name": "stdout",
     "output_type": "stream",
     "text": [
      "branch 'main' set up to track 'origin/main'.\n",
      "[main 78a3006eb2] commit 1\n",
      " Date: Thu Jan 2 11:39:17 2025 +0000\n",
      " 2 files changed, 2 insertions(+), 1 deletion(-)\n",
      "[main c4b243e752] commit 1\n",
      " Date: Thu Jan 2 11:39:17 2025 +0000\n",
      " 1 file changed, 1 insertion(+)\n"
     ]
    },
    {
     "name": "stderr",
     "output_type": "stream",
     "text": [
      "To https://github.com/ahammadmejbah/The-90-Day-PyTorch-Mastery-Roadmap\n",
      "   8b49f37dbd..c4b243e752  main -> main\n"
     ]
    },
    {
     "name": "stdout",
     "output_type": "stream",
     "text": [
      "branch 'main' set up to track 'origin/main'.\n",
      "[main d468e7ef89] commit 1\n",
      " Date: Thu Jan 2 11:39:18 2025 +0000\n",
      " 2 files changed, 15 insertions(+), 320 deletions(-)\n",
      "[main a0edcf6e14] commit 1\n",
      " Date: Thu Jan 2 11:39:18 2025 +0000\n",
      " 1 file changed, 1 insertion(+)\n",
      "[main 18b486a8dc] commit 1\n",
      " Date: Thu Jan 2 11:39:18 2025 +0000\n",
      " 1 file changed, 1 insertion(+)\n",
      "[main c298bf303a] commit 1\n",
      " Date: Thu Jan 2 11:39:18 2025 +0000\n",
      " 1 file changed, 1 insertion(+)\n",
      "[main 622b0580b8] commit 1\n",
      " Date: Thu Jan 2 11:39:18 2025 +0000\n",
      " 1 file changed, 1 insertion(+)\n"
     ]
    },
    {
     "name": "stderr",
     "output_type": "stream",
     "text": [
      "To https://github.com/ahammadmejbah/The-90-Day-PyTorch-Mastery-Roadmap\n",
      "   c4b243e752..622b0580b8  main -> main\n"
     ]
    },
    {
     "name": "stdout",
     "output_type": "stream",
     "text": [
      "branch 'main' set up to track 'origin/main'.\n",
      "[main 1637337be2] commit 1\n",
      " Date: Thu Jan 2 11:39:19 2025 +0000\n",
      " 2 files changed, 52 insertions(+)\n",
      "[main 2baef2cf24] commit 1\n",
      " Date: Thu Jan 2 11:39:19 2025 +0000\n",
      " 1 file changed, 1 insertion(+)\n",
      "[main 9e0e7ea10b] commit 1\n",
      " Date: Thu Jan 2 11:39:19 2025 +0000\n",
      " 1 file changed, 1 insertion(+)\n",
      "[main 539acafad5] commit 1\n",
      " Date: Thu Jan 2 11:39:19 2025 +0000\n",
      " 1 file changed, 1 insertion(+)\n",
      "[main 4ea963be81] commit 1\n",
      " Date: Thu Jan 2 11:39:19 2025 +0000\n",
      " 1 file changed, 1 insertion(+)\n",
      "[main 9c7ce5ba84] commit 1\n",
      " Date: Thu Jan 2 11:39:19 2025 +0000\n",
      " 1 file changed, 1 insertion(+)\n"
     ]
    },
    {
     "name": "stderr",
     "output_type": "stream",
     "text": [
      "To https://github.com/ahammadmejbah/The-90-Day-PyTorch-Mastery-Roadmap\n",
      "   622b0580b8..9c7ce5ba84  main -> main\n"
     ]
    },
    {
     "name": "stdout",
     "output_type": "stream",
     "text": [
      "branch 'main' set up to track 'origin/main'.\n",
      "[main 4facc483d6] commit 1\n",
      " Date: Thu Jan 2 11:39:20 2025 +0000\n",
      " 1 file changed, 1 insertion(+)\n",
      "[main 93915869b9] commit 1\n",
      " Date: Thu Jan 2 11:39:20 2025 +0000\n",
      " 1 file changed, 1 insertion(+)\n",
      "[main 816f7dc8a3] commit 1\n",
      " Date: Thu Jan 2 11:39:20 2025 +0000\n",
      " 1 file changed, 1 insertion(+)\n",
      "[main a9d6bab643] commit 1\n",
      " Date: Thu Jan 2 11:39:20 2025 +0000\n",
      " 1 file changed, 1 insertion(+)\n",
      "[main 0a4bcc21c2] commit 1\n",
      " Date: Thu Jan 2 11:39:20 2025 +0000\n",
      " 1 file changed, 1 insertion(+)\n",
      "[main 8a17be763d] commit 1\n",
      " Date: Thu Jan 2 11:39:20 2025 +0000\n",
      " 1 file changed, 1 insertion(+)\n",
      "[main 3b1e9a913a] commit 1\n",
      " Date: Thu Jan 2 11:39:20 2025 +0000\n",
      " 1 file changed, 1 insertion(+)\n",
      "[main f4b9cdd11a] commit 1\n",
      " Date: Thu Jan 2 11:39:20 2025 +0000\n",
      " 1 file changed, 1 insertion(+)\n",
      "[main 5dd3faa3b4] commit 1\n",
      " Date: Thu Jan 2 11:39:20 2025 +0000\n",
      " 1 file changed, 1 insertion(+)\n"
     ]
    }
   ],
   "source": [
    "import os\n",
    "from random import randint\n",
    "\n",
    "for i in range(100):\n",
    "    for i in range(1, 2):\n",
    "        commit_count = randint(1, 10)\n",
    "        for _ in range(commit_count):\n",
    "            d = f\"{i} days ago\"\n",
    "            with open('file.txt', 'a') as file:\n",
    "                file.write(d + \"\\n\")  # Added newline for readability\n",
    "\n",
    "            os.system('git add .')\n",
    "            # Use proper date formatting for Git\n",
    "            commit_date = f\"{i} days ago\"\n",
    "            os.system(f'git commit --date=\"{commit_date}\" -m \"commit {i}\"')\n",
    "\n",
    "        # Ensure the final push uses standard spaces\n",
    "    os.system('git push -u origin main')"
   ]
  },
  {
   "cell_type": "code",
   "execution_count": null,
   "metadata": {},
   "outputs": [],
   "source": []
  }
 ],
 "metadata": {
  "kernelspec": {
   "display_name": "Python 3",
   "language": "python",
   "name": "python3"
  },
  "language_info": {
   "codemirror_mode": {
    "name": "ipython",
    "version": 3
   },
   "file_extension": ".py",
   "mimetype": "text/x-python",
   "name": "python",
   "nbconvert_exporter": "python",
   "pygments_lexer": "ipython3",
   "version": "3.12.1"
  }
 },
 "nbformat": 4,
 "nbformat_minor": 2
}
