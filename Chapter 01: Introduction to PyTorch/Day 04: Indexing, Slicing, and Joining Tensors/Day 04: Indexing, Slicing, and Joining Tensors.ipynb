{
 "cells": [
  {
   "cell_type": "markdown",
   "metadata": {},
   "source": [
    "### **Day 4: Indexing, Slicing, and Joining Tensors**\n",
    "\n",
    "Welcome to **Day 4** of your **90-Day PyTorch Mastery Plan**! Today, we delve into the essential skills of **Indexing, Slicing, and Joining Tensors**. Mastering these operations is crucial for data manipulation, preprocessing, and preparing inputs for neural networks. Through comprehensive explanations and extensive code examples, you'll gain the proficiency needed to handle tensors efficiently in various deep learning tasks.\n",
    "\n",
    "---\n",
    "\n",
    "## 📑 **Table of Contents**\n",
    "1. [Topics Overview](#1-topics-overview)\n",
    "2. [Indexing and Slicing Tensors](#2-indexing-and-slicing-tensors)\n",
    "    - [2.1. Basic Indexing](#21-basic-indexing)\n",
    "    - [2.2. Advanced Indexing](#22-advanced-indexing)\n",
    "    - [2.3. Slicing Tensors](#23-slicing-tensors)\n",
    "    - [2.4. Boolean Indexing](#24-boolean-indexing)\n",
    "    - [2.5. Fancy Indexing](#25-fancy-indexing)\n",
    "3. [Joining and Splitting Tensors](#3-joining-and-splitting-tensors)\n",
    "    - [3.1. Concatenation with `torch.cat`](#31-concatenation-with-torchcat)\n",
    "    - [3.2. Stacking with `torch.stack`](#32-stacking-with-torchstack)\n",
    "    - [3.3. Splitting with `torch.split`](#33-splitting-with-torchspl)\n",
    "    - [3.4. Other Joining Functions](#34-other-joining-functions)\n",
    "4. [Practical Activities](#4-practical-activities)\n",
    "    - [4.1. Practicing Indexing and Slicing](#41-practicing-indexing-and-slicing)\n",
    "    - [4.2. Exploring Joining Functions](#42-exploring-joining-functions)\n",
    "    - [4.3. Combining Indexing, Slicing, and Joining](#43-combining-indexing-slicing-and-joining)\n",
    "5. [Resources](#5-resources)\n",
    "6. [Learning Objectives](#6-learning-objectives)\n",
    "7. [Expected Outcomes](#7-expected-outcomes)\n",
    "8. [Tips for Success](#8-tips-for-success)\n",
    "9. [Advanced Tips and Best Practices](#9-advanced-tips-and-best-practices)\n",
    "10. [Comprehensive Summary](#10-comprehensive-summary)\n",
    "11. [Moving Forward](#11-moving-forward)\n",
    "12. [Final Encouragement](#12-final-encouragement)\n",
    "\n",
    "---\n",
    "\n",
    "## 1. Topics Overview\n",
    "\n",
    "### **Indexing and Slicing Tensors**\n",
    "Indexing and slicing are fundamental operations that allow you to access and manipulate specific elements or sub-tensors within a larger tensor. These operations are analogous to indexing and slicing in Python lists and NumPy arrays but come with additional capabilities tailored for deep learning workflows.\n",
    "\n",
    "### **Joining and Splitting Tensors**\n",
    "Joining tensors involves combining multiple tensors into a single tensor, while splitting tensors refers to dividing a tensor into smaller tensors. These operations are essential for tasks such as batch processing, data augmentation, and preparing inputs for neural network layers.\n",
    "\n",
    "---\n",
    "\n",
    "## 2. Indexing and Slicing Tensors\n",
    "\n",
    "### 2.1. Basic Indexing\n",
    "\n",
    "**Definition:**\n",
    "Basic indexing allows you to access individual elements or subsets of elements within a tensor using their indices."
   ]
  },
  {
   "cell_type": "code",
   "execution_count": null,
   "metadata": {},
   "outputs": [
    {
     "name": "stdout",
     "output_type": "stream",
     "text": [
      "[main d7a30ac506] commit 1\n",
      " Date: Thu Jan 2 11:36:32 2025 +0000\n",
      " 2 files changed, 6206 insertions(+), 1 deletion(-)\n",
      "[main 3b5cb5ce94] commit 1\n",
      " Date: Thu Jan 2 11:36:32 2025 +0000\n",
      " 1 file changed, 1 insertion(+)\n",
      "[main d704e15964] commit 1\n",
      " Date: Thu Jan 2 11:36:32 2025 +0000\n",
      " 1 file changed, 1 insertion(+)\n",
      "[main 7d6fcad0c6] commit 1\n",
      " Date: Thu Jan 2 11:36:32 2025 +0000\n",
      " 1 file changed, 1 insertion(+)\n",
      "[main f9e6b3fc9f] commit 1\n",
      " Date: Thu Jan 2 11:36:32 2025 +0000\n",
      " 1 file changed, 1 insertion(+)\n",
      "[main c355604b37] commit 1\n",
      " Date: Thu Jan 2 11:36:32 2025 +0000\n",
      " 1 file changed, 1 insertion(+)\n",
      "[main 9880d56012] commit 1\n",
      " Date: Thu Jan 2 11:36:32 2025 +0000\n",
      " 1 file changed, 1 insertion(+)\n",
      "[main 30ec63d1a7] commit 1\n",
      " Date: Thu Jan 2 11:36:32 2025 +0000\n",
      " 1 file changed, 1 insertion(+)\n"
     ]
    },
    {
     "name": "stderr",
     "output_type": "stream",
     "text": [
      "To https://github.com/ahammadmejbah/The-90-Day-PyTorch-Mastery-Roadmap\n",
      "   4b080947cf..30ec63d1a7  main -> main\n"
     ]
    },
    {
     "name": "stdout",
     "output_type": "stream",
     "text": [
      "branch 'main' set up to track 'origin/main'.\n",
      "[main bad8fd024d] commit 1\n",
      " Date: Thu Jan 2 11:36:34 2025 +0000\n",
      " 1 file changed, 1 insertion(+)\n",
      "[main 3bf92f2b0b] commit 1\n",
      " Date: Thu Jan 2 11:36:34 2025 +0000\n",
      " 1 file changed, 1 insertion(+)\n",
      "[main a13e38dea5] commit 1\n",
      " Date: Thu Jan 2 11:36:34 2025 +0000\n",
      " 1 file changed, 1 insertion(+)\n",
      "[main ca8ca9160b] commit 1\n",
      " Date: Thu Jan 2 11:36:34 2025 +0000\n",
      " 1 file changed, 1 insertion(+)\n"
     ]
    },
    {
     "name": "stderr",
     "output_type": "stream",
     "text": [
      "To https://github.com/ahammadmejbah/The-90-Day-PyTorch-Mastery-Roadmap\n",
      "   30ec63d1a7..ca8ca9160b  main -> main\n"
     ]
    },
    {
     "name": "stdout",
     "output_type": "stream",
     "text": [
      "branch 'main' set up to track 'origin/main'.\n",
      "[main 525dbd4305] commit 1\n",
      " Date: Thu Jan 2 11:36:35 2025 +0000\n",
      " 2 files changed, 20 insertions(+), 60261 deletions(-)\n",
      "[main c822fe3af3] commit 1\n",
      " Date: Thu Jan 2 11:36:35 2025 +0000\n",
      " 1 file changed, 1 insertion(+)\n",
      "[main be3e603cda] commit 1\n",
      " Date: Thu Jan 2 11:36:35 2025 +0000\n",
      " 1 file changed, 1 insertion(+)\n"
     ]
    },
    {
     "name": "stderr",
     "output_type": "stream",
     "text": [
      "To https://github.com/ahammadmejbah/The-90-Day-PyTorch-Mastery-Roadmap\n",
      "   ca8ca9160b..be3e603cda  main -> main\n"
     ]
    },
    {
     "name": "stdout",
     "output_type": "stream",
     "text": [
      "branch 'main' set up to track 'origin/main'.\n",
      "[main af8eaeac3e] commit 1\n",
      " Date: Thu Jan 2 11:36:36 2025 +0000\n",
      " 2 files changed, 28 insertions(+)\n",
      "[main 3e2fbfe91d] commit 1\n",
      " Date: Thu Jan 2 11:36:36 2025 +0000\n",
      " 1 file changed, 1 insertion(+)\n",
      "[main cb73c882c9] commit 1\n",
      " Date: Thu Jan 2 11:36:36 2025 +0000\n",
      " 1 file changed, 1 insertion(+)\n",
      "[main 150f059008] commit 1\n",
      " Date: Thu Jan 2 11:36:36 2025 +0000\n",
      " 1 file changed, 1 insertion(+)\n",
      "[main 1ed95f3d7b] commit 1\n",
      " Date: Thu Jan 2 11:36:36 2025 +0000\n",
      " 1 file changed, 1 insertion(+)\n",
      "[main 0f442548be] commit 1\n",
      " Date: Thu Jan 2 11:36:36 2025 +0000\n",
      " 1 file changed, 1 insertion(+)\n"
     ]
    },
    {
     "name": "stderr",
     "output_type": "stream",
     "text": [
      "To https://github.com/ahammadmejbah/The-90-Day-PyTorch-Mastery-Roadmap\n",
      "   be3e603cda..0f442548be  main -> main\n"
     ]
    },
    {
     "name": "stdout",
     "output_type": "stream",
     "text": [
      "branch 'main' set up to track 'origin/main'.\n",
      "[main 976f2b3dd0] commit 1\n",
      " Date: Thu Jan 2 11:36:37 2025 +0000\n",
      " 1 file changed, 1 insertion(+)\n",
      "[main d6c4648585] commit 1\n",
      " Date: Thu Jan 2 11:36:37 2025 +0000\n",
      " 1 file changed, 1 insertion(+)\n",
      "[main 2d96513357] commit 1\n",
      " Date: Thu Jan 2 11:36:37 2025 +0000\n",
      " 1 file changed, 1 insertion(+)\n",
      "[main aabcb343f2] commit 1\n",
      " Date: Thu Jan 2 11:36:37 2025 +0000\n",
      " 1 file changed, 1 insertion(+)\n",
      "[main 96b4700399] commit 1\n",
      " Date: Thu Jan 2 11:36:37 2025 +0000\n",
      " 1 file changed, 1 insertion(+)\n",
      "[main 14d09e960f] commit 1\n",
      " Date: Thu Jan 2 11:36:37 2025 +0000\n",
      " 1 file changed, 1 insertion(+)\n"
     ]
    },
    {
     "name": "stderr",
     "output_type": "stream",
     "text": [
      "To https://github.com/ahammadmejbah/The-90-Day-PyTorch-Mastery-Roadmap\n",
      "   0f442548be..14d09e960f  main -> main\n"
     ]
    },
    {
     "name": "stdout",
     "output_type": "stream",
     "text": [
      "branch 'main' set up to track 'origin/main'.\n",
      "[main 24e5ee32a7] commit 1\n",
      " Date: Thu Jan 2 11:36:39 2025 +0000\n",
      " 1 file changed, 1 insertion(+)\n",
      "[main dccb753934] commit 1\n",
      " Date: Thu Jan 2 11:36:39 2025 +0000\n",
      " 1 file changed, 1 insertion(+)\n",
      "[main 0996ba6e72] commit 1\n",
      " Date: Thu Jan 2 11:36:39 2025 +0000\n",
      " 1 file changed, 1 insertion(+)\n",
      "[main 495178b230] commit 1\n",
      " Date: Thu Jan 2 11:36:39 2025 +0000\n",
      " 1 file changed, 1 insertion(+)\n",
      "[main b70b44902d] commit 1\n",
      " Date: Thu Jan 2 11:36:39 2025 +0000\n",
      " 1 file changed, 1 insertion(+)\n"
     ]
    },
    {
     "name": "stderr",
     "output_type": "stream",
     "text": [
      "To https://github.com/ahammadmejbah/The-90-Day-PyTorch-Mastery-Roadmap\n",
      "   14d09e960f..b70b44902d  main -> main\n"
     ]
    },
    {
     "name": "stdout",
     "output_type": "stream",
     "text": [
      "branch 'main' set up to track 'origin/main'.\n",
      "[main 008c92a5d5] commit 1\n",
      " Date: Thu Jan 2 11:36:40 2025 +0000\n",
      " 1 file changed, 1 insertion(+)\n",
      "[main 051031d329] commit 1\n",
      " Date: Thu Jan 2 11:36:40 2025 +0000\n",
      " 1 file changed, 1 insertion(+)\n",
      "[main 3e30d97348] commit 1\n",
      " Date: Thu Jan 2 11:36:40 2025 +0000\n",
      " 1 file changed, 1 insertion(+)\n",
      "[main 9ed97aa94f] commit 1\n",
      " Date: Thu Jan 2 11:36:40 2025 +0000\n",
      " 1 file changed, 1 insertion(+)\n",
      "[main afbe000ae8] commit 1\n",
      " Date: Thu Jan 2 11:36:40 2025 +0000\n",
      " 1 file changed, 1 insertion(+)\n",
      "[main 8bc505025a] commit 1\n",
      " Date: Thu Jan 2 11:36:40 2025 +0000\n",
      " 1 file changed, 1 insertion(+)\n",
      "[main adb21db114] commit 1\n",
      " Date: Thu Jan 2 11:36:40 2025 +0000\n",
      " 1 file changed, 1 insertion(+)\n",
      "[main 927d1ef15f] commit 1\n",
      " Date: Thu Jan 2 11:36:40 2025 +0000\n",
      " 1 file changed, 1 insertion(+)\n",
      "[main 5b03bb1161] commit 1\n",
      " Date: Thu Jan 2 11:36:40 2025 +0000\n",
      " 1 file changed, 1 insertion(+)\n",
      "[main c1d5900ee2] commit 1\n",
      " Date: Thu Jan 2 11:36:40 2025 +0000\n",
      " 1 file changed, 1 insertion(+)\n"
     ]
    }
   ],
   "source": [
    "import os\n",
    "from random import randint\n",
    "\n",
    "for i in range(10):\n",
    "    for i in range(1, 2):\n",
    "        commit_count = randint(1, 10)\n",
    "        for _ in range(commit_count):\n",
    "            d = f\"{i} days ago\"\n",
    "            with open('file.txt', 'a') as file:\n",
    "                file.write(d + \"\\n\")  # Added newline for readability\n",
    "\n",
    "            os.system('git add .')\n",
    "            # Use proper date formatting for Git\n",
    "            commit_date = f\"{i} days ago\"\n",
    "            os.system(f'git commit --date=\"{commit_date}\" -m \"commit {i}\"')\n",
    "\n",
    "        # Ensure the final push uses standard spaces\n",
    "    os.system('git push -u origin main')"
   ]
  },
  {
   "cell_type": "code",
   "execution_count": null,
   "metadata": {},
   "outputs": [],
   "source": []
  }
 ],
 "metadata": {
  "kernelspec": {
   "display_name": "Python 3",
   "language": "python",
   "name": "python3"
  },
  "language_info": {
   "codemirror_mode": {
    "name": "ipython",
    "version": 3
   },
   "file_extension": ".py",
   "mimetype": "text/x-python",
   "name": "python",
   "nbconvert_exporter": "python",
   "pygments_lexer": "ipython3",
   "version": "3.12.1"
  }
 },
 "nbformat": 4,
 "nbformat_minor": 2
}
