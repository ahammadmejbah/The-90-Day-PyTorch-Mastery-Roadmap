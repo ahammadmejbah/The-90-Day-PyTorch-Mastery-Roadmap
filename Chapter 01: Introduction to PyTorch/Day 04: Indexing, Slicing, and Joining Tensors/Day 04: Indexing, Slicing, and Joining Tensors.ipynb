{
 "cells": [
  {
   "cell_type": "markdown",
   "metadata": {},
   "source": [
    "### **Day 4: Indexing, Slicing, and Joining Tensors**\n",
    "\n",
    "Welcome to **Day 4** of your **90-Day PyTorch Mastery Plan**! Today, we delve into the essential skills of **Indexing, Slicing, and Joining Tensors**. Mastering these operations is crucial for data manipulation, preprocessing, and preparing inputs for neural networks. Through comprehensive explanations and extensive code examples, you'll gain the proficiency needed to handle tensors efficiently in various deep learning tasks.\n",
    "\n",
    "---\n",
    "\n",
    "## 📑 **Table of Contents**\n",
    "1. [Topics Overview](#1-topics-overview)\n",
    "2. [Indexing and Slicing Tensors](#2-indexing-and-slicing-tensors)\n",
    "    - [2.1. Basic Indexing](#21-basic-indexing)\n",
    "    - [2.2. Advanced Indexing](#22-advanced-indexing)\n",
    "    - [2.3. Slicing Tensors](#23-slicing-tensors)\n",
    "    - [2.4. Boolean Indexing](#24-boolean-indexing)\n",
    "    - [2.5. Fancy Indexing](#25-fancy-indexing)\n",
    "3. [Joining and Splitting Tensors](#3-joining-and-splitting-tensors)\n",
    "    - [3.1. Concatenation with `torch.cat`](#31-concatenation-with-torchcat)\n",
    "    - [3.2. Stacking with `torch.stack`](#32-stacking-with-torchstack)\n",
    "    - [3.3. Splitting with `torch.split`](#33-splitting-with-torchspl)\n",
    "    - [3.4. Other Joining Functions](#34-other-joining-functions)\n",
    "4. [Practical Activities](#4-practical-activities)\n",
    "    - [4.1. Practicing Indexing and Slicing](#41-practicing-indexing-and-slicing)\n",
    "    - [4.2. Exploring Joining Functions](#42-exploring-joining-functions)\n",
    "    - [4.3. Combining Indexing, Slicing, and Joining](#43-combining-indexing-slicing-and-joining)\n",
    "5. [Resources](#5-resources)\n",
    "6. [Learning Objectives](#6-learning-objectives)\n",
    "7. [Expected Outcomes](#7-expected-outcomes)\n",
    "8. [Tips for Success](#8-tips-for-success)\n",
    "9. [Advanced Tips and Best Practices](#9-advanced-tips-and-best-practices)\n",
    "10. [Comprehensive Summary](#10-comprehensive-summary)\n",
    "11. [Moving Forward](#11-moving-forward)\n",
    "12. [Final Encouragement](#12-final-encouragement)\n",
    "\n",
    "---\n",
    "\n",
    "## 1. Topics Overview\n",
    "\n",
    "### **Indexing and Slicing Tensors**\n",
    "Indexing and slicing are fundamental operations that allow you to access and manipulate specific elements or sub-tensors within a larger tensor. These operations are analogous to indexing and slicing in Python lists and NumPy arrays but come with additional capabilities tailored for deep learning workflows.\n",
    "\n",
    "### **Joining and Splitting Tensors**\n",
    "Joining tensors involves combining multiple tensors into a single tensor, while splitting tensors refers to dividing a tensor into smaller tensors. These operations are essential for tasks such as batch processing, data augmentation, and preparing inputs for neural network layers.\n",
    "\n",
    "---\n",
    "\n",
    "## 2. Indexing and Slicing Tensors\n",
    "\n",
    "### 2.1. Basic Indexing\n",
    "\n",
    "**Definition:**\n",
    "Basic indexing allows you to access individual elements or subsets of elements within a tensor using their indices."
   ]
  },
  {
   "cell_type": "code",
   "execution_count": 1,
   "metadata": {},
   "outputs": [
    {
     "name": "stdout",
     "output_type": "stream",
     "text": [
      "[main f85cff6aa0] commit 1\n",
      " Date: Fri Jan 3 13:00:55 2025 +0000\n",
      " 2 files changed, 353 insertions(+), 1 deletion(-)\n",
      "[main 965a71d7af] commit 1\n",
      " Date: Fri Jan 3 13:00:56 2025 +0000\n",
      " 1 file changed, 1 insertion(+)\n"
     ]
    },
    {
     "name": "stdout",
     "output_type": "stream",
     "text": [
      "[main 5cce2df5be] commit 1\n",
      " Date: Fri Jan 3 13:00:56 2025 +0000\n",
      " 1 file changed, 1 insertion(+)\n",
      "[main 6183e619df] commit 1\n",
      " Date: Fri Jan 3 13:00:56 2025 +0000\n",
      " 1 file changed, 1 insertion(+)\n",
      "[main f307b9d4d7] commit 1\n",
      " Date: Fri Jan 3 13:00:56 2025 +0000\n",
      " 1 file changed, 1 insertion(+)\n",
      "[main 42f35081bc] commit 1\n",
      " Date: Fri Jan 3 13:00:56 2025 +0000\n",
      " 1 file changed, 1 insertion(+)\n",
      "[main 9d75ebc2e3] commit 1\n",
      " Date: Fri Jan 3 13:00:56 2025 +0000\n",
      " 1 file changed, 1 insertion(+)\n",
      "[main efd8030a1b] commit 1\n",
      " Date: Fri Jan 3 13:00:56 2025 +0000\n",
      " 1 file changed, 1 insertion(+)\n"
     ]
    },
    {
     "name": "stderr",
     "output_type": "stream",
     "text": [
      "To https://github.com/ahammadmejbah/The-90-Day-PyTorch-Mastery-Roadmap\n",
      "   3d18e540b6..efd8030a1b  main -> main\n"
     ]
    },
    {
     "name": "stdout",
     "output_type": "stream",
     "text": [
      "branch 'main' set up to track 'origin/main'.\n",
      "[main c238053e59] commit 1\n",
      " Date: Fri Jan 3 13:00:58 2025 +0000\n",
      " 1 file changed, 1 insertion(+)\n",
      "[main c65d421f6a] commit 1\n",
      " Date: Fri Jan 3 13:00:58 2025 +0000\n",
      " 1 file changed, 1 insertion(+)\n",
      "[main fdca729fa1] commit 1\n",
      " Date: Fri Jan 3 13:00:58 2025 +0000\n",
      " 1 file changed, 1 insertion(+)\n",
      "[main 71a41c3428] commit 1\n",
      " Date: Fri Jan 3 13:00:59 2025 +0000\n",
      " 1 file changed, 1 insertion(+)\n"
     ]
    },
    {
     "name": "stderr",
     "output_type": "stream",
     "text": [
      "To https://github.com/ahammadmejbah/The-90-Day-PyTorch-Mastery-Roadmap\n",
      "   efd8030a1b..71a41c3428  main -> main\n"
     ]
    },
    {
     "name": "stdout",
     "output_type": "stream",
     "text": [
      "branch 'main' set up to track 'origin/main'.\n",
      "[main 2d35417eb2] commit 1\n",
      " Date: Fri Jan 3 13:01:00 2025 +0000\n",
      " 1 file changed, 1 insertion(+)\n",
      "[main 9412e24bff] commit 1\n",
      " Date: Fri Jan 3 13:01:00 2025 +0000\n",
      " 1 file changed, 1 insertion(+)\n",
      "[main 794f67dfc2] commit 1\n",
      " Date: Fri Jan 3 13:01:01 2025 +0000\n",
      " 2 files changed, 26 insertions(+), 3085 deletions(-)\n",
      "[main 5431c0d475] commit 1\n",
      " Date: Fri Jan 3 13:01:01 2025 +0000\n",
      " 1 file changed, 1 insertion(+)\n"
     ]
    },
    {
     "name": "stderr",
     "output_type": "stream",
     "text": [
      "To https://github.com/ahammadmejbah/The-90-Day-PyTorch-Mastery-Roadmap\n",
      "   71a41c3428..5431c0d475  main -> main\n"
     ]
    },
    {
     "name": "stdout",
     "output_type": "stream",
     "text": [
      "branch 'main' set up to track 'origin/main'.\n",
      "[main 82ff94885b] commit 1\n",
      " Date: Fri Jan 3 13:01:03 2025 +0000\n",
      " 1 file changed, 1 insertion(+)\n",
      "[main b70a631fd2] commit 1\n",
      " Date: Fri Jan 3 13:01:03 2025 +0000\n",
      " 1 file changed, 1 insertion(+)\n",
      "[main 575efc6240] commit 1\n",
      " Date: Fri Jan 3 13:01:03 2025 +0000\n",
      " 1 file changed, 1 insertion(+)\n"
     ]
    },
    {
     "name": "stderr",
     "output_type": "stream",
     "text": [
      "To https://github.com/ahammadmejbah/The-90-Day-PyTorch-Mastery-Roadmap\n",
      "   5431c0d475..575efc6240  main -> main\n"
     ]
    },
    {
     "name": "stdout",
     "output_type": "stream",
     "text": [
      "branch 'main' set up to track 'origin/main'.\n",
      "[main f551ebc044] commit 1\n",
      " Date: Fri Jan 3 13:01:05 2025 +0000\n",
      " 1 file changed, 1 insertion(+)\n",
      "[main a85229f110] commit 1\n",
      " Date: Fri Jan 3 13:01:05 2025 +0000\n",
      " 1 file changed, 1 insertion(+)\n",
      "[main 8fd94584e0] commit 1\n",
      " Date: Fri Jan 3 13:01:05 2025 +0000\n",
      " 1 file changed, 1 insertion(+)\n",
      "[main 88c80e2afe] commit 1\n",
      " Date: Fri Jan 3 13:01:05 2025 +0000\n",
      " 1 file changed, 1 insertion(+)\n",
      "[main 6cca46f912] commit 1\n",
      " Date: Fri Jan 3 13:01:05 2025 +0000\n",
      " 1 file changed, 1 insertion(+)\n",
      "[main f7cf1517a1] commit 1\n",
      " Date: Fri Jan 3 13:01:05 2025 +0000\n",
      " 1 file changed, 1 insertion(+)\n",
      "[main 631cbddb98] commit 1\n",
      " Date: Fri Jan 3 13:01:05 2025 +0000\n",
      " 1 file changed, 1 insertion(+)\n",
      "[main ad612e3502] commit 1\n",
      " Date: Fri Jan 3 13:01:05 2025 +0000\n",
      " 1 file changed, 1 insertion(+)\n",
      "[main 98bc567bd3] commit 1\n",
      " Date: Fri Jan 3 13:01:05 2025 +0000\n",
      " 2 files changed, 52 insertions(+)\n",
      "[main 930b35c2d8] commit 1\n",
      " Date: Fri Jan 3 13:01:05 2025 +0000\n",
      " 1 file changed, 1 insertion(+)\n"
     ]
    },
    {
     "name": "stderr",
     "output_type": "stream",
     "text": [
      "To https://github.com/ahammadmejbah/The-90-Day-PyTorch-Mastery-Roadmap\n",
      "   575efc6240..930b35c2d8  main -> main\n"
     ]
    },
    {
     "name": "stdout",
     "output_type": "stream",
     "text": [
      "branch 'main' set up to track 'origin/main'.\n",
      "[main ecf3c2f1fa] commit 1\n",
      " Date: Fri Jan 3 13:01:06 2025 +0000\n",
      " 1 file changed, 1 insertion(+)\n",
      "[main 9bae3e33da] commit 1\n",
      " Date: Fri Jan 3 13:01:06 2025 +0000\n",
      " 1 file changed, 1 insertion(+)\n",
      "[main ee27f51e66] commit 1\n",
      " Date: Fri Jan 3 13:01:07 2025 +0000\n",
      " 1 file changed, 1 insertion(+)\n",
      "[main e4f3801a3b] commit 1\n",
      " Date: Fri Jan 3 13:01:07 2025 +0000\n",
      " 1 file changed, 1 insertion(+)\n",
      "[main e64b90165b] commit 1\n",
      " Date: Fri Jan 3 13:01:07 2025 +0000\n",
      " 1 file changed, 1 insertion(+)\n",
      "[main f7fb91a08b] commit 1\n",
      " Date: Fri Jan 3 13:01:07 2025 +0000\n",
      " 1 file changed, 1 insertion(+)\n",
      "[main 69f401237c] commit 1\n",
      " Date: Fri Jan 3 13:01:07 2025 +0000\n",
      " 1 file changed, 1 insertion(+)\n",
      "[main e6a0240719] commit 1\n",
      " Date: Fri Jan 3 13:01:07 2025 +0000\n",
      " 1 file changed, 1 insertion(+)\n",
      "[main 5932652125] commit 1\n",
      " Date: Fri Jan 3 13:01:07 2025 +0000\n",
      " 1 file changed, 1 insertion(+)\n",
      "[main 1dffb31e34] commit 1\n",
      " Date: Fri Jan 3 13:01:07 2025 +0000\n",
      " 1 file changed, 1 insertion(+)\n"
     ]
    },
    {
     "name": "stderr",
     "output_type": "stream",
     "text": [
      "To https://github.com/ahammadmejbah/The-90-Day-PyTorch-Mastery-Roadmap\n",
      "   930b35c2d8..1dffb31e34  main -> main\n"
     ]
    },
    {
     "name": "stdout",
     "output_type": "stream",
     "text": [
      "branch 'main' set up to track 'origin/main'.\n",
      "[main 7b363e614b] commit 1\n",
      " Date: Fri Jan 3 13:01:08 2025 +0000\n",
      " 1 file changed, 1 insertion(+)\n",
      "[main 3ea757aaad] commit 1\n",
      " Date: Fri Jan 3 13:01:08 2025 +0000\n",
      " 1 file changed, 1 insertion(+)\n",
      "[main 3e8135b94f] commit 1\n",
      " Date: Fri Jan 3 13:01:08 2025 +0000\n",
      " 1 file changed, 1 insertion(+)\n",
      "[main 6ac62c6781] commit 1\n",
      " Date: Fri Jan 3 13:01:08 2025 +0000\n",
      " 1 file changed, 1 insertion(+)\n"
     ]
    },
    {
     "name": "stderr",
     "output_type": "stream",
     "text": [
      "To https://github.com/ahammadmejbah/The-90-Day-PyTorch-Mastery-Roadmap\n",
      "   1dffb31e34..6ac62c6781  main -> main\n"
     ]
    },
    {
     "name": "stdout",
     "output_type": "stream",
     "text": [
      "branch 'main' set up to track 'origin/main'.\n",
      "[main d00c8ebffb] commit 1\n",
      " Date: Fri Jan 3 13:01:10 2025 +0000\n",
      " 1 file changed, 1 insertion(+)\n",
      "[main a4df2e29e3] commit 1\n",
      " Date: Fri Jan 3 13:01:10 2025 +0000\n",
      " 1 file changed, 1 insertion(+)\n",
      "[main 6cd8c14743] commit 1\n",
      " Date: Fri Jan 3 13:01:10 2025 +0000\n",
      " 1 file changed, 1 insertion(+)\n",
      "[main fe981f9f9a] commit 1\n",
      " Date: Fri Jan 3 13:01:10 2025 +0000\n",
      " 1 file changed, 1 insertion(+)\n",
      "[main c903a9007a] commit 1\n",
      " Date: Fri Jan 3 13:01:10 2025 +0000\n",
      " 1 file changed, 1 insertion(+)\n"
     ]
    },
    {
     "name": "stderr",
     "output_type": "stream",
     "text": [
      "To https://github.com/ahammadmejbah/The-90-Day-PyTorch-Mastery-Roadmap\n",
      "   6ac62c6781..c903a9007a  main -> main\n"
     ]
    },
    {
     "name": "stdout",
     "output_type": "stream",
     "text": [
      "branch 'main' set up to track 'origin/main'.\n",
      "[main 22804a3ee7] commit 1\n",
      " Date: Fri Jan 3 13:01:11 2025 +0000\n",
      " 1 file changed, 1 insertion(+)\n",
      "[main 4c9c77b1d9] commit 1\n",
      " Date: Fri Jan 3 13:01:11 2025 +0000\n",
      " 1 file changed, 1 insertion(+)\n",
      "[main a56ecb550b] commit 1\n",
      " Date: Fri Jan 3 13:01:11 2025 +0000\n",
      " 1 file changed, 1 insertion(+)\n",
      "[main 95134a8ef7] commit 1\n",
      " Date: Fri Jan 3 13:01:11 2025 +0000\n",
      " 1 file changed, 1 insertion(+)\n",
      "[main f7ea8680ec] commit 1\n",
      " Date: Fri Jan 3 13:01:11 2025 +0000\n",
      " 1 file changed, 1 insertion(+)\n",
      "[main 51676df9b2] commit 1\n",
      " Date: Fri Jan 3 13:01:11 2025 +0000\n",
      " 1 file changed, 1 insertion(+)\n",
      "[main 1f76bbf87b] commit 1\n",
      " Date: Fri Jan 3 13:01:11 2025 +0000\n",
      " 1 file changed, 1 insertion(+)\n"
     ]
    },
    {
     "name": "stderr",
     "output_type": "stream",
     "text": [
      "To https://github.com/ahammadmejbah/The-90-Day-PyTorch-Mastery-Roadmap\n",
      "   c903a9007a..1f76bbf87b  main -> main\n"
     ]
    },
    {
     "name": "stdout",
     "output_type": "stream",
     "text": [
      "branch 'main' set up to track 'origin/main'.\n",
      "[main fbf52f98cb] commit 1\n",
      " Date: Fri Jan 3 13:01:13 2025 +0000\n",
      " 1 file changed, 1 insertion(+)\n"
     ]
    },
    {
     "name": "stderr",
     "output_type": "stream",
     "text": [
      "To https://github.com/ahammadmejbah/The-90-Day-PyTorch-Mastery-Roadmap\n",
      "   1f76bbf87b..fbf52f98cb  main -> main\n"
     ]
    },
    {
     "name": "stdout",
     "output_type": "stream",
     "text": [
      "branch 'main' set up to track 'origin/main'.\n",
      "[main bbe32f4e52] commit 1\n",
      " Date: Fri Jan 3 13:01:14 2025 +0000\n",
      " 2 files changed, 187 insertions(+)\n",
      "[main 90a5571a0f] commit 1\n",
      " Date: Fri Jan 3 13:01:14 2025 +0000\n",
      " 1 file changed, 1 insertion(+)\n",
      "[main 226d8c7589] commit 1\n",
      " Date: Fri Jan 3 13:01:14 2025 +0000\n",
      " 1 file changed, 1 insertion(+)\n",
      "[main a81be5c474] commit 1\n",
      " Date: Fri Jan 3 13:01:14 2025 +0000\n",
      " 1 file changed, 1 insertion(+)\n",
      "[main e3a08fd954] commit 1\n",
      " Date: Fri Jan 3 13:01:14 2025 +0000\n",
      " 1 file changed, 1 insertion(+)\n",
      "[main ee2ba70278] commit 1\n",
      " Date: Fri Jan 3 13:01:14 2025 +0000\n",
      " 1 file changed, 1 insertion(+)\n",
      "[main 43412ea961] commit 1\n",
      " Date: Fri Jan 3 13:01:14 2025 +0000\n",
      " 1 file changed, 1 insertion(+)\n",
      "[main 3afa8a5679] commit 1\n",
      " Date: Fri Jan 3 13:01:14 2025 +0000\n",
      " 1 file changed, 1 insertion(+)\n",
      "[main d9ec6e5903] commit 1\n",
      " Date: Fri Jan 3 13:01:14 2025 +0000\n",
      " 1 file changed, 1 insertion(+)\n"
     ]
    },
    {
     "name": "stderr",
     "output_type": "stream",
     "text": [
      "To https://github.com/ahammadmejbah/The-90-Day-PyTorch-Mastery-Roadmap\n",
      "   fbf52f98cb..d9ec6e5903  main -> main\n"
     ]
    },
    {
     "name": "stdout",
     "output_type": "stream",
     "text": [
      "branch 'main' set up to track 'origin/main'.\n",
      "[main bd27d8b31d] commit 1\n",
      " Date: Fri Jan 3 13:01:15 2025 +0000\n",
      " 1 file changed, 1 insertion(+)\n",
      "[main b615d08bbb] commit 1\n",
      " Date: Fri Jan 3 13:01:15 2025 +0000\n",
      " 1 file changed, 1 insertion(+)\n",
      "[main bbab879e20] commit 1\n",
      " Date: Fri Jan 3 13:01:15 2025 +0000\n",
      " 1 file changed, 1 insertion(+)\n",
      "[main d999cf7765] commit 1\n",
      " Date: Fri Jan 3 13:01:15 2025 +0000\n",
      " 1 file changed, 1 insertion(+)\n",
      "[main 723d38308c] commit 1\n",
      " Date: Fri Jan 3 13:01:15 2025 +0000\n",
      " 1 file changed, 1 insertion(+)\n",
      "[main e833724e6b] commit 1\n",
      " Date: Fri Jan 3 13:01:15 2025 +0000\n",
      " 1 file changed, 1 insertion(+)\n"
     ]
    },
    {
     "name": "stderr",
     "output_type": "stream",
     "text": [
      "To https://github.com/ahammadmejbah/The-90-Day-PyTorch-Mastery-Roadmap\n",
      "   d9ec6e5903..e833724e6b  main -> main\n"
     ]
    },
    {
     "name": "stdout",
     "output_type": "stream",
     "text": [
      "branch 'main' set up to track 'origin/main'.\n",
      "[main 9024bb2405] commit 1\n",
      " Date: Fri Jan 3 13:01:17 2025 +0000\n",
      " 1 file changed, 1 insertion(+)\n",
      "[main 176197f82a] commit 1\n",
      " Date: Fri Jan 3 13:01:17 2025 +0000\n",
      " 1 file changed, 1 insertion(+)\n",
      "[main 0fc160faf4] commit 1\n",
      " Date: Fri Jan 3 13:01:17 2025 +0000\n",
      " 1 file changed, 1 insertion(+)\n"
     ]
    },
    {
     "name": "stderr",
     "output_type": "stream",
     "text": [
      "To https://github.com/ahammadmejbah/The-90-Day-PyTorch-Mastery-Roadmap\n",
      "   e833724e6b..0fc160faf4  main -> main\n"
     ]
    },
    {
     "name": "stdout",
     "output_type": "stream",
     "text": [
      "branch 'main' set up to track 'origin/main'.\n",
      "[main feb80ef88f] commit 1\n",
      " Date: Fri Jan 3 13:01:18 2025 +0000\n",
      " 1 file changed, 1 insertion(+)\n",
      "[main 51bad62ba0] commit 1\n",
      " Date: Fri Jan 3 13:01:18 2025 +0000\n",
      " 1 file changed, 1 insertion(+)\n"
     ]
    },
    {
     "name": "stderr",
     "output_type": "stream",
     "text": [
      "To https://github.com/ahammadmejbah/The-90-Day-PyTorch-Mastery-Roadmap\n",
      "   0fc160faf4..51bad62ba0  main -> main\n"
     ]
    },
    {
     "name": "stdout",
     "output_type": "stream",
     "text": [
      "branch 'main' set up to track 'origin/main'.\n",
      "[main c76bb238b1] commit 1\n",
      " Date: Fri Jan 3 13:01:19 2025 +0000\n",
      " 2 files changed, 94 insertions(+)\n",
      "[main 67a6eeac3e] commit 1\n",
      " Date: Fri Jan 3 13:01:19 2025 +0000\n",
      " 1 file changed, 1 insertion(+)\n"
     ]
    },
    {
     "name": "stderr",
     "output_type": "stream",
     "text": [
      "To https://github.com/ahammadmejbah/The-90-Day-PyTorch-Mastery-Roadmap\n",
      "   51bad62ba0..67a6eeac3e  main -> main\n"
     ]
    },
    {
     "name": "stdout",
     "output_type": "stream",
     "text": [
      "branch 'main' set up to track 'origin/main'.\n",
      "[main 286b23c245] commit 1\n",
      " Date: Fri Jan 3 13:01:20 2025 +0000\n",
      " 1 file changed, 1 insertion(+)\n",
      "[main c8f9ad6e89] commit 1\n",
      " Date: Fri Jan 3 13:01:20 2025 +0000\n",
      " 1 file changed, 1 insertion(+)\n",
      "[main ff3692ee93] commit 1\n",
      " Date: Fri Jan 3 13:01:20 2025 +0000\n",
      " 1 file changed, 1 insertion(+)\n",
      "[main 571ab34410] commit 1\n",
      " Date: Fri Jan 3 13:01:20 2025 +0000\n",
      " 1 file changed, 1 insertion(+)\n",
      "[main 58ed8b7259] commit 1\n",
      " Date: Fri Jan 3 13:01:20 2025 +0000\n",
      " 1 file changed, 1 insertion(+)\n",
      "[main e21775297a] commit 1\n",
      " Date: Fri Jan 3 13:01:20 2025 +0000\n",
      " 1 file changed, 1 insertion(+)\n",
      "[main 13b662d8d3] commit 1\n",
      " Date: Fri Jan 3 13:01:21 2025 +0000\n",
      " 1 file changed, 1 insertion(+)\n"
     ]
    },
    {
     "name": "stderr",
     "output_type": "stream",
     "text": [
      "To https://github.com/ahammadmejbah/The-90-Day-PyTorch-Mastery-Roadmap\n",
      "   67a6eeac3e..13b662d8d3  main -> main\n"
     ]
    },
    {
     "name": "stdout",
     "output_type": "stream",
     "text": [
      "branch 'main' set up to track 'origin/main'.\n",
      "[main 042305010f] commit 1\n",
      " Date: Fri Jan 3 13:01:22 2025 +0000\n",
      " 1 file changed, 1 insertion(+)\n"
     ]
    },
    {
     "name": "stderr",
     "output_type": "stream",
     "text": [
      "To https://github.com/ahammadmejbah/The-90-Day-PyTorch-Mastery-Roadmap\n",
      "   13b662d8d3..042305010f  main -> main\n"
     ]
    },
    {
     "name": "stdout",
     "output_type": "stream",
     "text": [
      "branch 'main' set up to track 'origin/main'.\n",
      "[main 598ee6dff4] commit 1\n",
      " Date: Fri Jan 3 13:01:23 2025 +0000\n",
      " 1 file changed, 1 insertion(+)\n",
      "[main 7446524ebc] commit 1\n",
      " Date: Fri Jan 3 13:01:23 2025 +0000\n",
      " 1 file changed, 1 insertion(+)\n",
      "[main eb18a1aec8] commit 1\n",
      " Date: Fri Jan 3 13:01:23 2025 +0000\n",
      " 1 file changed, 1 insertion(+)\n",
      "[main 54a41f771e] commit 1\n",
      " Date: Fri Jan 3 13:01:23 2025 +0000\n",
      " 1 file changed, 1 insertion(+)\n",
      "[main 0c003c4bb7] commit 1\n",
      " Date: Fri Jan 3 13:01:23 2025 +0000\n",
      " 1 file changed, 1 insertion(+)\n",
      "[main 578647a48e] commit 1\n",
      " Date: Fri Jan 3 13:01:23 2025 +0000\n",
      " 1 file changed, 1 insertion(+)\n",
      "[main 838435eb93] commit 1\n",
      " Date: Fri Jan 3 13:01:23 2025 +0000\n",
      " 1 file changed, 1 insertion(+)\n",
      "[main c7dfe16e99] commit 1\n",
      " Date: Fri Jan 3 13:01:23 2025 +0000\n",
      " 1 file changed, 1 insertion(+)\n"
     ]
    },
    {
     "name": "stderr",
     "output_type": "stream",
     "text": [
      "To https://github.com/ahammadmejbah/The-90-Day-PyTorch-Mastery-Roadmap\n",
      "   042305010f..c7dfe16e99  main -> main\n"
     ]
    },
    {
     "name": "stdout",
     "output_type": "stream",
     "text": [
      "branch 'main' set up to track 'origin/main'.\n",
      "[main 1f92691d82] commit 1\n",
      " Date: Fri Jan 3 13:01:25 2025 +0000\n",
      " 2 files changed, 100 insertions(+)\n",
      "[main 3c7e35a928] commit 1\n",
      " Date: Fri Jan 3 13:01:25 2025 +0000\n",
      " 1 file changed, 1 insertion(+)\n",
      "[main 286d03d7a0] commit 1\n",
      " Date: Fri Jan 3 13:01:25 2025 +0000\n",
      " 1 file changed, 1 insertion(+)\n",
      "[main bc5d68d86b] commit 1\n",
      " Date: Fri Jan 3 13:01:25 2025 +0000\n",
      " 1 file changed, 1 insertion(+)\n"
     ]
    },
    {
     "name": "stderr",
     "output_type": "stream",
     "text": [
      "To https://github.com/ahammadmejbah/The-90-Day-PyTorch-Mastery-Roadmap\n",
      "   c7dfe16e99..bc5d68d86b  main -> main\n"
     ]
    },
    {
     "name": "stdout",
     "output_type": "stream",
     "text": [
      "branch 'main' set up to track 'origin/main'.\n",
      "[main e765de9ae8] commit 1\n",
      " Date: Fri Jan 3 13:01:26 2025 +0000\n",
      " 1 file changed, 1 insertion(+)\n",
      "[main 1d268fe576] commit 1\n",
      " Date: Fri Jan 3 13:01:26 2025 +0000\n",
      " 1 file changed, 1 insertion(+)\n",
      "[main 55ce0fcf44] commit 1\n",
      " Date: Fri Jan 3 13:01:26 2025 +0000\n",
      " 1 file changed, 1 insertion(+)\n",
      "[main 127403ee19] commit 1\n",
      " Date: Fri Jan 3 13:01:26 2025 +0000\n",
      " 1 file changed, 1 insertion(+)\n",
      "[main a330835e04] commit 1\n",
      " Date: Fri Jan 3 13:01:26 2025 +0000\n",
      " 1 file changed, 1 insertion(+)\n",
      "[main 41d555b03b] commit 1\n",
      " Date: Fri Jan 3 13:01:26 2025 +0000\n",
      " 1 file changed, 1 insertion(+)\n",
      "[main 4a526a9840] commit 1\n",
      " Date: Fri Jan 3 13:01:26 2025 +0000\n",
      " 1 file changed, 1 insertion(+)\n",
      "[main 76168d9e3e] commit 1\n",
      " Date: Fri Jan 3 13:01:26 2025 +0000\n",
      " 1 file changed, 1 insertion(+)\n",
      "[main bbd4f6d1c9] commit 1\n",
      " Date: Fri Jan 3 13:01:26 2025 +0000\n",
      " 1 file changed, 1 insertion(+)\n",
      "[main ec2d62f1a3] commit 1\n",
      " Date: Fri Jan 3 13:01:26 2025 +0000\n",
      " 1 file changed, 1 insertion(+)\n"
     ]
    },
    {
     "name": "stderr",
     "output_type": "stream",
     "text": [
      "To https://github.com/ahammadmejbah/The-90-Day-PyTorch-Mastery-Roadmap\n",
      "   bc5d68d86b..ec2d62f1a3  main -> main\n"
     ]
    },
    {
     "name": "stdout",
     "output_type": "stream",
     "text": [
      "branch 'main' set up to track 'origin/main'.\n",
      "[main 183bce22f1] commit 1\n",
      " Date: Fri Jan 3 13:01:27 2025 +0000\n",
      " 1 file changed, 1 insertion(+)\n",
      "[main e7dc0add8d] commit 1\n",
      " Date: Fri Jan 3 13:01:27 2025 +0000\n",
      " 1 file changed, 1 insertion(+)\n",
      "[main dd43dffff5] commit 1\n",
      " Date: Fri Jan 3 13:01:27 2025 +0000\n",
      " 1 file changed, 1 insertion(+)\n",
      "[main 6ab064263a] commit 1\n",
      " Date: Fri Jan 3 13:01:27 2025 +0000\n",
      " 1 file changed, 1 insertion(+)\n"
     ]
    },
    {
     "name": "stderr",
     "output_type": "stream",
     "text": [
      "To https://github.com/ahammadmejbah/The-90-Day-PyTorch-Mastery-Roadmap\n",
      "   ec2d62f1a3..6ab064263a  main -> main\n"
     ]
    },
    {
     "name": "stdout",
     "output_type": "stream",
     "text": [
      "branch 'main' set up to track 'origin/main'.\n",
      "[main ec79a70508] commit 1\n",
      " Date: Fri Jan 3 13:01:28 2025 +0000\n",
      " 1 file changed, 1 insertion(+)\n",
      "[main 919e96639a] commit 1\n",
      " Date: Fri Jan 3 13:01:28 2025 +0000\n",
      " 1 file changed, 1 insertion(+)\n",
      "[main d6f039eecf] commit 1\n",
      " Date: Fri Jan 3 13:01:28 2025 +0000\n",
      " 1 file changed, 1 insertion(+)\n",
      "[main 361927b824] commit 1\n",
      " Date: Fri Jan 3 13:01:28 2025 +0000\n",
      " 1 file changed, 1 insertion(+)\n",
      "[main 6b0dff1992] commit 1\n",
      " Date: Fri Jan 3 13:01:28 2025 +0000\n",
      " 1 file changed, 1 insertion(+)\n",
      "[main 0763d9b7c3] commit 1\n",
      " Date: Fri Jan 3 13:01:28 2025 +0000\n",
      " 1 file changed, 1 insertion(+)\n",
      "[main b42383a06b] commit 1\n",
      " Date: Fri Jan 3 13:01:28 2025 +0000\n",
      " 1 file changed, 1 insertion(+)\n",
      "[main 0c4af1d97f] commit 1\n",
      " Date: Fri Jan 3 13:01:28 2025 +0000\n",
      " 1 file changed, 1 insertion(+)\n",
      "[main 7401801477] commit 1\n",
      " Date: Fri Jan 3 13:01:28 2025 +0000\n",
      " 1 file changed, 1 insertion(+)\n"
     ]
    },
    {
     "name": "stderr",
     "output_type": "stream",
     "text": [
      "To https://github.com/ahammadmejbah/The-90-Day-PyTorch-Mastery-Roadmap\n",
      "   6ab064263a..7401801477  main -> main\n"
     ]
    },
    {
     "name": "stdout",
     "output_type": "stream",
     "text": [
      "branch 'main' set up to track 'origin/main'.\n",
      "[main c62c806ba4] commit 1\n",
      " Date: Fri Jan 3 13:01:29 2025 +0000\n",
      " 1 file changed, 1 insertion(+)\n"
     ]
    },
    {
     "name": "stderr",
     "output_type": "stream",
     "text": [
      "To https://github.com/ahammadmejbah/The-90-Day-PyTorch-Mastery-Roadmap\n",
      "   7401801477..c62c806ba4  main -> main\n"
     ]
    },
    {
     "name": "stdout",
     "output_type": "stream",
     "text": [
      "branch 'main' set up to track 'origin/main'.\n",
      "[main 2e9bc37a54] commit 1\n",
      " Date: Fri Jan 3 13:01:31 2025 +0000\n",
      " 1 file changed, 1 insertion(+)\n",
      "[main 393fd50771] commit 1\n",
      " Date: Fri Jan 3 13:01:31 2025 +0000\n",
      " 1 file changed, 1 insertion(+)\n",
      "[main 939d0fee04] commit 1\n",
      " Date: Fri Jan 3 13:01:31 2025 +0000\n",
      " 1 file changed, 1 insertion(+)\n",
      "[main 1824720521] commit 1\n",
      " Date: Fri Jan 3 13:01:31 2025 +0000\n",
      " 1 file changed, 1 insertion(+)\n"
     ]
    },
    {
     "name": "stderr",
     "output_type": "stream",
     "text": [
      "To https://github.com/ahammadmejbah/The-90-Day-PyTorch-Mastery-Roadmap\n",
      "   c62c806ba4..1824720521  main -> main\n"
     ]
    },
    {
     "name": "stdout",
     "output_type": "stream",
     "text": [
      "branch 'main' set up to track 'origin/main'.\n",
      "[main 83d12c1c79] commit 1\n",
      " Date: Fri Jan 3 13:01:32 2025 +0000\n",
      " 1 file changed, 1 insertion(+)\n",
      "[main 2ba789dce3] commit 1\n",
      " Date: Fri Jan 3 13:01:32 2025 +0000\n",
      " 1 file changed, 1 insertion(+)\n",
      "[main e5d2e0af95] commit 1\n",
      " Date: Fri Jan 3 13:01:32 2025 +0000\n",
      " 1 file changed, 1 insertion(+)\n",
      "[main 41a376c04e] commit 1\n",
      " Date: Fri Jan 3 13:01:32 2025 +0000\n",
      " 1 file changed, 1 insertion(+)\n",
      "[main fc58e0fb2b] commit 1\n",
      " Date: Fri Jan 3 13:01:32 2025 +0000\n",
      " 1 file changed, 1 insertion(+)\n",
      "[main 0e7b8d3407] commit 1\n",
      " Date: Fri Jan 3 13:01:32 2025 +0000\n",
      " 1 file changed, 1 insertion(+)\n",
      "[main a673138767] commit 1\n",
      " Date: Fri Jan 3 13:01:32 2025 +0000\n",
      " 1 file changed, 1 insertion(+)\n",
      "[main fda927c37b] commit 1\n",
      " Date: Fri Jan 3 13:01:32 2025 +0000\n",
      " 1 file changed, 1 insertion(+)\n",
      "[main d7e9c4a1d3] commit 1\n",
      " Date: Fri Jan 3 13:01:32 2025 +0000\n",
      " 1 file changed, 1 insertion(+)\n",
      "[main 9cb5338c2f] commit 1\n",
      " Date: Fri Jan 3 13:01:32 2025 +0000\n",
      " 1 file changed, 1 insertion(+)\n"
     ]
    },
    {
     "name": "stderr",
     "output_type": "stream",
     "text": [
      "To https://github.com/ahammadmejbah/The-90-Day-PyTorch-Mastery-Roadmap\n",
      "   1824720521..9cb5338c2f  main -> main\n"
     ]
    },
    {
     "name": "stdout",
     "output_type": "stream",
     "text": [
      "branch 'main' set up to track 'origin/main'.\n",
      "[main a12c189e25] commit 1\n",
      " Date: Fri Jan 3 13:01:33 2025 +0000\n",
      " 1 file changed, 1 insertion(+)\n",
      "[main 10e7ed2980] commit 1\n",
      " Date: Fri Jan 3 13:01:33 2025 +0000\n",
      " 1 file changed, 1 insertion(+)\n",
      "[main 35f014d30d] commit 1\n",
      " Date: Fri Jan 3 13:01:33 2025 +0000\n",
      " 1 file changed, 1 insertion(+)\n",
      "[main 8f187c1e11] commit 1\n",
      " Date: Fri Jan 3 13:01:33 2025 +0000\n",
      " 1 file changed, 1 insertion(+)\n",
      "[main 42b4d43a5a] commit 1\n",
      " Date: Fri Jan 3 13:01:33 2025 +0000\n",
      " 1 file changed, 1 insertion(+)\n"
     ]
    },
    {
     "name": "stderr",
     "output_type": "stream",
     "text": [
      "To https://github.com/ahammadmejbah/The-90-Day-PyTorch-Mastery-Roadmap\n",
      "   9cb5338c2f..42b4d43a5a  main -> main\n"
     ]
    },
    {
     "name": "stdout",
     "output_type": "stream",
     "text": [
      "branch 'main' set up to track 'origin/main'.\n",
      "[main c56f6bd927] commit 1\n",
      " Date: Fri Jan 3 13:01:34 2025 +0000\n",
      " 1 file changed, 1 insertion(+)\n",
      "[main f0014b2fae] commit 1\n",
      " Date: Fri Jan 3 13:01:34 2025 +0000\n",
      " 1 file changed, 1 insertion(+)\n",
      "[main 7f5adcd2dc] commit 1\n",
      " Date: Fri Jan 3 13:01:34 2025 +0000\n",
      " 1 file changed, 1 insertion(+)\n",
      "[main a250d89447] commit 1\n",
      " Date: Fri Jan 3 13:01:34 2025 +0000\n",
      " 1 file changed, 1 insertion(+)\n",
      "[main d4f7194b36] commit 1\n",
      " Date: Fri Jan 3 13:01:34 2025 +0000\n",
      " 1 file changed, 1 insertion(+)\n"
     ]
    },
    {
     "name": "stderr",
     "output_type": "stream",
     "text": [
      "To https://github.com/ahammadmejbah/The-90-Day-PyTorch-Mastery-Roadmap\n",
      "   42b4d43a5a..d4f7194b36  main -> main\n"
     ]
    },
    {
     "name": "stdout",
     "output_type": "stream",
     "text": [
      "branch 'main' set up to track 'origin/main'.\n",
      "[main d55ae40dc2] commit 1\n",
      " Date: Fri Jan 3 13:01:36 2025 +0000\n",
      " 1 file changed, 1 insertion(+)\n",
      "[main 16fcbc8fe2] commit 1\n",
      " Date: Fri Jan 3 13:01:36 2025 +0000\n",
      " 1 file changed, 1 insertion(+)\n"
     ]
    },
    {
     "name": "stderr",
     "output_type": "stream",
     "text": [
      "To https://github.com/ahammadmejbah/The-90-Day-PyTorch-Mastery-Roadmap\n",
      "   d4f7194b36..16fcbc8fe2  main -> main\n"
     ]
    },
    {
     "name": "stdout",
     "output_type": "stream",
     "text": [
      "branch 'main' set up to track 'origin/main'.\n",
      "[main ccb3457fed] commit 1\n",
      " Date: Fri Jan 3 13:01:37 2025 +0000\n",
      " 1 file changed, 1 insertion(+)\n"
     ]
    },
    {
     "name": "stderr",
     "output_type": "stream",
     "text": [
      "fatal: cannot lock ref 'HEAD': Unable to create '/workspaces/The-90-Day-PyTorch-Mastery-Roadmap/.git/HEAD.lock': File exists.\n",
      "\n",
      "Another git process seems to be running in this repository, e.g.\n",
      "an editor opened by 'git commit'. Please make sure all processes\n",
      "are terminated then try again. If it still fails, a git process\n",
      "may have crashed in this repository earlier:\n",
      "remove the file manually to continue.\n",
      "fatal: cannot lock ref 'HEAD': Unable to create '/workspaces/The-90-Day-PyTorch-Mastery-Roadmap/.git/HEAD.lock': File exists.\n",
      "\n",
      "Another git process seems to be running in this repository, e.g.\n",
      "an editor opened by 'git commit'. Please make sure all processes\n",
      "are terminated then try again. If it still fails, a git process\n",
      "may have crashed in this repository earlier:\n",
      "remove the file manually to continue.\n",
      "fatal: cannot lock ref 'HEAD': Unable to create '/workspaces/The-90-Day-PyTorch-Mastery-Roadmap/.git/HEAD.lock': File exists.\n",
      "\n",
      "Another git process seems to be running in this repository, e.g.\n",
      "an editor opened by 'git commit'. Please make sure all processes\n",
      "are terminated then try again. If it still fails, a git process\n",
      "may have crashed in this repository earlier:\n",
      "remove the file manually to continue.\n",
      "fatal: cannot lock ref 'HEAD': Unable to create '/workspaces/The-90-Day-PyTorch-Mastery-Roadmap/.git/HEAD.lock': File exists.\n",
      "\n",
      "Another git process seems to be running in this repository, e.g.\n",
      "an editor opened by 'git commit'. Please make sure all processes\n",
      "are terminated then try again. If it still fails, a git process\n",
      "may have crashed in this repository earlier:\n",
      "remove the file manually to continue.\n",
      "fatal: cannot lock ref 'HEAD': Unable to create '/workspaces/The-90-Day-PyTorch-Mastery-Roadmap/.git/HEAD.lock': File exists.\n",
      "\n",
      "Another git process seems to be running in this repository, e.g.\n",
      "an editor opened by 'git commit'. Please make sure all processes\n",
      "are terminated then try again. If it still fails, a git process\n",
      "may have crashed in this repository earlier:\n",
      "remove the file manually to continue.\n",
      "fatal: cannot lock ref 'HEAD': Unable to create '/workspaces/The-90-Day-PyTorch-Mastery-Roadmap/.git/HEAD.lock': File exists.\n",
      "\n",
      "Another git process seems to be running in this repository, e.g.\n",
      "an editor opened by 'git commit'. Please make sure all processes\n",
      "are terminated then try again. If it still fails, a git process\n",
      "may have crashed in this repository earlier:\n",
      "remove the file manually to continue.\n",
      "To https://github.com/ahammadmejbah/The-90-Day-PyTorch-Mastery-Roadmap\n",
      "   16fcbc8fe2..ccb3457fed  main -> main\n",
      "fatal: cannot lock ref 'HEAD': Unable to create '/workspaces/The-90-Day-PyTorch-Mastery-Roadmap/.git/HEAD.lock': File exists.\n",
      "\n",
      "Another git process seems to be running in this repository, e.g.\n",
      "an editor opened by 'git commit'. Please make sure all processes\n",
      "are terminated then try again. If it still fails, a git process\n",
      "may have crashed in this repository earlier:\n",
      "remove the file manually to continue.\n"
     ]
    },
    {
     "name": "stdout",
     "output_type": "stream",
     "text": [
      "branch 'main' set up to track 'origin/main'.\n"
     ]
    },
    {
     "name": "stderr",
     "output_type": "stream",
     "text": [
      "fatal: cannot lock ref 'HEAD': Unable to create '/workspaces/The-90-Day-PyTorch-Mastery-Roadmap/.git/HEAD.lock': File exists.\n",
      "\n",
      "Another git process seems to be running in this repository, e.g.\n",
      "an editor opened by 'git commit'. Please make sure all processes\n",
      "are terminated then try again. If it still fails, a git process\n",
      "may have crashed in this repository earlier:\n",
      "remove the file manually to continue.\n",
      "fatal: cannot lock ref 'HEAD': Unable to create '/workspaces/The-90-Day-PyTorch-Mastery-Roadmap/.git/HEAD.lock': File exists.\n",
      "\n",
      "Another git process seems to be running in this repository, e.g.\n",
      "an editor opened by 'git commit'. Please make sure all processes\n",
      "are terminated then try again. If it still fails, a git process\n",
      "may have crashed in this repository earlier:\n",
      "remove the file manually to continue.\n",
      "fatal: cannot lock ref 'HEAD': Unable to create '/workspaces/The-90-Day-PyTorch-Mastery-Roadmap/.git/HEAD.lock': File exists.\n",
      "\n",
      "Another git process seems to be running in this repository, e.g.\n",
      "an editor opened by 'git commit'. Please make sure all processes\n",
      "are terminated then try again. If it still fails, a git process\n",
      "may have crashed in this repository earlier:\n",
      "remove the file manually to continue.\n",
      "fatal: cannot lock ref 'HEAD': Unable to create '/workspaces/The-90-Day-PyTorch-Mastery-Roadmap/.git/HEAD.lock': File exists.\n",
      "\n",
      "Another git process seems to be running in this repository, e.g.\n",
      "an editor opened by 'git commit'. Please make sure all processes\n",
      "are terminated then try again. If it still fails, a git process\n",
      "may have crashed in this repository earlier:\n",
      "remove the file manually to continue.\n",
      "fatal: cannot lock ref 'HEAD': Unable to create '/workspaces/The-90-Day-PyTorch-Mastery-Roadmap/.git/HEAD.lock': File exists.\n",
      "\n",
      "Another git process seems to be running in this repository, e.g.\n",
      "an editor opened by 'git commit'. Please make sure all processes\n",
      "are terminated then try again. If it still fails, a git process\n",
      "may have crashed in this repository earlier:\n",
      "remove the file manually to continue.\n",
      "Everything up-to-date\n",
      "fatal: cannot lock ref 'HEAD': Unable to create '/workspaces/The-90-Day-PyTorch-Mastery-Roadmap/.git/HEAD.lock': File exists.\n",
      "\n",
      "Another git process seems to be running in this repository, e.g.\n",
      "an editor opened by 'git commit'. Please make sure all processes\n",
      "are terminated then try again. If it still fails, a git process\n",
      "may have crashed in this repository earlier:\n",
      "remove the file manually to continue.\n"
     ]
    },
    {
     "name": "stdout",
     "output_type": "stream",
     "text": [
      "branch 'main' set up to track 'origin/main'.\n"
     ]
    },
    {
     "name": "stderr",
     "output_type": "stream",
     "text": [
      "fatal: cannot lock ref 'HEAD': Unable to create '/workspaces/The-90-Day-PyTorch-Mastery-Roadmap/.git/HEAD.lock': File exists.\n",
      "\n",
      "Another git process seems to be running in this repository, e.g.\n",
      "an editor opened by 'git commit'. Please make sure all processes\n",
      "are terminated then try again. If it still fails, a git process\n",
      "may have crashed in this repository earlier:\n",
      "remove the file manually to continue.\n",
      "fatal: cannot lock ref 'HEAD': Unable to create '/workspaces/The-90-Day-PyTorch-Mastery-Roadmap/.git/HEAD.lock': File exists.\n",
      "\n",
      "Another git process seems to be running in this repository, e.g.\n",
      "an editor opened by 'git commit'. Please make sure all processes\n",
      "are terminated then try again. If it still fails, a git process\n",
      "may have crashed in this repository earlier:\n",
      "remove the file manually to continue.\n",
      "Everything up-to-date\n",
      "fatal: cannot lock ref 'HEAD': Unable to create '/workspaces/The-90-Day-PyTorch-Mastery-Roadmap/.git/refs/heads/main.lock': File exists.\n",
      "\n",
      "Another git process seems to be running in this repository, e.g.\n",
      "an editor opened by 'git commit'. Please make sure all processes\n",
      "are terminated then try again. If it still fails, a git process\n",
      "may have crashed in this repository earlier:\n",
      "remove the file manually to continue.\n"
     ]
    },
    {
     "name": "stdout",
     "output_type": "stream",
     "text": [
      "branch 'main' set up to track 'origin/main'.\n"
     ]
    },
    {
     "name": "stderr",
     "output_type": "stream",
     "text": [
      "fatal: cannot lock ref 'HEAD': Unable to create '/workspaces/The-90-Day-PyTorch-Mastery-Roadmap/.git/refs/heads/main.lock': File exists.\n",
      "\n",
      "Another git process seems to be running in this repository, e.g.\n",
      "an editor opened by 'git commit'. Please make sure all processes\n",
      "are terminated then try again. If it still fails, a git process\n",
      "may have crashed in this repository earlier:\n",
      "remove the file manually to continue.\n",
      "Everything up-to-date\n"
     ]
    },
    {
     "name": "stdout",
     "output_type": "stream",
     "text": [
      "branch 'main' set up to track 'origin/main'.\n"
     ]
    },
    {
     "name": "stderr",
     "output_type": "stream",
     "text": [
      "fatal: cannot lock ref 'HEAD': Unable to create '/workspaces/The-90-Day-PyTorch-Mastery-Roadmap/.git/refs/heads/main.lock': File exists.\n",
      "\n",
      "Another git process seems to be running in this repository, e.g.\n",
      "an editor opened by 'git commit'. Please make sure all processes\n",
      "are terminated then try again. If it still fails, a git process\n",
      "may have crashed in this repository earlier:\n",
      "remove the file manually to continue.\n",
      "fatal: cannot lock ref 'HEAD': Unable to create '/workspaces/The-90-Day-PyTorch-Mastery-Roadmap/.git/refs/heads/main.lock': File exists.\n",
      "\n",
      "Another git process seems to be running in this repository, e.g.\n",
      "an editor opened by 'git commit'. Please make sure all processes\n",
      "are terminated then try again. If it still fails, a git process\n",
      "may have crashed in this repository earlier:\n",
      "remove the file manually to continue.\n",
      "fatal: cannot lock ref 'HEAD': Unable to create '/workspaces/The-90-Day-PyTorch-Mastery-Roadmap/.git/refs/heads/main.lock': File exists.\n",
      "\n",
      "Another git process seems to be running in this repository, e.g.\n",
      "an editor opened by 'git commit'. Please make sure all processes\n",
      "are terminated then try again. If it still fails, a git process\n",
      "may have crashed in this repository earlier:\n",
      "remove the file manually to continue.\n",
      "fatal: cannot lock ref 'HEAD': Unable to create '/workspaces/The-90-Day-PyTorch-Mastery-Roadmap/.git/refs/heads/main.lock': File exists.\n",
      "\n",
      "Another git process seems to be running in this repository, e.g.\n",
      "an editor opened by 'git commit'. Please make sure all processes\n",
      "are terminated then try again. If it still fails, a git process\n",
      "may have crashed in this repository earlier:\n",
      "remove the file manually to continue.\n",
      "fatal: cannot lock ref 'HEAD': Unable to create '/workspaces/The-90-Day-PyTorch-Mastery-Roadmap/.git/refs/heads/main.lock': File exists.\n",
      "\n",
      "Another git process seems to be running in this repository, e.g.\n",
      "an editor opened by 'git commit'. Please make sure all processes\n",
      "are terminated then try again. If it still fails, a git process\n",
      "may have crashed in this repository earlier:\n",
      "remove the file manually to continue.\n",
      "Everything up-to-date\n"
     ]
    },
    {
     "name": "stdout",
     "output_type": "stream",
     "text": [
      "branch 'main' set up to track 'origin/main'.\n",
      "[main c3a8cd04f4] commit 1\n",
      " Date: Fri Jan 3 13:01:44 2025 +0000\n",
      " 1 file changed, 23 insertions(+)\n",
      "[main 1c02586641] commit 1\n",
      " Date: Fri Jan 3 13:01:44 2025 +0000\n",
      " 1 file changed, 1 insertion(+)\n",
      "[main 7d98bfcecf] commit 1\n",
      " Date: Fri Jan 3 13:01:44 2025 +0000\n",
      " 1 file changed, 1 insertion(+)\n",
      "[main aa218d5f6f] commit 1\n",
      " Date: Fri Jan 3 13:01:44 2025 +0000\n",
      " 1 file changed, 1 insertion(+)\n",
      "[main 244f3f49e9] commit 1\n",
      " Date: Fri Jan 3 13:01:44 2025 +0000\n",
      " 1 file changed, 1 insertion(+)\n",
      "[main 18a29ed50e] commit 1\n",
      " Date: Fri Jan 3 13:01:44 2025 +0000\n",
      " 1 file changed, 1 insertion(+)\n",
      "[main e8c6281845] commit 1\n",
      " Date: Fri Jan 3 13:01:44 2025 +0000\n",
      " 1 file changed, 1 insertion(+)\n",
      "[main d743df3d57] commit 1\n",
      " Date: Fri Jan 3 13:01:44 2025 +0000\n",
      " 1 file changed, 1 insertion(+)\n"
     ]
    },
    {
     "name": "stderr",
     "output_type": "stream",
     "text": [
      "To https://github.com/ahammadmejbah/The-90-Day-PyTorch-Mastery-Roadmap\n",
      "   ccb3457fed..d743df3d57  main -> main\n"
     ]
    },
    {
     "name": "stdout",
     "output_type": "stream",
     "text": [
      "branch 'main' set up to track 'origin/main'.\n",
      "[main 867c7e5673] commit 1\n",
      " Date: Fri Jan 3 13:01:45 2025 +0000\n",
      " 1 file changed, 1 insertion(+)\n"
     ]
    },
    {
     "name": "stderr",
     "output_type": "stream",
     "text": [
      "To https://github.com/ahammadmejbah/The-90-Day-PyTorch-Mastery-Roadmap\n",
      "   d743df3d57..867c7e5673  main -> main\n"
     ]
    },
    {
     "name": "stdout",
     "output_type": "stream",
     "text": [
      "branch 'main' set up to track 'origin/main'.\n",
      "[main 5365883005] commit 1\n",
      " Date: Fri Jan 3 13:01:46 2025 +0000\n",
      " 1 file changed, 1 insertion(+)\n",
      "[main 5c32686df7] commit 1\n",
      " Date: Fri Jan 3 13:01:47 2025 +0000\n",
      " 1 file changed, 1 insertion(+)\n",
      "[main 71c1da087b] commit 1\n",
      " Date: Fri Jan 3 13:01:47 2025 +0000\n",
      " 1 file changed, 1 insertion(+)\n",
      "[main 92bd036538] commit 1\n",
      " Date: Fri Jan 3 13:01:47 2025 +0000\n",
      " 1 file changed, 1 insertion(+)\n",
      "[main a7bee7d459] commit 1\n",
      " Date: Fri Jan 3 13:01:47 2025 +0000\n",
      " 1 file changed, 1 insertion(+)\n",
      "[main 86f139c631] commit 1\n",
      " Date: Fri Jan 3 13:01:47 2025 +0000\n",
      " 1 file changed, 1 insertion(+)\n",
      "[main fd5940ab58] commit 1\n",
      " Date: Fri Jan 3 13:01:47 2025 +0000\n",
      " 1 file changed, 1 insertion(+)\n",
      "[main f4dcf34218] commit 1\n",
      " Date: Fri Jan 3 13:01:47 2025 +0000\n",
      " 1 file changed, 1 insertion(+)\n",
      "[main ae78b8470a] commit 1\n",
      " Date: Fri Jan 3 13:01:47 2025 +0000\n",
      " 1 file changed, 1 insertion(+)\n",
      "[main f693cdbf8c] commit 1\n",
      " Date: Fri Jan 3 13:01:47 2025 +0000\n",
      " 1 file changed, 1 insertion(+)\n"
     ]
    },
    {
     "name": "stderr",
     "output_type": "stream",
     "text": [
      "To https://github.com/ahammadmejbah/The-90-Day-PyTorch-Mastery-Roadmap\n",
      "   867c7e5673..f693cdbf8c  main -> main\n"
     ]
    },
    {
     "name": "stdout",
     "output_type": "stream",
     "text": [
      "branch 'main' set up to track 'origin/main'.\n",
      "[main 4bfe12eb9e] commit 1\n",
      " Date: Fri Jan 3 13:01:48 2025 +0000\n",
      " 1 file changed, 1 insertion(+)\n",
      "[main 8ef615826c] commit 1\n",
      " Date: Fri Jan 3 13:01:48 2025 +0000\n",
      " 1 file changed, 1 insertion(+)\n",
      "[main 3e5803a997] commit 1\n",
      " Date: Fri Jan 3 13:01:48 2025 +0000\n",
      " 1 file changed, 1 insertion(+)\n",
      "[main ddb7da7e5a] commit 1\n",
      " Date: Fri Jan 3 13:01:48 2025 +0000\n",
      " 1 file changed, 1 insertion(+)\n",
      "[main e13a2a0801] commit 1\n",
      " Date: Fri Jan 3 13:01:49 2025 +0000\n",
      " 1 file changed, 1 insertion(+)\n",
      "[main 1488ee6af1] commit 1\n",
      " Date: Fri Jan 3 13:01:49 2025 +0000\n",
      " 1 file changed, 1 insertion(+)\n",
      "[main e9b9ee3d48] commit 1\n",
      " Date: Fri Jan 3 13:01:49 2025 +0000\n",
      " 1 file changed, 1 insertion(+)\n",
      "[main fb6f7e873c] commit 1\n",
      " Date: Fri Jan 3 13:01:49 2025 +0000\n",
      " 1 file changed, 1 insertion(+)\n",
      "[main e2c853bd97] commit 1\n",
      " Date: Fri Jan 3 13:01:49 2025 +0000\n",
      " 1 file changed, 1 insertion(+)\n",
      "[main 8c97beb33c] commit 1\n",
      " Date: Fri Jan 3 13:01:49 2025 +0000\n",
      " 1 file changed, 1 insertion(+)\n"
     ]
    },
    {
     "name": "stderr",
     "output_type": "stream",
     "text": [
      "To https://github.com/ahammadmejbah/The-90-Day-PyTorch-Mastery-Roadmap\n",
      "   f693cdbf8c..8c97beb33c  main -> main\n"
     ]
    },
    {
     "name": "stdout",
     "output_type": "stream",
     "text": [
      "branch 'main' set up to track 'origin/main'.\n",
      "[main 4f24bffa14] commit 1\n",
      " Date: Fri Jan 3 13:01:50 2025 +0000\n",
      " 1 file changed, 1 insertion(+)\n",
      "[main 2af799f972] commit 1\n",
      " Date: Fri Jan 3 13:01:50 2025 +0000\n",
      " 1 file changed, 1 insertion(+)\n",
      "[main 19cabf86ce] commit 1\n",
      " Date: Fri Jan 3 13:01:50 2025 +0000\n",
      " 1 file changed, 1 insertion(+)\n",
      "[main 7b3c6809da] commit 1\n",
      " Date: Fri Jan 3 13:01:50 2025 +0000\n",
      " 1 file changed, 1 insertion(+)\n",
      "[main db6a3d6280] commit 1\n",
      " Date: Fri Jan 3 13:01:50 2025 +0000\n",
      " 1 file changed, 1 insertion(+)\n"
     ]
    },
    {
     "name": "stderr",
     "output_type": "stream",
     "text": [
      "To https://github.com/ahammadmejbah/The-90-Day-PyTorch-Mastery-Roadmap\n",
      "   8c97beb33c..db6a3d6280  main -> main\n"
     ]
    },
    {
     "name": "stdout",
     "output_type": "stream",
     "text": [
      "branch 'main' set up to track 'origin/main'.\n",
      "[main e44c866f92] commit 1\n",
      " Date: Fri Jan 3 13:01:52 2025 +0000\n",
      " 1 file changed, 1 insertion(+)\n",
      "[main 16be40195b] commit 1\n",
      " Date: Fri Jan 3 13:01:52 2025 +0000\n",
      " 1 file changed, 1 insertion(+)\n",
      "[main 862519fc88] commit 1\n",
      " Date: Fri Jan 3 13:01:52 2025 +0000\n",
      " 1 file changed, 1 insertion(+)\n",
      "[main 073c325ed0] commit 1\n",
      " Date: Fri Jan 3 13:01:52 2025 +0000\n",
      " 1 file changed, 1 insertion(+)\n",
      "[main cc03929312] commit 1\n",
      " Date: Fri Jan 3 13:01:52 2025 +0000\n",
      " 1 file changed, 1 insertion(+)\n"
     ]
    },
    {
     "name": "stderr",
     "output_type": "stream",
     "text": [
      "To https://github.com/ahammadmejbah/The-90-Day-PyTorch-Mastery-Roadmap\n",
      "   db6a3d6280..cc03929312  main -> main\n"
     ]
    },
    {
     "name": "stdout",
     "output_type": "stream",
     "text": [
      "branch 'main' set up to track 'origin/main'.\n",
      "[main 5e312c39de] commit 1\n",
      " Date: Fri Jan 3 13:01:53 2025 +0000\n",
      " 1 file changed, 1 insertion(+)\n",
      "[main 1c23c93bfd] commit 1\n",
      " Date: Fri Jan 3 13:01:53 2025 +0000\n",
      " 1 file changed, 1 insertion(+)\n",
      "[main 3c7981a333] commit 1\n",
      " Date: Fri Jan 3 13:01:53 2025 +0000\n",
      " 1 file changed, 1 insertion(+)\n",
      "[main 24f63de986] commit 1\n",
      " Date: Fri Jan 3 13:01:53 2025 +0000\n",
      " 1 file changed, 1 insertion(+)\n",
      "[main 6c40866388] commit 1\n",
      " Date: Fri Jan 3 13:01:54 2025 +0000\n",
      " 1 file changed, 1 insertion(+)\n",
      "[main 3702b449a6] commit 1\n",
      " Date: Fri Jan 3 13:01:54 2025 +0000\n",
      " 1 file changed, 1 insertion(+)\n",
      "[main 72de858dac] commit 1\n",
      " Date: Fri Jan 3 13:01:54 2025 +0000\n",
      " 1 file changed, 1 insertion(+)\n",
      "[main 0f2acabef8] commit 1\n",
      " Date: Fri Jan 3 13:01:54 2025 +0000\n",
      " 1 file changed, 1 insertion(+)\n",
      "[main 24b3045c60] commit 1\n",
      " Date: Fri Jan 3 13:01:54 2025 +0000\n",
      " 1 file changed, 1 insertion(+)\n",
      "[main 519c497b5c] commit 1\n",
      " Date: Fri Jan 3 13:01:54 2025 +0000\n",
      " 1 file changed, 1 insertion(+)\n"
     ]
    },
    {
     "name": "stderr",
     "output_type": "stream",
     "text": [
      "To https://github.com/ahammadmejbah/The-90-Day-PyTorch-Mastery-Roadmap\n",
      "   cc03929312..519c497b5c  main -> main\n"
     ]
    },
    {
     "name": "stdout",
     "output_type": "stream",
     "text": [
      "branch 'main' set up to track 'origin/main'.\n",
      "[main 100a55bcc4] commit 1\n",
      " Date: Fri Jan 3 13:01:55 2025 +0000\n",
      " 1 file changed, 1 insertion(+)\n",
      "[main 7cf377f53b] commit 1\n",
      " Date: Fri Jan 3 13:01:55 2025 +0000\n",
      " 1 file changed, 1 insertion(+)\n",
      "[main 9fa28ae1d8] commit 1\n",
      " Date: Fri Jan 3 13:01:55 2025 +0000\n",
      " 1 file changed, 1 insertion(+)\n",
      "[main cd5a4e48ce] commit 1\n",
      " Date: Fri Jan 3 13:01:55 2025 +0000\n",
      " 1 file changed, 1 insertion(+)\n",
      "[main 013f7edcd8] commit 1\n",
      " Date: Fri Jan 3 13:01:55 2025 +0000\n",
      " 1 file changed, 1 insertion(+)\n",
      "[main ada3d0f809] commit 1\n",
      " Date: Fri Jan 3 13:01:55 2025 +0000\n",
      " 1 file changed, 1 insertion(+)\n",
      "[main 70eca958c2] commit 1\n",
      " Date: Fri Jan 3 13:01:56 2025 +0000\n",
      " 1 file changed, 1 insertion(+)\n"
     ]
    },
    {
     "name": "stderr",
     "output_type": "stream",
     "text": [
      "To https://github.com/ahammadmejbah/The-90-Day-PyTorch-Mastery-Roadmap\n",
      "   519c497b5c..70eca958c2  main -> main\n"
     ]
    },
    {
     "name": "stdout",
     "output_type": "stream",
     "text": [
      "branch 'main' set up to track 'origin/main'.\n",
      "[main dca4e57d1e] commit 1\n",
      " Date: Fri Jan 3 13:01:57 2025 +0000\n",
      " 1 file changed, 1 insertion(+)\n",
      "[main 7b76146efb] commit 1\n",
      " Date: Fri Jan 3 13:01:57 2025 +0000\n",
      " 1 file changed, 1 insertion(+)\n",
      "[main 5e08d8d1fb] commit 1\n",
      " Date: Fri Jan 3 13:01:57 2025 +0000\n",
      " 1 file changed, 1 insertion(+)\n",
      "[main 3d1461aec7] commit 1\n",
      " Date: Fri Jan 3 13:01:57 2025 +0000\n",
      " 1 file changed, 1 insertion(+)\n",
      "[main 4860ba002f] commit 1\n",
      " Date: Fri Jan 3 13:01:57 2025 +0000\n",
      " 1 file changed, 1 insertion(+)\n",
      "[main 7f929ae49a] commit 1\n",
      " Date: Fri Jan 3 13:01:57 2025 +0000\n",
      " 1 file changed, 1 insertion(+)\n"
     ]
    },
    {
     "name": "stderr",
     "output_type": "stream",
     "text": [
      "To https://github.com/ahammadmejbah/The-90-Day-PyTorch-Mastery-Roadmap\n",
      "   70eca958c2..7f929ae49a  main -> main\n"
     ]
    },
    {
     "name": "stdout",
     "output_type": "stream",
     "text": [
      "branch 'main' set up to track 'origin/main'.\n",
      "[main 02d290924c] commit 1\n",
      " Date: Fri Jan 3 13:01:58 2025 +0000\n",
      " 1 file changed, 1 insertion(+)\n",
      "[main 4742ba06e1] commit 1\n",
      " Date: Fri Jan 3 13:01:58 2025 +0000\n",
      " 1 file changed, 1 insertion(+)\n"
     ]
    },
    {
     "name": "stderr",
     "output_type": "stream",
     "text": [
      "To https://github.com/ahammadmejbah/The-90-Day-PyTorch-Mastery-Roadmap\n",
      "   7f929ae49a..4742ba06e1  main -> main\n"
     ]
    },
    {
     "name": "stdout",
     "output_type": "stream",
     "text": [
      "branch 'main' set up to track 'origin/main'.\n",
      "[main 8035f2702f] commit 1\n",
      " Date: Fri Jan 3 13:01:59 2025 +0000\n",
      " 1 file changed, 1 insertion(+)\n",
      "[main 6dc55ef7e9] commit 1\n",
      " Date: Fri Jan 3 13:01:59 2025 +0000\n",
      " 1 file changed, 1 insertion(+)\n",
      "[main aae8540a0d] commit 1\n",
      " Date: Fri Jan 3 13:02:00 2025 +0000\n",
      " 1 file changed, 1 insertion(+)\n",
      "[main 85cc08d182] commit 1\n",
      " Date: Fri Jan 3 13:02:00 2025 +0000\n",
      " 1 file changed, 1 insertion(+)\n",
      "[main 3ea934839f] commit 1\n",
      " Date: Fri Jan 3 13:02:00 2025 +0000\n",
      " 1 file changed, 1 insertion(+)\n",
      "[main b2f512ea1b] commit 1\n",
      " Date: Fri Jan 3 13:02:00 2025 +0000\n",
      " 1 file changed, 1 insertion(+)\n",
      "[main f831abf4ea] commit 1\n",
      " Date: Fri Jan 3 13:02:00 2025 +0000\n",
      " 1 file changed, 1 insertion(+)\n"
     ]
    },
    {
     "name": "stderr",
     "output_type": "stream",
     "text": [
      "To https://github.com/ahammadmejbah/The-90-Day-PyTorch-Mastery-Roadmap\n",
      "   4742ba06e1..f831abf4ea  main -> main\n"
     ]
    },
    {
     "name": "stdout",
     "output_type": "stream",
     "text": [
      "branch 'main' set up to track 'origin/main'.\n",
      "[main 01944a6828] commit 1\n",
      " Date: Fri Jan 3 13:02:01 2025 +0000\n",
      " 1 file changed, 1 insertion(+)\n",
      "[main 148a5fca49] commit 1\n",
      " Date: Fri Jan 3 13:02:01 2025 +0000\n",
      " 1 file changed, 1 insertion(+)\n",
      "[main 5ffa5006e0] commit 1\n",
      " Date: Fri Jan 3 13:02:01 2025 +0000\n",
      " 1 file changed, 1 insertion(+)\n",
      "[main cea6d3deca] commit 1\n",
      " Date: Fri Jan 3 13:02:01 2025 +0000\n",
      " 1 file changed, 1 insertion(+)\n",
      "[main 15ea45622d] commit 1\n",
      " Date: Fri Jan 3 13:02:01 2025 +0000\n",
      " 1 file changed, 1 insertion(+)\n",
      "[main 526d77120d] commit 1\n",
      " Date: Fri Jan 3 13:02:01 2025 +0000\n",
      " 1 file changed, 1 insertion(+)\n",
      "[main dade4806a6] commit 1\n",
      " Date: Fri Jan 3 13:02:01 2025 +0000\n",
      " 1 file changed, 1 insertion(+)\n",
      "[main aa6678d5ce] commit 1\n",
      " Date: Fri Jan 3 13:02:01 2025 +0000\n",
      " 1 file changed, 1 insertion(+)\n"
     ]
    },
    {
     "name": "stderr",
     "output_type": "stream",
     "text": [
      "To https://github.com/ahammadmejbah/The-90-Day-PyTorch-Mastery-Roadmap\n",
      "   f831abf4ea..aa6678d5ce  main -> main\n"
     ]
    },
    {
     "name": "stdout",
     "output_type": "stream",
     "text": [
      "branch 'main' set up to track 'origin/main'.\n",
      "[main 4fa937e838] commit 1\n",
      " Date: Fri Jan 3 13:02:02 2025 +0000\n",
      " 1 file changed, 1 insertion(+)\n",
      "[main d611b05007] commit 1\n",
      " Date: Fri Jan 3 13:02:02 2025 +0000\n",
      " 1 file changed, 1 insertion(+)\n",
      "[main a67d9d021c] commit 1\n",
      " Date: Fri Jan 3 13:02:02 2025 +0000\n",
      " 1 file changed, 1 insertion(+)\n",
      "[main 22dad2b1ee] commit 1\n",
      " Date: Fri Jan 3 13:02:02 2025 +0000\n",
      " 1 file changed, 1 insertion(+)\n"
     ]
    },
    {
     "name": "stderr",
     "output_type": "stream",
     "text": [
      "To https://github.com/ahammadmejbah/The-90-Day-PyTorch-Mastery-Roadmap\n",
      "   aa6678d5ce..22dad2b1ee  main -> main\n"
     ]
    },
    {
     "name": "stdout",
     "output_type": "stream",
     "text": [
      "branch 'main' set up to track 'origin/main'.\n",
      "[main ef4ee46e1e] commit 1\n",
      " Date: Fri Jan 3 13:02:03 2025 +0000\n",
      " 1 file changed, 1 insertion(+)\n",
      "[main df68e3b0e9] commit 1\n",
      " Date: Fri Jan 3 13:02:03 2025 +0000\n",
      " 1 file changed, 1 insertion(+)\n",
      "[main 167311c139] commit 1\n",
      " Date: Fri Jan 3 13:02:03 2025 +0000\n",
      " 1 file changed, 1 insertion(+)\n",
      "[main 40aeb9a8f6] commit 1\n",
      " Date: Fri Jan 3 13:02:03 2025 +0000\n",
      " 1 file changed, 1 insertion(+)\n",
      "[main 0386742476] commit 1\n",
      " Date: Fri Jan 3 13:02:03 2025 +0000\n",
      " 1 file changed, 1 insertion(+)\n",
      "[main c425b7bcb4] commit 1\n",
      " Date: Fri Jan 3 13:02:03 2025 +0000\n",
      " 1 file changed, 1 insertion(+)\n",
      "[main 1c7d47864b] commit 1\n",
      " Date: Fri Jan 3 13:02:03 2025 +0000\n",
      " 1 file changed, 1 insertion(+)\n",
      "[main 7a949ff0d9] commit 1\n",
      " Date: Fri Jan 3 13:02:03 2025 +0000\n",
      " 1 file changed, 1 insertion(+)\n",
      "[main ddfbb9cfdb] commit 1\n",
      " Date: Fri Jan 3 13:02:03 2025 +0000\n",
      " 1 file changed, 1 insertion(+)\n",
      "[main c6625dc865] commit 1\n",
      " Date: Fri Jan 3 13:02:04 2025 +0000\n",
      " 1 file changed, 1 insertion(+)\n"
     ]
    },
    {
     "name": "stderr",
     "output_type": "stream",
     "text": [
      "To https://github.com/ahammadmejbah/The-90-Day-PyTorch-Mastery-Roadmap\n",
      "   22dad2b1ee..c6625dc865  main -> main\n"
     ]
    },
    {
     "name": "stdout",
     "output_type": "stream",
     "text": [
      "branch 'main' set up to track 'origin/main'.\n",
      "[main d95654d5ef] commit 1\n",
      " Date: Fri Jan 3 13:02:05 2025 +0000\n",
      " 1 file changed, 1 insertion(+)\n",
      "[main 619b17ff59] commit 1\n",
      " Date: Fri Jan 3 13:02:05 2025 +0000\n",
      " 1 file changed, 1 insertion(+)\n",
      "[main 57582075ff] commit 1\n",
      " Date: Fri Jan 3 13:02:05 2025 +0000\n",
      " 1 file changed, 1 insertion(+)\n",
      "[main 8f3516f9f4] commit 1\n",
      " Date: Fri Jan 3 13:02:05 2025 +0000\n",
      " 1 file changed, 1 insertion(+)\n",
      "[main fa25eaa151] commit 1\n",
      " Date: Fri Jan 3 13:02:05 2025 +0000\n",
      " 1 file changed, 1 insertion(+)\n",
      "[main 61f3a946f5] commit 1\n",
      " Date: Fri Jan 3 13:02:05 2025 +0000\n",
      " 1 file changed, 1 insertion(+)\n",
      "[main c738b2e6a0] commit 1\n",
      " Date: Fri Jan 3 13:02:05 2025 +0000\n",
      " 1 file changed, 1 insertion(+)\n",
      "[main f5d721b852] commit 1\n",
      " Date: Fri Jan 3 13:02:05 2025 +0000\n",
      " 1 file changed, 1 insertion(+)\n",
      "[main f0b1048646] commit 1\n",
      " Date: Fri Jan 3 13:02:05 2025 +0000\n",
      " 1 file changed, 1 insertion(+)\n"
     ]
    },
    {
     "name": "stderr",
     "output_type": "stream",
     "text": [
      "To https://github.com/ahammadmejbah/The-90-Day-PyTorch-Mastery-Roadmap\n",
      "   c6625dc865..f0b1048646  main -> main\n"
     ]
    },
    {
     "name": "stdout",
     "output_type": "stream",
     "text": [
      "branch 'main' set up to track 'origin/main'.\n",
      "[main 4b38185a76] commit 1\n",
      " Date: Fri Jan 3 13:02:06 2025 +0000\n",
      " 1 file changed, 1 insertion(+)\n",
      "[main 72d1cc9c84] commit 1\n",
      " Date: Fri Jan 3 13:02:06 2025 +0000\n",
      " 1 file changed, 1 insertion(+)\n",
      "[main 9e967bbd0a] commit 1\n",
      " Date: Fri Jan 3 13:02:06 2025 +0000\n",
      " 1 file changed, 1 insertion(+)\n"
     ]
    },
    {
     "name": "stderr",
     "output_type": "stream",
     "text": [
      "To https://github.com/ahammadmejbah/The-90-Day-PyTorch-Mastery-Roadmap\n",
      "   f0b1048646..9e967bbd0a  main -> main\n"
     ]
    },
    {
     "name": "stdout",
     "output_type": "stream",
     "text": [
      "branch 'main' set up to track 'origin/main'.\n",
      "[main 7823cf55c4] commit 1\n",
      " Date: Fri Jan 3 13:02:07 2025 +0000\n",
      " 1 file changed, 1 insertion(+)\n",
      "[main 3e5c8204d6] commit 1\n",
      " Date: Fri Jan 3 13:02:07 2025 +0000\n",
      " 1 file changed, 1 insertion(+)\n",
      "[main fd2f998245] commit 1\n",
      " Date: Fri Jan 3 13:02:07 2025 +0000\n",
      " 1 file changed, 1 insertion(+)\n",
      "[main a117de63ee] commit 1\n",
      " Date: Fri Jan 3 13:02:07 2025 +0000\n",
      " 1 file changed, 1 insertion(+)\n",
      "[main 44612d369f] commit 1\n",
      " Date: Fri Jan 3 13:02:07 2025 +0000\n",
      " 1 file changed, 1 insertion(+)\n",
      "[main 80d1af1fcb] commit 1\n",
      " Date: Fri Jan 3 13:02:07 2025 +0000\n",
      " 1 file changed, 1 insertion(+)\n"
     ]
    },
    {
     "name": "stderr",
     "output_type": "stream",
     "text": [
      "To https://github.com/ahammadmejbah/The-90-Day-PyTorch-Mastery-Roadmap\n",
      "   9e967bbd0a..80d1af1fcb  main -> main\n"
     ]
    },
    {
     "name": "stdout",
     "output_type": "stream",
     "text": [
      "branch 'main' set up to track 'origin/main'.\n",
      "[main 22be8cf20b] commit 1\n",
      " Date: Fri Jan 3 13:02:08 2025 +0000\n",
      " 1 file changed, 1 insertion(+)\n",
      "[main 132f3fcec4] commit 1\n",
      " Date: Fri Jan 3 13:02:08 2025 +0000\n",
      " 1 file changed, 1 insertion(+)\n"
     ]
    },
    {
     "name": "stderr",
     "output_type": "stream",
     "text": [
      "To https://github.com/ahammadmejbah/The-90-Day-PyTorch-Mastery-Roadmap\n",
      "   80d1af1fcb..132f3fcec4  main -> main\n"
     ]
    },
    {
     "name": "stdout",
     "output_type": "stream",
     "text": [
      "branch 'main' set up to track 'origin/main'.\n",
      "[main f51e1ba2ce] commit 1\n",
      " Date: Fri Jan 3 13:02:09 2025 +0000\n",
      " 1 file changed, 1 insertion(+)\n"
     ]
    },
    {
     "name": "stderr",
     "output_type": "stream",
     "text": [
      "To https://github.com/ahammadmejbah/The-90-Day-PyTorch-Mastery-Roadmap\n",
      "   132f3fcec4..f51e1ba2ce  main -> main\n"
     ]
    },
    {
     "name": "stdout",
     "output_type": "stream",
     "text": [
      "branch 'main' set up to track 'origin/main'.\n",
      "[main f8e31b8e56] commit 1\n",
      " Date: Fri Jan 3 13:02:10 2025 +0000\n",
      " 1 file changed, 1 insertion(+)\n",
      "[main b02ac00140] commit 1\n",
      " Date: Fri Jan 3 13:02:10 2025 +0000\n",
      " 1 file changed, 1 insertion(+)\n",
      "[main c921ee39a2] commit 1\n",
      " Date: Fri Jan 3 13:02:10 2025 +0000\n",
      " 1 file changed, 1 insertion(+)\n",
      "[main 62b9b22f08] commit 1\n",
      " Date: Fri Jan 3 13:02:11 2025 +0000\n",
      " 1 file changed, 1 insertion(+)\n",
      "[main 550c0d2999] commit 1\n",
      " Date: Fri Jan 3 13:02:11 2025 +0000\n",
      " 1 file changed, 1 insertion(+)\n",
      "[main 31a798a90c] commit 1\n",
      " Date: Fri Jan 3 13:02:11 2025 +0000\n",
      " 1 file changed, 1 insertion(+)\n",
      "[main 26a24c1b32] commit 1\n",
      " Date: Fri Jan 3 13:02:11 2025 +0000\n",
      " 1 file changed, 1 insertion(+)\n"
     ]
    },
    {
     "name": "stderr",
     "output_type": "stream",
     "text": [
      "To https://github.com/ahammadmejbah/The-90-Day-PyTorch-Mastery-Roadmap\n",
      "   f51e1ba2ce..26a24c1b32  main -> main\n"
     ]
    },
    {
     "name": "stdout",
     "output_type": "stream",
     "text": [
      "branch 'main' set up to track 'origin/main'.\n",
      "[main 71b1c2e2ce] commit 1\n",
      " Date: Fri Jan 3 13:02:12 2025 +0000\n",
      " 1 file changed, 1 insertion(+)\n",
      "[main 289617d901] commit 1\n",
      " Date: Fri Jan 3 13:02:12 2025 +0000\n",
      " 1 file changed, 1 insertion(+)\n"
     ]
    },
    {
     "name": "stderr",
     "output_type": "stream",
     "text": [
      "To https://github.com/ahammadmejbah/The-90-Day-PyTorch-Mastery-Roadmap\n",
      "   26a24c1b32..289617d901  main -> main\n"
     ]
    },
    {
     "name": "stdout",
     "output_type": "stream",
     "text": [
      "branch 'main' set up to track 'origin/main'.\n",
      "[main a0bd41d217] commit 1\n",
      " Date: Fri Jan 3 13:02:13 2025 +0000\n",
      " 1 file changed, 1 insertion(+)\n",
      "[main e2ad239ca8] commit 1\n",
      " Date: Fri Jan 3 13:02:13 2025 +0000\n",
      " 1 file changed, 1 insertion(+)\n",
      "[main 78769b2cc7] commit 1\n",
      " Date: Fri Jan 3 13:02:13 2025 +0000\n",
      " 1 file changed, 1 insertion(+)\n",
      "[main 47ef9bd827] commit 1\n",
      " Date: Fri Jan 3 13:02:13 2025 +0000\n",
      " 1 file changed, 1 insertion(+)\n",
      "[main 6cc22e1bed] commit 1\n",
      " Date: Fri Jan 3 13:02:13 2025 +0000\n",
      " 1 file changed, 1 insertion(+)\n",
      "[main dc367d7655] commit 1\n",
      " Date: Fri Jan 3 13:02:13 2025 +0000\n",
      " 1 file changed, 1 insertion(+)\n",
      "[main bd886191de] commit 1\n",
      " Date: Fri Jan 3 13:02:13 2025 +0000\n",
      " 1 file changed, 1 insertion(+)\n",
      "[main 557731c31b] commit 1\n",
      " Date: Fri Jan 3 13:02:13 2025 +0000\n",
      " 1 file changed, 1 insertion(+)\n"
     ]
    },
    {
     "name": "stderr",
     "output_type": "stream",
     "text": [
      "To https://github.com/ahammadmejbah/The-90-Day-PyTorch-Mastery-Roadmap\n",
      "   289617d901..557731c31b  main -> main\n"
     ]
    },
    {
     "name": "stdout",
     "output_type": "stream",
     "text": [
      "branch 'main' set up to track 'origin/main'.\n",
      "[main dd921ff56d] commit 1\n",
      " Date: Fri Jan 3 13:02:14 2025 +0000\n",
      " 1 file changed, 1 insertion(+)\n"
     ]
    },
    {
     "name": "stderr",
     "output_type": "stream",
     "text": [
      "To https://github.com/ahammadmejbah/The-90-Day-PyTorch-Mastery-Roadmap\n",
      "   557731c31b..dd921ff56d  main -> main\n"
     ]
    },
    {
     "name": "stdout",
     "output_type": "stream",
     "text": [
      "branch 'main' set up to track 'origin/main'.\n",
      "[main ac497d819c] commit 1\n",
      " Date: Fri Jan 3 13:02:15 2025 +0000\n",
      " 1 file changed, 1 insertion(+)\n",
      "[main 43215b7daf] commit 1\n",
      " Date: Fri Jan 3 13:02:15 2025 +0000\n",
      " 1 file changed, 1 insertion(+)\n",
      "[main 7de4df6e67] commit 1\n",
      " Date: Fri Jan 3 13:02:15 2025 +0000\n",
      " 1 file changed, 1 insertion(+)\n",
      "[main 38a85a25a2] commit 1\n",
      " Date: Fri Jan 3 13:02:15 2025 +0000\n",
      " 1 file changed, 1 insertion(+)\n"
     ]
    },
    {
     "name": "stderr",
     "output_type": "stream",
     "text": [
      "To https://github.com/ahammadmejbah/The-90-Day-PyTorch-Mastery-Roadmap\n",
      "   dd921ff56d..38a85a25a2  main -> main\n"
     ]
    },
    {
     "name": "stdout",
     "output_type": "stream",
     "text": [
      "branch 'main' set up to track 'origin/main'.\n",
      "[main f2d66b3068] commit 1\n",
      " Date: Fri Jan 3 13:02:16 2025 +0000\n",
      " 1 file changed, 1 insertion(+)\n",
      "[main 71cc67e0a9] commit 1\n",
      " Date: Fri Jan 3 13:02:16 2025 +0000\n",
      " 1 file changed, 1 insertion(+)\n",
      "[main fddad6ce04] commit 1\n",
      " Date: Fri Jan 3 13:02:16 2025 +0000\n",
      " 1 file changed, 1 insertion(+)\n",
      "[main 650f1f98b3] commit 1\n",
      " Date: Fri Jan 3 13:02:16 2025 +0000\n",
      " 1 file changed, 1 insertion(+)\n",
      "[main a4ace73eb2] commit 1\n",
      " Date: Fri Jan 3 13:02:16 2025 +0000\n",
      " 1 file changed, 1 insertion(+)\n",
      "[main e600be73af] commit 1\n",
      " Date: Fri Jan 3 13:02:17 2025 +0000\n",
      " 1 file changed, 1 insertion(+)\n"
     ]
    },
    {
     "name": "stderr",
     "output_type": "stream",
     "text": [
      "To https://github.com/ahammadmejbah/The-90-Day-PyTorch-Mastery-Roadmap\n",
      "   38a85a25a2..e600be73af  main -> main\n"
     ]
    },
    {
     "name": "stdout",
     "output_type": "stream",
     "text": [
      "branch 'main' set up to track 'origin/main'.\n",
      "[main e2d51fed2f] commit 1\n",
      " Date: Fri Jan 3 13:02:18 2025 +0000\n",
      " 1 file changed, 1 insertion(+)\n",
      "[main 8edeb15a83] commit 1\n",
      " Date: Fri Jan 3 13:02:18 2025 +0000\n",
      " 1 file changed, 1 insertion(+)\n",
      "[main cdec1030d7] commit 1\n",
      " Date: Fri Jan 3 13:02:18 2025 +0000\n",
      " 1 file changed, 1 insertion(+)\n"
     ]
    },
    {
     "name": "stderr",
     "output_type": "stream",
     "text": [
      "To https://github.com/ahammadmejbah/The-90-Day-PyTorch-Mastery-Roadmap\n",
      "   e600be73af..cdec1030d7  main -> main\n"
     ]
    },
    {
     "name": "stdout",
     "output_type": "stream",
     "text": [
      "branch 'main' set up to track 'origin/main'.\n",
      "[main 9a0dc3ff0a] commit 1\n",
      " Date: Fri Jan 3 13:02:19 2025 +0000\n",
      " 1 file changed, 1 insertion(+)\n",
      "[main ae7c5bc0e5] commit 1\n",
      " Date: Fri Jan 3 13:02:19 2025 +0000\n",
      " 1 file changed, 1 insertion(+)\n",
      "[main c2bc20fcfe] commit 1\n",
      " Date: Fri Jan 3 13:02:19 2025 +0000\n",
      " 1 file changed, 1 insertion(+)\n",
      "[main 7a8cdbc82b] commit 1\n",
      " Date: Fri Jan 3 13:02:19 2025 +0000\n",
      " 1 file changed, 1 insertion(+)\n",
      "[main 927378a475] commit 1\n",
      " Date: Fri Jan 3 13:02:19 2025 +0000\n",
      " 1 file changed, 1 insertion(+)\n",
      "[main deb02f8576] commit 1\n",
      " Date: Fri Jan 3 13:02:19 2025 +0000\n",
      " 1 file changed, 1 insertion(+)\n",
      "[main d064e1c791] commit 1\n",
      " Date: Fri Jan 3 13:02:19 2025 +0000\n",
      " 1 file changed, 1 insertion(+)\n"
     ]
    },
    {
     "name": "stderr",
     "output_type": "stream",
     "text": [
      "To https://github.com/ahammadmejbah/The-90-Day-PyTorch-Mastery-Roadmap\n",
      "   cdec1030d7..d064e1c791  main -> main\n"
     ]
    },
    {
     "name": "stdout",
     "output_type": "stream",
     "text": [
      "branch 'main' set up to track 'origin/main'.\n",
      "[main 580d9964f2] commit 1\n",
      " Date: Fri Jan 3 13:02:20 2025 +0000\n",
      " 1 file changed, 1 insertion(+)\n",
      "[main 3bd0bf5638] commit 1\n",
      " Date: Fri Jan 3 13:02:20 2025 +0000\n",
      " 1 file changed, 1 insertion(+)\n",
      "[main 2c9e33b234] commit 1\n",
      " Date: Fri Jan 3 13:02:20 2025 +0000\n",
      " 1 file changed, 1 insertion(+)\n",
      "[main ec4307f8b5] commit 1\n",
      " Date: Fri Jan 3 13:02:20 2025 +0000\n",
      " 1 file changed, 1 insertion(+)\n",
      "[main 7c507c640b] commit 1\n",
      " Date: Fri Jan 3 13:02:20 2025 +0000\n",
      " 1 file changed, 1 insertion(+)\n",
      "[main f571edec0f] commit 1\n",
      " Date: Fri Jan 3 13:02:20 2025 +0000\n",
      " 1 file changed, 1 insertion(+)\n",
      "[main 686c1a2b71] commit 1\n",
      " Date: Fri Jan 3 13:02:20 2025 +0000\n",
      " 1 file changed, 1 insertion(+)\n",
      "[main f6395ceb49] commit 1\n",
      " Date: Fri Jan 3 13:02:20 2025 +0000\n",
      " 1 file changed, 1 insertion(+)\n"
     ]
    },
    {
     "name": "stderr",
     "output_type": "stream",
     "text": [
      "To https://github.com/ahammadmejbah/The-90-Day-PyTorch-Mastery-Roadmap\n",
      "   d064e1c791..f6395ceb49  main -> main\n"
     ]
    },
    {
     "name": "stdout",
     "output_type": "stream",
     "text": [
      "branch 'main' set up to track 'origin/main'.\n",
      "[main b9dfc7cf27] commit 1\n",
      " Date: Fri Jan 3 13:02:21 2025 +0000\n",
      " 1 file changed, 1 insertion(+)\n",
      "[main 2f03d51831] commit 1\n",
      " Date: Fri Jan 3 13:02:21 2025 +0000\n",
      " 1 file changed, 1 insertion(+)\n",
      "[main 273f4c176a] commit 1\n",
      " Date: Fri Jan 3 13:02:21 2025 +0000\n",
      " 1 file changed, 1 insertion(+)\n",
      "[main ee09be7ed8] commit 1\n",
      " Date: Fri Jan 3 13:02:21 2025 +0000\n",
      " 1 file changed, 1 insertion(+)\n",
      "[main aaf154b849] commit 1\n",
      " Date: Fri Jan 3 13:02:21 2025 +0000\n",
      " 1 file changed, 1 insertion(+)\n",
      "[main 0bc5b5b23d] commit 1\n",
      " Date: Fri Jan 3 13:02:21 2025 +0000\n",
      " 1 file changed, 1 insertion(+)\n"
     ]
    },
    {
     "name": "stderr",
     "output_type": "stream",
     "text": [
      "To https://github.com/ahammadmejbah/The-90-Day-PyTorch-Mastery-Roadmap\n",
      "   f6395ceb49..0bc5b5b23d  main -> main\n"
     ]
    },
    {
     "name": "stdout",
     "output_type": "stream",
     "text": [
      "branch 'main' set up to track 'origin/main'.\n",
      "[main ac5f50afc1] commit 1\n",
      " Date: Fri Jan 3 13:02:23 2025 +0000\n",
      " 1 file changed, 1 insertion(+)\n",
      "[main 1f6c63824e] commit 1\n",
      " Date: Fri Jan 3 13:02:23 2025 +0000\n",
      " 1 file changed, 1 insertion(+)\n"
     ]
    },
    {
     "name": "stderr",
     "output_type": "stream",
     "text": [
      "To https://github.com/ahammadmejbah/The-90-Day-PyTorch-Mastery-Roadmap\n",
      "   0bc5b5b23d..1f6c63824e  main -> main\n"
     ]
    },
    {
     "name": "stdout",
     "output_type": "stream",
     "text": [
      "branch 'main' set up to track 'origin/main'.\n",
      "[main 47a30967ab] commit 1\n",
      " Date: Fri Jan 3 13:02:24 2025 +0000\n",
      " 1 file changed, 1 insertion(+)\n"
     ]
    },
    {
     "name": "stderr",
     "output_type": "stream",
     "text": [
      "To https://github.com/ahammadmejbah/The-90-Day-PyTorch-Mastery-Roadmap\n",
      "   1f6c63824e..47a30967ab  main -> main\n"
     ]
    },
    {
     "name": "stdout",
     "output_type": "stream",
     "text": [
      "branch 'main' set up to track 'origin/main'.\n",
      "[main eda45aa70b] commit 1\n",
      " Date: Fri Jan 3 13:02:25 2025 +0000\n",
      " 1 file changed, 1 insertion(+)\n"
     ]
    },
    {
     "name": "stderr",
     "output_type": "stream",
     "text": [
      "To https://github.com/ahammadmejbah/The-90-Day-PyTorch-Mastery-Roadmap\n",
      "   47a30967ab..eda45aa70b  main -> main\n"
     ]
    },
    {
     "name": "stdout",
     "output_type": "stream",
     "text": [
      "branch 'main' set up to track 'origin/main'.\n",
      "[main 618a53e823] commit 1\n",
      " Date: Fri Jan 3 13:02:26 2025 +0000\n",
      " 1 file changed, 1 insertion(+)\n",
      "[main eed38d547e] commit 1\n",
      " Date: Fri Jan 3 13:02:26 2025 +0000\n",
      " 1 file changed, 1 insertion(+)\n",
      "[main bfc6199ed6] commit 1\n",
      " Date: Fri Jan 3 13:02:26 2025 +0000\n",
      " 1 file changed, 1 insertion(+)\n",
      "[main 8a01a2a146] commit 1\n",
      " Date: Fri Jan 3 13:02:26 2025 +0000\n",
      " 1 file changed, 1 insertion(+)\n",
      "[main 43d5e7bbaf] commit 1\n",
      " Date: Fri Jan 3 13:02:26 2025 +0000\n",
      " 1 file changed, 1 insertion(+)\n",
      "[main 1b45c5c47b] commit 1\n",
      " Date: Fri Jan 3 13:02:26 2025 +0000\n",
      " 1 file changed, 1 insertion(+)\n",
      "[main b36188af0f] commit 1\n",
      " Date: Fri Jan 3 13:02:26 2025 +0000\n",
      " 1 file changed, 1 insertion(+)\n",
      "[main 8ebfca18df] commit 1\n",
      " Date: Fri Jan 3 13:02:26 2025 +0000\n",
      " 1 file changed, 1 insertion(+)\n",
      "[main 543df373e9] commit 1\n",
      " Date: Fri Jan 3 13:02:26 2025 +0000\n",
      " 1 file changed, 1 insertion(+)\n"
     ]
    },
    {
     "name": "stderr",
     "output_type": "stream",
     "text": [
      "To https://github.com/ahammadmejbah/The-90-Day-PyTorch-Mastery-Roadmap\n",
      "   eda45aa70b..543df373e9  main -> main\n"
     ]
    },
    {
     "name": "stdout",
     "output_type": "stream",
     "text": [
      "branch 'main' set up to track 'origin/main'.\n",
      "[main 1e51ec7b77] commit 1\n",
      " Date: Fri Jan 3 13:02:27 2025 +0000\n",
      " 1 file changed, 1 insertion(+)\n",
      "[main 245429176d] commit 1\n",
      " Date: Fri Jan 3 13:02:27 2025 +0000\n",
      " 1 file changed, 1 insertion(+)\n"
     ]
    },
    {
     "name": "stderr",
     "output_type": "stream",
     "text": [
      "To https://github.com/ahammadmejbah/The-90-Day-PyTorch-Mastery-Roadmap\n",
      "   543df373e9..245429176d  main -> main\n"
     ]
    },
    {
     "name": "stdout",
     "output_type": "stream",
     "text": [
      "branch 'main' set up to track 'origin/main'.\n",
      "[main 811776d790] commit 1\n",
      " Date: Fri Jan 3 13:02:29 2025 +0000\n",
      " 1 file changed, 1 insertion(+)\n",
      "[main 3702cc602f] commit 1\n",
      " Date: Fri Jan 3 13:02:29 2025 +0000\n",
      " 1 file changed, 1 insertion(+)\n"
     ]
    },
    {
     "name": "stderr",
     "output_type": "stream",
     "text": [
      "To https://github.com/ahammadmejbah/The-90-Day-PyTorch-Mastery-Roadmap\n",
      "   245429176d..3702cc602f  main -> main\n"
     ]
    },
    {
     "name": "stdout",
     "output_type": "stream",
     "text": [
      "branch 'main' set up to track 'origin/main'.\n",
      "[main 08626d9cc8] commit 1\n",
      " Date: Fri Jan 3 13:02:30 2025 +0000\n",
      " 1 file changed, 1 insertion(+)\n",
      "[main 4f8c59e966] commit 1\n",
      " Date: Fri Jan 3 13:02:30 2025 +0000\n",
      " 1 file changed, 1 insertion(+)\n",
      "[main f882eca5ca] commit 1\n",
      " Date: Fri Jan 3 13:02:30 2025 +0000\n",
      " 1 file changed, 1 insertion(+)\n",
      "[main 534f8de23b] commit 1\n",
      " Date: Fri Jan 3 13:02:30 2025 +0000\n",
      " 1 file changed, 1 insertion(+)\n"
     ]
    },
    {
     "name": "stderr",
     "output_type": "stream",
     "text": [
      "To https://github.com/ahammadmejbah/The-90-Day-PyTorch-Mastery-Roadmap\n",
      "   3702cc602f..534f8de23b  main -> main\n"
     ]
    },
    {
     "name": "stdout",
     "output_type": "stream",
     "text": [
      "branch 'main' set up to track 'origin/main'.\n",
      "[main 8a82555028] commit 1\n",
      " Date: Fri Jan 3 13:02:31 2025 +0000\n",
      " 1 file changed, 1 insertion(+)\n",
      "[main bbf1a47796] commit 1\n",
      " Date: Fri Jan 3 13:02:31 2025 +0000\n",
      " 1 file changed, 1 insertion(+)\n",
      "[main 7c04fe28ad] commit 1\n",
      " Date: Fri Jan 3 13:02:31 2025 +0000\n",
      " 1 file changed, 1 insertion(+)\n",
      "[main 859f3ff926] commit 1\n",
      " Date: Fri Jan 3 13:02:31 2025 +0000\n",
      " 1 file changed, 1 insertion(+)\n",
      "[main afd2b259c9] commit 1\n",
      " Date: Fri Jan 3 13:02:31 2025 +0000\n",
      " 1 file changed, 1 insertion(+)\n"
     ]
    },
    {
     "name": "stderr",
     "output_type": "stream",
     "text": [
      "To https://github.com/ahammadmejbah/The-90-Day-PyTorch-Mastery-Roadmap\n",
      "   534f8de23b..afd2b259c9  main -> main\n"
     ]
    },
    {
     "name": "stdout",
     "output_type": "stream",
     "text": [
      "branch 'main' set up to track 'origin/main'.\n",
      "[main d79dffd69e] commit 1\n",
      " Date: Fri Jan 3 13:02:32 2025 +0000\n",
      " 1 file changed, 1 insertion(+)\n",
      "[main 55be4198c5] commit 1\n",
      " Date: Fri Jan 3 13:02:32 2025 +0000\n",
      " 1 file changed, 1 insertion(+)\n",
      "[main 09a373db71] commit 1\n",
      " Date: Fri Jan 3 13:02:32 2025 +0000\n",
      " 1 file changed, 1 insertion(+)\n",
      "[main 37d5db0135] commit 1\n",
      " Date: Fri Jan 3 13:02:32 2025 +0000\n",
      " 1 file changed, 1 insertion(+)\n",
      "[main 1bc7da6933] commit 1\n",
      " Date: Fri Jan 3 13:02:32 2025 +0000\n",
      " 1 file changed, 1 insertion(+)\n",
      "[main 490baf63a1] commit 1\n",
      " Date: Fri Jan 3 13:02:32 2025 +0000\n",
      " 1 file changed, 1 insertion(+)\n",
      "[main 09947af07e] commit 1\n",
      " Date: Fri Jan 3 13:02:32 2025 +0000\n",
      " 1 file changed, 1 insertion(+)\n",
      "[main be478c078a] commit 1\n",
      " Date: Fri Jan 3 13:02:32 2025 +0000\n",
      " 1 file changed, 1 insertion(+)\n"
     ]
    },
    {
     "name": "stderr",
     "output_type": "stream",
     "text": [
      "To https://github.com/ahammadmejbah/The-90-Day-PyTorch-Mastery-Roadmap\n",
      "   afd2b259c9..be478c078a  main -> main\n"
     ]
    },
    {
     "name": "stdout",
     "output_type": "stream",
     "text": [
      "branch 'main' set up to track 'origin/main'.\n",
      "[main 7ebb983861] commit 1\n",
      " Date: Fri Jan 3 13:02:33 2025 +0000\n",
      " 1 file changed, 1 insertion(+)\n",
      "[main ccb694b105] commit 1\n",
      " Date: Fri Jan 3 13:02:33 2025 +0000\n",
      " 1 file changed, 1 insertion(+)\n",
      "[main 018271578f] commit 1\n",
      " Date: Fri Jan 3 13:02:33 2025 +0000\n",
      " 1 file changed, 1 insertion(+)\n",
      "[main 223c5a7a32] commit 1\n",
      " Date: Fri Jan 3 13:02:34 2025 +0000\n",
      " 1 file changed, 1 insertion(+)\n",
      "[main 22ec510f35] commit 1\n",
      " Date: Fri Jan 3 13:02:34 2025 +0000\n",
      " 1 file changed, 1 insertion(+)\n",
      "[main 57e8e07145] commit 1\n",
      " Date: Fri Jan 3 13:02:34 2025 +0000\n",
      " 1 file changed, 1 insertion(+)\n",
      "[main ab5c4be1af] commit 1\n",
      " Date: Fri Jan 3 13:02:34 2025 +0000\n",
      " 1 file changed, 1 insertion(+)\n",
      "[main a618cddea7] commit 1\n",
      " Date: Fri Jan 3 13:02:34 2025 +0000\n",
      " 1 file changed, 1 insertion(+)\n",
      "[main b309a13a82] commit 1\n",
      " Date: Fri Jan 3 13:02:34 2025 +0000\n",
      " 1 file changed, 1 insertion(+)\n",
      "[main 1305183497] commit 1\n",
      " Date: Fri Jan 3 13:02:34 2025 +0000\n",
      " 1 file changed, 1 insertion(+)\n"
     ]
    },
    {
     "name": "stderr",
     "output_type": "stream",
     "text": [
      "To https://github.com/ahammadmejbah/The-90-Day-PyTorch-Mastery-Roadmap\n",
      "   be478c078a..1305183497  main -> main\n"
     ]
    },
    {
     "name": "stdout",
     "output_type": "stream",
     "text": [
      "branch 'main' set up to track 'origin/main'.\n",
      "[main e78a8ab3dc] commit 1\n",
      " Date: Fri Jan 3 13:02:35 2025 +0000\n",
      " 1 file changed, 1 insertion(+)\n",
      "[main 9359142c37] commit 1\n",
      " Date: Fri Jan 3 13:02:35 2025 +0000\n",
      " 1 file changed, 1 insertion(+)\n"
     ]
    },
    {
     "name": "stderr",
     "output_type": "stream",
     "text": [
      "To https://github.com/ahammadmejbah/The-90-Day-PyTorch-Mastery-Roadmap\n",
      "   1305183497..9359142c37  main -> main\n"
     ]
    },
    {
     "name": "stdout",
     "output_type": "stream",
     "text": [
      "branch 'main' set up to track 'origin/main'.\n",
      "[main 2b8ee94158] commit 1\n",
      " Date: Fri Jan 3 13:02:36 2025 +0000\n",
      " 1 file changed, 1 insertion(+)\n",
      "[main f23de519c0] commit 1\n",
      " Date: Fri Jan 3 13:02:36 2025 +0000\n",
      " 1 file changed, 1 insertion(+)\n",
      "[main 5e0668ac16] commit 1\n",
      " Date: Fri Jan 3 13:02:36 2025 +0000\n",
      " 1 file changed, 1 insertion(+)\n",
      "[main 1849862a67] commit 1\n",
      " Date: Fri Jan 3 13:02:36 2025 +0000\n",
      " 1 file changed, 1 insertion(+)\n",
      "[main 8d5d7b8268] commit 1\n",
      " Date: Fri Jan 3 13:02:36 2025 +0000\n",
      " 1 file changed, 1 insertion(+)\n",
      "[main e818e9a14e] commit 1\n",
      " Date: Fri Jan 3 13:02:36 2025 +0000\n",
      " 1 file changed, 1 insertion(+)\n",
      "[main a043987387] commit 1\n",
      " Date: Fri Jan 3 13:02:36 2025 +0000\n",
      " 1 file changed, 1 insertion(+)\n",
      "[main b0a8dc1552] commit 1\n",
      " Date: Fri Jan 3 13:02:36 2025 +0000\n",
      " 1 file changed, 1 insertion(+)\n",
      "[main cfb5e70956] commit 1\n",
      " Date: Fri Jan 3 13:02:36 2025 +0000\n",
      " 1 file changed, 1 insertion(+)\n"
     ]
    },
    {
     "name": "stderr",
     "output_type": "stream",
     "text": [
      "To https://github.com/ahammadmejbah/The-90-Day-PyTorch-Mastery-Roadmap\n",
      "   9359142c37..cfb5e70956  main -> main\n"
     ]
    },
    {
     "name": "stdout",
     "output_type": "stream",
     "text": [
      "branch 'main' set up to track 'origin/main'.\n",
      "[main cb49d651de] commit 1\n",
      " Date: Fri Jan 3 13:02:37 2025 +0000\n",
      " 1 file changed, 1 insertion(+)\n",
      "[main 331185577d] commit 1\n",
      " Date: Fri Jan 3 13:02:37 2025 +0000\n",
      " 1 file changed, 1 insertion(+)\n",
      "[main 85d3bb982d] commit 1\n",
      " Date: Fri Jan 3 13:02:37 2025 +0000\n",
      " 1 file changed, 1 insertion(+)\n",
      "[main ada80c63eb] commit 1\n",
      " Date: Fri Jan 3 13:02:37 2025 +0000\n",
      " 1 file changed, 1 insertion(+)\n",
      "[main 3848508d69] commit 1\n",
      " Date: Fri Jan 3 13:02:37 2025 +0000\n",
      " 1 file changed, 1 insertion(+)\n"
     ]
    },
    {
     "name": "stderr",
     "output_type": "stream",
     "text": [
      "To https://github.com/ahammadmejbah/The-90-Day-PyTorch-Mastery-Roadmap\n",
      "   cfb5e70956..3848508d69  main -> main\n"
     ]
    },
    {
     "name": "stdout",
     "output_type": "stream",
     "text": [
      "branch 'main' set up to track 'origin/main'.\n",
      "[main af8c50b10a] commit 1\n",
      " Date: Fri Jan 3 13:02:38 2025 +0000\n",
      " 1 file changed, 1 insertion(+)\n",
      "[main 433306aa76] commit 1\n",
      " Date: Fri Jan 3 13:02:38 2025 +0000\n",
      " 1 file changed, 1 insertion(+)\n",
      "[main e978e6db16] commit 1\n",
      " Date: Fri Jan 3 13:02:38 2025 +0000\n",
      " 1 file changed, 1 insertion(+)\n",
      "[main e95843513c] commit 1\n",
      " Date: Fri Jan 3 13:02:38 2025 +0000\n",
      " 1 file changed, 1 insertion(+)\n",
      "[main 85406cef88] commit 1\n",
      " Date: Fri Jan 3 13:02:39 2025 +0000\n",
      " 1 file changed, 1 insertion(+)\n",
      "[main e4954798be] commit 1\n",
      " Date: Fri Jan 3 13:02:39 2025 +0000\n",
      " 1 file changed, 1 insertion(+)\n",
      "[main 49e7fcfad7] commit 1\n",
      " Date: Fri Jan 3 13:02:39 2025 +0000\n",
      " 1 file changed, 1 insertion(+)\n",
      "[main ad8802a688] commit 1\n",
      " Date: Fri Jan 3 13:02:39 2025 +0000\n",
      " 1 file changed, 1 insertion(+)\n"
     ]
    },
    {
     "name": "stderr",
     "output_type": "stream",
     "text": [
      "To https://github.com/ahammadmejbah/The-90-Day-PyTorch-Mastery-Roadmap\n",
      "   3848508d69..ad8802a688  main -> main\n"
     ]
    },
    {
     "name": "stdout",
     "output_type": "stream",
     "text": [
      "branch 'main' set up to track 'origin/main'.\n",
      "[main 4c957d6a82] commit 1\n",
      " Date: Fri Jan 3 13:02:40 2025 +0000\n",
      " 1 file changed, 1 insertion(+)\n",
      "[main a469cd92c1] commit 1\n",
      " Date: Fri Jan 3 13:02:40 2025 +0000\n",
      " 1 file changed, 1 insertion(+)\n"
     ]
    },
    {
     "name": "stderr",
     "output_type": "stream",
     "text": [
      "To https://github.com/ahammadmejbah/The-90-Day-PyTorch-Mastery-Roadmap\n",
      "   ad8802a688..a469cd92c1  main -> main\n"
     ]
    },
    {
     "name": "stdout",
     "output_type": "stream",
     "text": [
      "branch 'main' set up to track 'origin/main'.\n",
      "[main a91893b5bb] commit 1\n",
      " Date: Fri Jan 3 13:02:41 2025 +0000\n",
      " 1 file changed, 1 insertion(+)\n",
      "[main 6e211d1260] commit 1\n",
      " Date: Fri Jan 3 13:02:41 2025 +0000\n",
      " 1 file changed, 1 insertion(+)\n",
      "[main 47db9af40c] commit 1\n",
      " Date: Fri Jan 3 13:02:41 2025 +0000\n",
      " 1 file changed, 1 insertion(+)\n",
      "[main 7817ca8b2f] commit 1\n",
      " Date: Fri Jan 3 13:02:41 2025 +0000\n",
      " 1 file changed, 1 insertion(+)\n"
     ]
    },
    {
     "name": "stderr",
     "output_type": "stream",
     "text": [
      "To https://github.com/ahammadmejbah/The-90-Day-PyTorch-Mastery-Roadmap\n",
      "   a469cd92c1..7817ca8b2f  main -> main\n"
     ]
    },
    {
     "name": "stdout",
     "output_type": "stream",
     "text": [
      "branch 'main' set up to track 'origin/main'.\n",
      "[main f3bf36a6e6] commit 1\n",
      " Date: Fri Jan 3 13:02:42 2025 +0000\n",
      " 1 file changed, 1 insertion(+)\n"
     ]
    },
    {
     "name": "stderr",
     "output_type": "stream",
     "text": [
      "To https://github.com/ahammadmejbah/The-90-Day-PyTorch-Mastery-Roadmap\n",
      "   7817ca8b2f..f3bf36a6e6  main -> main\n"
     ]
    },
    {
     "name": "stdout",
     "output_type": "stream",
     "text": [
      "branch 'main' set up to track 'origin/main'.\n",
      "[main 31c2973e13] commit 1\n",
      " Date: Fri Jan 3 13:02:43 2025 +0000\n",
      " 1 file changed, 1 insertion(+)\n",
      "[main 0f0ec6a536] commit 1\n",
      " Date: Fri Jan 3 13:02:43 2025 +0000\n",
      " 1 file changed, 1 insertion(+)\n",
      "[main 93d7e67e44] commit 1\n",
      " Date: Fri Jan 3 13:02:43 2025 +0000\n",
      " 1 file changed, 1 insertion(+)\n"
     ]
    },
    {
     "name": "stderr",
     "output_type": "stream",
     "text": [
      "To https://github.com/ahammadmejbah/The-90-Day-PyTorch-Mastery-Roadmap\n",
      "   f3bf36a6e6..93d7e67e44  main -> main\n"
     ]
    },
    {
     "name": "stdout",
     "output_type": "stream",
     "text": [
      "branch 'main' set up to track 'origin/main'.\n",
      "[main c8e82b9aeb] commit 1\n",
      " Date: Fri Jan 3 13:02:44 2025 +0000\n",
      " 1 file changed, 1 insertion(+)\n",
      "[main 9a8b710cc0] commit 1\n",
      " Date: Fri Jan 3 13:02:44 2025 +0000\n",
      " 1 file changed, 1 insertion(+)\n",
      "[main a12b239eb1] commit 1\n",
      " Date: Fri Jan 3 13:02:44 2025 +0000\n",
      " 1 file changed, 1 insertion(+)\n"
     ]
    },
    {
     "name": "stderr",
     "output_type": "stream",
     "text": [
      "To https://github.com/ahammadmejbah/The-90-Day-PyTorch-Mastery-Roadmap\n",
      "   93d7e67e44..a12b239eb1  main -> main\n"
     ]
    },
    {
     "name": "stdout",
     "output_type": "stream",
     "text": [
      "branch 'main' set up to track 'origin/main'.\n",
      "[main 89f10385bf] commit 1\n",
      " Date: Fri Jan 3 13:02:45 2025 +0000\n",
      " 1 file changed, 1 insertion(+)\n",
      "[main 07f14cc242] commit 1\n",
      " Date: Fri Jan 3 13:02:45 2025 +0000\n",
      " 1 file changed, 1 insertion(+)\n",
      "[main 5062eb7caa] commit 1\n",
      " Date: Fri Jan 3 13:02:45 2025 +0000\n",
      " 1 file changed, 1 insertion(+)\n",
      "[main 3c5481639e] commit 1\n",
      " Date: Fri Jan 3 13:02:45 2025 +0000\n",
      " 1 file changed, 1 insertion(+)\n",
      "[main a05477dd03] commit 1\n",
      " Date: Fri Jan 3 13:02:45 2025 +0000\n",
      " 1 file changed, 1 insertion(+)\n"
     ]
    },
    {
     "name": "stderr",
     "output_type": "stream",
     "text": [
      "To https://github.com/ahammadmejbah/The-90-Day-PyTorch-Mastery-Roadmap\n",
      "   a12b239eb1..a05477dd03  main -> main\n"
     ]
    },
    {
     "name": "stdout",
     "output_type": "stream",
     "text": [
      "branch 'main' set up to track 'origin/main'.\n",
      "[main 58d8780d36] commit 1\n",
      " Date: Fri Jan 3 13:02:46 2025 +0000\n",
      " 1 file changed, 1 insertion(+)\n",
      "[main 9eb006bab6] commit 1\n",
      " Date: Fri Jan 3 13:02:46 2025 +0000\n",
      " 1 file changed, 1 insertion(+)\n",
      "[main 3b2fb0ca8f] commit 1\n",
      " Date: Fri Jan 3 13:02:46 2025 +0000\n",
      " 1 file changed, 1 insertion(+)\n",
      "[main dd005b3c50] commit 1\n",
      " Date: Fri Jan 3 13:02:46 2025 +0000\n",
      " 1 file changed, 1 insertion(+)\n",
      "[main 33d5e7be40] commit 1\n",
      " Date: Fri Jan 3 13:02:46 2025 +0000\n",
      " 1 file changed, 1 insertion(+)\n",
      "[main cfebbfd7cb] commit 1\n",
      " Date: Fri Jan 3 13:02:46 2025 +0000\n",
      " 1 file changed, 1 insertion(+)\n",
      "[main e040f16842] commit 1\n",
      " Date: Fri Jan 3 13:02:46 2025 +0000\n",
      " 1 file changed, 1 insertion(+)\n",
      "[main 451fcb2dbe] commit 1\n",
      " Date: Fri Jan 3 13:02:46 2025 +0000\n",
      " 1 file changed, 1 insertion(+)\n"
     ]
    },
    {
     "name": "stderr",
     "output_type": "stream",
     "text": [
      "To https://github.com/ahammadmejbah/The-90-Day-PyTorch-Mastery-Roadmap\n",
      "   a05477dd03..451fcb2dbe  main -> main\n"
     ]
    },
    {
     "name": "stdout",
     "output_type": "stream",
     "text": [
      "branch 'main' set up to track 'origin/main'.\n",
      "[main 5ddd8c8804] commit 1\n",
      " Date: Fri Jan 3 13:02:47 2025 +0000\n",
      " 1 file changed, 1 insertion(+)\n",
      "[main 220ee57ada] commit 1\n",
      " Date: Fri Jan 3 13:02:47 2025 +0000\n",
      " 1 file changed, 1 insertion(+)\n",
      "[main 4924e9ea03] commit 1\n",
      " Date: Fri Jan 3 13:02:48 2025 +0000\n",
      " 1 file changed, 1 insertion(+)\n",
      "[main 8bf644556e] commit 1\n",
      " Date: Fri Jan 3 13:02:48 2025 +0000\n",
      " 1 file changed, 1 insertion(+)\n",
      "[main 572b11164f] commit 1\n",
      " Date: Fri Jan 3 13:02:48 2025 +0000\n",
      " 1 file changed, 1 insertion(+)\n"
     ]
    },
    {
     "name": "stderr",
     "output_type": "stream",
     "text": [
      "To https://github.com/ahammadmejbah/The-90-Day-PyTorch-Mastery-Roadmap\n",
      "   451fcb2dbe..572b11164f  main -> main\n"
     ]
    },
    {
     "name": "stdout",
     "output_type": "stream",
     "text": [
      "branch 'main' set up to track 'origin/main'.\n",
      "[main cd6556d1b0] commit 1\n",
      " Date: Fri Jan 3 13:02:49 2025 +0000\n",
      " 1 file changed, 1 insertion(+)\n",
      "[main 5af003de6e] commit 1\n",
      " Date: Fri Jan 3 13:02:49 2025 +0000\n",
      " 1 file changed, 1 insertion(+)\n",
      "[main b7b0a2a036] commit 1\n",
      " Date: Fri Jan 3 13:02:49 2025 +0000\n",
      " 1 file changed, 1 insertion(+)\n",
      "[main 3cd49d566c] commit 1\n",
      " Date: Fri Jan 3 13:02:49 2025 +0000\n",
      " 1 file changed, 1 insertion(+)\n",
      "[main 3af3becb5a] commit 1\n",
      " Date: Fri Jan 3 13:02:49 2025 +0000\n",
      " 1 file changed, 1 insertion(+)\n",
      "[main 6831b8d894] commit 1\n",
      " Date: Fri Jan 3 13:02:49 2025 +0000\n",
      " 1 file changed, 1 insertion(+)\n"
     ]
    },
    {
     "name": "stderr",
     "output_type": "stream",
     "text": [
      "To https://github.com/ahammadmejbah/The-90-Day-PyTorch-Mastery-Roadmap\n",
      "   572b11164f..6831b8d894  main -> main\n"
     ]
    },
    {
     "name": "stdout",
     "output_type": "stream",
     "text": [
      "branch 'main' set up to track 'origin/main'.\n",
      "[main a49772f771] commit 1\n",
      " Date: Fri Jan 3 13:02:50 2025 +0000\n",
      " 1 file changed, 1 insertion(+)\n",
      "[main 201512309e] commit 1\n",
      " Date: Fri Jan 3 13:02:50 2025 +0000\n",
      " 1 file changed, 1 insertion(+)\n",
      "[main c33d7f01f1] commit 1\n",
      " Date: Fri Jan 3 13:02:50 2025 +0000\n",
      " 1 file changed, 1 insertion(+)\n",
      "[main 6d27f603ce] commit 1\n",
      " Date: Fri Jan 3 13:02:50 2025 +0000\n",
      " 1 file changed, 1 insertion(+)\n",
      "[main 9127d5ffe9] commit 1\n",
      " Date: Fri Jan 3 13:02:50 2025 +0000\n",
      " 1 file changed, 1 insertion(+)\n",
      "[main 32c46c2fae] commit 1\n",
      " Date: Fri Jan 3 13:02:50 2025 +0000\n",
      " 1 file changed, 1 insertion(+)\n",
      "[main 114435d2d0] commit 1\n",
      " Date: Fri Jan 3 13:02:50 2025 +0000\n",
      " 1 file changed, 1 insertion(+)\n",
      "[main b7e6e17431] commit 1\n",
      " Date: Fri Jan 3 13:02:50 2025 +0000\n",
      " 1 file changed, 1 insertion(+)\n",
      "[main a5f43df06a] commit 1\n",
      " Date: Fri Jan 3 13:02:50 2025 +0000\n",
      " 1 file changed, 1 insertion(+)\n",
      "[main 8f5349cd72] commit 1\n",
      " Date: Fri Jan 3 13:02:50 2025 +0000\n",
      " 1 file changed, 1 insertion(+)\n"
     ]
    },
    {
     "name": "stderr",
     "output_type": "stream",
     "text": [
      "To https://github.com/ahammadmejbah/The-90-Day-PyTorch-Mastery-Roadmap\n",
      "   6831b8d894..8f5349cd72  main -> main\n"
     ]
    },
    {
     "name": "stdout",
     "output_type": "stream",
     "text": [
      "branch 'main' set up to track 'origin/main'.\n",
      "[main 6aadf80247] commit 1\n",
      " Date: Fri Jan 3 13:02:51 2025 +0000\n",
      " 1 file changed, 1 insertion(+)\n",
      "[main 1cbedf0b7d] commit 1\n",
      " Date: Fri Jan 3 13:02:51 2025 +0000\n",
      " 1 file changed, 1 insertion(+)\n",
      "[main 32ee4d55cf] commit 1\n",
      " Date: Fri Jan 3 13:02:51 2025 +0000\n",
      " 1 file changed, 1 insertion(+)\n",
      "[main af45a0faec] commit 1\n",
      " Date: Fri Jan 3 13:02:51 2025 +0000\n",
      " 1 file changed, 1 insertion(+)\n",
      "[main d29caa43cc] commit 1\n",
      " Date: Fri Jan 3 13:02:51 2025 +0000\n",
      " 1 file changed, 1 insertion(+)\n",
      "[main c1ce59e128] commit 1\n",
      " Date: Fri Jan 3 13:02:51 2025 +0000\n",
      " 1 file changed, 1 insertion(+)\n",
      "[main 0bc9ce04e5] commit 1\n",
      " Date: Fri Jan 3 13:02:51 2025 +0000\n",
      " 1 file changed, 1 insertion(+)\n",
      "[main d15977508f] commit 1\n",
      " Date: Fri Jan 3 13:02:51 2025 +0000\n",
      " 1 file changed, 1 insertion(+)\n",
      "[main 61d5a739db] commit 1\n",
      " Date: Fri Jan 3 13:02:51 2025 +0000\n",
      " 1 file changed, 1 insertion(+)\n",
      "[main c104d95bad] commit 1\n",
      " Date: Fri Jan 3 13:02:51 2025 +0000\n",
      " 1 file changed, 1 insertion(+)\n"
     ]
    },
    {
     "name": "stderr",
     "output_type": "stream",
     "text": [
      "To https://github.com/ahammadmejbah/The-90-Day-PyTorch-Mastery-Roadmap\n",
      "   8f5349cd72..c104d95bad  main -> main\n"
     ]
    },
    {
     "name": "stdout",
     "output_type": "stream",
     "text": [
      "branch 'main' set up to track 'origin/main'.\n",
      "[main 087d288118] commit 1\n",
      " Date: Fri Jan 3 13:02:52 2025 +0000\n",
      " 1 file changed, 1 insertion(+)\n"
     ]
    },
    {
     "name": "stderr",
     "output_type": "stream",
     "text": [
      "To https://github.com/ahammadmejbah/The-90-Day-PyTorch-Mastery-Roadmap\n",
      "   c104d95bad..087d288118  main -> main\n"
     ]
    },
    {
     "name": "stdout",
     "output_type": "stream",
     "text": [
      "branch 'main' set up to track 'origin/main'.\n",
      "[main 93464436b1] commit 1\n",
      " Date: Fri Jan 3 13:02:53 2025 +0000\n",
      " 1 file changed, 1 insertion(+)\n"
     ]
    },
    {
     "name": "stderr",
     "output_type": "stream",
     "text": [
      "To https://github.com/ahammadmejbah/The-90-Day-PyTorch-Mastery-Roadmap\n",
      "   087d288118..93464436b1  main -> main\n"
     ]
    },
    {
     "name": "stdout",
     "output_type": "stream",
     "text": [
      "branch 'main' set up to track 'origin/main'.\n",
      "[main 2fc2170734] commit 1\n",
      " Date: Fri Jan 3 13:02:54 2025 +0000\n",
      " 1 file changed, 1 insertion(+)\n",
      "[main 4f698e4fc1] commit 1\n",
      " Date: Fri Jan 3 13:02:54 2025 +0000\n",
      " 1 file changed, 1 insertion(+)\n",
      "[main 515dfd2f8b] commit 1\n",
      " Date: Fri Jan 3 13:02:54 2025 +0000\n",
      " 1 file changed, 1 insertion(+)\n",
      "[main 3ce4ff9f90] commit 1\n",
      " Date: Fri Jan 3 13:02:54 2025 +0000\n",
      " 1 file changed, 1 insertion(+)\n",
      "[main c1a5a6e479] commit 1\n",
      " Date: Fri Jan 3 13:02:55 2025 +0000\n",
      " 1 file changed, 1 insertion(+)\n",
      "[main 07209163e9] commit 1\n",
      " Date: Fri Jan 3 13:02:55 2025 +0000\n",
      " 1 file changed, 1 insertion(+)\n",
      "[main 21b40819ab] commit 1\n",
      " Date: Fri Jan 3 13:02:55 2025 +0000\n",
      " 1 file changed, 1 insertion(+)\n",
      "[main 55ca6a9820] commit 1\n",
      " Date: Fri Jan 3 13:02:55 2025 +0000\n",
      " 1 file changed, 1 insertion(+)\n"
     ]
    },
    {
     "name": "stderr",
     "output_type": "stream",
     "text": [
      "To https://github.com/ahammadmejbah/The-90-Day-PyTorch-Mastery-Roadmap\n",
      "   93464436b1..55ca6a9820  main -> main\n"
     ]
    },
    {
     "name": "stdout",
     "output_type": "stream",
     "text": [
      "branch 'main' set up to track 'origin/main'.\n",
      "[main 4d60dccc2d] commit 1\n",
      " Date: Fri Jan 3 13:02:56 2025 +0000\n",
      " 1 file changed, 1 insertion(+)\n",
      "[main 63a2b9d806] commit 1\n",
      " Date: Fri Jan 3 13:02:56 2025 +0000\n",
      " 1 file changed, 1 insertion(+)\n",
      "[main 6907578f95] commit 1\n",
      " Date: Fri Jan 3 13:02:56 2025 +0000\n",
      " 1 file changed, 1 insertion(+)\n",
      "[main 0bc3426aac] commit 1\n",
      " Date: Fri Jan 3 13:02:56 2025 +0000\n",
      " 1 file changed, 1 insertion(+)\n",
      "[main 04ab3d1ec2] commit 1\n",
      " Date: Fri Jan 3 13:02:56 2025 +0000\n",
      " 1 file changed, 1 insertion(+)\n",
      "[main ccb9277a8a] commit 1\n",
      " Date: Fri Jan 3 13:02:56 2025 +0000\n",
      " 1 file changed, 1 insertion(+)\n",
      "[main 3b8d8a380e] commit 1\n",
      " Date: Fri Jan 3 13:02:56 2025 +0000\n",
      " 1 file changed, 1 insertion(+)\n",
      "[main e8a619aa86] commit 1\n",
      " Date: Fri Jan 3 13:02:56 2025 +0000\n",
      " 1 file changed, 1 insertion(+)\n",
      "[main 0ae46c5116] commit 1\n",
      " Date: Fri Jan 3 13:02:56 2025 +0000\n",
      " 1 file changed, 1 insertion(+)\n",
      "[main 4d9e88eda7] commit 1\n",
      " Date: Fri Jan 3 13:02:56 2025 +0000\n",
      " 1 file changed, 1 insertion(+)\n"
     ]
    },
    {
     "name": "stderr",
     "output_type": "stream",
     "text": [
      "To https://github.com/ahammadmejbah/The-90-Day-PyTorch-Mastery-Roadmap\n",
      "   55ca6a9820..4d9e88eda7  main -> main\n"
     ]
    },
    {
     "name": "stdout",
     "output_type": "stream",
     "text": [
      "branch 'main' set up to track 'origin/main'.\n",
      "[main fc917c2fa8] commit 1\n",
      " Date: Fri Jan 3 13:02:57 2025 +0000\n",
      " 1 file changed, 1 insertion(+)\n",
      "[main 0a43545aa7] commit 1\n",
      " Date: Fri Jan 3 13:02:57 2025 +0000\n",
      " 1 file changed, 1 insertion(+)\n",
      "[main fce12e2a11] commit 1\n",
      " Date: Fri Jan 3 13:02:57 2025 +0000\n",
      " 1 file changed, 1 insertion(+)\n",
      "[main 73b2eafd40] commit 1\n",
      " Date: Fri Jan 3 13:02:57 2025 +0000\n",
      " 1 file changed, 1 insertion(+)\n",
      "[main 13cf73b32c] commit 1\n",
      " Date: Fri Jan 3 13:02:57 2025 +0000\n",
      " 1 file changed, 1 insertion(+)\n",
      "[main cec932b735] commit 1\n",
      " Date: Fri Jan 3 13:02:57 2025 +0000\n",
      " 1 file changed, 1 insertion(+)\n",
      "[main 79c5afd948] commit 1\n",
      " Date: Fri Jan 3 13:02:57 2025 +0000\n",
      " 1 file changed, 1 insertion(+)\n"
     ]
    },
    {
     "name": "stderr",
     "output_type": "stream",
     "text": [
      "To https://github.com/ahammadmejbah/The-90-Day-PyTorch-Mastery-Roadmap\n",
      "   4d9e88eda7..79c5afd948  main -> main\n"
     ]
    },
    {
     "name": "stdout",
     "output_type": "stream",
     "text": [
      "branch 'main' set up to track 'origin/main'.\n",
      "[main 0f02b69704] commit 1\n",
      " Date: Fri Jan 3 13:02:58 2025 +0000\n",
      " 1 file changed, 1 insertion(+)\n",
      "[main 935645b4c2] commit 1\n",
      " Date: Fri Jan 3 13:02:58 2025 +0000\n",
      " 1 file changed, 1 insertion(+)\n",
      "[main d839dea7be] commit 1\n",
      " Date: Fri Jan 3 13:02:58 2025 +0000\n",
      " 1 file changed, 1 insertion(+)\n",
      "[main 75c27cb151] commit 1\n",
      " Date: Fri Jan 3 13:02:58 2025 +0000\n",
      " 1 file changed, 1 insertion(+)\n",
      "[main 86049b89db] commit 1\n",
      " Date: Fri Jan 3 13:02:58 2025 +0000\n",
      " 1 file changed, 1 insertion(+)\n",
      "[main 1578e28373] commit 1\n",
      " Date: Fri Jan 3 13:02:58 2025 +0000\n",
      " 1 file changed, 1 insertion(+)\n",
      "[main 95fb7ea5bd] commit 1\n",
      " Date: Fri Jan 3 13:02:58 2025 +0000\n",
      " 1 file changed, 1 insertion(+)\n",
      "[main b2e53f8eb2] commit 1\n",
      " Date: Fri Jan 3 13:02:58 2025 +0000\n",
      " 1 file changed, 1 insertion(+)\n",
      "[main cfb90785a1] commit 1\n",
      " Date: Fri Jan 3 13:02:58 2025 +0000\n",
      " 1 file changed, 1 insertion(+)\n",
      "[main 172021949f] commit 1\n",
      " Date: Fri Jan 3 13:02:58 2025 +0000\n",
      " 1 file changed, 1 insertion(+)\n"
     ]
    },
    {
     "name": "stderr",
     "output_type": "stream",
     "text": [
      "To https://github.com/ahammadmejbah/The-90-Day-PyTorch-Mastery-Roadmap\n",
      "   79c5afd948..172021949f  main -> main\n"
     ]
    },
    {
     "name": "stdout",
     "output_type": "stream",
     "text": [
      "branch 'main' set up to track 'origin/main'.\n",
      "[main 3576de8748] commit 1\n",
      " Date: Fri Jan 3 13:02:59 2025 +0000\n",
      " 1 file changed, 1 insertion(+)\n",
      "[main 64dad494e2] commit 1\n",
      " Date: Fri Jan 3 13:02:59 2025 +0000\n",
      " 1 file changed, 1 insertion(+)\n",
      "[main b80ad07714] commit 1\n",
      " Date: Fri Jan 3 13:02:59 2025 +0000\n",
      " 1 file changed, 1 insertion(+)\n",
      "[main bedfc5be1d] commit 1\n",
      " Date: Fri Jan 3 13:02:59 2025 +0000\n",
      " 1 file changed, 1 insertion(+)\n",
      "[main 86498afe52] commit 1\n",
      " Date: Fri Jan 3 13:02:59 2025 +0000\n",
      " 1 file changed, 1 insertion(+)\n",
      "[main ddfec384d3] commit 1\n",
      " Date: Fri Jan 3 13:03:00 2025 +0000\n",
      " 1 file changed, 1 insertion(+)\n",
      "[main 764fcdae7c] commit 1\n",
      " Date: Fri Jan 3 13:03:00 2025 +0000\n",
      " 1 file changed, 1 insertion(+)\n",
      "[main acdc57cf38] commit 1\n",
      " Date: Fri Jan 3 13:03:00 2025 +0000\n",
      " 1 file changed, 1 insertion(+)\n",
      "[main f0d60c0404] commit 1\n",
      " Date: Fri Jan 3 13:03:00 2025 +0000\n",
      " 1 file changed, 1 insertion(+)\n",
      "[main 6b569ba819] commit 1\n",
      " Date: Fri Jan 3 13:03:00 2025 +0000\n",
      " 1 file changed, 1 insertion(+)\n"
     ]
    },
    {
     "name": "stderr",
     "output_type": "stream",
     "text": [
      "To https://github.com/ahammadmejbah/The-90-Day-PyTorch-Mastery-Roadmap\n",
      "   172021949f..6b569ba819  main -> main\n"
     ]
    },
    {
     "name": "stdout",
     "output_type": "stream",
     "text": [
      "branch 'main' set up to track 'origin/main'.\n",
      "[main d1ab6bc19c] commit 1\n",
      " Date: Fri Jan 3 13:03:01 2025 +0000\n",
      " 1 file changed, 1 insertion(+)\n",
      "[main 92adef067f] commit 1\n",
      " Date: Fri Jan 3 13:03:01 2025 +0000\n",
      " 1 file changed, 1 insertion(+)\n",
      "[main 78984b849e] commit 1\n",
      " Date: Fri Jan 3 13:03:01 2025 +0000\n",
      " 1 file changed, 1 insertion(+)\n",
      "[main 1c60ad77f0] commit 1\n",
      " Date: Fri Jan 3 13:03:01 2025 +0000\n",
      " 1 file changed, 1 insertion(+)\n",
      "[main 80a8f67567] commit 1\n",
      " Date: Fri Jan 3 13:03:01 2025 +0000\n",
      " 1 file changed, 1 insertion(+)\n"
     ]
    },
    {
     "name": "stderr",
     "output_type": "stream",
     "text": [
      "To https://github.com/ahammadmejbah/The-90-Day-PyTorch-Mastery-Roadmap\n",
      "   6b569ba819..80a8f67567  main -> main\n"
     ]
    },
    {
     "name": "stdout",
     "output_type": "stream",
     "text": [
      "branch 'main' set up to track 'origin/main'.\n",
      "[main 3a66442566] commit 1\n",
      " Date: Fri Jan 3 13:03:02 2025 +0000\n",
      " 1 file changed, 1 insertion(+)\n",
      "[main bdee0f57f6] commit 1\n",
      " Date: Fri Jan 3 13:03:02 2025 +0000\n",
      " 1 file changed, 1 insertion(+)\n",
      "[main 2ecc54fec8] commit 1\n",
      " Date: Fri Jan 3 13:03:02 2025 +0000\n",
      " 1 file changed, 1 insertion(+)\n",
      "[main a6e26d6d03] commit 1\n",
      " Date: Fri Jan 3 13:03:02 2025 +0000\n",
      " 1 file changed, 1 insertion(+)\n",
      "[main e52e8c0961] commit 1\n",
      " Date: Fri Jan 3 13:03:02 2025 +0000\n",
      " 1 file changed, 1 insertion(+)\n",
      "[main 3c5a38f8d8] commit 1\n",
      " Date: Fri Jan 3 13:03:02 2025 +0000\n",
      " 1 file changed, 1 insertion(+)\n",
      "[main 5e52b54bf7] commit 1\n",
      " Date: Fri Jan 3 13:03:02 2025 +0000\n",
      " 1 file changed, 1 insertion(+)\n",
      "[main ff40d812ec] commit 1\n",
      " Date: Fri Jan 3 13:03:02 2025 +0000\n",
      " 1 file changed, 1 insertion(+)\n"
     ]
    },
    {
     "name": "stderr",
     "output_type": "stream",
     "text": [
      "To https://github.com/ahammadmejbah/The-90-Day-PyTorch-Mastery-Roadmap\n",
      "   80a8f67567..ff40d812ec  main -> main\n"
     ]
    },
    {
     "name": "stdout",
     "output_type": "stream",
     "text": [
      "branch 'main' set up to track 'origin/main'.\n",
      "[main 0fba472a2c] commit 1\n",
      " Date: Fri Jan 3 13:03:03 2025 +0000\n",
      " 1 file changed, 1 insertion(+)\n"
     ]
    },
    {
     "name": "stderr",
     "output_type": "stream",
     "text": [
      "To https://github.com/ahammadmejbah/The-90-Day-PyTorch-Mastery-Roadmap\n",
      "   ff40d812ec..0fba472a2c  main -> main\n"
     ]
    },
    {
     "name": "stdout",
     "output_type": "stream",
     "text": [
      "branch 'main' set up to track 'origin/main'.\n",
      "[main a4cc20d2e1] commit 1\n",
      " Date: Fri Jan 3 13:03:04 2025 +0000\n",
      " 1 file changed, 1 insertion(+)\n",
      "[main 286e9233eb] commit 1\n",
      " Date: Fri Jan 3 13:03:04 2025 +0000\n",
      " 1 file changed, 1 insertion(+)\n",
      "[main 518548ddcb] commit 1\n",
      " Date: Fri Jan 3 13:03:04 2025 +0000\n",
      " 1 file changed, 1 insertion(+)\n"
     ]
    },
    {
     "name": "stderr",
     "output_type": "stream",
     "text": [
      "To https://github.com/ahammadmejbah/The-90-Day-PyTorch-Mastery-Roadmap\n",
      "   0fba472a2c..518548ddcb  main -> main\n"
     ]
    },
    {
     "name": "stdout",
     "output_type": "stream",
     "text": [
      "branch 'main' set up to track 'origin/main'.\n",
      "[main 82c1711bff] commit 1\n",
      " Date: Fri Jan 3 13:03:05 2025 +0000\n",
      " 1 file changed, 1 insertion(+)\n",
      "[main 77c65ada17] commit 1\n",
      " Date: Fri Jan 3 13:03:05 2025 +0000\n",
      " 1 file changed, 1 insertion(+)\n"
     ]
    },
    {
     "name": "stderr",
     "output_type": "stream",
     "text": [
      "To https://github.com/ahammadmejbah/The-90-Day-PyTorch-Mastery-Roadmap\n",
      "   518548ddcb..77c65ada17  main -> main\n"
     ]
    },
    {
     "name": "stdout",
     "output_type": "stream",
     "text": [
      "branch 'main' set up to track 'origin/main'.\n",
      "[main 5a7adc1b2b] commit 1\n",
      " Date: Fri Jan 3 13:03:06 2025 +0000\n",
      " 1 file changed, 1 insertion(+)\n",
      "[main beef33e93c] commit 1\n",
      " Date: Fri Jan 3 13:03:06 2025 +0000\n",
      " 1 file changed, 1 insertion(+)\n",
      "branch 'main' set up to track 'origin/main'.\n"
     ]
    },
    {
     "name": "stderr",
     "output_type": "stream",
     "text": [
      "To https://github.com/ahammadmejbah/The-90-Day-PyTorch-Mastery-Roadmap\n",
      "   77c65ada17..beef33e93c  main -> main\n"
     ]
    }
   ],
   "source": [
    "import os\n",
    "from random import randint\n",
    "\n",
    "for i in range(100):\n",
    "    for i in range(1, 2):\n",
    "        commit_count = randint(1, 10)\n",
    "        for _ in range(commit_count):\n",
    "            d = f\"{i} days ago\"\n",
    "            with open('file.txt', 'a') as file:\n",
    "                file.write(d + \"\\n\")  # Added newline for readability\n",
    "\n",
    "            os.system('git add .')\n",
    "            # Use proper date formatting for Git\n",
    "            commit_date = f\"{i} days ago\"\n",
    "            os.system(f'git commit --date=\"{commit_date}\" -m \"commit {i}\"')\n",
    "\n",
    "        # Ensure the final push uses standard spaces\n",
    "    os.system('git push -u origin main')"
   ]
  },
  {
   "cell_type": "code",
   "execution_count": null,
   "metadata": {},
   "outputs": [],
   "source": []
  }
 ],
 "metadata": {
  "kernelspec": {
   "display_name": "Python 3",
   "language": "python",
   "name": "python3"
  },
  "language_info": {
   "codemirror_mode": {
    "name": "ipython",
    "version": 3
   },
   "file_extension": ".py",
   "mimetype": "text/x-python",
   "name": "python",
   "nbconvert_exporter": "python",
   "pygments_lexer": "ipython3",
   "version": "3.12.1"
  }
 },
 "nbformat": 4,
 "nbformat_minor": 2
}
