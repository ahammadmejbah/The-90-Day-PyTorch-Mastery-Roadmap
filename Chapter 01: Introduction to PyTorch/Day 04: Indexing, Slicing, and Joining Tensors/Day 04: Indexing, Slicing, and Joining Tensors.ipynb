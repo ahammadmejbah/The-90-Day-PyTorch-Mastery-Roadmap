{
 "cells": [
  {
   "cell_type": "markdown",
   "metadata": {},
   "source": [
    "### **Day 4: Indexing, Slicing, and Joining Tensors**\n",
    "\n",
    "Welcome to **Day 4** of your **90-Day PyTorch Mastery Plan**! Today, we delve into the essential skills of **Indexing, Slicing, and Joining Tensors**. Mastering these operations is crucial for data manipulation, preprocessing, and preparing inputs for neural networks. Through comprehensive explanations and extensive code examples, you'll gain the proficiency needed to handle tensors efficiently in various deep learning tasks.\n",
    "\n",
    "---\n",
    "\n",
    "## 📑 **Table of Contents**\n",
    "1. [Topics Overview](#1-topics-overview)\n",
    "2. [Indexing and Slicing Tensors](#2-indexing-and-slicing-tensors)\n",
    "    - [2.1. Basic Indexing](#21-basic-indexing)\n",
    "    - [2.2. Advanced Indexing](#22-advanced-indexing)\n",
    "    - [2.3. Slicing Tensors](#23-slicing-tensors)\n",
    "    - [2.4. Boolean Indexing](#24-boolean-indexing)\n",
    "    - [2.5. Fancy Indexing](#25-fancy-indexing)\n",
    "3. [Joining and Splitting Tensors](#3-joining-and-splitting-tensors)\n",
    "    - [3.1. Concatenation with `torch.cat`](#31-concatenation-with-torchcat)\n",
    "    - [3.2. Stacking with `torch.stack`](#32-stacking-with-torchstack)\n",
    "    - [3.3. Splitting with `torch.split`](#33-splitting-with-torchspl)\n",
    "    - [3.4. Other Joining Functions](#34-other-joining-functions)\n",
    "4. [Practical Activities](#4-practical-activities)\n",
    "    - [4.1. Practicing Indexing and Slicing](#41-practicing-indexing-and-slicing)\n",
    "    - [4.2. Exploring Joining Functions](#42-exploring-joining-functions)\n",
    "    - [4.3. Combining Indexing, Slicing, and Joining](#43-combining-indexing-slicing-and-joining)\n",
    "5. [Resources](#5-resources)\n",
    "6. [Learning Objectives](#6-learning-objectives)\n",
    "7. [Expected Outcomes](#7-expected-outcomes)\n",
    "8. [Tips for Success](#8-tips-for-success)\n",
    "9. [Advanced Tips and Best Practices](#9-advanced-tips-and-best-practices)\n",
    "10. [Comprehensive Summary](#10-comprehensive-summary)\n",
    "11. [Moving Forward](#11-moving-forward)\n",
    "12. [Final Encouragement](#12-final-encouragement)\n",
    "\n",
    "---\n",
    "\n",
    "## 1. Topics Overview\n",
    "\n",
    "### **Indexing and Slicing Tensors**\n",
    "Indexing and slicing are fundamental operations that allow you to access and manipulate specific elements or sub-tensors within a larger tensor. These operations are analogous to indexing and slicing in Python lists and NumPy arrays but come with additional capabilities tailored for deep learning workflows.\n",
    "\n",
    "### **Joining and Splitting Tensors**\n",
    "Joining tensors involves combining multiple tensors into a single tensor, while splitting tensors refers to dividing a tensor into smaller tensors. These operations are essential for tasks such as batch processing, data augmentation, and preparing inputs for neural network layers.\n",
    "\n",
    "---\n",
    "\n",
    "## 2. Indexing and Slicing Tensors\n",
    "\n",
    "### 2.1. Basic Indexing\n",
    "\n",
    "**Definition:**\n",
    "Basic indexing allows you to access individual elements or subsets of elements within a tensor using their indices."
   ]
  },
  {
   "cell_type": "code",
   "execution_count": null,
   "metadata": {},
   "outputs": [
    {
     "name": "stdout",
     "output_type": "stream",
     "text": [
      "[main 4845bbd64a] commit 1\n",
      " Date: Thu Jan 2 11:39:16 2025 +0000\n",
      " 2 files changed, 53 insertions(+), 1 deletion(-)\n",
      "[main c8ac3d0c54] commit 1\n",
      " Date: Thu Jan 2 11:39:16 2025 +0000\n",
      " 1 file changed, 1 insertion(+)\n",
      "[main b7783147a8] commit 1\n",
      " Date: Thu Jan 2 11:39:16 2025 +0000\n",
      " 1 file changed, 1 insertion(+)\n",
      "[main 058b08b570] commit 1\n",
      " Date: Thu Jan 2 11:39:16 2025 +0000\n",
      " 1 file changed, 1 insertion(+)\n",
      "[main 1fd87277b0] commit 1\n",
      " Date: Thu Jan 2 11:39:16 2025 +0000\n",
      " 1 file changed, 1 insertion(+)\n",
      "[main 8b49f37dbd] commit 1\n",
      " Date: Thu Jan 2 11:39:16 2025 +0000\n",
      " 1 file changed, 1 insertion(+)\n"
     ]
    },
    {
     "name": "stderr",
     "output_type": "stream",
     "text": [
      "To https://github.com/ahammadmejbah/The-90-Day-PyTorch-Mastery-Roadmap\n",
      "   366830b8aa..8b49f37dbd  main -> main\n"
     ]
    },
    {
     "name": "stdout",
     "output_type": "stream",
     "text": [
      "branch 'main' set up to track 'origin/main'.\n",
      "[main 78a3006eb2] commit 1\n",
      " Date: Thu Jan 2 11:39:17 2025 +0000\n",
      " 2 files changed, 2 insertions(+), 1 deletion(-)\n",
      "[main c4b243e752] commit 1\n",
      " Date: Thu Jan 2 11:39:17 2025 +0000\n",
      " 1 file changed, 1 insertion(+)\n"
     ]
    },
    {
     "name": "stderr",
     "output_type": "stream",
     "text": [
      "To https://github.com/ahammadmejbah/The-90-Day-PyTorch-Mastery-Roadmap\n",
      "   8b49f37dbd..c4b243e752  main -> main\n"
     ]
    },
    {
     "name": "stdout",
     "output_type": "stream",
     "text": [
      "branch 'main' set up to track 'origin/main'.\n",
      "[main d468e7ef89] commit 1\n",
      " Date: Thu Jan 2 11:39:18 2025 +0000\n",
      " 2 files changed, 15 insertions(+), 320 deletions(-)\n",
      "[main a0edcf6e14] commit 1\n",
      " Date: Thu Jan 2 11:39:18 2025 +0000\n",
      " 1 file changed, 1 insertion(+)\n",
      "[main 18b486a8dc] commit 1\n",
      " Date: Thu Jan 2 11:39:18 2025 +0000\n",
      " 1 file changed, 1 insertion(+)\n",
      "[main c298bf303a] commit 1\n",
      " Date: Thu Jan 2 11:39:18 2025 +0000\n",
      " 1 file changed, 1 insertion(+)\n",
      "[main 622b0580b8] commit 1\n",
      " Date: Thu Jan 2 11:39:18 2025 +0000\n",
      " 1 file changed, 1 insertion(+)\n"
     ]
    },
    {
     "name": "stderr",
     "output_type": "stream",
     "text": [
      "To https://github.com/ahammadmejbah/The-90-Day-PyTorch-Mastery-Roadmap\n",
      "   c4b243e752..622b0580b8  main -> main\n"
     ]
    },
    {
     "name": "stdout",
     "output_type": "stream",
     "text": [
      "branch 'main' set up to track 'origin/main'.\n",
      "[main 1637337be2] commit 1\n",
      " Date: Thu Jan 2 11:39:19 2025 +0000\n",
      " 2 files changed, 52 insertions(+)\n",
      "[main 2baef2cf24] commit 1\n",
      " Date: Thu Jan 2 11:39:19 2025 +0000\n",
      " 1 file changed, 1 insertion(+)\n",
      "[main 9e0e7ea10b] commit 1\n",
      " Date: Thu Jan 2 11:39:19 2025 +0000\n",
      " 1 file changed, 1 insertion(+)\n",
      "[main 539acafad5] commit 1\n",
      " Date: Thu Jan 2 11:39:19 2025 +0000\n",
      " 1 file changed, 1 insertion(+)\n",
      "[main 4ea963be81] commit 1\n",
      " Date: Thu Jan 2 11:39:19 2025 +0000\n",
      " 1 file changed, 1 insertion(+)\n",
      "[main 9c7ce5ba84] commit 1\n",
      " Date: Thu Jan 2 11:39:19 2025 +0000\n",
      " 1 file changed, 1 insertion(+)\n"
     ]
    },
    {
     "name": "stderr",
     "output_type": "stream",
     "text": [
      "To https://github.com/ahammadmejbah/The-90-Day-PyTorch-Mastery-Roadmap\n",
      "   622b0580b8..9c7ce5ba84  main -> main\n"
     ]
    },
    {
     "name": "stdout",
     "output_type": "stream",
     "text": [
      "branch 'main' set up to track 'origin/main'.\n",
      "[main 4facc483d6] commit 1\n",
      " Date: Thu Jan 2 11:39:20 2025 +0000\n",
      " 1 file changed, 1 insertion(+)\n",
      "[main 93915869b9] commit 1\n",
      " Date: Thu Jan 2 11:39:20 2025 +0000\n",
      " 1 file changed, 1 insertion(+)\n",
      "[main 816f7dc8a3] commit 1\n",
      " Date: Thu Jan 2 11:39:20 2025 +0000\n",
      " 1 file changed, 1 insertion(+)\n",
      "[main a9d6bab643] commit 1\n",
      " Date: Thu Jan 2 11:39:20 2025 +0000\n",
      " 1 file changed, 1 insertion(+)\n",
      "[main 0a4bcc21c2] commit 1\n",
      " Date: Thu Jan 2 11:39:20 2025 +0000\n",
      " 1 file changed, 1 insertion(+)\n",
      "[main 8a17be763d] commit 1\n",
      " Date: Thu Jan 2 11:39:20 2025 +0000\n",
      " 1 file changed, 1 insertion(+)\n",
      "[main 3b1e9a913a] commit 1\n",
      " Date: Thu Jan 2 11:39:20 2025 +0000\n",
      " 1 file changed, 1 insertion(+)\n",
      "[main f4b9cdd11a] commit 1\n",
      " Date: Thu Jan 2 11:39:20 2025 +0000\n",
      " 1 file changed, 1 insertion(+)\n",
      "[main 5dd3faa3b4] commit 1\n",
      " Date: Thu Jan 2 11:39:20 2025 +0000\n",
      " 1 file changed, 1 insertion(+)\n"
     ]
    },
    {
     "name": "stderr",
     "output_type": "stream",
     "text": [
      "To https://github.com/ahammadmejbah/The-90-Day-PyTorch-Mastery-Roadmap\n",
      "   9c7ce5ba84..5dd3faa3b4  main -> main\n"
     ]
    },
    {
     "name": "stdout",
     "output_type": "stream",
     "text": [
      "branch 'main' set up to track 'origin/main'.\n",
      "[main d6548f6d50] commit 1\n",
      " Date: Thu Jan 2 11:39:22 2025 +0000\n",
      " 2 files changed, 76 insertions(+)\n",
      "[main 13909fc089] commit 1\n",
      " Date: Thu Jan 2 11:39:22 2025 +0000\n",
      " 1 file changed, 1 insertion(+)\n",
      "[main 522f5c2f62] commit 1\n",
      " Date: Thu Jan 2 11:39:22 2025 +0000\n",
      " 1 file changed, 1 insertion(+)\n"
     ]
    },
    {
     "name": "stderr",
     "output_type": "stream",
     "text": [
      "To https://github.com/ahammadmejbah/The-90-Day-PyTorch-Mastery-Roadmap\n",
      "   5dd3faa3b4..522f5c2f62  main -> main\n"
     ]
    },
    {
     "name": "stdout",
     "output_type": "stream",
     "text": [
      "branch 'main' set up to track 'origin/main'.\n",
      "[main 306dc0f06a] commit 1\n",
      " Date: Thu Jan 2 11:39:23 2025 +0000\n",
      " 1 file changed, 1 insertion(+)\n",
      "[main 6bc2fd4a20] commit 1\n",
      " Date: Thu Jan 2 11:39:23 2025 +0000\n",
      " 1 file changed, 1 insertion(+)\n",
      "[main 6cb2610f78] commit 1\n",
      " Date: Thu Jan 2 11:39:23 2025 +0000\n",
      " 1 file changed, 1 insertion(+)\n",
      "[main feffecbaf7] commit 1\n",
      " Date: Thu Jan 2 11:39:23 2025 +0000\n",
      " 1 file changed, 1 insertion(+)\n",
      "[main 72e142f1c4] commit 1\n",
      " Date: Thu Jan 2 11:39:23 2025 +0000\n",
      " 1 file changed, 1 insertion(+)\n",
      "[main 912675d60c] commit 1\n",
      " Date: Thu Jan 2 11:39:23 2025 +0000\n",
      " 1 file changed, 1 insertion(+)\n"
     ]
    },
    {
     "name": "stderr",
     "output_type": "stream",
     "text": [
      "To https://github.com/ahammadmejbah/The-90-Day-PyTorch-Mastery-Roadmap\n",
      "   522f5c2f62..912675d60c  main -> main\n"
     ]
    },
    {
     "name": "stdout",
     "output_type": "stream",
     "text": [
      "branch 'main' set up to track 'origin/main'.\n",
      "[main 1ea18348f8] commit 1\n",
      " Date: Thu Jan 2 11:39:24 2025 +0000\n",
      " 2 files changed, 58 insertions(+)\n",
      "[main 61130f8e87] commit 1\n",
      " Date: Thu Jan 2 11:39:24 2025 +0000\n",
      " 1 file changed, 1 insertion(+)\n",
      "[main 904fd7c7e9] commit 1\n",
      " Date: Thu Jan 2 11:39:24 2025 +0000\n",
      " 1 file changed, 1 insertion(+)\n",
      "[main c1b638070a] commit 1\n",
      " Date: Thu Jan 2 11:39:24 2025 +0000\n",
      " 1 file changed, 1 insertion(+)\n",
      "[main 5a866dda0b] commit 1\n",
      " Date: Thu Jan 2 11:39:24 2025 +0000\n",
      " 1 file changed, 1 insertion(+)\n",
      "[main 498d1e6380] commit 1\n",
      " Date: Thu Jan 2 11:39:24 2025 +0000\n",
      " 1 file changed, 1 insertion(+)\n",
      "[main e24bfd80aa] commit 1\n",
      " Date: Thu Jan 2 11:39:24 2025 +0000\n",
      " 1 file changed, 1 insertion(+)\n",
      "[main 199dc0e1db] commit 1\n",
      " Date: Thu Jan 2 11:39:24 2025 +0000\n",
      " 1 file changed, 1 insertion(+)\n",
      "[main e033322aa2] commit 1\n",
      " Date: Thu Jan 2 11:39:24 2025 +0000\n",
      " 1 file changed, 1 insertion(+)\n",
      "[main 3d066a987d] commit 1\n",
      " Date: Thu Jan 2 11:39:24 2025 +0000\n",
      " 1 file changed, 1 insertion(+)\n"
     ]
    },
    {
     "name": "stderr",
     "output_type": "stream",
     "text": [
      "To https://github.com/ahammadmejbah/The-90-Day-PyTorch-Mastery-Roadmap\n",
      "   912675d60c..3d066a987d  main -> main\n"
     ]
    },
    {
     "name": "stdout",
     "output_type": "stream",
     "text": [
      "branch 'main' set up to track 'origin/main'.\n",
      "[main 7aee5cee12] commit 1\n",
      " Date: Thu Jan 2 11:39:25 2025 +0000\n",
      " 1 file changed, 1 insertion(+)\n",
      "[main 608b89a180] commit 1\n",
      " Date: Thu Jan 2 11:39:25 2025 +0000\n",
      " 1 file changed, 1 insertion(+)\n",
      "[main c755ef71cc] commit 1\n",
      " Date: Thu Jan 2 11:39:25 2025 +0000\n",
      " 1 file changed, 1 insertion(+)\n",
      "[main f766fb0800] commit 1\n",
      " Date: Thu Jan 2 11:39:25 2025 +0000\n",
      " 1 file changed, 1 insertion(+)\n",
      "[main 0add3b2800] commit 1\n",
      " Date: Thu Jan 2 11:39:25 2025 +0000\n",
      " 1 file changed, 1 insertion(+)\n",
      "[main 8972b2c369] commit 1\n",
      " Date: Thu Jan 2 11:39:25 2025 +0000\n",
      " 1 file changed, 1 insertion(+)\n",
      "[main 3cf19fd796] commit 1\n",
      " Date: Thu Jan 2 11:39:25 2025 +0000\n",
      " 1 file changed, 1 insertion(+)\n",
      "[main 8049565923] commit 1\n",
      " Date: Thu Jan 2 11:39:25 2025 +0000\n",
      " 1 file changed, 1 insertion(+)\n"
     ]
    },
    {
     "name": "stderr",
     "output_type": "stream",
     "text": [
      "To https://github.com/ahammadmejbah/The-90-Day-PyTorch-Mastery-Roadmap\n",
      "   3d066a987d..8049565923  main -> main\n"
     ]
    },
    {
     "name": "stdout",
     "output_type": "stream",
     "text": [
      "branch 'main' set up to track 'origin/main'.\n",
      "[main e7095ec5e3] commit 1\n",
      " Date: Thu Jan 2 11:39:27 2025 +0000\n",
      " 2 files changed, 46 insertions(+)\n",
      "[main b94184468c] commit 1\n",
      " Date: Thu Jan 2 11:39:27 2025 +0000\n",
      " 1 file changed, 1 insertion(+)\n"
     ]
    },
    {
     "name": "stderr",
     "output_type": "stream",
     "text": [
      "To https://github.com/ahammadmejbah/The-90-Day-PyTorch-Mastery-Roadmap\n",
      "   8049565923..b94184468c  main -> main\n"
     ]
    },
    {
     "name": "stdout",
     "output_type": "stream",
     "text": [
      "branch 'main' set up to track 'origin/main'.\n",
      "[main 54a94f2859] commit 1\n",
      " Date: Thu Jan 2 11:39:28 2025 +0000\n",
      " 2 files changed, 40 insertions(+)\n",
      "[main 350e780a1b] commit 1\n",
      " Date: Thu Jan 2 11:39:28 2025 +0000\n",
      " 1 file changed, 1 insertion(+)\n",
      "[main 33800868ee] commit 1\n",
      " Date: Thu Jan 2 11:39:28 2025 +0000\n",
      " 1 file changed, 1 insertion(+)\n",
      "[main c8494d6387] commit 1\n",
      " Date: Thu Jan 2 11:39:28 2025 +0000\n",
      " 1 file changed, 1 insertion(+)\n",
      "[main 4e0f3beada] commit 1\n",
      " Date: Thu Jan 2 11:39:28 2025 +0000\n",
      " 1 file changed, 1 insertion(+)\n",
      "[main 11efd3740b] commit 1\n",
      " Date: Thu Jan 2 11:39:28 2025 +0000\n",
      " 1 file changed, 1 insertion(+)\n",
      "[main 1a95605b9e] commit 1\n",
      " Date: Thu Jan 2 11:39:28 2025 +0000\n",
      " 1 file changed, 1 insertion(+)\n",
      "[main b80b34f522] commit 1\n",
      " Date: Thu Jan 2 11:39:28 2025 +0000\n",
      " 1 file changed, 1 insertion(+)\n",
      "[main 30fd5b711f] commit 1\n",
      " Date: Thu Jan 2 11:39:28 2025 +0000\n",
      " 1 file changed, 1 insertion(+)\n",
      "[main f06b97376f] commit 1\n",
      " Date: Thu Jan 2 11:39:28 2025 +0000\n",
      " 1 file changed, 1 insertion(+)\n"
     ]
    },
    {
     "name": "stderr",
     "output_type": "stream",
     "text": [
      "To https://github.com/ahammadmejbah/The-90-Day-PyTorch-Mastery-Roadmap\n",
      "   b94184468c..f06b97376f  main -> main\n"
     ]
    },
    {
     "name": "stdout",
     "output_type": "stream",
     "text": [
      "branch 'main' set up to track 'origin/main'.\n",
      "[main 6e1254e52b] commit 1\n",
      " Date: Thu Jan 2 11:39:29 2025 +0000\n",
      " 2 files changed, 64 insertions(+)\n",
      "[main 0cfcb140ac] commit 1\n",
      " Date: Thu Jan 2 11:39:29 2025 +0000\n",
      " 1 file changed, 1 insertion(+)\n",
      "[main 60c1dc3d86] commit 1\n",
      " Date: Thu Jan 2 11:39:29 2025 +0000\n",
      " 1 file changed, 1 insertion(+)\n",
      "[main 9ade35ffa8] commit 1\n",
      " Date: Thu Jan 2 11:39:29 2025 +0000\n",
      " 1 file changed, 1 insertion(+)\n",
      "[main 2f4247e2a9] commit 1\n",
      " Date: Thu Jan 2 11:39:29 2025 +0000\n",
      " 1 file changed, 1 insertion(+)\n"
     ]
    },
    {
     "name": "stderr",
     "output_type": "stream",
     "text": [
      "To https://github.com/ahammadmejbah/The-90-Day-PyTorch-Mastery-Roadmap\n",
      "   f06b97376f..2f4247e2a9  main -> main\n"
     ]
    },
    {
     "name": "stdout",
     "output_type": "stream",
     "text": [
      "branch 'main' set up to track 'origin/main'.\n",
      "[main 0d6faed596] commit 1\n",
      " Date: Thu Jan 2 11:39:30 2025 +0000\n",
      " 2 files changed, 34 insertions(+)\n",
      "[main 50c9b95486] commit 1\n",
      " Date: Thu Jan 2 11:39:30 2025 +0000\n",
      " 1 file changed, 1 insertion(+)\n",
      "[main c66285c40b] commit 1\n",
      " Date: Thu Jan 2 11:39:30 2025 +0000\n",
      " 1 file changed, 1 insertion(+)\n"
     ]
    },
    {
     "name": "stderr",
     "output_type": "stream",
     "text": [
      "To https://github.com/ahammadmejbah/The-90-Day-PyTorch-Mastery-Roadmap\n",
      "   2f4247e2a9..c66285c40b  main -> main\n"
     ]
    },
    {
     "name": "stdout",
     "output_type": "stream",
     "text": [
      "branch 'main' set up to track 'origin/main'.\n",
      "[main dcdf06d3c8] commit 1\n",
      " Date: Thu Jan 2 11:39:31 2025 +0000\n",
      " 1 file changed, 1 insertion(+)\n",
      "[main 7ee3f01fae] commit 1\n",
      " Date: Thu Jan 2 11:39:31 2025 +0000\n",
      " 1 file changed, 1 insertion(+)\n"
     ]
    },
    {
     "name": "stderr",
     "output_type": "stream",
     "text": [
      "To https://github.com/ahammadmejbah/The-90-Day-PyTorch-Mastery-Roadmap\n",
      "   c66285c40b..7ee3f01fae  main -> main\n"
     ]
    },
    {
     "name": "stdout",
     "output_type": "stream",
     "text": [
      "branch 'main' set up to track 'origin/main'.\n",
      "[main aaad7d483f] commit 1\n",
      " Date: Thu Jan 2 11:39:32 2025 +0000\n",
      " 2 files changed, 46 insertions(+)\n",
      "[main b8c936cdf2] commit 1\n",
      " Date: Thu Jan 2 11:39:32 2025 +0000\n",
      " 1 file changed, 1 insertion(+)\n",
      "[main 2f2ca5cf8c] commit 1\n",
      " Date: Thu Jan 2 11:39:32 2025 +0000\n",
      " 1 file changed, 1 insertion(+)\n",
      "[main cdecd80f19] commit 1\n",
      " Date: Thu Jan 2 11:39:32 2025 +0000\n",
      " 1 file changed, 1 insertion(+)\n",
      "[main 7dc8e9ae44] commit 1\n",
      " Date: Thu Jan 2 11:39:32 2025 +0000\n",
      " 1 file changed, 1 insertion(+)\n",
      "[main 2764ac0cab] commit 1\n",
      " Date: Thu Jan 2 11:39:32 2025 +0000\n",
      " 1 file changed, 1 insertion(+)\n",
      "[main 3e0104e248] commit 1\n",
      " Date: Thu Jan 2 11:39:32 2025 +0000\n",
      " 1 file changed, 1 insertion(+)\n",
      "[main be13183b74] commit 1\n",
      " Date: Thu Jan 2 11:39:33 2025 +0000\n",
      " 1 file changed, 1 insertion(+)\n",
      "[main 1606b7ea91] commit 1\n",
      " Date: Thu Jan 2 11:39:33 2025 +0000\n",
      " 1 file changed, 1 insertion(+)\n",
      "[main e749baa59c] commit 1\n",
      " Date: Thu Jan 2 11:39:33 2025 +0000\n",
      " 1 file changed, 1 insertion(+)\n"
     ]
    },
    {
     "name": "stderr",
     "output_type": "stream",
     "text": [
      "To https://github.com/ahammadmejbah/The-90-Day-PyTorch-Mastery-Roadmap\n",
      "   7ee3f01fae..e749baa59c  main -> main\n"
     ]
    },
    {
     "name": "stdout",
     "output_type": "stream",
     "text": [
      "branch 'main' set up to track 'origin/main'.\n",
      "[main 5e15d38de5] commit 1\n",
      " Date: Thu Jan 2 11:39:34 2025 +0000\n",
      " 1 file changed, 1 insertion(+)\n",
      "[main b736f55eb1] commit 1\n",
      " Date: Thu Jan 2 11:39:34 2025 +0000\n",
      " 1 file changed, 1 insertion(+)\n",
      "[main 6a8a1f88a1] commit 1\n",
      " Date: Thu Jan 2 11:39:34 2025 +0000\n",
      " 1 file changed, 1 insertion(+)\n",
      "[main 162812995f] commit 1\n",
      " Date: Thu Jan 2 11:39:34 2025 +0000\n",
      " 1 file changed, 1 insertion(+)\n",
      "[main e16f860480] commit 1\n",
      " Date: Thu Jan 2 11:39:34 2025 +0000\n",
      " 1 file changed, 1 insertion(+)\n",
      "[main a489837688] commit 1\n",
      " Date: Thu Jan 2 11:39:34 2025 +0000\n",
      " 1 file changed, 1 insertion(+)\n",
      "[main 1ea34e23d3] commit 1\n",
      " Date: Thu Jan 2 11:39:34 2025 +0000\n",
      " 1 file changed, 1 insertion(+)\n",
      "[main b658ae20d9] commit 1\n",
      " Date: Thu Jan 2 11:39:34 2025 +0000\n",
      " 1 file changed, 1 insertion(+)\n",
      "[main 7fb1434cca] commit 1\n",
      " Date: Thu Jan 2 11:39:34 2025 +0000\n",
      " 1 file changed, 1 insertion(+)\n"
     ]
    },
    {
     "name": "stderr",
     "output_type": "stream",
     "text": [
      "To https://github.com/ahammadmejbah/The-90-Day-PyTorch-Mastery-Roadmap\n",
      "   e749baa59c..7fb1434cca  main -> main\n"
     ]
    },
    {
     "name": "stdout",
     "output_type": "stream",
     "text": [
      "branch 'main' set up to track 'origin/main'.\n",
      "[main c57e53fb9a] commit 1\n",
      " Date: Thu Jan 2 11:39:35 2025 +0000\n",
      " 2 files changed, 46 insertions(+)\n",
      "[main c37a75857e] commit 1\n",
      " Date: Thu Jan 2 11:39:35 2025 +0000\n",
      " 1 file changed, 1 insertion(+)\n"
     ]
    },
    {
     "name": "stderr",
     "output_type": "stream",
     "text": [
      "To https://github.com/ahammadmejbah/The-90-Day-PyTorch-Mastery-Roadmap\n",
      "   7fb1434cca..c37a75857e  main -> main\n"
     ]
    },
    {
     "name": "stdout",
     "output_type": "stream",
     "text": [
      "branch 'main' set up to track 'origin/main'.\n",
      "[main d7382ade44] commit 1\n",
      " Date: Thu Jan 2 11:39:36 2025 +0000\n",
      " 2 files changed, 43 insertions(+)\n",
      "[main d22b27a185] commit 1\n",
      " Date: Thu Jan 2 11:39:36 2025 +0000\n",
      " 1 file changed, 1 insertion(+)\n",
      "[main eda7a8fdf6] commit 1\n",
      " Date: Thu Jan 2 11:39:36 2025 +0000\n",
      " 1 file changed, 1 insertion(+)\n",
      "[main 737d11f65d] commit 1\n",
      " Date: Thu Jan 2 11:39:36 2025 +0000\n",
      " 1 file changed, 1 insertion(+)\n",
      "[main 310b062158] commit 1\n",
      " Date: Thu Jan 2 11:39:36 2025 +0000\n",
      " 1 file changed, 1 insertion(+)\n",
      "[main ebc168ec48] commit 1\n",
      " Date: Thu Jan 2 11:39:36 2025 +0000\n",
      " 1 file changed, 1 insertion(+)\n",
      "[main 6fd125f2e5] commit 1\n",
      " Date: Thu Jan 2 11:39:36 2025 +0000\n",
      " 1 file changed, 1 insertion(+)\n",
      "[main c04fe4e553] commit 1\n",
      " Date: Thu Jan 2 11:39:36 2025 +0000\n",
      " 1 file changed, 1 insertion(+)\n"
     ]
    },
    {
     "name": "stderr",
     "output_type": "stream",
     "text": [
      "To https://github.com/ahammadmejbah/The-90-Day-PyTorch-Mastery-Roadmap\n",
      "   c37a75857e..c04fe4e553  main -> main\n"
     ]
    },
    {
     "name": "stdout",
     "output_type": "stream",
     "text": [
      "branch 'main' set up to track 'origin/main'.\n",
      "[main 98c2011aba] commit 1\n",
      " Date: Thu Jan 2 11:39:37 2025 +0000\n",
      " 2 files changed, 61 insertions(+)\n",
      "[main 2489e60906] commit 1\n",
      " Date: Thu Jan 2 11:39:37 2025 +0000\n",
      " 1 file changed, 1 insertion(+)\n",
      "[main 381445b526] commit 1\n",
      " Date: Thu Jan 2 11:39:37 2025 +0000\n",
      " 1 file changed, 1 insertion(+)\n",
      "[main 2a9be1bb2e] commit 1\n",
      " Date: Thu Jan 2 11:39:37 2025 +0000\n",
      " 1 file changed, 1 insertion(+)\n",
      "[main 4d07bb0103] commit 1\n",
      " Date: Thu Jan 2 11:39:37 2025 +0000\n",
      " 1 file changed, 1 insertion(+)\n",
      "[main 7181b9098b] commit 1\n",
      " Date: Thu Jan 2 11:39:37 2025 +0000\n",
      " 1 file changed, 1 insertion(+)\n",
      "[main 73756a1bf9] commit 1\n",
      " Date: Thu Jan 2 11:39:37 2025 +0000\n",
      " 1 file changed, 1 insertion(+)\n",
      "[main 7c93907a36] commit 1\n",
      " Date: Thu Jan 2 11:39:37 2025 +0000\n",
      " 1 file changed, 1 insertion(+)\n"
     ]
    },
    {
     "name": "stderr",
     "output_type": "stream",
     "text": [
      "To https://github.com/ahammadmejbah/The-90-Day-PyTorch-Mastery-Roadmap\n",
      "   c04fe4e553..7c93907a36  main -> main\n"
     ]
    },
    {
     "name": "stdout",
     "output_type": "stream",
     "text": [
      "branch 'main' set up to track 'origin/main'.\n",
      "[main 8f51f4ec28] commit 1\n",
      " Date: Thu Jan 2 11:39:39 2025 +0000\n",
      " 1 file changed, 1 insertion(+)\n"
     ]
    },
    {
     "name": "stderr",
     "output_type": "stream",
     "text": [
      "To https://github.com/ahammadmejbah/The-90-Day-PyTorch-Mastery-Roadmap\n",
      "   7c93907a36..8f51f4ec28  main -> main\n"
     ]
    },
    {
     "name": "stdout",
     "output_type": "stream",
     "text": [
      "branch 'main' set up to track 'origin/main'.\n",
      "[main 186d16c231] commit 1\n",
      " Date: Thu Jan 2 11:39:40 2025 +0000\n",
      " 2 files changed, 40 insertions(+)\n",
      "[main 532e3f6e64] commit 1\n",
      " Date: Thu Jan 2 11:39:40 2025 +0000\n",
      " 1 file changed, 1 insertion(+)\n",
      "[main 206d8d739e] commit 1\n",
      " Date: Thu Jan 2 11:39:40 2025 +0000\n",
      " 1 file changed, 1 insertion(+)\n",
      "[main 6beb9fe977] commit 1\n",
      " Date: Thu Jan 2 11:39:40 2025 +0000\n",
      " 1 file changed, 1 insertion(+)\n"
     ]
    }
   ],
   "source": [
    "import os\n",
    "from random import randint\n",
    "\n",
    "for i in range(100):\n",
    "    for i in range(1, 2):\n",
    "        commit_count = randint(1, 10)\n",
    "        for _ in range(commit_count):\n",
    "            d = f\"{i} days ago\"\n",
    "            with open('file.txt', 'a') as file:\n",
    "                file.write(d + \"\\n\")  # Added newline for readability\n",
    "\n",
    "            os.system('git add .')\n",
    "            # Use proper date formatting for Git\n",
    "            commit_date = f\"{i} days ago\"\n",
    "            os.system(f'git commit --date=\"{commit_date}\" -m \"commit {i}\"')\n",
    "\n",
    "        # Ensure the final push uses standard spaces\n",
    "    os.system('git push -u origin main')"
   ]
  },
  {
   "cell_type": "code",
   "execution_count": null,
   "metadata": {},
   "outputs": [],
   "source": []
  }
 ],
 "metadata": {
  "kernelspec": {
   "display_name": "Python 3",
   "language": "python",
   "name": "python3"
  },
  "language_info": {
   "codemirror_mode": {
    "name": "ipython",
    "version": 3
   },
   "file_extension": ".py",
   "mimetype": "text/x-python",
   "name": "python",
   "nbconvert_exporter": "python",
   "pygments_lexer": "ipython3",
   "version": "3.12.1"
  }
 },
 "nbformat": 4,
 "nbformat_minor": 2
}
