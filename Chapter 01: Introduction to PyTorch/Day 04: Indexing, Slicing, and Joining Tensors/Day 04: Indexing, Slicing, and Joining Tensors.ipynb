{
 "cells": [
  {
   "cell_type": "markdown",
   "metadata": {},
   "source": [
    "### **Day 4: Indexing, Slicing, and Joining Tensors**\n",
    "\n",
    "Welcome to **Day 4** of your **90-Day PyTorch Mastery Plan**! Today, we delve into the essential skills of **Indexing, Slicing, and Joining Tensors**. Mastering these operations is crucial for data manipulation, preprocessing, and preparing inputs for neural networks. Through comprehensive explanations and extensive code examples, you'll gain the proficiency needed to handle tensors efficiently in various deep learning tasks.\n",
    "\n",
    "---\n",
    "\n",
    "## 📑 **Table of Contents**\n",
    "1. [Topics Overview](#1-topics-overview)\n",
    "2. [Indexing and Slicing Tensors](#2-indexing-and-slicing-tensors)\n",
    "    - [2.1. Basic Indexing](#21-basic-indexing)\n",
    "    - [2.2. Advanced Indexing](#22-advanced-indexing)\n",
    "    - [2.3. Slicing Tensors](#23-slicing-tensors)\n",
    "    - [2.4. Boolean Indexing](#24-boolean-indexing)\n",
    "    - [2.5. Fancy Indexing](#25-fancy-indexing)\n",
    "3. [Joining and Splitting Tensors](#3-joining-and-splitting-tensors)\n",
    "    - [3.1. Concatenation with `torch.cat`](#31-concatenation-with-torchcat)\n",
    "    - [3.2. Stacking with `torch.stack`](#32-stacking-with-torchstack)\n",
    "    - [3.3. Splitting with `torch.split`](#33-splitting-with-torchspl)\n",
    "    - [3.4. Other Joining Functions](#34-other-joining-functions)\n",
    "4. [Practical Activities](#4-practical-activities)\n",
    "    - [4.1. Practicing Indexing and Slicing](#41-practicing-indexing-and-slicing)\n",
    "    - [4.2. Exploring Joining Functions](#42-exploring-joining-functions)\n",
    "    - [4.3. Combining Indexing, Slicing, and Joining](#43-combining-indexing-slicing-and-joining)\n",
    "5. [Resources](#5-resources)\n",
    "6. [Learning Objectives](#6-learning-objectives)\n",
    "7. [Expected Outcomes](#7-expected-outcomes)\n",
    "8. [Tips for Success](#8-tips-for-success)\n",
    "9. [Advanced Tips and Best Practices](#9-advanced-tips-and-best-practices)\n",
    "10. [Comprehensive Summary](#10-comprehensive-summary)\n",
    "11. [Moving Forward](#11-moving-forward)\n",
    "12. [Final Encouragement](#12-final-encouragement)\n",
    "\n",
    "---\n",
    "\n",
    "## 1. Topics Overview\n",
    "\n",
    "### **Indexing and Slicing Tensors**\n",
    "Indexing and slicing are fundamental operations that allow you to access and manipulate specific elements or sub-tensors within a larger tensor. These operations are analogous to indexing and slicing in Python lists and NumPy arrays but come with additional capabilities tailored for deep learning workflows.\n",
    "\n",
    "### **Joining and Splitting Tensors**\n",
    "Joining tensors involves combining multiple tensors into a single tensor, while splitting tensors refers to dividing a tensor into smaller tensors. These operations are essential for tasks such as batch processing, data augmentation, and preparing inputs for neural network layers.\n",
    "\n",
    "---\n",
    "\n",
    "## 2. Indexing and Slicing Tensors\n",
    "\n",
    "### 2.1. Basic Indexing\n",
    "\n",
    "**Definition:**\n",
    "Basic indexing allows you to access individual elements or subsets of elements within a tensor using their indices."
   ]
  },
  {
   "cell_type": "code",
   "execution_count": null,
   "metadata": {},
   "outputs": [
    {
     "name": "stdout",
     "output_type": "stream",
     "text": [
      "[main c1484b0d89] commit 1\n",
      " Date: Thu Jan 2 11:37:16 2025 +0000\n",
      " 2 files changed, 119 insertions(+), 1 deletion(-)\n",
      "[main fb4bae73bb] commit 1\n",
      " Date: Thu Jan 2 11:37:16 2025 +0000\n",
      " 1 file changed, 1 insertion(+)\n"
     ]
    },
    {
     "name": "stderr",
     "output_type": "stream",
     "text": [
      "To https://github.com/ahammadmejbah/The-90-Day-PyTorch-Mastery-Roadmap\n",
      "   bf694a417b..fb4bae73bb  main -> main\n"
     ]
    },
    {
     "name": "stdout",
     "output_type": "stream",
     "text": [
      "branch 'main' set up to track 'origin/main'.\n",
      "[main 73fbe99ba2] commit 1\n",
      " Date: Thu Jan 2 11:37:17 2025 +0000\n",
      " 1 file changed, 1 insertion(+)\n",
      "[main fc4fa12319] commit 1\n",
      " Date: Thu Jan 2 11:37:17 2025 +0000\n",
      " 1 file changed, 1 insertion(+)\n",
      "[main df70c5bba8] commit 1\n",
      " Date: Thu Jan 2 11:37:17 2025 +0000\n",
      " 1 file changed, 1 insertion(+)\n",
      "[main 57bd9d6174] commit 1\n",
      " Date: Thu Jan 2 11:37:17 2025 +0000\n",
      " 1 file changed, 1 insertion(+)\n",
      "[main d25d5ea778] commit 1\n",
      " Date: Thu Jan 2 11:37:17 2025 +0000\n",
      " 1 file changed, 1 insertion(+)\n",
      "[main 8956dffaf5] commit 1\n",
      " Date: Thu Jan 2 11:37:17 2025 +0000\n",
      " 1 file changed, 1 insertion(+)\n"
     ]
    },
    {
     "name": "stderr",
     "output_type": "stream",
     "text": [
      "To https://github.com/ahammadmejbah/The-90-Day-PyTorch-Mastery-Roadmap\n",
      "   fb4bae73bb..8956dffaf5  main -> main\n"
     ]
    },
    {
     "name": "stdout",
     "output_type": "stream",
     "text": [
      "branch 'main' set up to track 'origin/main'.\n",
      "[main 43267c91c3] commit 1\n",
      " Date: Thu Jan 2 11:37:18 2025 +0000\n",
      " 2 files changed, 20 insertions(+), 313 deletions(-)\n",
      "[main 7ff1ba077d] commit 1\n",
      " Date: Thu Jan 2 11:37:18 2025 +0000\n",
      " 1 file changed, 1 insertion(+)\n",
      "[main 9afe892c98] commit 1\n",
      " Date: Thu Jan 2 11:37:18 2025 +0000\n",
      " 1 file changed, 1 insertion(+)\n",
      "[main 2af21ce39e] commit 1\n",
      " Date: Thu Jan 2 11:37:19 2025 +0000\n",
      " 1 file changed, 1 insertion(+)\n"
     ]
    },
    {
     "name": "stderr",
     "output_type": "stream",
     "text": [
      "To https://github.com/ahammadmejbah/The-90-Day-PyTorch-Mastery-Roadmap\n",
      "   8956dffaf5..2af21ce39e  main -> main\n"
     ]
    },
    {
     "name": "stdout",
     "output_type": "stream",
     "text": [
      "branch 'main' set up to track 'origin/main'.\n",
      "[main 4950a5dfb4] commit 1\n",
      " Date: Thu Jan 2 11:37:20 2025 +0000\n",
      " 1 file changed, 1 insertion(+)\n",
      "[main ce8e2cb1cd] commit 1\n",
      " Date: Thu Jan 2 11:37:20 2025 +0000\n",
      " 1 file changed, 1 insertion(+)\n",
      "[main dc135a446f] commit 1\n",
      " Date: Thu Jan 2 11:37:20 2025 +0000\n",
      " 1 file changed, 1 insertion(+)\n",
      "[main 7b2940aecf] commit 1\n",
      " Date: Thu Jan 2 11:37:20 2025 +0000\n",
      " 1 file changed, 1 insertion(+)\n",
      "[main 805e8314bd] commit 1\n",
      " Date: Thu Jan 2 11:37:20 2025 +0000\n",
      " 1 file changed, 1 insertion(+)\n",
      "[main 6fe49d9466] commit 1\n",
      " Date: Thu Jan 2 11:37:20 2025 +0000\n",
      " 1 file changed, 1 insertion(+)\n",
      "[main 24545bb26e] commit 1\n",
      " Date: Thu Jan 2 11:37:20 2025 +0000\n",
      " 1 file changed, 1 insertion(+)\n",
      "[main bbbabd2ffc] commit 1\n",
      " Date: Thu Jan 2 11:37:20 2025 +0000\n",
      " 1 file changed, 1 insertion(+)\n",
      "[main 15d65323ed] commit 1\n",
      " Date: Thu Jan 2 11:37:20 2025 +0000\n",
      " 1 file changed, 1 insertion(+)\n"
     ]
    },
    {
     "name": "stderr",
     "output_type": "stream",
     "text": [
      "To https://github.com/ahammadmejbah/The-90-Day-PyTorch-Mastery-Roadmap\n",
      "   2af21ce39e..15d65323ed  main -> main\n"
     ]
    },
    {
     "name": "stdout",
     "output_type": "stream",
     "text": [
      "branch 'main' set up to track 'origin/main'.\n",
      "[main 492aaa4d36] commit 1\n",
      " Date: Thu Jan 2 11:37:21 2025 +0000\n",
      " 2 files changed, 28 insertions(+)\n",
      "[main d016c094d2] commit 1\n",
      " Date: Thu Jan 2 11:37:21 2025 +0000\n",
      " 1 file changed, 1 insertion(+)\n",
      "[main d2b85d62ba] commit 1\n",
      " Date: Thu Jan 2 11:37:21 2025 +0000\n",
      " 1 file changed, 1 insertion(+)\n",
      "[main 4368f5d1e7] commit 1\n",
      " Date: Thu Jan 2 11:37:21 2025 +0000\n",
      " 1 file changed, 1 insertion(+)\n",
      "[main 39bc6f2526] commit 1\n",
      " Date: Thu Jan 2 11:37:21 2025 +0000\n",
      " 1 file changed, 1 insertion(+)\n",
      "[main 90672a6143] commit 1\n",
      " Date: Thu Jan 2 11:37:21 2025 +0000\n",
      " 1 file changed, 1 insertion(+)\n",
      "[main e21db581e0] commit 1\n",
      " Date: Thu Jan 2 11:37:21 2025 +0000\n",
      " 1 file changed, 1 insertion(+)\n"
     ]
    },
    {
     "name": "stderr",
     "output_type": "stream",
     "text": [
      "To https://github.com/ahammadmejbah/The-90-Day-PyTorch-Mastery-Roadmap\n",
      "   15d65323ed..e21db581e0  main -> main\n"
     ]
    },
    {
     "name": "stdout",
     "output_type": "stream",
     "text": [
      "branch 'main' set up to track 'origin/main'.\n",
      "[main 931313b35c] commit 1\n",
      " Date: Thu Jan 2 11:37:22 2025 +0000\n",
      " 2 files changed, 79 insertions(+)\n",
      "[main 0647ac3ece] commit 1\n",
      " Date: Thu Jan 2 11:37:22 2025 +0000\n",
      " 1 file changed, 1 insertion(+)\n",
      "[main 29942b2950] commit 1\n",
      " Date: Thu Jan 2 11:37:22 2025 +0000\n",
      " 1 file changed, 1 insertion(+)\n",
      "[main ee51acc66b] commit 1\n",
      " Date: Thu Jan 2 11:37:22 2025 +0000\n",
      " 1 file changed, 1 insertion(+)\n"
     ]
    },
    {
     "name": "stderr",
     "output_type": "stream",
     "text": [
      "To https://github.com/ahammadmejbah/The-90-Day-PyTorch-Mastery-Roadmap\n",
      "   e21db581e0..ee51acc66b  main -> main\n"
     ]
    },
    {
     "name": "stdout",
     "output_type": "stream",
     "text": [
      "branch 'main' set up to track 'origin/main'.\n",
      "[main 90ecb996ee] commit 1\n",
      " Date: Thu Jan 2 11:37:23 2025 +0000\n",
      " 1 file changed, 1 insertion(+)\n",
      "[main 0a251265bf] commit 1\n",
      " Date: Thu Jan 2 11:37:23 2025 +0000\n",
      " 1 file changed, 1 insertion(+)\n",
      "[main f48ec5a787] commit 1\n",
      " Date: Thu Jan 2 11:37:23 2025 +0000\n",
      " 1 file changed, 1 insertion(+)\n",
      "[main 854eb421ad] commit 1\n",
      " Date: Thu Jan 2 11:37:23 2025 +0000\n",
      " 1 file changed, 1 insertion(+)\n",
      "[main 0af4306db9] commit 1\n",
      " Date: Thu Jan 2 11:37:23 2025 +0000\n",
      " 1 file changed, 1 insertion(+)\n",
      "[main b5f4294074] commit 1\n",
      " Date: Thu Jan 2 11:37:23 2025 +0000\n",
      " 1 file changed, 1 insertion(+)\n",
      "[main 29fcad8488] commit 1\n",
      " Date: Thu Jan 2 11:37:23 2025 +0000\n",
      " 1 file changed, 1 insertion(+)\n",
      "[main d249096a57] commit 1\n",
      " Date: Thu Jan 2 11:37:24 2025 +0000\n",
      " 1 file changed, 1 insertion(+)\n"
     ]
    }
   ],
   "source": [
    "import os\n",
    "from random import randint\n",
    "\n",
    "for i in range(10):\n",
    "    for i in range(1, 2):\n",
    "        commit_count = randint(1, 10)\n",
    "        for _ in range(commit_count):\n",
    "            d = f\"{i} days ago\"\n",
    "            with open('file.txt', 'a') as file:\n",
    "                file.write(d + \"\\n\")  # Added newline for readability\n",
    "\n",
    "            os.system('git add .')\n",
    "            # Use proper date formatting for Git\n",
    "            commit_date = f\"{i} days ago\"\n",
    "            os.system(f'git commit --date=\"{commit_date}\" -m \"commit {i}\"')\n",
    "\n",
    "        # Ensure the final push uses standard spaces\n",
    "    os.system('git push -u origin main')"
   ]
  },
  {
   "cell_type": "code",
   "execution_count": null,
   "metadata": {},
   "outputs": [],
   "source": []
  }
 ],
 "metadata": {
  "kernelspec": {
   "display_name": "Python 3",
   "language": "python",
   "name": "python3"
  },
  "language_info": {
   "codemirror_mode": {
    "name": "ipython",
    "version": 3
   },
   "file_extension": ".py",
   "mimetype": "text/x-python",
   "name": "python",
   "nbconvert_exporter": "python",
   "pygments_lexer": "ipython3",
   "version": "3.12.1"
  }
 },
 "nbformat": 4,
 "nbformat_minor": 2
}
