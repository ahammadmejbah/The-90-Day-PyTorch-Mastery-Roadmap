{
 "cells": [
  {
   "cell_type": "markdown",
   "metadata": {},
   "source": [
    "### **Day 4: Indexing, Slicing, and Joining Tensors**\n",
    "\n",
    "Welcome to **Day 4** of your **90-Day PyTorch Mastery Plan**! Today, we delve into the essential skills of **Indexing, Slicing, and Joining Tensors**. Mastering these operations is crucial for data manipulation, preprocessing, and preparing inputs for neural networks. Through comprehensive explanations and extensive code examples, you'll gain the proficiency needed to handle tensors efficiently in various deep learning tasks.\n",
    "\n",
    "---\n",
    "\n",
    "## 📑 **Table of Contents**\n",
    "1. [Topics Overview](#1-topics-overview)\n",
    "2. [Indexing and Slicing Tensors](#2-indexing-and-slicing-tensors)\n",
    "    - [2.1. Basic Indexing](#21-basic-indexing)\n",
    "    - [2.2. Advanced Indexing](#22-advanced-indexing)\n",
    "    - [2.3. Slicing Tensors](#23-slicing-tensors)\n",
    "    - [2.4. Boolean Indexing](#24-boolean-indexing)\n",
    "    - [2.5. Fancy Indexing](#25-fancy-indexing)\n",
    "3. [Joining and Splitting Tensors](#3-joining-and-splitting-tensors)\n",
    "    - [3.1. Concatenation with `torch.cat`](#31-concatenation-with-torchcat)\n",
    "    - [3.2. Stacking with `torch.stack`](#32-stacking-with-torchstack)\n",
    "    - [3.3. Splitting with `torch.split`](#33-splitting-with-torchspl)\n",
    "    - [3.4. Other Joining Functions](#34-other-joining-functions)\n",
    "4. [Practical Activities](#4-practical-activities)\n",
    "    - [4.1. Practicing Indexing and Slicing](#41-practicing-indexing-and-slicing)\n",
    "    - [4.2. Exploring Joining Functions](#42-exploring-joining-functions)\n",
    "    - [4.3. Combining Indexing, Slicing, and Joining](#43-combining-indexing-slicing-and-joining)\n",
    "5. [Resources](#5-resources)\n",
    "6. [Learning Objectives](#6-learning-objectives)\n",
    "7. [Expected Outcomes](#7-expected-outcomes)\n",
    "8. [Tips for Success](#8-tips-for-success)\n",
    "9. [Advanced Tips and Best Practices](#9-advanced-tips-and-best-practices)\n",
    "10. [Comprehensive Summary](#10-comprehensive-summary)\n",
    "11. [Moving Forward](#11-moving-forward)\n",
    "12. [Final Encouragement](#12-final-encouragement)\n",
    "\n",
    "---\n",
    "\n",
    "## 1. Topics Overview\n",
    "\n",
    "### **Indexing and Slicing Tensors**\n",
    "Indexing and slicing are fundamental operations that allow you to access and manipulate specific elements or sub-tensors within a larger tensor. These operations are analogous to indexing and slicing in Python lists and NumPy arrays but come with additional capabilities tailored for deep learning workflows.\n",
    "\n",
    "### **Joining and Splitting Tensors**\n",
    "Joining tensors involves combining multiple tensors into a single tensor, while splitting tensors refers to dividing a tensor into smaller tensors. These operations are essential for tasks such as batch processing, data augmentation, and preparing inputs for neural network layers.\n",
    "\n",
    "---\n",
    "\n",
    "## 2. Indexing and Slicing Tensors\n",
    "\n",
    "### 2.1. Basic Indexing\n",
    "\n",
    "**Definition:**\n",
    "Basic indexing allows you to access individual elements or subsets of elements within a tensor using their indices."
   ]
  },
  {
   "cell_type": "code",
   "execution_count": null,
   "metadata": {},
   "outputs": [
    {
     "name": "stdout",
     "output_type": "stream",
     "text": [
      "[main f85cff6aa0] commit 1\n",
      " Date: Fri Jan 3 13:00:55 2025 +0000\n",
      " 2 files changed, 353 insertions(+), 1 deletion(-)\n",
      "[main 965a71d7af] commit 1\n",
      " Date: Fri Jan 3 13:00:56 2025 +0000\n",
      " 1 file changed, 1 insertion(+)\n"
     ]
    },
    {
     "name": "stdout",
     "output_type": "stream",
     "text": [
      "[main 5cce2df5be] commit 1\n",
      " Date: Fri Jan 3 13:00:56 2025 +0000\n",
      " 1 file changed, 1 insertion(+)\n",
      "[main 6183e619df] commit 1\n",
      " Date: Fri Jan 3 13:00:56 2025 +0000\n",
      " 1 file changed, 1 insertion(+)\n",
      "[main f307b9d4d7] commit 1\n",
      " Date: Fri Jan 3 13:00:56 2025 +0000\n",
      " 1 file changed, 1 insertion(+)\n",
      "[main 42f35081bc] commit 1\n",
      " Date: Fri Jan 3 13:00:56 2025 +0000\n",
      " 1 file changed, 1 insertion(+)\n",
      "[main 9d75ebc2e3] commit 1\n",
      " Date: Fri Jan 3 13:00:56 2025 +0000\n",
      " 1 file changed, 1 insertion(+)\n",
      "[main efd8030a1b] commit 1\n",
      " Date: Fri Jan 3 13:00:56 2025 +0000\n",
      " 1 file changed, 1 insertion(+)\n"
     ]
    },
    {
     "name": "stderr",
     "output_type": "stream",
     "text": [
      "To https://github.com/ahammadmejbah/The-90-Day-PyTorch-Mastery-Roadmap\n",
      "   3d18e540b6..efd8030a1b  main -> main\n"
     ]
    },
    {
     "name": "stdout",
     "output_type": "stream",
     "text": [
      "branch 'main' set up to track 'origin/main'.\n",
      "[main c238053e59] commit 1\n",
      " Date: Fri Jan 3 13:00:58 2025 +0000\n",
      " 1 file changed, 1 insertion(+)\n",
      "[main c65d421f6a] commit 1\n",
      " Date: Fri Jan 3 13:00:58 2025 +0000\n",
      " 1 file changed, 1 insertion(+)\n",
      "[main fdca729fa1] commit 1\n",
      " Date: Fri Jan 3 13:00:58 2025 +0000\n",
      " 1 file changed, 1 insertion(+)\n",
      "[main 71a41c3428] commit 1\n",
      " Date: Fri Jan 3 13:00:59 2025 +0000\n",
      " 1 file changed, 1 insertion(+)\n"
     ]
    },
    {
     "name": "stderr",
     "output_type": "stream",
     "text": [
      "To https://github.com/ahammadmejbah/The-90-Day-PyTorch-Mastery-Roadmap\n",
      "   efd8030a1b..71a41c3428  main -> main\n"
     ]
    },
    {
     "name": "stdout",
     "output_type": "stream",
     "text": [
      "branch 'main' set up to track 'origin/main'.\n",
      "[main 2d35417eb2] commit 1\n",
      " Date: Fri Jan 3 13:01:00 2025 +0000\n",
      " 1 file changed, 1 insertion(+)\n",
      "[main 9412e24bff] commit 1\n",
      " Date: Fri Jan 3 13:01:00 2025 +0000\n",
      " 1 file changed, 1 insertion(+)\n",
      "[main 794f67dfc2] commit 1\n",
      " Date: Fri Jan 3 13:01:01 2025 +0000\n",
      " 2 files changed, 26 insertions(+), 3085 deletions(-)\n",
      "[main 5431c0d475] commit 1\n",
      " Date: Fri Jan 3 13:01:01 2025 +0000\n",
      " 1 file changed, 1 insertion(+)\n"
     ]
    },
    {
     "name": "stderr",
     "output_type": "stream",
     "text": [
      "To https://github.com/ahammadmejbah/The-90-Day-PyTorch-Mastery-Roadmap\n",
      "   71a41c3428..5431c0d475  main -> main\n"
     ]
    },
    {
     "name": "stdout",
     "output_type": "stream",
     "text": [
      "branch 'main' set up to track 'origin/main'.\n",
      "[main 82ff94885b] commit 1\n",
      " Date: Fri Jan 3 13:01:03 2025 +0000\n",
      " 1 file changed, 1 insertion(+)\n",
      "[main b70a631fd2] commit 1\n",
      " Date: Fri Jan 3 13:01:03 2025 +0000\n",
      " 1 file changed, 1 insertion(+)\n",
      "[main 575efc6240] commit 1\n",
      " Date: Fri Jan 3 13:01:03 2025 +0000\n",
      " 1 file changed, 1 insertion(+)\n"
     ]
    },
    {
     "name": "stderr",
     "output_type": "stream",
     "text": [
      "To https://github.com/ahammadmejbah/The-90-Day-PyTorch-Mastery-Roadmap\n",
      "   5431c0d475..575efc6240  main -> main\n"
     ]
    },
    {
     "name": "stdout",
     "output_type": "stream",
     "text": [
      "branch 'main' set up to track 'origin/main'.\n",
      "[main f551ebc044] commit 1\n",
      " Date: Fri Jan 3 13:01:05 2025 +0000\n",
      " 1 file changed, 1 insertion(+)\n",
      "[main a85229f110] commit 1\n",
      " Date: Fri Jan 3 13:01:05 2025 +0000\n",
      " 1 file changed, 1 insertion(+)\n",
      "[main 8fd94584e0] commit 1\n",
      " Date: Fri Jan 3 13:01:05 2025 +0000\n",
      " 1 file changed, 1 insertion(+)\n",
      "[main 88c80e2afe] commit 1\n",
      " Date: Fri Jan 3 13:01:05 2025 +0000\n",
      " 1 file changed, 1 insertion(+)\n",
      "[main 6cca46f912] commit 1\n",
      " Date: Fri Jan 3 13:01:05 2025 +0000\n",
      " 1 file changed, 1 insertion(+)\n",
      "[main f7cf1517a1] commit 1\n",
      " Date: Fri Jan 3 13:01:05 2025 +0000\n",
      " 1 file changed, 1 insertion(+)\n",
      "[main 631cbddb98] commit 1\n",
      " Date: Fri Jan 3 13:01:05 2025 +0000\n",
      " 1 file changed, 1 insertion(+)\n",
      "[main ad612e3502] commit 1\n",
      " Date: Fri Jan 3 13:01:05 2025 +0000\n",
      " 1 file changed, 1 insertion(+)\n",
      "[main 98bc567bd3] commit 1\n",
      " Date: Fri Jan 3 13:01:05 2025 +0000\n",
      " 2 files changed, 52 insertions(+)\n",
      "[main 930b35c2d8] commit 1\n",
      " Date: Fri Jan 3 13:01:05 2025 +0000\n",
      " 1 file changed, 1 insertion(+)\n"
     ]
    },
    {
     "name": "stderr",
     "output_type": "stream",
     "text": [
      "To https://github.com/ahammadmejbah/The-90-Day-PyTorch-Mastery-Roadmap\n",
      "   575efc6240..930b35c2d8  main -> main\n"
     ]
    },
    {
     "name": "stdout",
     "output_type": "stream",
     "text": [
      "branch 'main' set up to track 'origin/main'.\n",
      "[main ecf3c2f1fa] commit 1\n",
      " Date: Fri Jan 3 13:01:06 2025 +0000\n",
      " 1 file changed, 1 insertion(+)\n",
      "[main 9bae3e33da] commit 1\n",
      " Date: Fri Jan 3 13:01:06 2025 +0000\n",
      " 1 file changed, 1 insertion(+)\n",
      "[main ee27f51e66] commit 1\n",
      " Date: Fri Jan 3 13:01:07 2025 +0000\n",
      " 1 file changed, 1 insertion(+)\n",
      "[main e4f3801a3b] commit 1\n",
      " Date: Fri Jan 3 13:01:07 2025 +0000\n",
      " 1 file changed, 1 insertion(+)\n",
      "[main e64b90165b] commit 1\n",
      " Date: Fri Jan 3 13:01:07 2025 +0000\n",
      " 1 file changed, 1 insertion(+)\n",
      "[main f7fb91a08b] commit 1\n",
      " Date: Fri Jan 3 13:01:07 2025 +0000\n",
      " 1 file changed, 1 insertion(+)\n",
      "[main 69f401237c] commit 1\n",
      " Date: Fri Jan 3 13:01:07 2025 +0000\n",
      " 1 file changed, 1 insertion(+)\n",
      "[main e6a0240719] commit 1\n",
      " Date: Fri Jan 3 13:01:07 2025 +0000\n",
      " 1 file changed, 1 insertion(+)\n",
      "[main 5932652125] commit 1\n",
      " Date: Fri Jan 3 13:01:07 2025 +0000\n",
      " 1 file changed, 1 insertion(+)\n",
      "[main 1dffb31e34] commit 1\n",
      " Date: Fri Jan 3 13:01:07 2025 +0000\n",
      " 1 file changed, 1 insertion(+)\n"
     ]
    },
    {
     "name": "stderr",
     "output_type": "stream",
     "text": [
      "To https://github.com/ahammadmejbah/The-90-Day-PyTorch-Mastery-Roadmap\n",
      "   930b35c2d8..1dffb31e34  main -> main\n"
     ]
    },
    {
     "name": "stdout",
     "output_type": "stream",
     "text": [
      "branch 'main' set up to track 'origin/main'.\n",
      "[main 7b363e614b] commit 1\n",
      " Date: Fri Jan 3 13:01:08 2025 +0000\n",
      " 1 file changed, 1 insertion(+)\n",
      "[main 3ea757aaad] commit 1\n",
      " Date: Fri Jan 3 13:01:08 2025 +0000\n",
      " 1 file changed, 1 insertion(+)\n",
      "[main 3e8135b94f] commit 1\n",
      " Date: Fri Jan 3 13:01:08 2025 +0000\n",
      " 1 file changed, 1 insertion(+)\n",
      "[main 6ac62c6781] commit 1\n",
      " Date: Fri Jan 3 13:01:08 2025 +0000\n",
      " 1 file changed, 1 insertion(+)\n"
     ]
    },
    {
     "name": "stderr",
     "output_type": "stream",
     "text": [
      "To https://github.com/ahammadmejbah/The-90-Day-PyTorch-Mastery-Roadmap\n",
      "   1dffb31e34..6ac62c6781  main -> main\n"
     ]
    },
    {
     "name": "stdout",
     "output_type": "stream",
     "text": [
      "branch 'main' set up to track 'origin/main'.\n",
      "[main d00c8ebffb] commit 1\n",
      " Date: Fri Jan 3 13:01:10 2025 +0000\n",
      " 1 file changed, 1 insertion(+)\n",
      "[main a4df2e29e3] commit 1\n",
      " Date: Fri Jan 3 13:01:10 2025 +0000\n",
      " 1 file changed, 1 insertion(+)\n",
      "[main 6cd8c14743] commit 1\n",
      " Date: Fri Jan 3 13:01:10 2025 +0000\n",
      " 1 file changed, 1 insertion(+)\n",
      "[main fe981f9f9a] commit 1\n",
      " Date: Fri Jan 3 13:01:10 2025 +0000\n",
      " 1 file changed, 1 insertion(+)\n",
      "[main c903a9007a] commit 1\n",
      " Date: Fri Jan 3 13:01:10 2025 +0000\n",
      " 1 file changed, 1 insertion(+)\n"
     ]
    },
    {
     "name": "stderr",
     "output_type": "stream",
     "text": [
      "To https://github.com/ahammadmejbah/The-90-Day-PyTorch-Mastery-Roadmap\n",
      "   6ac62c6781..c903a9007a  main -> main\n"
     ]
    },
    {
     "name": "stdout",
     "output_type": "stream",
     "text": [
      "branch 'main' set up to track 'origin/main'.\n",
      "[main 22804a3ee7] commit 1\n",
      " Date: Fri Jan 3 13:01:11 2025 +0000\n",
      " 1 file changed, 1 insertion(+)\n",
      "[main 4c9c77b1d9] commit 1\n",
      " Date: Fri Jan 3 13:01:11 2025 +0000\n",
      " 1 file changed, 1 insertion(+)\n",
      "[main a56ecb550b] commit 1\n",
      " Date: Fri Jan 3 13:01:11 2025 +0000\n",
      " 1 file changed, 1 insertion(+)\n",
      "[main 95134a8ef7] commit 1\n",
      " Date: Fri Jan 3 13:01:11 2025 +0000\n",
      " 1 file changed, 1 insertion(+)\n",
      "[main f7ea8680ec] commit 1\n",
      " Date: Fri Jan 3 13:01:11 2025 +0000\n",
      " 1 file changed, 1 insertion(+)\n",
      "[main 51676df9b2] commit 1\n",
      " Date: Fri Jan 3 13:01:11 2025 +0000\n",
      " 1 file changed, 1 insertion(+)\n",
      "[main 1f76bbf87b] commit 1\n",
      " Date: Fri Jan 3 13:01:11 2025 +0000\n",
      " 1 file changed, 1 insertion(+)\n"
     ]
    }
   ],
   "source": [
    "import os\n",
    "from random import randint\n",
    "\n",
    "for i in range(100):\n",
    "    for i in range(1, 2):\n",
    "        commit_count = randint(1, 10)\n",
    "        for _ in range(commit_count):\n",
    "            d = f\"{i} days ago\"\n",
    "            with open('file.txt', 'a') as file:\n",
    "                file.write(d + \"\\n\")  # Added newline for readability\n",
    "\n",
    "            os.system('git add .')\n",
    "            # Use proper date formatting for Git\n",
    "            commit_date = f\"{i} days ago\"\n",
    "            os.system(f'git commit --date=\"{commit_date}\" -m \"commit {i}\"')\n",
    "\n",
    "        # Ensure the final push uses standard spaces\n",
    "    os.system('git push -u origin main')"
   ]
  },
  {
   "cell_type": "code",
   "execution_count": null,
   "metadata": {},
   "outputs": [],
   "source": []
  }
 ],
 "metadata": {
  "kernelspec": {
   "display_name": "Python 3",
   "language": "python",
   "name": "python3"
  },
  "language_info": {
   "codemirror_mode": {
    "name": "ipython",
    "version": 3
   },
   "file_extension": ".py",
   "mimetype": "text/x-python",
   "name": "python",
   "nbconvert_exporter": "python",
   "pygments_lexer": "ipython3",
   "version": "3.12.1"
  }
 },
 "nbformat": 4,
 "nbformat_minor": 2
}
