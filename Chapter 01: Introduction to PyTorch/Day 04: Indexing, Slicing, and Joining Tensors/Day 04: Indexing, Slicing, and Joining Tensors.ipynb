{
 "cells": [
  {
   "cell_type": "markdown",
   "metadata": {},
   "source": [
    "### **Day 4: Indexing, Slicing, and Joining Tensors**\n",
    "\n",
    "Welcome to **Day 4** of your **90-Day PyTorch Mastery Plan**! Today, we delve into the essential skills of **Indexing, Slicing, and Joining Tensors**. Mastering these operations is crucial for data manipulation, preprocessing, and preparing inputs for neural networks. Through comprehensive explanations and extensive code examples, you'll gain the proficiency needed to handle tensors efficiently in various deep learning tasks.\n",
    "\n",
    "---\n",
    "\n",
    "## 📑 **Table of Contents**\n",
    "1. [Topics Overview](#1-topics-overview)\n",
    "2. [Indexing and Slicing Tensors](#2-indexing-and-slicing-tensors)\n",
    "    - [2.1. Basic Indexing](#21-basic-indexing)\n",
    "    - [2.2. Advanced Indexing](#22-advanced-indexing)\n",
    "    - [2.3. Slicing Tensors](#23-slicing-tensors)\n",
    "    - [2.4. Boolean Indexing](#24-boolean-indexing)\n",
    "    - [2.5. Fancy Indexing](#25-fancy-indexing)\n",
    "3. [Joining and Splitting Tensors](#3-joining-and-splitting-tensors)\n",
    "    - [3.1. Concatenation with `torch.cat`](#31-concatenation-with-torchcat)\n",
    "    - [3.2. Stacking with `torch.stack`](#32-stacking-with-torchstack)\n",
    "    - [3.3. Splitting with `torch.split`](#33-splitting-with-torchspl)\n",
    "    - [3.4. Other Joining Functions](#34-other-joining-functions)\n",
    "4. [Practical Activities](#4-practical-activities)\n",
    "    - [4.1. Practicing Indexing and Slicing](#41-practicing-indexing-and-slicing)\n",
    "    - [4.2. Exploring Joining Functions](#42-exploring-joining-functions)\n",
    "    - [4.3. Combining Indexing, Slicing, and Joining](#43-combining-indexing-slicing-and-joining)\n",
    "5. [Resources](#5-resources)\n",
    "6. [Learning Objectives](#6-learning-objectives)\n",
    "7. [Expected Outcomes](#7-expected-outcomes)\n",
    "8. [Tips for Success](#8-tips-for-success)\n",
    "9. [Advanced Tips and Best Practices](#9-advanced-tips-and-best-practices)\n",
    "10. [Comprehensive Summary](#10-comprehensive-summary)\n",
    "11. [Moving Forward](#11-moving-forward)\n",
    "12. [Final Encouragement](#12-final-encouragement)\n",
    "\n",
    "---\n",
    "\n",
    "## 1. Topics Overview\n",
    "\n",
    "### **Indexing and Slicing Tensors**\n",
    "Indexing and slicing are fundamental operations that allow you to access and manipulate specific elements or sub-tensors within a larger tensor. These operations are analogous to indexing and slicing in Python lists and NumPy arrays but come with additional capabilities tailored for deep learning workflows.\n",
    "\n",
    "### **Joining and Splitting Tensors**\n",
    "Joining tensors involves combining multiple tensors into a single tensor, while splitting tensors refers to dividing a tensor into smaller tensors. These operations are essential for tasks such as batch processing, data augmentation, and preparing inputs for neural network layers.\n",
    "\n",
    "---\n",
    "\n",
    "## 2. Indexing and Slicing Tensors\n",
    "\n",
    "### 2.1. Basic Indexing\n",
    "\n",
    "**Definition:**\n",
    "Basic indexing allows you to access individual elements or subsets of elements within a tensor using their indices."
   ]
  },
  {
   "cell_type": "code",
   "execution_count": 3,
   "metadata": {},
   "outputs": [
    {
     "name": "stdout",
     "output_type": "stream",
     "text": [
      "[main 4845bbd64a] commit 1\n",
      " Date: Thu Jan 2 11:39:16 2025 +0000\n",
      " 2 files changed, 53 insertions(+), 1 deletion(-)\n",
      "[main c8ac3d0c54] commit 1\n",
      " Date: Thu Jan 2 11:39:16 2025 +0000\n",
      " 1 file changed, 1 insertion(+)\n",
      "[main b7783147a8] commit 1\n",
      " Date: Thu Jan 2 11:39:16 2025 +0000\n",
      " 1 file changed, 1 insertion(+)\n",
      "[main 058b08b570] commit 1\n",
      " Date: Thu Jan 2 11:39:16 2025 +0000\n",
      " 1 file changed, 1 insertion(+)\n",
      "[main 1fd87277b0] commit 1\n",
      " Date: Thu Jan 2 11:39:16 2025 +0000\n",
      " 1 file changed, 1 insertion(+)\n",
      "[main 8b49f37dbd] commit 1\n",
      " Date: Thu Jan 2 11:39:16 2025 +0000\n",
      " 1 file changed, 1 insertion(+)\n"
     ]
    },
    {
     "name": "stderr",
     "output_type": "stream",
     "text": [
      "To https://github.com/ahammadmejbah/The-90-Day-PyTorch-Mastery-Roadmap\n",
      "   366830b8aa..8b49f37dbd  main -> main\n"
     ]
    },
    {
     "name": "stdout",
     "output_type": "stream",
     "text": [
      "branch 'main' set up to track 'origin/main'.\n",
      "[main 78a3006eb2] commit 1\n",
      " Date: Thu Jan 2 11:39:17 2025 +0000\n",
      " 2 files changed, 2 insertions(+), 1 deletion(-)\n",
      "[main c4b243e752] commit 1\n",
      " Date: Thu Jan 2 11:39:17 2025 +0000\n",
      " 1 file changed, 1 insertion(+)\n"
     ]
    },
    {
     "name": "stderr",
     "output_type": "stream",
     "text": [
      "To https://github.com/ahammadmejbah/The-90-Day-PyTorch-Mastery-Roadmap\n",
      "   8b49f37dbd..c4b243e752  main -> main\n"
     ]
    },
    {
     "name": "stdout",
     "output_type": "stream",
     "text": [
      "branch 'main' set up to track 'origin/main'.\n",
      "[main d468e7ef89] commit 1\n",
      " Date: Thu Jan 2 11:39:18 2025 +0000\n",
      " 2 files changed, 15 insertions(+), 320 deletions(-)\n",
      "[main a0edcf6e14] commit 1\n",
      " Date: Thu Jan 2 11:39:18 2025 +0000\n",
      " 1 file changed, 1 insertion(+)\n",
      "[main 18b486a8dc] commit 1\n",
      " Date: Thu Jan 2 11:39:18 2025 +0000\n",
      " 1 file changed, 1 insertion(+)\n",
      "[main c298bf303a] commit 1\n",
      " Date: Thu Jan 2 11:39:18 2025 +0000\n",
      " 1 file changed, 1 insertion(+)\n",
      "[main 622b0580b8] commit 1\n",
      " Date: Thu Jan 2 11:39:18 2025 +0000\n",
      " 1 file changed, 1 insertion(+)\n"
     ]
    },
    {
     "name": "stderr",
     "output_type": "stream",
     "text": [
      "To https://github.com/ahammadmejbah/The-90-Day-PyTorch-Mastery-Roadmap\n",
      "   c4b243e752..622b0580b8  main -> main\n"
     ]
    },
    {
     "name": "stdout",
     "output_type": "stream",
     "text": [
      "branch 'main' set up to track 'origin/main'.\n",
      "[main 1637337be2] commit 1\n",
      " Date: Thu Jan 2 11:39:19 2025 +0000\n",
      " 2 files changed, 52 insertions(+)\n",
      "[main 2baef2cf24] commit 1\n",
      " Date: Thu Jan 2 11:39:19 2025 +0000\n",
      " 1 file changed, 1 insertion(+)\n",
      "[main 9e0e7ea10b] commit 1\n",
      " Date: Thu Jan 2 11:39:19 2025 +0000\n",
      " 1 file changed, 1 insertion(+)\n",
      "[main 539acafad5] commit 1\n",
      " Date: Thu Jan 2 11:39:19 2025 +0000\n",
      " 1 file changed, 1 insertion(+)\n",
      "[main 4ea963be81] commit 1\n",
      " Date: Thu Jan 2 11:39:19 2025 +0000\n",
      " 1 file changed, 1 insertion(+)\n",
      "[main 9c7ce5ba84] commit 1\n",
      " Date: Thu Jan 2 11:39:19 2025 +0000\n",
      " 1 file changed, 1 insertion(+)\n"
     ]
    },
    {
     "name": "stderr",
     "output_type": "stream",
     "text": [
      "To https://github.com/ahammadmejbah/The-90-Day-PyTorch-Mastery-Roadmap\n",
      "   622b0580b8..9c7ce5ba84  main -> main\n"
     ]
    },
    {
     "name": "stdout",
     "output_type": "stream",
     "text": [
      "branch 'main' set up to track 'origin/main'.\n",
      "[main 4facc483d6] commit 1\n",
      " Date: Thu Jan 2 11:39:20 2025 +0000\n",
      " 1 file changed, 1 insertion(+)\n",
      "[main 93915869b9] commit 1\n",
      " Date: Thu Jan 2 11:39:20 2025 +0000\n",
      " 1 file changed, 1 insertion(+)\n",
      "[main 816f7dc8a3] commit 1\n",
      " Date: Thu Jan 2 11:39:20 2025 +0000\n",
      " 1 file changed, 1 insertion(+)\n",
      "[main a9d6bab643] commit 1\n",
      " Date: Thu Jan 2 11:39:20 2025 +0000\n",
      " 1 file changed, 1 insertion(+)\n",
      "[main 0a4bcc21c2] commit 1\n",
      " Date: Thu Jan 2 11:39:20 2025 +0000\n",
      " 1 file changed, 1 insertion(+)\n",
      "[main 8a17be763d] commit 1\n",
      " Date: Thu Jan 2 11:39:20 2025 +0000\n",
      " 1 file changed, 1 insertion(+)\n",
      "[main 3b1e9a913a] commit 1\n",
      " Date: Thu Jan 2 11:39:20 2025 +0000\n",
      " 1 file changed, 1 insertion(+)\n",
      "[main f4b9cdd11a] commit 1\n",
      " Date: Thu Jan 2 11:39:20 2025 +0000\n",
      " 1 file changed, 1 insertion(+)\n",
      "[main 5dd3faa3b4] commit 1\n",
      " Date: Thu Jan 2 11:39:20 2025 +0000\n",
      " 1 file changed, 1 insertion(+)\n"
     ]
    },
    {
     "name": "stderr",
     "output_type": "stream",
     "text": [
      "To https://github.com/ahammadmejbah/The-90-Day-PyTorch-Mastery-Roadmap\n",
      "   9c7ce5ba84..5dd3faa3b4  main -> main\n"
     ]
    },
    {
     "name": "stdout",
     "output_type": "stream",
     "text": [
      "branch 'main' set up to track 'origin/main'.\n",
      "[main d6548f6d50] commit 1\n",
      " Date: Thu Jan 2 11:39:22 2025 +0000\n",
      " 2 files changed, 76 insertions(+)\n",
      "[main 13909fc089] commit 1\n",
      " Date: Thu Jan 2 11:39:22 2025 +0000\n",
      " 1 file changed, 1 insertion(+)\n",
      "[main 522f5c2f62] commit 1\n",
      " Date: Thu Jan 2 11:39:22 2025 +0000\n",
      " 1 file changed, 1 insertion(+)\n"
     ]
    },
    {
     "name": "stderr",
     "output_type": "stream",
     "text": [
      "To https://github.com/ahammadmejbah/The-90-Day-PyTorch-Mastery-Roadmap\n",
      "   5dd3faa3b4..522f5c2f62  main -> main\n"
     ]
    },
    {
     "name": "stdout",
     "output_type": "stream",
     "text": [
      "branch 'main' set up to track 'origin/main'.\n",
      "[main 306dc0f06a] commit 1\n",
      " Date: Thu Jan 2 11:39:23 2025 +0000\n",
      " 1 file changed, 1 insertion(+)\n",
      "[main 6bc2fd4a20] commit 1\n",
      " Date: Thu Jan 2 11:39:23 2025 +0000\n",
      " 1 file changed, 1 insertion(+)\n",
      "[main 6cb2610f78] commit 1\n",
      " Date: Thu Jan 2 11:39:23 2025 +0000\n",
      " 1 file changed, 1 insertion(+)\n",
      "[main feffecbaf7] commit 1\n",
      " Date: Thu Jan 2 11:39:23 2025 +0000\n",
      " 1 file changed, 1 insertion(+)\n",
      "[main 72e142f1c4] commit 1\n",
      " Date: Thu Jan 2 11:39:23 2025 +0000\n",
      " 1 file changed, 1 insertion(+)\n",
      "[main 912675d60c] commit 1\n",
      " Date: Thu Jan 2 11:39:23 2025 +0000\n",
      " 1 file changed, 1 insertion(+)\n"
     ]
    },
    {
     "name": "stderr",
     "output_type": "stream",
     "text": [
      "To https://github.com/ahammadmejbah/The-90-Day-PyTorch-Mastery-Roadmap\n",
      "   522f5c2f62..912675d60c  main -> main\n"
     ]
    },
    {
     "name": "stdout",
     "output_type": "stream",
     "text": [
      "branch 'main' set up to track 'origin/main'.\n",
      "[main 1ea18348f8] commit 1\n",
      " Date: Thu Jan 2 11:39:24 2025 +0000\n",
      " 2 files changed, 58 insertions(+)\n",
      "[main 61130f8e87] commit 1\n",
      " Date: Thu Jan 2 11:39:24 2025 +0000\n",
      " 1 file changed, 1 insertion(+)\n",
      "[main 904fd7c7e9] commit 1\n",
      " Date: Thu Jan 2 11:39:24 2025 +0000\n",
      " 1 file changed, 1 insertion(+)\n",
      "[main c1b638070a] commit 1\n",
      " Date: Thu Jan 2 11:39:24 2025 +0000\n",
      " 1 file changed, 1 insertion(+)\n",
      "[main 5a866dda0b] commit 1\n",
      " Date: Thu Jan 2 11:39:24 2025 +0000\n",
      " 1 file changed, 1 insertion(+)\n",
      "[main 498d1e6380] commit 1\n",
      " Date: Thu Jan 2 11:39:24 2025 +0000\n",
      " 1 file changed, 1 insertion(+)\n",
      "[main e24bfd80aa] commit 1\n",
      " Date: Thu Jan 2 11:39:24 2025 +0000\n",
      " 1 file changed, 1 insertion(+)\n",
      "[main 199dc0e1db] commit 1\n",
      " Date: Thu Jan 2 11:39:24 2025 +0000\n",
      " 1 file changed, 1 insertion(+)\n",
      "[main e033322aa2] commit 1\n",
      " Date: Thu Jan 2 11:39:24 2025 +0000\n",
      " 1 file changed, 1 insertion(+)\n",
      "[main 3d066a987d] commit 1\n",
      " Date: Thu Jan 2 11:39:24 2025 +0000\n",
      " 1 file changed, 1 insertion(+)\n"
     ]
    },
    {
     "name": "stderr",
     "output_type": "stream",
     "text": [
      "To https://github.com/ahammadmejbah/The-90-Day-PyTorch-Mastery-Roadmap\n",
      "   912675d60c..3d066a987d  main -> main\n"
     ]
    },
    {
     "name": "stdout",
     "output_type": "stream",
     "text": [
      "branch 'main' set up to track 'origin/main'.\n",
      "[main 7aee5cee12] commit 1\n",
      " Date: Thu Jan 2 11:39:25 2025 +0000\n",
      " 1 file changed, 1 insertion(+)\n",
      "[main 608b89a180] commit 1\n",
      " Date: Thu Jan 2 11:39:25 2025 +0000\n",
      " 1 file changed, 1 insertion(+)\n",
      "[main c755ef71cc] commit 1\n",
      " Date: Thu Jan 2 11:39:25 2025 +0000\n",
      " 1 file changed, 1 insertion(+)\n",
      "[main f766fb0800] commit 1\n",
      " Date: Thu Jan 2 11:39:25 2025 +0000\n",
      " 1 file changed, 1 insertion(+)\n",
      "[main 0add3b2800] commit 1\n",
      " Date: Thu Jan 2 11:39:25 2025 +0000\n",
      " 1 file changed, 1 insertion(+)\n",
      "[main 8972b2c369] commit 1\n",
      " Date: Thu Jan 2 11:39:25 2025 +0000\n",
      " 1 file changed, 1 insertion(+)\n",
      "[main 3cf19fd796] commit 1\n",
      " Date: Thu Jan 2 11:39:25 2025 +0000\n",
      " 1 file changed, 1 insertion(+)\n",
      "[main 8049565923] commit 1\n",
      " Date: Thu Jan 2 11:39:25 2025 +0000\n",
      " 1 file changed, 1 insertion(+)\n"
     ]
    },
    {
     "name": "stderr",
     "output_type": "stream",
     "text": [
      "To https://github.com/ahammadmejbah/The-90-Day-PyTorch-Mastery-Roadmap\n",
      "   3d066a987d..8049565923  main -> main\n"
     ]
    },
    {
     "name": "stdout",
     "output_type": "stream",
     "text": [
      "branch 'main' set up to track 'origin/main'.\n",
      "[main e7095ec5e3] commit 1\n",
      " Date: Thu Jan 2 11:39:27 2025 +0000\n",
      " 2 files changed, 46 insertions(+)\n",
      "[main b94184468c] commit 1\n",
      " Date: Thu Jan 2 11:39:27 2025 +0000\n",
      " 1 file changed, 1 insertion(+)\n"
     ]
    },
    {
     "name": "stderr",
     "output_type": "stream",
     "text": [
      "To https://github.com/ahammadmejbah/The-90-Day-PyTorch-Mastery-Roadmap\n",
      "   8049565923..b94184468c  main -> main\n"
     ]
    },
    {
     "name": "stdout",
     "output_type": "stream",
     "text": [
      "branch 'main' set up to track 'origin/main'.\n",
      "[main 54a94f2859] commit 1\n",
      " Date: Thu Jan 2 11:39:28 2025 +0000\n",
      " 2 files changed, 40 insertions(+)\n",
      "[main 350e780a1b] commit 1\n",
      " Date: Thu Jan 2 11:39:28 2025 +0000\n",
      " 1 file changed, 1 insertion(+)\n",
      "[main 33800868ee] commit 1\n",
      " Date: Thu Jan 2 11:39:28 2025 +0000\n",
      " 1 file changed, 1 insertion(+)\n",
      "[main c8494d6387] commit 1\n",
      " Date: Thu Jan 2 11:39:28 2025 +0000\n",
      " 1 file changed, 1 insertion(+)\n",
      "[main 4e0f3beada] commit 1\n",
      " Date: Thu Jan 2 11:39:28 2025 +0000\n",
      " 1 file changed, 1 insertion(+)\n",
      "[main 11efd3740b] commit 1\n",
      " Date: Thu Jan 2 11:39:28 2025 +0000\n",
      " 1 file changed, 1 insertion(+)\n",
      "[main 1a95605b9e] commit 1\n",
      " Date: Thu Jan 2 11:39:28 2025 +0000\n",
      " 1 file changed, 1 insertion(+)\n",
      "[main b80b34f522] commit 1\n",
      " Date: Thu Jan 2 11:39:28 2025 +0000\n",
      " 1 file changed, 1 insertion(+)\n",
      "[main 30fd5b711f] commit 1\n",
      " Date: Thu Jan 2 11:39:28 2025 +0000\n",
      " 1 file changed, 1 insertion(+)\n",
      "[main f06b97376f] commit 1\n",
      " Date: Thu Jan 2 11:39:28 2025 +0000\n",
      " 1 file changed, 1 insertion(+)\n"
     ]
    },
    {
     "name": "stderr",
     "output_type": "stream",
     "text": [
      "To https://github.com/ahammadmejbah/The-90-Day-PyTorch-Mastery-Roadmap\n",
      "   b94184468c..f06b97376f  main -> main\n"
     ]
    },
    {
     "name": "stdout",
     "output_type": "stream",
     "text": [
      "branch 'main' set up to track 'origin/main'.\n",
      "[main 6e1254e52b] commit 1\n",
      " Date: Thu Jan 2 11:39:29 2025 +0000\n",
      " 2 files changed, 64 insertions(+)\n",
      "[main 0cfcb140ac] commit 1\n",
      " Date: Thu Jan 2 11:39:29 2025 +0000\n",
      " 1 file changed, 1 insertion(+)\n",
      "[main 60c1dc3d86] commit 1\n",
      " Date: Thu Jan 2 11:39:29 2025 +0000\n",
      " 1 file changed, 1 insertion(+)\n",
      "[main 9ade35ffa8] commit 1\n",
      " Date: Thu Jan 2 11:39:29 2025 +0000\n",
      " 1 file changed, 1 insertion(+)\n",
      "[main 2f4247e2a9] commit 1\n",
      " Date: Thu Jan 2 11:39:29 2025 +0000\n",
      " 1 file changed, 1 insertion(+)\n"
     ]
    },
    {
     "name": "stderr",
     "output_type": "stream",
     "text": [
      "To https://github.com/ahammadmejbah/The-90-Day-PyTorch-Mastery-Roadmap\n",
      "   f06b97376f..2f4247e2a9  main -> main\n"
     ]
    },
    {
     "name": "stdout",
     "output_type": "stream",
     "text": [
      "branch 'main' set up to track 'origin/main'.\n",
      "[main 0d6faed596] commit 1\n",
      " Date: Thu Jan 2 11:39:30 2025 +0000\n",
      " 2 files changed, 34 insertions(+)\n",
      "[main 50c9b95486] commit 1\n",
      " Date: Thu Jan 2 11:39:30 2025 +0000\n",
      " 1 file changed, 1 insertion(+)\n",
      "[main c66285c40b] commit 1\n",
      " Date: Thu Jan 2 11:39:30 2025 +0000\n",
      " 1 file changed, 1 insertion(+)\n"
     ]
    },
    {
     "name": "stderr",
     "output_type": "stream",
     "text": [
      "To https://github.com/ahammadmejbah/The-90-Day-PyTorch-Mastery-Roadmap\n",
      "   2f4247e2a9..c66285c40b  main -> main\n"
     ]
    },
    {
     "name": "stdout",
     "output_type": "stream",
     "text": [
      "branch 'main' set up to track 'origin/main'.\n",
      "[main dcdf06d3c8] commit 1\n",
      " Date: Thu Jan 2 11:39:31 2025 +0000\n",
      " 1 file changed, 1 insertion(+)\n",
      "[main 7ee3f01fae] commit 1\n",
      " Date: Thu Jan 2 11:39:31 2025 +0000\n",
      " 1 file changed, 1 insertion(+)\n"
     ]
    },
    {
     "name": "stderr",
     "output_type": "stream",
     "text": [
      "To https://github.com/ahammadmejbah/The-90-Day-PyTorch-Mastery-Roadmap\n",
      "   c66285c40b..7ee3f01fae  main -> main\n"
     ]
    },
    {
     "name": "stdout",
     "output_type": "stream",
     "text": [
      "branch 'main' set up to track 'origin/main'.\n",
      "[main aaad7d483f] commit 1\n",
      " Date: Thu Jan 2 11:39:32 2025 +0000\n",
      " 2 files changed, 46 insertions(+)\n",
      "[main b8c936cdf2] commit 1\n",
      " Date: Thu Jan 2 11:39:32 2025 +0000\n",
      " 1 file changed, 1 insertion(+)\n",
      "[main 2f2ca5cf8c] commit 1\n",
      " Date: Thu Jan 2 11:39:32 2025 +0000\n",
      " 1 file changed, 1 insertion(+)\n",
      "[main cdecd80f19] commit 1\n",
      " Date: Thu Jan 2 11:39:32 2025 +0000\n",
      " 1 file changed, 1 insertion(+)\n",
      "[main 7dc8e9ae44] commit 1\n",
      " Date: Thu Jan 2 11:39:32 2025 +0000\n",
      " 1 file changed, 1 insertion(+)\n",
      "[main 2764ac0cab] commit 1\n",
      " Date: Thu Jan 2 11:39:32 2025 +0000\n",
      " 1 file changed, 1 insertion(+)\n",
      "[main 3e0104e248] commit 1\n",
      " Date: Thu Jan 2 11:39:32 2025 +0000\n",
      " 1 file changed, 1 insertion(+)\n",
      "[main be13183b74] commit 1\n",
      " Date: Thu Jan 2 11:39:33 2025 +0000\n",
      " 1 file changed, 1 insertion(+)\n",
      "[main 1606b7ea91] commit 1\n",
      " Date: Thu Jan 2 11:39:33 2025 +0000\n",
      " 1 file changed, 1 insertion(+)\n",
      "[main e749baa59c] commit 1\n",
      " Date: Thu Jan 2 11:39:33 2025 +0000\n",
      " 1 file changed, 1 insertion(+)\n"
     ]
    },
    {
     "name": "stderr",
     "output_type": "stream",
     "text": [
      "To https://github.com/ahammadmejbah/The-90-Day-PyTorch-Mastery-Roadmap\n",
      "   7ee3f01fae..e749baa59c  main -> main\n"
     ]
    },
    {
     "name": "stdout",
     "output_type": "stream",
     "text": [
      "branch 'main' set up to track 'origin/main'.\n",
      "[main 5e15d38de5] commit 1\n",
      " Date: Thu Jan 2 11:39:34 2025 +0000\n",
      " 1 file changed, 1 insertion(+)\n",
      "[main b736f55eb1] commit 1\n",
      " Date: Thu Jan 2 11:39:34 2025 +0000\n",
      " 1 file changed, 1 insertion(+)\n",
      "[main 6a8a1f88a1] commit 1\n",
      " Date: Thu Jan 2 11:39:34 2025 +0000\n",
      " 1 file changed, 1 insertion(+)\n",
      "[main 162812995f] commit 1\n",
      " Date: Thu Jan 2 11:39:34 2025 +0000\n",
      " 1 file changed, 1 insertion(+)\n",
      "[main e16f860480] commit 1\n",
      " Date: Thu Jan 2 11:39:34 2025 +0000\n",
      " 1 file changed, 1 insertion(+)\n",
      "[main a489837688] commit 1\n",
      " Date: Thu Jan 2 11:39:34 2025 +0000\n",
      " 1 file changed, 1 insertion(+)\n",
      "[main 1ea34e23d3] commit 1\n",
      " Date: Thu Jan 2 11:39:34 2025 +0000\n",
      " 1 file changed, 1 insertion(+)\n",
      "[main b658ae20d9] commit 1\n",
      " Date: Thu Jan 2 11:39:34 2025 +0000\n",
      " 1 file changed, 1 insertion(+)\n",
      "[main 7fb1434cca] commit 1\n",
      " Date: Thu Jan 2 11:39:34 2025 +0000\n",
      " 1 file changed, 1 insertion(+)\n"
     ]
    },
    {
     "name": "stderr",
     "output_type": "stream",
     "text": [
      "To https://github.com/ahammadmejbah/The-90-Day-PyTorch-Mastery-Roadmap\n",
      "   e749baa59c..7fb1434cca  main -> main\n"
     ]
    },
    {
     "name": "stdout",
     "output_type": "stream",
     "text": [
      "branch 'main' set up to track 'origin/main'.\n",
      "[main c57e53fb9a] commit 1\n",
      " Date: Thu Jan 2 11:39:35 2025 +0000\n",
      " 2 files changed, 46 insertions(+)\n",
      "[main c37a75857e] commit 1\n",
      " Date: Thu Jan 2 11:39:35 2025 +0000\n",
      " 1 file changed, 1 insertion(+)\n"
     ]
    },
    {
     "name": "stderr",
     "output_type": "stream",
     "text": [
      "To https://github.com/ahammadmejbah/The-90-Day-PyTorch-Mastery-Roadmap\n",
      "   7fb1434cca..c37a75857e  main -> main\n"
     ]
    },
    {
     "name": "stdout",
     "output_type": "stream",
     "text": [
      "branch 'main' set up to track 'origin/main'.\n",
      "[main d7382ade44] commit 1\n",
      " Date: Thu Jan 2 11:39:36 2025 +0000\n",
      " 2 files changed, 43 insertions(+)\n",
      "[main d22b27a185] commit 1\n",
      " Date: Thu Jan 2 11:39:36 2025 +0000\n",
      " 1 file changed, 1 insertion(+)\n",
      "[main eda7a8fdf6] commit 1\n",
      " Date: Thu Jan 2 11:39:36 2025 +0000\n",
      " 1 file changed, 1 insertion(+)\n",
      "[main 737d11f65d] commit 1\n",
      " Date: Thu Jan 2 11:39:36 2025 +0000\n",
      " 1 file changed, 1 insertion(+)\n",
      "[main 310b062158] commit 1\n",
      " Date: Thu Jan 2 11:39:36 2025 +0000\n",
      " 1 file changed, 1 insertion(+)\n",
      "[main ebc168ec48] commit 1\n",
      " Date: Thu Jan 2 11:39:36 2025 +0000\n",
      " 1 file changed, 1 insertion(+)\n",
      "[main 6fd125f2e5] commit 1\n",
      " Date: Thu Jan 2 11:39:36 2025 +0000\n",
      " 1 file changed, 1 insertion(+)\n",
      "[main c04fe4e553] commit 1\n",
      " Date: Thu Jan 2 11:39:36 2025 +0000\n",
      " 1 file changed, 1 insertion(+)\n"
     ]
    },
    {
     "name": "stderr",
     "output_type": "stream",
     "text": [
      "To https://github.com/ahammadmejbah/The-90-Day-PyTorch-Mastery-Roadmap\n",
      "   c37a75857e..c04fe4e553  main -> main\n"
     ]
    },
    {
     "name": "stdout",
     "output_type": "stream",
     "text": [
      "branch 'main' set up to track 'origin/main'.\n",
      "[main 98c2011aba] commit 1\n",
      " Date: Thu Jan 2 11:39:37 2025 +0000\n",
      " 2 files changed, 61 insertions(+)\n",
      "[main 2489e60906] commit 1\n",
      " Date: Thu Jan 2 11:39:37 2025 +0000\n",
      " 1 file changed, 1 insertion(+)\n",
      "[main 381445b526] commit 1\n",
      " Date: Thu Jan 2 11:39:37 2025 +0000\n",
      " 1 file changed, 1 insertion(+)\n",
      "[main 2a9be1bb2e] commit 1\n",
      " Date: Thu Jan 2 11:39:37 2025 +0000\n",
      " 1 file changed, 1 insertion(+)\n",
      "[main 4d07bb0103] commit 1\n",
      " Date: Thu Jan 2 11:39:37 2025 +0000\n",
      " 1 file changed, 1 insertion(+)\n",
      "[main 7181b9098b] commit 1\n",
      " Date: Thu Jan 2 11:39:37 2025 +0000\n",
      " 1 file changed, 1 insertion(+)\n",
      "[main 73756a1bf9] commit 1\n",
      " Date: Thu Jan 2 11:39:37 2025 +0000\n",
      " 1 file changed, 1 insertion(+)\n",
      "[main 7c93907a36] commit 1\n",
      " Date: Thu Jan 2 11:39:37 2025 +0000\n",
      " 1 file changed, 1 insertion(+)\n"
     ]
    },
    {
     "name": "stderr",
     "output_type": "stream",
     "text": [
      "To https://github.com/ahammadmejbah/The-90-Day-PyTorch-Mastery-Roadmap\n",
      "   c04fe4e553..7c93907a36  main -> main\n"
     ]
    },
    {
     "name": "stdout",
     "output_type": "stream",
     "text": [
      "branch 'main' set up to track 'origin/main'.\n",
      "[main 8f51f4ec28] commit 1\n",
      " Date: Thu Jan 2 11:39:39 2025 +0000\n",
      " 1 file changed, 1 insertion(+)\n"
     ]
    },
    {
     "name": "stderr",
     "output_type": "stream",
     "text": [
      "To https://github.com/ahammadmejbah/The-90-Day-PyTorch-Mastery-Roadmap\n",
      "   7c93907a36..8f51f4ec28  main -> main\n"
     ]
    },
    {
     "name": "stdout",
     "output_type": "stream",
     "text": [
      "branch 'main' set up to track 'origin/main'.\n",
      "[main 186d16c231] commit 1\n",
      " Date: Thu Jan 2 11:39:40 2025 +0000\n",
      " 2 files changed, 40 insertions(+)\n",
      "[main 532e3f6e64] commit 1\n",
      " Date: Thu Jan 2 11:39:40 2025 +0000\n",
      " 1 file changed, 1 insertion(+)\n",
      "[main 206d8d739e] commit 1\n",
      " Date: Thu Jan 2 11:39:40 2025 +0000\n",
      " 1 file changed, 1 insertion(+)\n",
      "[main 6beb9fe977] commit 1\n",
      " Date: Thu Jan 2 11:39:40 2025 +0000\n",
      " 1 file changed, 1 insertion(+)\n"
     ]
    },
    {
     "name": "stderr",
     "output_type": "stream",
     "text": [
      "To https://github.com/ahammadmejbah/The-90-Day-PyTorch-Mastery-Roadmap\n",
      "   8f51f4ec28..6beb9fe977  main -> main\n"
     ]
    },
    {
     "name": "stdout",
     "output_type": "stream",
     "text": [
      "branch 'main' set up to track 'origin/main'.\n",
      "[main fe003e2437] commit 1\n",
      " Date: Thu Jan 2 11:39:41 2025 +0000\n",
      " 2 files changed, 46 insertions(+)\n",
      "[main 334b45e739] commit 1\n",
      " Date: Thu Jan 2 11:39:41 2025 +0000\n",
      " 1 file changed, 1 insertion(+)\n",
      "[main 5e2da88ecf] commit 1\n",
      " Date: Thu Jan 2 11:39:41 2025 +0000\n",
      " 1 file changed, 1 insertion(+)\n",
      "[main 9824cc9b26] commit 1\n",
      " Date: Thu Jan 2 11:39:41 2025 +0000\n",
      " 1 file changed, 1 insertion(+)\n",
      "[main dc83ae5d6e] commit 1\n",
      " Date: Thu Jan 2 11:39:41 2025 +0000\n",
      " 1 file changed, 1 insertion(+)\n",
      "[main 9158387067] commit 1\n",
      " Date: Thu Jan 2 11:39:41 2025 +0000\n",
      " 1 file changed, 1 insertion(+)\n",
      "[main 4a73a2e904] commit 1\n",
      " Date: Thu Jan 2 11:39:41 2025 +0000\n",
      " 1 file changed, 1 insertion(+)\n",
      "[main 9f4845dae6] commit 1\n",
      " Date: Thu Jan 2 11:39:41 2025 +0000\n",
      " 1 file changed, 1 insertion(+)\n",
      "[main 30bace5fed] commit 1\n",
      " Date: Thu Jan 2 11:39:41 2025 +0000\n",
      " 1 file changed, 1 insertion(+)\n",
      "[main a89e30a7d7] commit 1\n",
      " Date: Thu Jan 2 11:39:41 2025 +0000\n",
      " 1 file changed, 1 insertion(+)\n"
     ]
    },
    {
     "name": "stderr",
     "output_type": "stream",
     "text": [
      "To https://github.com/ahammadmejbah/The-90-Day-PyTorch-Mastery-Roadmap\n",
      "   6beb9fe977..a89e30a7d7  main -> main\n"
     ]
    },
    {
     "name": "stdout",
     "output_type": "stream",
     "text": [
      "branch 'main' set up to track 'origin/main'.\n",
      "[main 56ca04d65e] commit 1\n",
      " Date: Thu Jan 2 11:39:42 2025 +0000\n",
      " 1 file changed, 1 insertion(+)\n",
      "[main f39d7e1d8b] commit 1\n",
      " Date: Thu Jan 2 11:39:42 2025 +0000\n",
      " 1 file changed, 1 insertion(+)\n",
      "[main 9150364973] commit 1\n",
      " Date: Thu Jan 2 11:39:42 2025 +0000\n",
      " 1 file changed, 1 insertion(+)\n",
      "[main 7a5e76673b] commit 1\n",
      " Date: Thu Jan 2 11:39:42 2025 +0000\n",
      " 1 file changed, 1 insertion(+)\n"
     ]
    },
    {
     "name": "stderr",
     "output_type": "stream",
     "text": [
      "To https://github.com/ahammadmejbah/The-90-Day-PyTorch-Mastery-Roadmap\n",
      "   a89e30a7d7..7a5e76673b  main -> main\n"
     ]
    },
    {
     "name": "stdout",
     "output_type": "stream",
     "text": [
      "branch 'main' set up to track 'origin/main'.\n",
      "[main a240397e08] commit 1\n",
      " Date: Thu Jan 2 11:39:43 2025 +0000\n",
      " 2 files changed, 73 insertions(+)\n",
      "[main f1d0159133] commit 1\n",
      " Date: Thu Jan 2 11:39:43 2025 +0000\n",
      " 1 file changed, 1 insertion(+)\n",
      "[main 3d646778c0] commit 1\n",
      " Date: Thu Jan 2 11:39:43 2025 +0000\n",
      " 1 file changed, 1 insertion(+)\n",
      "[main 3276f07324] commit 1\n",
      " Date: Thu Jan 2 11:39:43 2025 +0000\n",
      " 1 file changed, 1 insertion(+)\n",
      "[main 33332da4c8] commit 1\n",
      " Date: Thu Jan 2 11:39:43 2025 +0000\n",
      " 1 file changed, 1 insertion(+)\n",
      "[main 449c706c04] commit 1\n",
      " Date: Thu Jan 2 11:39:43 2025 +0000\n",
      " 1 file changed, 1 insertion(+)\n",
      "[main d296ef89a2] commit 1\n",
      " Date: Thu Jan 2 11:39:43 2025 +0000\n",
      " 1 file changed, 1 insertion(+)\n"
     ]
    },
    {
     "name": "stderr",
     "output_type": "stream",
     "text": [
      "To https://github.com/ahammadmejbah/The-90-Day-PyTorch-Mastery-Roadmap\n",
      "   7a5e76673b..d296ef89a2  main -> main\n"
     ]
    },
    {
     "name": "stdout",
     "output_type": "stream",
     "text": [
      "branch 'main' set up to track 'origin/main'.\n",
      "[main 7beca3bae5] commit 1\n",
      " Date: Thu Jan 2 11:39:44 2025 +0000\n",
      " 1 file changed, 1 insertion(+)\n",
      "[main dd3b4c655a] commit 1\n",
      " Date: Thu Jan 2 11:39:44 2025 +0000\n",
      " 1 file changed, 1 insertion(+)\n",
      "[main c7a03a13d2] commit 1\n",
      " Date: Thu Jan 2 11:39:44 2025 +0000\n",
      " 1 file changed, 1 insertion(+)\n",
      "[main 0a0b72cf4f] commit 1\n",
      " Date: Thu Jan 2 11:39:44 2025 +0000\n",
      " 1 file changed, 1 insertion(+)\n",
      "[main 6f8b4b1213] commit 1\n",
      " Date: Thu Jan 2 11:39:45 2025 +0000\n",
      " 1 file changed, 1 insertion(+)\n",
      "[main ba23d9ef3e] commit 1\n",
      " Date: Thu Jan 2 11:39:45 2025 +0000\n",
      " 1 file changed, 1 insertion(+)\n",
      "[main 8ef1e186c9] commit 1\n",
      " Date: Thu Jan 2 11:39:45 2025 +0000\n",
      " 1 file changed, 1 insertion(+)\n"
     ]
    },
    {
     "name": "stderr",
     "output_type": "stream",
     "text": [
      "To https://github.com/ahammadmejbah/The-90-Day-PyTorch-Mastery-Roadmap\n",
      "   d296ef89a2..8ef1e186c9  main -> main\n"
     ]
    },
    {
     "name": "stdout",
     "output_type": "stream",
     "text": [
      "branch 'main' set up to track 'origin/main'.\n",
      "[main 7c69332b1f] commit 1\n",
      " Date: Thu Jan 2 11:39:46 2025 +0000\n",
      " 2 files changed, 37 insertions(+)\n",
      "[main c1a58d7112] commit 1\n",
      " Date: Thu Jan 2 11:39:46 2025 +0000\n",
      " 1 file changed, 1 insertion(+)\n",
      "[main f8c5bdd22c] commit 1\n",
      " Date: Thu Jan 2 11:39:46 2025 +0000\n",
      " 1 file changed, 1 insertion(+)\n",
      "[main fd07731efa] commit 1\n",
      " Date: Thu Jan 2 11:39:46 2025 +0000\n",
      " 1 file changed, 1 insertion(+)\n",
      "[main 140e33daba] commit 1\n",
      " Date: Thu Jan 2 11:39:46 2025 +0000\n",
      " 1 file changed, 1 insertion(+)\n",
      "[main a7c8dfb90b] commit 1\n",
      " Date: Thu Jan 2 11:39:46 2025 +0000\n",
      " 1 file changed, 1 insertion(+)\n",
      "[main 524777d6df] commit 1\n",
      " Date: Thu Jan 2 11:39:46 2025 +0000\n",
      " 1 file changed, 1 insertion(+)\n",
      "[main 556436a3d0] commit 1\n",
      " Date: Thu Jan 2 11:39:46 2025 +0000\n",
      " 1 file changed, 1 insertion(+)\n"
     ]
    },
    {
     "name": "stderr",
     "output_type": "stream",
     "text": [
      "To https://github.com/ahammadmejbah/The-90-Day-PyTorch-Mastery-Roadmap\n",
      "   8ef1e186c9..556436a3d0  main -> main\n"
     ]
    },
    {
     "name": "stdout",
     "output_type": "stream",
     "text": [
      "branch 'main' set up to track 'origin/main'.\n",
      "[main e0c24121d7] commit 1\n",
      " Date: Thu Jan 2 11:39:47 2025 +0000\n",
      " 2 files changed, 37 insertions(+)\n"
     ]
    },
    {
     "name": "stderr",
     "output_type": "stream",
     "text": [
      "To https://github.com/ahammadmejbah/The-90-Day-PyTorch-Mastery-Roadmap\n",
      "   556436a3d0..e0c24121d7  main -> main\n"
     ]
    },
    {
     "name": "stdout",
     "output_type": "stream",
     "text": [
      "branch 'main' set up to track 'origin/main'.\n",
      "[main 1045aafcde] commit 1\n",
      " Date: Thu Jan 2 11:39:48 2025 +0000\n",
      " 1 file changed, 1 insertion(+)\n",
      "[main cc0b81a49b] commit 1\n",
      " Date: Thu Jan 2 11:39:48 2025 +0000\n",
      " 1 file changed, 1 insertion(+)\n",
      "[main 928c547b63] commit 1\n",
      " Date: Thu Jan 2 11:39:48 2025 +0000\n",
      " 1 file changed, 1 insertion(+)\n",
      "[main 9a3e08e820] commit 1\n",
      " Date: Thu Jan 2 11:39:48 2025 +0000\n",
      " 1 file changed, 1 insertion(+)\n",
      "[main 7739693905] commit 1\n",
      " Date: Thu Jan 2 11:39:48 2025 +0000\n",
      " 1 file changed, 1 insertion(+)\n",
      "[main 60c0c99a38] commit 1\n",
      " Date: Thu Jan 2 11:39:48 2025 +0000\n",
      " 1 file changed, 1 insertion(+)\n",
      "[main 2a303f3833] commit 1\n",
      " Date: Thu Jan 2 11:39:48 2025 +0000\n",
      " 1 file changed, 1 insertion(+)\n",
      "[main 186755e527] commit 1\n",
      " Date: Thu Jan 2 11:39:48 2025 +0000\n",
      " 2 files changed, 58 insertions(+)\n"
     ]
    },
    {
     "name": "stderr",
     "output_type": "stream",
     "text": [
      "To https://github.com/ahammadmejbah/The-90-Day-PyTorch-Mastery-Roadmap\n",
      "   e0c24121d7..186755e527  main -> main\n"
     ]
    },
    {
     "name": "stdout",
     "output_type": "stream",
     "text": [
      "branch 'main' set up to track 'origin/main'.\n",
      "[main 5f4baafac1] commit 1\n",
      " Date: Thu Jan 2 11:39:49 2025 +0000\n",
      " 1 file changed, 1 insertion(+)\n",
      "[main 700e4b89f8] commit 1\n",
      " Date: Thu Jan 2 11:39:49 2025 +0000\n",
      " 1 file changed, 1 insertion(+)\n",
      "[main 2daece8ed1] commit 1\n",
      " Date: Thu Jan 2 11:39:49 2025 +0000\n",
      " 1 file changed, 1 insertion(+)\n",
      "[main 708cb10751] commit 1\n",
      " Date: Thu Jan 2 11:39:49 2025 +0000\n",
      " 1 file changed, 1 insertion(+)\n",
      "[main d0d1e54c17] commit 1\n",
      " Date: Thu Jan 2 11:39:49 2025 +0000\n",
      " 1 file changed, 1 insertion(+)\n",
      "[main 1c7e8e244d] commit 1\n",
      " Date: Thu Jan 2 11:39:49 2025 +0000\n",
      " 1 file changed, 1 insertion(+)\n",
      "[main dc8e56dd90] commit 1\n",
      " Date: Thu Jan 2 11:39:49 2025 +0000\n",
      " 1 file changed, 1 insertion(+)\n",
      "[main bd874ec313] commit 1\n",
      " Date: Thu Jan 2 11:39:49 2025 +0000\n",
      " 1 file changed, 1 insertion(+)\n",
      "[main 0465b8874f] commit 1\n",
      " Date: Thu Jan 2 11:39:50 2025 +0000\n",
      " 1 file changed, 1 insertion(+)\n",
      "[main 2dee04a6f0] commit 1\n",
      " Date: Thu Jan 2 11:39:50 2025 +0000\n",
      " 1 file changed, 1 insertion(+)\n"
     ]
    },
    {
     "name": "stderr",
     "output_type": "stream",
     "text": [
      "To https://github.com/ahammadmejbah/The-90-Day-PyTorch-Mastery-Roadmap\n",
      "   186755e527..2dee04a6f0  main -> main\n"
     ]
    },
    {
     "name": "stdout",
     "output_type": "stream",
     "text": [
      "branch 'main' set up to track 'origin/main'.\n",
      "[main cec9ec4863] commit 1\n",
      " Date: Thu Jan 2 11:39:51 2025 +0000\n",
      " 1 file changed, 1 insertion(+)\n",
      "[main 370ce8d2b5] commit 1\n",
      " Date: Thu Jan 2 11:39:51 2025 +0000\n",
      " 2 files changed, 40 insertions(+)\n",
      "[main 291952fe6e] commit 1\n",
      " Date: Thu Jan 2 11:39:51 2025 +0000\n",
      " 1 file changed, 1 insertion(+)\n",
      "[main 33829d82a5] commit 1\n",
      " Date: Thu Jan 2 11:39:51 2025 +0000\n",
      " 1 file changed, 1 insertion(+)\n",
      "[main bc1139063a] commit 1\n",
      " Date: Thu Jan 2 11:39:51 2025 +0000\n",
      " 1 file changed, 1 insertion(+)\n"
     ]
    },
    {
     "name": "stderr",
     "output_type": "stream",
     "text": [
      "To https://github.com/ahammadmejbah/The-90-Day-PyTorch-Mastery-Roadmap\n",
      "   2dee04a6f0..bc1139063a  main -> main\n"
     ]
    },
    {
     "name": "stdout",
     "output_type": "stream",
     "text": [
      "branch 'main' set up to track 'origin/main'.\n",
      "[main 976e5af6de] commit 1\n",
      " Date: Thu Jan 2 11:39:52 2025 +0000\n",
      " 2 files changed, 76 insertions(+)\n",
      "[main 95fcf16588] commit 1\n",
      " Date: Thu Jan 2 11:39:52 2025 +0000\n",
      " 1 file changed, 1 insertion(+)\n",
      "[main 2ac2fd0cdb] commit 1\n",
      " Date: Thu Jan 2 11:39:52 2025 +0000\n",
      " 1 file changed, 1 insertion(+)\n",
      "[main d3a3bd6ed7] commit 1\n",
      " Date: Thu Jan 2 11:39:52 2025 +0000\n",
      " 1 file changed, 1 insertion(+)\n"
     ]
    },
    {
     "name": "stderr",
     "output_type": "stream",
     "text": [
      "To https://github.com/ahammadmejbah/The-90-Day-PyTorch-Mastery-Roadmap\n",
      "   bc1139063a..d3a3bd6ed7  main -> main\n"
     ]
    },
    {
     "name": "stdout",
     "output_type": "stream",
     "text": [
      "branch 'main' set up to track 'origin/main'.\n",
      "[main 6702a1c56f] commit 1\n",
      " Date: Thu Jan 2 11:39:53 2025 +0000\n",
      " 1 file changed, 1 insertion(+)\n"
     ]
    },
    {
     "name": "stderr",
     "output_type": "stream",
     "text": [
      "To https://github.com/ahammadmejbah/The-90-Day-PyTorch-Mastery-Roadmap\n",
      "   d3a3bd6ed7..6702a1c56f  main -> main\n"
     ]
    },
    {
     "name": "stdout",
     "output_type": "stream",
     "text": [
      "branch 'main' set up to track 'origin/main'.\n",
      "[main 78dfcc737e] commit 1\n",
      " Date: Thu Jan 2 11:39:54 2025 +0000\n",
      " 1 file changed, 1 insertion(+)\n",
      "[main 11c736c556] commit 1\n",
      " Date: Thu Jan 2 11:39:54 2025 +0000\n",
      " 1 file changed, 1 insertion(+)\n",
      "[main ee4836ad90] commit 1\n",
      " Date: Thu Jan 2 11:39:54 2025 +0000\n",
      " 1 file changed, 1 insertion(+)\n",
      "[main e9caea93bb] commit 1\n",
      " Date: Thu Jan 2 11:39:54 2025 +0000\n",
      " 1 file changed, 1 insertion(+)\n"
     ]
    },
    {
     "name": "stderr",
     "output_type": "stream",
     "text": [
      "To https://github.com/ahammadmejbah/The-90-Day-PyTorch-Mastery-Roadmap\n",
      "   6702a1c56f..e9caea93bb  main -> main\n"
     ]
    },
    {
     "name": "stdout",
     "output_type": "stream",
     "text": [
      "branch 'main' set up to track 'origin/main'.\n",
      "[main f1747e877e] commit 1\n",
      " Date: Thu Jan 2 11:39:55 2025 +0000\n",
      " 2 files changed, 46 insertions(+)\n",
      "[main 0b25202f3e] commit 1\n",
      " Date: Thu Jan 2 11:39:55 2025 +0000\n",
      " 1 file changed, 1 insertion(+)\n",
      "[main 7bcba5e979] commit 1\n",
      " Date: Thu Jan 2 11:39:55 2025 +0000\n",
      " 1 file changed, 1 insertion(+)\n"
     ]
    },
    {
     "name": "stderr",
     "output_type": "stream",
     "text": [
      "To https://github.com/ahammadmejbah/The-90-Day-PyTorch-Mastery-Roadmap\n",
      "   e9caea93bb..7bcba5e979  main -> main\n"
     ]
    },
    {
     "name": "stdout",
     "output_type": "stream",
     "text": [
      "branch 'main' set up to track 'origin/main'.\n",
      "[main b2d7ffdc54] commit 1\n",
      " Date: Thu Jan 2 11:39:56 2025 +0000\n",
      " 1 file changed, 1 insertion(+)\n",
      "[main 5726698601] commit 1\n",
      " Date: Thu Jan 2 11:39:56 2025 +0000\n",
      " 1 file changed, 1 insertion(+)\n",
      "[main a973babf5a] commit 1\n",
      " Date: Thu Jan 2 11:39:57 2025 +0000\n",
      " 2 files changed, 52 insertions(+)\n",
      "[main 4d6eb26901] commit 1\n",
      " Date: Thu Jan 2 11:39:57 2025 +0000\n",
      " 1 file changed, 1 insertion(+)\n",
      "[main 1e16bc9259] commit 1\n",
      " Date: Thu Jan 2 11:39:57 2025 +0000\n",
      " 1 file changed, 1 insertion(+)\n",
      "[main adf6d39385] commit 1\n",
      " Date: Thu Jan 2 11:39:57 2025 +0000\n",
      " 1 file changed, 1 insertion(+)\n"
     ]
    },
    {
     "name": "stderr",
     "output_type": "stream",
     "text": [
      "To https://github.com/ahammadmejbah/The-90-Day-PyTorch-Mastery-Roadmap\n",
      "   7bcba5e979..adf6d39385  main -> main\n"
     ]
    },
    {
     "name": "stdout",
     "output_type": "stream",
     "text": [
      "branch 'main' set up to track 'origin/main'.\n",
      "[main a5060ac6ae] commit 1\n",
      " Date: Thu Jan 2 11:39:58 2025 +0000\n",
      " 1 file changed, 1 insertion(+)\n",
      "[main c5b0dbe0bd] commit 1\n",
      " Date: Thu Jan 2 11:39:58 2025 +0000\n",
      " 1 file changed, 1 insertion(+)\n",
      "[main d5a4cc0647] commit 1\n",
      " Date: Thu Jan 2 11:39:58 2025 +0000\n",
      " 1 file changed, 1 insertion(+)\n",
      "[main 13c86cde94] commit 1\n",
      " Date: Thu Jan 2 11:39:58 2025 +0000\n",
      " 1 file changed, 1 insertion(+)\n",
      "[main 6dfec14b5f] commit 1\n",
      " Date: Thu Jan 2 11:39:58 2025 +0000\n",
      " 1 file changed, 1 insertion(+)\n",
      "[main d991dfc598] commit 1\n",
      " Date: Thu Jan 2 11:39:58 2025 +0000\n",
      " 1 file changed, 1 insertion(+)\n",
      "[main 3b38db796a] commit 1\n",
      " Date: Thu Jan 2 11:39:58 2025 +0000\n",
      " 1 file changed, 1 insertion(+)\n"
     ]
    },
    {
     "name": "stderr",
     "output_type": "stream",
     "text": [
      "To https://github.com/ahammadmejbah/The-90-Day-PyTorch-Mastery-Roadmap\n",
      "   adf6d39385..3b38db796a  main -> main\n"
     ]
    },
    {
     "name": "stdout",
     "output_type": "stream",
     "text": [
      "branch 'main' set up to track 'origin/main'.\n",
      "[main 00b5251ef8] commit 1\n",
      " Date: Thu Jan 2 11:39:59 2025 +0000\n",
      " 1 file changed, 1 insertion(+)\n",
      "[main 0351de54e3] commit 1\n",
      " Date: Thu Jan 2 11:39:59 2025 +0000\n",
      " 1 file changed, 1 insertion(+)\n",
      "[main 9df2e93aa1] commit 1\n",
      " Date: Thu Jan 2 11:39:59 2025 +0000\n",
      " 1 file changed, 1 insertion(+)\n",
      "[main 184c5f7537] commit 1\n",
      " Date: Thu Jan 2 11:39:59 2025 +0000\n",
      " 1 file changed, 1 insertion(+)\n",
      "[main 1ef1ffcc8e] commit 1\n",
      " Date: Thu Jan 2 11:39:59 2025 +0000\n",
      " 1 file changed, 1 insertion(+)\n",
      "[main 6980d87ca2] commit 1\n",
      " Date: Thu Jan 2 11:39:59 2025 +0000\n",
      " 1 file changed, 1 insertion(+)\n",
      "[main 7505cd60a3] commit 1\n",
      " Date: Thu Jan 2 11:39:59 2025 +0000\n",
      " 1 file changed, 1 insertion(+)\n"
     ]
    },
    {
     "name": "stderr",
     "output_type": "stream",
     "text": [
      "To https://github.com/ahammadmejbah/The-90-Day-PyTorch-Mastery-Roadmap\n",
      "   3b38db796a..7505cd60a3  main -> main\n"
     ]
    },
    {
     "name": "stdout",
     "output_type": "stream",
     "text": [
      "branch 'main' set up to track 'origin/main'.\n",
      "[main 025dc26958] commit 1\n",
      " Date: Thu Jan 2 11:40:00 2025 +0000\n",
      " 1 file changed, 1 insertion(+)\n",
      "[main 6aace23f8c] commit 1\n",
      " Date: Thu Jan 2 11:40:00 2025 +0000\n",
      " 1 file changed, 1 insertion(+)\n",
      "[main bf8749e331] commit 1\n",
      " Date: Thu Jan 2 11:40:00 2025 +0000\n",
      " 1 file changed, 1 insertion(+)\n",
      "[main 7455b7386a] commit 1\n",
      " Date: Thu Jan 2 11:40:00 2025 +0000\n",
      " 1 file changed, 1 insertion(+)\n",
      "[main 839a2fe597] commit 1\n",
      " Date: Thu Jan 2 11:40:00 2025 +0000\n",
      " 1 file changed, 1 insertion(+)\n",
      "[main 9a08937e25] commit 1\n",
      " Date: Thu Jan 2 11:40:00 2025 +0000\n",
      " 1 file changed, 1 insertion(+)\n"
     ]
    },
    {
     "name": "stderr",
     "output_type": "stream",
     "text": [
      "To https://github.com/ahammadmejbah/The-90-Day-PyTorch-Mastery-Roadmap\n",
      "   7505cd60a3..9a08937e25  main -> main\n"
     ]
    },
    {
     "name": "stdout",
     "output_type": "stream",
     "text": [
      "branch 'main' set up to track 'origin/main'.\n",
      "[main d1cfe5457d] commit 1\n",
      " Date: Thu Jan 2 11:40:01 2025 +0000\n",
      " 2 files changed, 106 insertions(+)\n",
      "[main f877e7ee92] commit 1\n",
      " Date: Thu Jan 2 11:40:01 2025 +0000\n",
      " 1 file changed, 1 insertion(+)\n",
      "[main c04e95eaa4] commit 1\n",
      " Date: Thu Jan 2 11:40:01 2025 +0000\n",
      " 1 file changed, 1 insertion(+)\n"
     ]
    },
    {
     "name": "stderr",
     "output_type": "stream",
     "text": [
      "To https://github.com/ahammadmejbah/The-90-Day-PyTorch-Mastery-Roadmap\n",
      "   9a08937e25..c04e95eaa4  main -> main\n"
     ]
    },
    {
     "name": "stdout",
     "output_type": "stream",
     "text": [
      "branch 'main' set up to track 'origin/main'.\n",
      "[main 27171a3cc7] commit 1\n",
      " Date: Thu Jan 2 11:40:03 2025 +0000\n",
      " 1 file changed, 1 insertion(+)\n"
     ]
    },
    {
     "name": "stderr",
     "output_type": "stream",
     "text": [
      "To https://github.com/ahammadmejbah/The-90-Day-PyTorch-Mastery-Roadmap\n",
      "   c04e95eaa4..27171a3cc7  main -> main\n"
     ]
    },
    {
     "name": "stdout",
     "output_type": "stream",
     "text": [
      "branch 'main' set up to track 'origin/main'.\n",
      "[main 4be9981801] commit 1\n",
      " Date: Thu Jan 2 11:40:04 2025 +0000\n",
      " 1 file changed, 1 insertion(+)\n",
      "[main 76c4e1f26c] commit 1\n",
      " Date: Thu Jan 2 11:40:04 2025 +0000\n",
      " 1 file changed, 1 insertion(+)\n",
      "[main 77075af383] commit 1\n",
      " Date: Thu Jan 2 11:40:04 2025 +0000\n",
      " 1 file changed, 1 insertion(+)\n",
      "[main 0fe5402233] commit 1\n",
      " Date: Thu Jan 2 11:40:04 2025 +0000\n",
      " 1 file changed, 1 insertion(+)\n",
      "[main 731fc42fda] commit 1\n",
      " Date: Thu Jan 2 11:40:04 2025 +0000\n",
      " 1 file changed, 1 insertion(+)\n",
      "[main e1d3a3f73c] commit 1\n",
      " Date: Thu Jan 2 11:40:04 2025 +0000\n",
      " 1 file changed, 1 insertion(+)\n",
      "[main b780c2ad87] commit 1\n",
      " Date: Thu Jan 2 11:40:04 2025 +0000\n",
      " 1 file changed, 1 insertion(+)\n"
     ]
    },
    {
     "name": "stderr",
     "output_type": "stream",
     "text": [
      "To https://github.com/ahammadmejbah/The-90-Day-PyTorch-Mastery-Roadmap\n",
      "   27171a3cc7..b780c2ad87  main -> main\n"
     ]
    },
    {
     "name": "stdout",
     "output_type": "stream",
     "text": [
      "branch 'main' set up to track 'origin/main'.\n",
      "[main d8acf594bc] commit 1\n",
      " Date: Thu Jan 2 11:40:05 2025 +0000\n",
      " 1 file changed, 1 insertion(+)\n",
      "[main ae481681b2] commit 1\n",
      " Date: Thu Jan 2 11:40:05 2025 +0000\n",
      " 1 file changed, 1 insertion(+)\n",
      "[main 9b8ff39f92] commit 1\n",
      " Date: Thu Jan 2 11:40:05 2025 +0000\n",
      " 1 file changed, 1 insertion(+)\n",
      "[main 34cbb3d3c8] commit 1\n",
      " Date: Thu Jan 2 11:40:05 2025 +0000\n",
      " 1 file changed, 1 insertion(+)\n"
     ]
    },
    {
     "name": "stderr",
     "output_type": "stream",
     "text": [
      "To https://github.com/ahammadmejbah/The-90-Day-PyTorch-Mastery-Roadmap\n",
      "   b780c2ad87..34cbb3d3c8  main -> main\n"
     ]
    },
    {
     "name": "stdout",
     "output_type": "stream",
     "text": [
      "branch 'main' set up to track 'origin/main'.\n",
      "[main 9792e1575b] commit 1\n",
      " Date: Thu Jan 2 11:40:06 2025 +0000\n",
      " 2 files changed, 112 insertions(+)\n",
      "[main 82e8dccfe2] commit 1\n",
      " Date: Thu Jan 2 11:40:06 2025 +0000\n",
      " 1 file changed, 1 insertion(+)\n",
      "[main 7b0b816342] commit 1\n",
      " Date: Thu Jan 2 11:40:06 2025 +0000\n",
      " 1 file changed, 1 insertion(+)\n",
      "[main 8950d27434] commit 1\n",
      " Date: Thu Jan 2 11:40:06 2025 +0000\n",
      " 1 file changed, 1 insertion(+)\n",
      "[main 499cbd6f61] commit 1\n",
      " Date: Thu Jan 2 11:40:06 2025 +0000\n",
      " 1 file changed, 1 insertion(+)\n"
     ]
    },
    {
     "name": "stderr",
     "output_type": "stream",
     "text": [
      "To https://github.com/ahammadmejbah/The-90-Day-PyTorch-Mastery-Roadmap\n",
      "   34cbb3d3c8..499cbd6f61  main -> main\n"
     ]
    },
    {
     "name": "stdout",
     "output_type": "stream",
     "text": [
      "branch 'main' set up to track 'origin/main'.\n",
      "[main 7e0a9b68fc] commit 1\n",
      " Date: Thu Jan 2 11:40:07 2025 +0000\n",
      " 1 file changed, 1 insertion(+)\n",
      "[main b74bc2b49f] commit 1\n",
      " Date: Thu Jan 2 11:40:07 2025 +0000\n",
      " 1 file changed, 1 insertion(+)\n"
     ]
    },
    {
     "name": "stderr",
     "output_type": "stream",
     "text": [
      "To https://github.com/ahammadmejbah/The-90-Day-PyTorch-Mastery-Roadmap\n",
      "   499cbd6f61..b74bc2b49f  main -> main\n"
     ]
    },
    {
     "name": "stdout",
     "output_type": "stream",
     "text": [
      "branch 'main' set up to track 'origin/main'.\n",
      "[main 55700b6cbe] commit 1\n",
      " Date: Thu Jan 2 11:40:09 2025 +0000\n",
      " 1 file changed, 1 insertion(+)\n",
      "[main 8959260567] commit 1\n",
      " Date: Thu Jan 2 11:40:09 2025 +0000\n",
      " 1 file changed, 1 insertion(+)\n",
      "[main 6da597e77a] commit 1\n",
      " Date: Thu Jan 2 11:40:09 2025 +0000\n",
      " 1 file changed, 1 insertion(+)\n",
      "[main 28d0735682] commit 1\n",
      " Date: Thu Jan 2 11:40:09 2025 +0000\n",
      " 1 file changed, 1 insertion(+)\n",
      "[main 800c0eaa4e] commit 1\n",
      " Date: Thu Jan 2 11:40:09 2025 +0000\n",
      " 1 file changed, 1 insertion(+)\n",
      "[main 27b305a90a] commit 1\n",
      " Date: Thu Jan 2 11:40:09 2025 +0000\n",
      " 1 file changed, 1 insertion(+)\n",
      "[main dfa3120b2c] commit 1\n",
      " Date: Thu Jan 2 11:40:09 2025 +0000\n",
      " 1 file changed, 1 insertion(+)\n"
     ]
    },
    {
     "name": "stderr",
     "output_type": "stream",
     "text": [
      "To https://github.com/ahammadmejbah/The-90-Day-PyTorch-Mastery-Roadmap\n",
      "   b74bc2b49f..dfa3120b2c  main -> main\n"
     ]
    },
    {
     "name": "stdout",
     "output_type": "stream",
     "text": [
      "branch 'main' set up to track 'origin/main'.\n",
      "[main a1498c078c] commit 1\n",
      " Date: Thu Jan 2 11:40:10 2025 +0000\n",
      " 1 file changed, 1 insertion(+)\n",
      "[main 7eb63d1d96] commit 1\n",
      " Date: Thu Jan 2 11:40:10 2025 +0000\n",
      " 1 file changed, 1 insertion(+)\n",
      "[main bef7bbb7a1] commit 1\n",
      " Date: Thu Jan 2 11:40:10 2025 +0000\n",
      " 1 file changed, 1 insertion(+)\n"
     ]
    },
    {
     "name": "stderr",
     "output_type": "stream",
     "text": [
      "To https://github.com/ahammadmejbah/The-90-Day-PyTorch-Mastery-Roadmap\n",
      "   dfa3120b2c..bef7bbb7a1  main -> main\n"
     ]
    },
    {
     "name": "stdout",
     "output_type": "stream",
     "text": [
      "branch 'main' set up to track 'origin/main'.\n",
      "[main 38420a6abc] commit 1\n",
      " Date: Thu Jan 2 11:40:11 2025 +0000\n",
      " 1 file changed, 1 insertion(+)\n",
      "[main cf173f3d1b] commit 1\n",
      " Date: Thu Jan 2 11:40:11 2025 +0000\n",
      " 1 file changed, 1 insertion(+)\n",
      "[main baf908330a] commit 1\n",
      " Date: Thu Jan 2 11:40:11 2025 +0000\n",
      " 1 file changed, 1 insertion(+)\n",
      "[main e457d983c3] commit 1\n",
      " Date: Thu Jan 2 11:40:11 2025 +0000\n",
      " 1 file changed, 1 insertion(+)\n",
      "[main 44cff823d9] commit 1\n",
      " Date: Thu Jan 2 11:40:11 2025 +0000\n",
      " 1 file changed, 1 insertion(+)\n",
      "[main e93ced1f90] commit 1\n",
      " Date: Thu Jan 2 11:40:11 2025 +0000\n",
      " 1 file changed, 1 insertion(+)\n"
     ]
    },
    {
     "name": "stderr",
     "output_type": "stream",
     "text": [
      "To https://github.com/ahammadmejbah/The-90-Day-PyTorch-Mastery-Roadmap\n",
      "   bef7bbb7a1..e93ced1f90  main -> main\n"
     ]
    },
    {
     "name": "stdout",
     "output_type": "stream",
     "text": [
      "branch 'main' set up to track 'origin/main'.\n",
      "[main bddd4cd80d] commit 1\n",
      " Date: Thu Jan 2 11:40:12 2025 +0000\n",
      " 1 file changed, 1 insertion(+)\n",
      "[main 2952fd0bda] commit 1\n",
      " Date: Thu Jan 2 11:40:12 2025 +0000\n",
      " 1 file changed, 1 insertion(+)\n",
      "[main 1c62eff2ca] commit 1\n",
      " Date: Thu Jan 2 11:40:12 2025 +0000\n",
      " 1 file changed, 1 insertion(+)\n",
      "[main 061b4655cd] commit 1\n",
      " Date: Thu Jan 2 11:40:12 2025 +0000\n",
      " 1 file changed, 1 insertion(+)\n",
      "[main 780034fdec] commit 1\n",
      " Date: Thu Jan 2 11:40:12 2025 +0000\n",
      " 1 file changed, 1 insertion(+)\n",
      "[main e0bd89bc83] commit 1\n",
      " Date: Thu Jan 2 11:40:12 2025 +0000\n",
      " 1 file changed, 1 insertion(+)\n",
      "[main b5566a33f6] commit 1\n",
      " Date: Thu Jan 2 11:40:12 2025 +0000\n",
      " 1 file changed, 1 insertion(+)\n",
      "[main fea9f39e3d] commit 1\n",
      " Date: Thu Jan 2 11:40:12 2025 +0000\n",
      " 1 file changed, 1 insertion(+)\n",
      "[main ced52632de] commit 1\n",
      " Date: Thu Jan 2 11:40:12 2025 +0000\n",
      " 1 file changed, 1 insertion(+)\n"
     ]
    },
    {
     "name": "stderr",
     "output_type": "stream",
     "text": [
      "To https://github.com/ahammadmejbah/The-90-Day-PyTorch-Mastery-Roadmap\n",
      "   e93ced1f90..ced52632de  main -> main\n"
     ]
    },
    {
     "name": "stdout",
     "output_type": "stream",
     "text": [
      "branch 'main' set up to track 'origin/main'.\n",
      "[main b4390bdcbd] commit 1\n",
      " Date: Thu Jan 2 11:40:13 2025 +0000\n",
      " 2 files changed, 172 insertions(+)\n",
      "[main fdbb72027d] commit 1\n",
      " Date: Thu Jan 2 11:40:13 2025 +0000\n",
      " 1 file changed, 1 insertion(+)\n",
      "[main 43c94693fd] commit 1\n",
      " Date: Thu Jan 2 11:40:13 2025 +0000\n",
      " 1 file changed, 1 insertion(+)\n"
     ]
    },
    {
     "name": "stderr",
     "output_type": "stream",
     "text": [
      "To https://github.com/ahammadmejbah/The-90-Day-PyTorch-Mastery-Roadmap\n",
      "   ced52632de..43c94693fd  main -> main\n"
     ]
    },
    {
     "name": "stdout",
     "output_type": "stream",
     "text": [
      "branch 'main' set up to track 'origin/main'.\n",
      "[main 781fafd405] commit 1\n",
      " Date: Thu Jan 2 11:40:14 2025 +0000\n",
      " 1 file changed, 1 insertion(+)\n"
     ]
    },
    {
     "name": "stderr",
     "output_type": "stream",
     "text": [
      "To https://github.com/ahammadmejbah/The-90-Day-PyTorch-Mastery-Roadmap\n",
      "   43c94693fd..781fafd405  main -> main\n"
     ]
    },
    {
     "name": "stdout",
     "output_type": "stream",
     "text": [
      "branch 'main' set up to track 'origin/main'.\n",
      "[main 14f5b49247] commit 1\n",
      " Date: Thu Jan 2 11:40:15 2025 +0000\n",
      " 1 file changed, 1 insertion(+)\n",
      "[main 8c4fb58422] commit 1\n",
      " Date: Thu Jan 2 11:40:15 2025 +0000\n",
      " 1 file changed, 1 insertion(+)\n",
      "[main 5fd2c83958] commit 1\n",
      " Date: Thu Jan 2 11:40:15 2025 +0000\n",
      " 1 file changed, 1 insertion(+)\n",
      "[main 283d9f40b9] commit 1\n",
      " Date: Thu Jan 2 11:40:15 2025 +0000\n",
      " 1 file changed, 1 insertion(+)\n"
     ]
    },
    {
     "name": "stderr",
     "output_type": "stream",
     "text": [
      "To https://github.com/ahammadmejbah/The-90-Day-PyTorch-Mastery-Roadmap\n",
      "   781fafd405..283d9f40b9  main -> main\n"
     ]
    },
    {
     "name": "stdout",
     "output_type": "stream",
     "text": [
      "branch 'main' set up to track 'origin/main'.\n",
      "[main a48f221aaa] commit 1\n",
      " Date: Thu Jan 2 11:40:17 2025 +0000\n",
      " 1 file changed, 1 insertion(+)\n",
      "[main e1bc1d5863] commit 1\n",
      " Date: Thu Jan 2 11:40:17 2025 +0000\n",
      " 1 file changed, 1 insertion(+)\n",
      "[main b59c95e127] commit 1\n",
      " Date: Thu Jan 2 11:40:17 2025 +0000\n",
      " 1 file changed, 1 insertion(+)\n",
      "[main 44287f6e24] commit 1\n",
      " Date: Thu Jan 2 11:40:17 2025 +0000\n",
      " 1 file changed, 1 insertion(+)\n",
      "[main ecb2addc60] commit 1\n",
      " Date: Thu Jan 2 11:40:17 2025 +0000\n",
      " 1 file changed, 1 insertion(+)\n",
      "[main 0a58cfb689] commit 1\n",
      " Date: Thu Jan 2 11:40:17 2025 +0000\n",
      " 1 file changed, 1 insertion(+)\n",
      "[main 0810337cf3] commit 1\n",
      " Date: Thu Jan 2 11:40:17 2025 +0000\n",
      " 1 file changed, 1 insertion(+)\n",
      "[main c715c76bc6] commit 1\n",
      " Date: Thu Jan 2 11:40:17 2025 +0000\n",
      " 1 file changed, 1 insertion(+)\n",
      "[main 27a197b546] commit 1\n",
      " Date: Thu Jan 2 11:40:17 2025 +0000\n",
      " 1 file changed, 1 insertion(+)\n"
     ]
    },
    {
     "name": "stderr",
     "output_type": "stream",
     "text": [
      "To https://github.com/ahammadmejbah/The-90-Day-PyTorch-Mastery-Roadmap\n",
      "   283d9f40b9..27a197b546  main -> main\n"
     ]
    },
    {
     "name": "stdout",
     "output_type": "stream",
     "text": [
      "branch 'main' set up to track 'origin/main'.\n",
      "[main becb5465cc] commit 1\n",
      " Date: Thu Jan 2 11:40:18 2025 +0000\n",
      " 1 file changed, 1 insertion(+)\n",
      "[main 96073f7b01] commit 1\n",
      " Date: Thu Jan 2 11:40:18 2025 +0000\n",
      " 1 file changed, 1 insertion(+)\n",
      "[main 5ec1f589a7] commit 1\n",
      " Date: Thu Jan 2 11:40:18 2025 +0000\n",
      " 1 file changed, 1 insertion(+)\n",
      "[main a6ddda1216] commit 1\n",
      " Date: Thu Jan 2 11:40:18 2025 +0000\n",
      " 1 file changed, 1 insertion(+)\n",
      "[main bb6158978b] commit 1\n",
      " Date: Thu Jan 2 11:40:18 2025 +0000\n",
      " 1 file changed, 1 insertion(+)\n"
     ]
    },
    {
     "name": "stderr",
     "output_type": "stream",
     "text": [
      "To https://github.com/ahammadmejbah/The-90-Day-PyTorch-Mastery-Roadmap\n",
      "   27a197b546..bb6158978b  main -> main\n"
     ]
    },
    {
     "name": "stdout",
     "output_type": "stream",
     "text": [
      "branch 'main' set up to track 'origin/main'.\n",
      "[main 9469ce1314] commit 1\n",
      " Date: Thu Jan 2 11:40:19 2025 +0000\n",
      " 1 file changed, 1 insertion(+)\n"
     ]
    },
    {
     "name": "stderr",
     "output_type": "stream",
     "text": [
      "To https://github.com/ahammadmejbah/The-90-Day-PyTorch-Mastery-Roadmap\n",
      "   bb6158978b..9469ce1314  main -> main\n"
     ]
    },
    {
     "name": "stdout",
     "output_type": "stream",
     "text": [
      "branch 'main' set up to track 'origin/main'.\n",
      "[main ad124c0915] commit 1\n",
      " Date: Thu Jan 2 11:40:20 2025 +0000\n",
      " 1 file changed, 1 insertion(+)\n",
      "[main dbfc22a9c9] commit 1\n",
      " Date: Thu Jan 2 11:40:20 2025 +0000\n",
      " 1 file changed, 1 insertion(+)\n",
      "[main a67481431c] commit 1\n",
      " Date: Thu Jan 2 11:40:20 2025 +0000\n",
      " 1 file changed, 1 insertion(+)\n",
      "[main dbfcaca830] commit 1\n",
      " Date: Thu Jan 2 11:40:20 2025 +0000\n",
      " 1 file changed, 1 insertion(+)\n",
      "[main 397c6e9602] commit 1\n",
      " Date: Thu Jan 2 11:40:20 2025 +0000\n",
      " 1 file changed, 1 insertion(+)\n",
      "[main c1ea075636] commit 1\n",
      " Date: Thu Jan 2 11:40:20 2025 +0000\n",
      " 1 file changed, 1 insertion(+)\n",
      "[main b8ca650047] commit 1\n",
      " Date: Thu Jan 2 11:40:20 2025 +0000\n",
      " 1 file changed, 1 insertion(+)\n",
      "[main 14ee94abc8] commit 1\n",
      " Date: Thu Jan 2 11:40:20 2025 +0000\n",
      " 1 file changed, 1 insertion(+)\n",
      "[main 84bd644764] commit 1\n",
      " Date: Thu Jan 2 11:40:20 2025 +0000\n",
      " 1 file changed, 1 insertion(+)\n",
      "[main b356039474] commit 1\n",
      " Date: Thu Jan 2 11:40:20 2025 +0000\n",
      " 1 file changed, 1 insertion(+)\n"
     ]
    },
    {
     "name": "stderr",
     "output_type": "stream",
     "text": [
      "To https://github.com/ahammadmejbah/The-90-Day-PyTorch-Mastery-Roadmap\n",
      "   9469ce1314..b356039474  main -> main\n"
     ]
    },
    {
     "name": "stdout",
     "output_type": "stream",
     "text": [
      "branch 'main' set up to track 'origin/main'.\n",
      "[main 44b1939f8d] commit 1\n",
      " Date: Thu Jan 2 11:40:22 2025 +0000\n",
      " 2 files changed, 184 insertions(+)\n",
      "[main f6e69a99bd] commit 1\n",
      " Date: Thu Jan 2 11:40:22 2025 +0000\n",
      " 1 file changed, 1 insertion(+)\n",
      "[main 0e32e3e1c2] commit 1\n",
      " Date: Thu Jan 2 11:40:22 2025 +0000\n",
      " 1 file changed, 1 insertion(+)\n",
      "[main 8222a86567] commit 1\n",
      " Date: Thu Jan 2 11:40:22 2025 +0000\n",
      " 1 file changed, 1 insertion(+)\n",
      "[main 471ec4cfb6] commit 1\n",
      " Date: Thu Jan 2 11:40:22 2025 +0000\n",
      " 1 file changed, 1 insertion(+)\n"
     ]
    },
    {
     "name": "stderr",
     "output_type": "stream",
     "text": [
      "To https://github.com/ahammadmejbah/The-90-Day-PyTorch-Mastery-Roadmap\n",
      "   b356039474..471ec4cfb6  main -> main\n"
     ]
    },
    {
     "name": "stdout",
     "output_type": "stream",
     "text": [
      "branch 'main' set up to track 'origin/main'.\n",
      "[main ff54e7adee] commit 1\n",
      " Date: Thu Jan 2 11:40:23 2025 +0000\n",
      " 1 file changed, 1 insertion(+)\n",
      "[main b822741e8e] commit 1\n",
      " Date: Thu Jan 2 11:40:23 2025 +0000\n",
      " 1 file changed, 1 insertion(+)\n",
      "[main aecf882d79] commit 1\n",
      " Date: Thu Jan 2 11:40:23 2025 +0000\n",
      " 1 file changed, 1 insertion(+)\n",
      "[main ab07709f6e] commit 1\n",
      " Date: Thu Jan 2 11:40:23 2025 +0000\n",
      " 1 file changed, 1 insertion(+)\n",
      "[main 6073cd4f74] commit 1\n",
      " Date: Thu Jan 2 11:40:23 2025 +0000\n",
      " 1 file changed, 1 insertion(+)\n",
      "[main 5168e75115] commit 1\n",
      " Date: Thu Jan 2 11:40:23 2025 +0000\n",
      " 1 file changed, 1 insertion(+)\n",
      "[main 8b33b90bf2] commit 1\n",
      " Date: Thu Jan 2 11:40:23 2025 +0000\n",
      " 1 file changed, 1 insertion(+)\n"
     ]
    },
    {
     "name": "stderr",
     "output_type": "stream",
     "text": [
      "To https://github.com/ahammadmejbah/The-90-Day-PyTorch-Mastery-Roadmap\n",
      "   471ec4cfb6..8b33b90bf2  main -> main\n"
     ]
    },
    {
     "name": "stdout",
     "output_type": "stream",
     "text": [
      "branch 'main' set up to track 'origin/main'.\n",
      "[main 8dddef29b3] commit 1\n",
      " Date: Thu Jan 2 11:40:24 2025 +0000\n",
      " 1 file changed, 1 insertion(+)\n",
      "[main 3c428eba7e] commit 1\n",
      " Date: Thu Jan 2 11:40:24 2025 +0000\n",
      " 1 file changed, 1 insertion(+)\n",
      "[main b52cc49dbc] commit 1\n",
      " Date: Thu Jan 2 11:40:24 2025 +0000\n",
      " 1 file changed, 1 insertion(+)\n",
      "[main 271c628c3e] commit 1\n",
      " Date: Thu Jan 2 11:40:24 2025 +0000\n",
      " 1 file changed, 1 insertion(+)\n",
      "[main 8dfaaee9c7] commit 1\n",
      " Date: Thu Jan 2 11:40:24 2025 +0000\n",
      " 1 file changed, 1 insertion(+)\n"
     ]
    },
    {
     "name": "stderr",
     "output_type": "stream",
     "text": [
      "To https://github.com/ahammadmejbah/The-90-Day-PyTorch-Mastery-Roadmap\n",
      "   8b33b90bf2..8dfaaee9c7  main -> main\n"
     ]
    },
    {
     "name": "stdout",
     "output_type": "stream",
     "text": [
      "branch 'main' set up to track 'origin/main'.\n",
      "[main 4d73c3bd92] commit 1\n",
      " Date: Thu Jan 2 11:40:25 2025 +0000\n",
      " 1 file changed, 1 insertion(+)\n",
      "[main a5995b6eb4] commit 1\n",
      " Date: Thu Jan 2 11:40:25 2025 +0000\n",
      " 1 file changed, 1 insertion(+)\n",
      "[main f1b75d27bf] commit 1\n",
      " Date: Thu Jan 2 11:40:25 2025 +0000\n",
      " 1 file changed, 1 insertion(+)\n",
      "[main 8c3eaeb79b] commit 1\n",
      " Date: Thu Jan 2 11:40:25 2025 +0000\n",
      " 1 file changed, 1 insertion(+)\n",
      "[main f7c414be40] commit 1\n",
      " Date: Thu Jan 2 11:40:25 2025 +0000\n",
      " 1 file changed, 1 insertion(+)\n",
      "[main d1925a9d94] commit 1\n",
      " Date: Thu Jan 2 11:40:25 2025 +0000\n",
      " 1 file changed, 1 insertion(+)\n"
     ]
    },
    {
     "name": "stderr",
     "output_type": "stream",
     "text": [
      "To https://github.com/ahammadmejbah/The-90-Day-PyTorch-Mastery-Roadmap\n",
      "   8dfaaee9c7..d1925a9d94  main -> main\n"
     ]
    },
    {
     "name": "stdout",
     "output_type": "stream",
     "text": [
      "branch 'main' set up to track 'origin/main'.\n",
      "[main 28ea71a4e1] commit 1\n",
      " Date: Thu Jan 2 11:40:26 2025 +0000\n",
      " 1 file changed, 1 insertion(+)\n",
      "[main 0b49c0d52a] commit 1\n",
      " Date: Thu Jan 2 11:40:26 2025 +0000\n",
      " 1 file changed, 1 insertion(+)\n",
      "[main 26fb2e912d] commit 1\n",
      " Date: Thu Jan 2 11:40:26 2025 +0000\n",
      " 1 file changed, 1 insertion(+)\n",
      "[main 6dc11a605a] commit 1\n",
      " Date: Thu Jan 2 11:40:26 2025 +0000\n",
      " 1 file changed, 1 insertion(+)\n"
     ]
    },
    {
     "name": "stderr",
     "output_type": "stream",
     "text": [
      "To https://github.com/ahammadmejbah/The-90-Day-PyTorch-Mastery-Roadmap\n",
      "   d1925a9d94..6dc11a605a  main -> main\n"
     ]
    },
    {
     "name": "stdout",
     "output_type": "stream",
     "text": [
      "branch 'main' set up to track 'origin/main'.\n",
      "[main 673da31e78] commit 1\n",
      " Date: Thu Jan 2 11:40:27 2025 +0000\n",
      " 1 file changed, 1 insertion(+)\n",
      "[main 2ea0a3905d] commit 1\n",
      " Date: Thu Jan 2 11:40:27 2025 +0000\n",
      " 1 file changed, 1 insertion(+)\n",
      "[main 222b935f35] commit 1\n",
      " Date: Thu Jan 2 11:40:27 2025 +0000\n",
      " 1 file changed, 1 insertion(+)\n",
      "[main 4d8ee2478d] commit 1\n",
      " Date: Thu Jan 2 11:40:27 2025 +0000\n",
      " 1 file changed, 1 insertion(+)\n",
      "[main 1f6ce6697e] commit 1\n",
      " Date: Thu Jan 2 11:40:27 2025 +0000\n",
      " 1 file changed, 1 insertion(+)\n",
      "[main 73c24c616e] commit 1\n",
      " Date: Thu Jan 2 11:40:27 2025 +0000\n",
      " 1 file changed, 1 insertion(+)\n",
      "[main 16a0b9af6a] commit 1\n",
      " Date: Thu Jan 2 11:40:28 2025 +0000\n",
      " 2 files changed, 193 insertions(+)\n",
      "[main 1712e2fbf5] commit 1\n",
      " Date: Thu Jan 2 11:40:28 2025 +0000\n",
      " 1 file changed, 1 insertion(+)\n",
      "[main cb69314077] commit 1\n",
      " Date: Thu Jan 2 11:40:28 2025 +0000\n",
      " 1 file changed, 1 insertion(+)\n"
     ]
    },
    {
     "name": "stderr",
     "output_type": "stream",
     "text": [
      "To https://github.com/ahammadmejbah/The-90-Day-PyTorch-Mastery-Roadmap\n",
      "   6dc11a605a..cb69314077  main -> main\n"
     ]
    },
    {
     "name": "stdout",
     "output_type": "stream",
     "text": [
      "branch 'main' set up to track 'origin/main'.\n",
      "[main dbdc4c70e8] commit 1\n",
      " Date: Thu Jan 2 11:40:29 2025 +0000\n",
      " 1 file changed, 1 insertion(+)\n",
      "[main 27482c881d] commit 1\n",
      " Date: Thu Jan 2 11:40:29 2025 +0000\n",
      " 1 file changed, 1 insertion(+)\n",
      "[main c6843a26d3] commit 1\n",
      " Date: Thu Jan 2 11:40:29 2025 +0000\n",
      " 1 file changed, 1 insertion(+)\n",
      "[main 4a094b7542] commit 1\n",
      " Date: Thu Jan 2 11:40:29 2025 +0000\n",
      " 1 file changed, 1 insertion(+)\n",
      "[main 39c9208098] commit 1\n",
      " Date: Thu Jan 2 11:40:29 2025 +0000\n",
      " 1 file changed, 1 insertion(+)\n",
      "[main 393fe1170e] commit 1\n",
      " Date: Thu Jan 2 11:40:29 2025 +0000\n",
      " 1 file changed, 1 insertion(+)\n",
      "[main 93036ff68b] commit 1\n",
      " Date: Thu Jan 2 11:40:29 2025 +0000\n",
      " 1 file changed, 1 insertion(+)\n",
      "[main 573458989d] commit 1\n",
      " Date: Thu Jan 2 11:40:29 2025 +0000\n",
      " 1 file changed, 1 insertion(+)\n"
     ]
    },
    {
     "name": "stderr",
     "output_type": "stream",
     "text": [
      "To https://github.com/ahammadmejbah/The-90-Day-PyTorch-Mastery-Roadmap\n",
      "   cb69314077..573458989d  main -> main\n"
     ]
    },
    {
     "name": "stdout",
     "output_type": "stream",
     "text": [
      "branch 'main' set up to track 'origin/main'.\n",
      "[main f0dfab696f] commit 1\n",
      " Date: Thu Jan 2 11:40:30 2025 +0000\n",
      " 1 file changed, 1 insertion(+)\n",
      "[main 6475075d28] commit 1\n",
      " Date: Thu Jan 2 11:40:30 2025 +0000\n",
      " 1 file changed, 1 insertion(+)\n",
      "[main d04bd4b691] commit 1\n",
      " Date: Thu Jan 2 11:40:30 2025 +0000\n",
      " 1 file changed, 1 insertion(+)\n",
      "[main 5968b27780] commit 1\n",
      " Date: Thu Jan 2 11:40:30 2025 +0000\n",
      " 1 file changed, 1 insertion(+)\n",
      "[main e8e3552b42] commit 1\n",
      " Date: Thu Jan 2 11:40:30 2025 +0000\n",
      " 1 file changed, 1 insertion(+)\n",
      "[main 636d9566b5] commit 1\n",
      " Date: Thu Jan 2 11:40:30 2025 +0000\n",
      " 1 file changed, 1 insertion(+)\n",
      "[main 0c6fcd106e] commit 1\n",
      " Date: Thu Jan 2 11:40:30 2025 +0000\n",
      " 1 file changed, 1 insertion(+)\n"
     ]
    },
    {
     "name": "stderr",
     "output_type": "stream",
     "text": [
      "To https://github.com/ahammadmejbah/The-90-Day-PyTorch-Mastery-Roadmap\n",
      "   573458989d..0c6fcd106e  main -> main\n"
     ]
    },
    {
     "name": "stdout",
     "output_type": "stream",
     "text": [
      "branch 'main' set up to track 'origin/main'.\n",
      "[main 9a70bd2d15] commit 1\n",
      " Date: Thu Jan 2 11:40:31 2025 +0000\n",
      " 1 file changed, 1 insertion(+)\n",
      "[main 32b1bd2c46] commit 1\n",
      " Date: Thu Jan 2 11:40:31 2025 +0000\n",
      " 1 file changed, 1 insertion(+)\n",
      "[main 1bb4a5eefd] commit 1\n",
      " Date: Thu Jan 2 11:40:31 2025 +0000\n",
      " 1 file changed, 1 insertion(+)\n"
     ]
    },
    {
     "name": "stderr",
     "output_type": "stream",
     "text": [
      "To https://github.com/ahammadmejbah/The-90-Day-PyTorch-Mastery-Roadmap\n",
      "   0c6fcd106e..1bb4a5eefd  main -> main\n"
     ]
    },
    {
     "name": "stdout",
     "output_type": "stream",
     "text": [
      "branch 'main' set up to track 'origin/main'.\n",
      "[main 5ffe6fd65b] commit 1\n",
      " Date: Thu Jan 2 11:40:32 2025 +0000\n",
      " 1 file changed, 1 insertion(+)\n",
      "[main 66e936969c] commit 1\n",
      " Date: Thu Jan 2 11:40:32 2025 +0000\n",
      " 1 file changed, 1 insertion(+)\n",
      "[main 07ab267f69] commit 1\n",
      " Date: Thu Jan 2 11:40:32 2025 +0000\n",
      " 1 file changed, 1 insertion(+)\n",
      "[main af34d907bd] commit 1\n",
      " Date: Thu Jan 2 11:40:32 2025 +0000\n",
      " 1 file changed, 1 insertion(+)\n",
      "[main a0b68f7f40] commit 1\n",
      " Date: Thu Jan 2 11:40:32 2025 +0000\n",
      " 1 file changed, 1 insertion(+)\n",
      "[main 798bf719b5] commit 1\n",
      " Date: Thu Jan 2 11:40:32 2025 +0000\n",
      " 1 file changed, 1 insertion(+)\n",
      "[main 1642a47e81] commit 1\n",
      " Date: Thu Jan 2 11:40:32 2025 +0000\n",
      " 1 file changed, 1 insertion(+)\n",
      "[main a321fabb39] commit 1\n",
      " Date: Thu Jan 2 11:40:32 2025 +0000\n",
      " 1 file changed, 1 insertion(+)\n",
      "[main 8e8bcab8f3] commit 1\n",
      " Date: Thu Jan 2 11:40:32 2025 +0000\n",
      " 1 file changed, 1 insertion(+)\n",
      "[main ce0e18cbfd] commit 1\n",
      " Date: Thu Jan 2 11:40:33 2025 +0000\n",
      " 1 file changed, 1 insertion(+)\n"
     ]
    },
    {
     "name": "stderr",
     "output_type": "stream",
     "text": [
      "To https://github.com/ahammadmejbah/The-90-Day-PyTorch-Mastery-Roadmap\n",
      "   1bb4a5eefd..ce0e18cbfd  main -> main\n"
     ]
    },
    {
     "name": "stdout",
     "output_type": "stream",
     "text": [
      "branch 'main' set up to track 'origin/main'.\n",
      "[main 33238dd2f5] commit 1\n",
      " Date: Thu Jan 2 11:40:34 2025 +0000\n",
      " 2 files changed, 145 insertions(+)\n",
      "[main 5737a50958] commit 1\n",
      " Date: Thu Jan 2 11:40:34 2025 +0000\n",
      " 1 file changed, 1 insertion(+)\n",
      "[main d3b0b36dbd] commit 1\n",
      " Date: Thu Jan 2 11:40:34 2025 +0000\n",
      " 1 file changed, 1 insertion(+)\n",
      "[main 720c15f672] commit 1\n",
      " Date: Thu Jan 2 11:40:34 2025 +0000\n",
      " 1 file changed, 1 insertion(+)\n",
      "[main efe8600742] commit 1\n",
      " Date: Thu Jan 2 11:40:34 2025 +0000\n",
      " 1 file changed, 1 insertion(+)\n",
      "[main 11cc49ede8] commit 1\n",
      " Date: Thu Jan 2 11:40:34 2025 +0000\n",
      " 1 file changed, 1 insertion(+)\n",
      "[main 96f99772b4] commit 1\n",
      " Date: Thu Jan 2 11:40:34 2025 +0000\n",
      " 1 file changed, 1 insertion(+)\n",
      "[main 3a8fed6121] commit 1\n",
      " Date: Thu Jan 2 11:40:34 2025 +0000\n",
      " 1 file changed, 1 insertion(+)\n",
      "[main 238bc29b9a] commit 1\n",
      " Date: Thu Jan 2 11:40:34 2025 +0000\n",
      " 1 file changed, 1 insertion(+)\n",
      "[main e268f0aa87] commit 1\n",
      " Date: Thu Jan 2 11:40:34 2025 +0000\n",
      " 1 file changed, 1 insertion(+)\n"
     ]
    },
    {
     "name": "stderr",
     "output_type": "stream",
     "text": [
      "To https://github.com/ahammadmejbah/The-90-Day-PyTorch-Mastery-Roadmap\n",
      "   ce0e18cbfd..e268f0aa87  main -> main\n"
     ]
    },
    {
     "name": "stdout",
     "output_type": "stream",
     "text": [
      "branch 'main' set up to track 'origin/main'.\n",
      "[main f8e2a5e210] commit 1\n",
      " Date: Thu Jan 2 11:40:35 2025 +0000\n",
      " 1 file changed, 1 insertion(+)\n"
     ]
    },
    {
     "name": "stderr",
     "output_type": "stream",
     "text": [
      "To https://github.com/ahammadmejbah/The-90-Day-PyTorch-Mastery-Roadmap\n",
      "   e268f0aa87..f8e2a5e210  main -> main\n"
     ]
    },
    {
     "name": "stdout",
     "output_type": "stream",
     "text": [
      "branch 'main' set up to track 'origin/main'.\n",
      "[main c786e18250] commit 1\n",
      " Date: Thu Jan 2 11:40:36 2025 +0000\n",
      " 1 file changed, 1 insertion(+)\n",
      "[main a223aff29a] commit 1\n",
      " Date: Thu Jan 2 11:40:36 2025 +0000\n",
      " 1 file changed, 1 insertion(+)\n",
      "[main 83efdb40ab] commit 1\n",
      " Date: Thu Jan 2 11:40:36 2025 +0000\n",
      " 1 file changed, 1 insertion(+)\n",
      "[main fa127bae08] commit 1\n",
      " Date: Thu Jan 2 11:40:36 2025 +0000\n",
      " 1 file changed, 1 insertion(+)\n",
      "[main 32d93f9ce4] commit 1\n",
      " Date: Thu Jan 2 11:40:36 2025 +0000\n",
      " 1 file changed, 1 insertion(+)\n",
      "[main 99b941d8f5] commit 1\n",
      " Date: Thu Jan 2 11:40:36 2025 +0000\n",
      " 1 file changed, 1 insertion(+)\n",
      "[main 94f81bf7a2] commit 1\n",
      " Date: Thu Jan 2 11:40:36 2025 +0000\n",
      " 1 file changed, 1 insertion(+)\n",
      "[main 4920a2279b] commit 1\n",
      " Date: Thu Jan 2 11:40:36 2025 +0000\n",
      " 1 file changed, 1 insertion(+)\n",
      "[main 6dc557b6c9] commit 1\n",
      " Date: Thu Jan 2 11:40:36 2025 +0000\n",
      " 1 file changed, 1 insertion(+)\n"
     ]
    },
    {
     "name": "stderr",
     "output_type": "stream",
     "text": [
      "To https://github.com/ahammadmejbah/The-90-Day-PyTorch-Mastery-Roadmap\n",
      "   f8e2a5e210..6dc557b6c9  main -> main\n"
     ]
    },
    {
     "name": "stdout",
     "output_type": "stream",
     "text": [
      "branch 'main' set up to track 'origin/main'.\n",
      "[main 462450f0da] commit 1\n",
      " Date: Thu Jan 2 11:40:38 2025 +0000\n",
      " 1 file changed, 1 insertion(+)\n",
      "[main 41beec6e2b] commit 1\n",
      " Date: Thu Jan 2 11:40:38 2025 +0000\n",
      " 1 file changed, 1 insertion(+)\n",
      "[main aada20b372] commit 1\n",
      " Date: Thu Jan 2 11:40:38 2025 +0000\n",
      " 1 file changed, 1 insertion(+)\n",
      "[main 9826b3f31a] commit 1\n",
      " Date: Thu Jan 2 11:40:38 2025 +0000\n",
      " 1 file changed, 1 insertion(+)\n",
      "[main a03e848e5e] commit 1\n",
      " Date: Thu Jan 2 11:40:38 2025 +0000\n",
      " 1 file changed, 1 insertion(+)\n",
      "[main 8e181dfcd9] commit 1\n",
      " Date: Thu Jan 2 11:40:38 2025 +0000\n",
      " 1 file changed, 1 insertion(+)\n"
     ]
    },
    {
     "name": "stderr",
     "output_type": "stream",
     "text": [
      "To https://github.com/ahammadmejbah/The-90-Day-PyTorch-Mastery-Roadmap\n",
      "   6dc557b6c9..8e181dfcd9  main -> main\n"
     ]
    },
    {
     "name": "stdout",
     "output_type": "stream",
     "text": [
      "branch 'main' set up to track 'origin/main'.\n",
      "[main 4dd1c01929] commit 1\n",
      " Date: Thu Jan 2 11:40:39 2025 +0000\n",
      " 1 file changed, 1 insertion(+)\n",
      "[main afd8055cd7] commit 1\n",
      " Date: Thu Jan 2 11:40:39 2025 +0000\n",
      " 1 file changed, 1 insertion(+)\n",
      "[main 0533cda69d] commit 1\n",
      " Date: Thu Jan 2 11:40:39 2025 +0000\n",
      " 1 file changed, 1 insertion(+)\n",
      "[main fa586e0eff] commit 1\n",
      " Date: Thu Jan 2 11:40:39 2025 +0000\n",
      " 1 file changed, 1 insertion(+)\n",
      "[main 56d8cafd54] commit 1\n",
      " Date: Thu Jan 2 11:40:39 2025 +0000\n",
      " 1 file changed, 1 insertion(+)\n",
      "[main f49e4c1ba7] commit 1\n",
      " Date: Thu Jan 2 11:40:39 2025 +0000\n",
      " 1 file changed, 1 insertion(+)\n",
      "[main c25ba67f52] commit 1\n",
      " Date: Thu Jan 2 11:40:39 2025 +0000\n",
      " 1 file changed, 1 insertion(+)\n"
     ]
    },
    {
     "name": "stderr",
     "output_type": "stream",
     "text": [
      "To https://github.com/ahammadmejbah/The-90-Day-PyTorch-Mastery-Roadmap\n",
      "   8e181dfcd9..c25ba67f52  main -> main\n"
     ]
    },
    {
     "name": "stdout",
     "output_type": "stream",
     "text": [
      "branch 'main' set up to track 'origin/main'.\n",
      "[main b57f167b24] commit 1\n",
      " Date: Thu Jan 2 11:40:40 2025 +0000\n",
      " 1 file changed, 1 insertion(+)\n",
      "[main 8c52019d94] commit 1\n",
      " Date: Thu Jan 2 11:40:40 2025 +0000\n",
      " 1 file changed, 1 insertion(+)\n",
      "[main d49e9b9be9] commit 1\n",
      " Date: Thu Jan 2 11:40:40 2025 +0000\n",
      " 1 file changed, 1 insertion(+)\n",
      "[main 357af81273] commit 1\n",
      " Date: Thu Jan 2 11:40:40 2025 +0000\n",
      " 1 file changed, 1 insertion(+)\n",
      "[main b4a23330b4] commit 1\n",
      " Date: Thu Jan 2 11:40:40 2025 +0000\n",
      " 1 file changed, 1 insertion(+)\n",
      "[main cd5908973f] commit 1\n",
      " Date: Thu Jan 2 11:40:40 2025 +0000\n",
      " 1 file changed, 1 insertion(+)\n"
     ]
    },
    {
     "name": "stderr",
     "output_type": "stream",
     "text": [
      "To https://github.com/ahammadmejbah/The-90-Day-PyTorch-Mastery-Roadmap\n",
      "   c25ba67f52..cd5908973f  main -> main\n"
     ]
    },
    {
     "name": "stdout",
     "output_type": "stream",
     "text": [
      "branch 'main' set up to track 'origin/main'.\n",
      "[main b15497d9ff] commit 1\n",
      " Date: Thu Jan 2 11:40:41 2025 +0000\n",
      " 1 file changed, 1 insertion(+)\n",
      "[main cbc33a14a6] commit 1\n",
      " Date: Thu Jan 2 11:40:41 2025 +0000\n",
      " 1 file changed, 1 insertion(+)\n"
     ]
    },
    {
     "name": "stderr",
     "output_type": "stream",
     "text": [
      "To https://github.com/ahammadmejbah/The-90-Day-PyTorch-Mastery-Roadmap\n",
      "   cd5908973f..cbc33a14a6  main -> main\n"
     ]
    },
    {
     "name": "stdout",
     "output_type": "stream",
     "text": [
      "branch 'main' set up to track 'origin/main'.\n",
      "[main dfbcf886de] commit 1\n",
      " Date: Thu Jan 2 11:40:42 2025 +0000\n",
      " 1 file changed, 1 insertion(+)\n",
      "[main db12330da5] commit 1\n",
      " Date: Thu Jan 2 11:40:42 2025 +0000\n",
      " 1 file changed, 1 insertion(+)\n",
      "[main 14e57f50f8] commit 1\n",
      " Date: Thu Jan 2 11:40:42 2025 +0000\n",
      " 1 file changed, 1 insertion(+)\n"
     ]
    },
    {
     "name": "stderr",
     "output_type": "stream",
     "text": [
      "To https://github.com/ahammadmejbah/The-90-Day-PyTorch-Mastery-Roadmap\n",
      "   cbc33a14a6..14e57f50f8  main -> main\n"
     ]
    },
    {
     "name": "stdout",
     "output_type": "stream",
     "text": [
      "branch 'main' set up to track 'origin/main'.\n",
      "[main 45369cfff4] commit 1\n",
      " Date: Thu Jan 2 11:40:43 2025 +0000\n",
      " 2 files changed, 277 insertions(+)\n",
      "[main bfe6d77ed5] commit 1\n",
      " Date: Thu Jan 2 11:40:43 2025 +0000\n",
      " 1 file changed, 1 insertion(+)\n",
      "[main 66a185e307] commit 1\n",
      " Date: Thu Jan 2 11:40:43 2025 +0000\n",
      " 1 file changed, 1 insertion(+)\n",
      "[main a3dcbcdd03] commit 1\n",
      " Date: Thu Jan 2 11:40:43 2025 +0000\n",
      " 1 file changed, 1 insertion(+)\n",
      "[main f195495f08] commit 1\n",
      " Date: Thu Jan 2 11:40:43 2025 +0000\n",
      " 1 file changed, 1 insertion(+)\n"
     ]
    },
    {
     "name": "stderr",
     "output_type": "stream",
     "text": [
      "To https://github.com/ahammadmejbah/The-90-Day-PyTorch-Mastery-Roadmap\n",
      "   14e57f50f8..f195495f08  main -> main\n"
     ]
    },
    {
     "name": "stdout",
     "output_type": "stream",
     "text": [
      "branch 'main' set up to track 'origin/main'.\n",
      "[main 06ca31e4c0] commit 1\n",
      " Date: Thu Jan 2 11:40:45 2025 +0000\n",
      " 1 file changed, 1 insertion(+)\n",
      "[main 0b06ea5aa6] commit 1\n",
      " Date: Thu Jan 2 11:40:45 2025 +0000\n",
      " 1 file changed, 1 insertion(+)\n",
      "[main 9ba61844a4] commit 1\n",
      " Date: Thu Jan 2 11:40:45 2025 +0000\n",
      " 1 file changed, 1 insertion(+)\n",
      "[main 808cc7fdcd] commit 1\n",
      " Date: Thu Jan 2 11:40:45 2025 +0000\n",
      " 1 file changed, 1 insertion(+)\n",
      "[main 51d3b34b9e] commit 1\n",
      " Date: Thu Jan 2 11:40:45 2025 +0000\n",
      " 1 file changed, 1 insertion(+)\n",
      "[main 3ca8ad19f6] commit 1\n",
      " Date: Thu Jan 2 11:40:45 2025 +0000\n",
      " 1 file changed, 1 insertion(+)\n",
      "[main 55d693cf16] commit 1\n",
      " Date: Thu Jan 2 11:40:45 2025 +0000\n",
      " 1 file changed, 1 insertion(+)\n",
      "[main c38f27aefa] commit 1\n",
      " Date: Thu Jan 2 11:40:45 2025 +0000\n",
      " 1 file changed, 1 insertion(+)\n"
     ]
    },
    {
     "name": "stderr",
     "output_type": "stream",
     "text": [
      "To https://github.com/ahammadmejbah/The-90-Day-PyTorch-Mastery-Roadmap\n",
      "   f195495f08..c38f27aefa  main -> main\n"
     ]
    },
    {
     "name": "stdout",
     "output_type": "stream",
     "text": [
      "branch 'main' set up to track 'origin/main'.\n",
      "[main 7dbc5a6cdf] commit 1\n",
      " Date: Thu Jan 2 11:40:46 2025 +0000\n",
      " 1 file changed, 1 insertion(+)\n",
      "[main 38b21bbd28] commit 1\n",
      " Date: Thu Jan 2 11:40:46 2025 +0000\n",
      " 1 file changed, 1 insertion(+)\n",
      "[main 88726784bd] commit 1\n",
      " Date: Thu Jan 2 11:40:46 2025 +0000\n",
      " 1 file changed, 1 insertion(+)\n",
      "[main 5ba7f8efa0] commit 1\n",
      " Date: Thu Jan 2 11:40:46 2025 +0000\n",
      " 1 file changed, 1 insertion(+)\n",
      "[main 8194c5a082] commit 1\n",
      " Date: Thu Jan 2 11:40:46 2025 +0000\n",
      " 1 file changed, 1 insertion(+)\n",
      "[main 5539b9681f] commit 1\n",
      " Date: Thu Jan 2 11:40:46 2025 +0000\n",
      " 1 file changed, 1 insertion(+)\n",
      "[main 0914071301] commit 1\n",
      " Date: Thu Jan 2 11:40:46 2025 +0000\n",
      " 1 file changed, 1 insertion(+)\n",
      "[main 72560a0f55] commit 1\n",
      " Date: Thu Jan 2 11:40:46 2025 +0000\n",
      " 1 file changed, 1 insertion(+)\n",
      "[main 74297fa74c] commit 1\n",
      " Date: Thu Jan 2 11:40:46 2025 +0000\n",
      " 1 file changed, 1 insertion(+)\n",
      "[main ff4e39030c] commit 1\n",
      " Date: Thu Jan 2 11:40:46 2025 +0000\n",
      " 1 file changed, 1 insertion(+)\n"
     ]
    },
    {
     "name": "stderr",
     "output_type": "stream",
     "text": [
      "To https://github.com/ahammadmejbah/The-90-Day-PyTorch-Mastery-Roadmap\n",
      "   c38f27aefa..ff4e39030c  main -> main\n"
     ]
    },
    {
     "name": "stdout",
     "output_type": "stream",
     "text": [
      "branch 'main' set up to track 'origin/main'.\n",
      "[main 7690cbd50a] commit 1\n",
      " Date: Thu Jan 2 11:40:47 2025 +0000\n",
      " 1 file changed, 1 insertion(+)\n",
      "[main 6f899d6b8b] commit 1\n",
      " Date: Thu Jan 2 11:40:47 2025 +0000\n",
      " 1 file changed, 1 insertion(+)\n",
      "[main bb53eceabe] commit 1\n",
      " Date: Thu Jan 2 11:40:47 2025 +0000\n",
      " 1 file changed, 1 insertion(+)\n",
      "[main d95b50e032] commit 1\n",
      " Date: Thu Jan 2 11:40:47 2025 +0000\n",
      " 1 file changed, 1 insertion(+)\n"
     ]
    },
    {
     "name": "stderr",
     "output_type": "stream",
     "text": [
      "To https://github.com/ahammadmejbah/The-90-Day-PyTorch-Mastery-Roadmap\n",
      "   ff4e39030c..d95b50e032  main -> main\n"
     ]
    },
    {
     "name": "stdout",
     "output_type": "stream",
     "text": [
      "branch 'main' set up to track 'origin/main'.\n",
      "[main 802176a199] commit 1\n",
      " Date: Thu Jan 2 11:40:48 2025 +0000\n",
      " 1 file changed, 1 insertion(+)\n",
      "[main 444610090f] commit 1\n",
      " Date: Thu Jan 2 11:40:48 2025 +0000\n",
      " 1 file changed, 1 insertion(+)\n",
      "[main f76fa3c915] commit 1\n",
      " Date: Thu Jan 2 11:40:48 2025 +0000\n",
      " 1 file changed, 1 insertion(+)\n",
      "[main af8e593a0c] commit 1\n",
      " Date: Thu Jan 2 11:40:48 2025 +0000\n",
      " 1 file changed, 1 insertion(+)\n",
      "[main 2f36d7a829] commit 1\n",
      " Date: Thu Jan 2 11:40:48 2025 +0000\n",
      " 1 file changed, 1 insertion(+)\n",
      "[main 83e4919741] commit 1\n",
      " Date: Thu Jan 2 11:40:48 2025 +0000\n",
      " 1 file changed, 1 insertion(+)\n",
      "[main 98ee37c394] commit 1\n",
      " Date: Thu Jan 2 11:40:48 2025 +0000\n",
      " 1 file changed, 1 insertion(+)\n",
      "[main 417d1ca508] commit 1\n",
      " Date: Thu Jan 2 11:40:48 2025 +0000\n",
      " 1 file changed, 1 insertion(+)\n"
     ]
    },
    {
     "name": "stderr",
     "output_type": "stream",
     "text": [
      "To https://github.com/ahammadmejbah/The-90-Day-PyTorch-Mastery-Roadmap\n",
      "   d95b50e032..417d1ca508  main -> main\n"
     ]
    },
    {
     "name": "stdout",
     "output_type": "stream",
     "text": [
      "branch 'main' set up to track 'origin/main'.\n",
      "[main 53981cdfab] commit 1\n",
      " Date: Thu Jan 2 11:40:49 2025 +0000\n",
      " 2 files changed, 160 insertions(+)\n",
      "[main ff5b9e5a62] commit 1\n",
      " Date: Thu Jan 2 11:40:50 2025 +0000\n",
      " 1 file changed, 1 insertion(+)\n",
      "[main bfb8898e1a] commit 1\n",
      " Date: Thu Jan 2 11:40:50 2025 +0000\n",
      " 1 file changed, 1 insertion(+)\n"
     ]
    },
    {
     "name": "stderr",
     "output_type": "stream",
     "text": [
      "To https://github.com/ahammadmejbah/The-90-Day-PyTorch-Mastery-Roadmap\n",
      "   417d1ca508..bfb8898e1a  main -> main\n"
     ]
    },
    {
     "name": "stdout",
     "output_type": "stream",
     "text": [
      "branch 'main' set up to track 'origin/main'.\n",
      "[main 74608d65c5] commit 1\n",
      " Date: Thu Jan 2 11:40:51 2025 +0000\n",
      " 1 file changed, 1 insertion(+)\n",
      "[main 104b04f3db] commit 1\n",
      " Date: Thu Jan 2 11:40:51 2025 +0000\n",
      " 1 file changed, 1 insertion(+)\n",
      "[main 6daa200371] commit 1\n",
      " Date: Thu Jan 2 11:40:51 2025 +0000\n",
      " 1 file changed, 1 insertion(+)\n",
      "[main 54d2ea74b2] commit 1\n",
      " Date: Thu Jan 2 11:40:51 2025 +0000\n",
      " 1 file changed, 1 insertion(+)\n"
     ]
    },
    {
     "name": "stderr",
     "output_type": "stream",
     "text": [
      "To https://github.com/ahammadmejbah/The-90-Day-PyTorch-Mastery-Roadmap\n",
      "   bfb8898e1a..54d2ea74b2  main -> main\n"
     ]
    },
    {
     "name": "stdout",
     "output_type": "stream",
     "text": [
      "branch 'main' set up to track 'origin/main'.\n",
      "[main 8ae9b4d3b8] commit 1\n",
      " Date: Thu Jan 2 11:40:52 2025 +0000\n",
      " 1 file changed, 1 insertion(+)\n",
      "[main fba7d37918] commit 1\n",
      " Date: Thu Jan 2 11:40:52 2025 +0000\n",
      " 1 file changed, 1 insertion(+)\n",
      "[main 74730929b8] commit 1\n",
      " Date: Thu Jan 2 11:40:52 2025 +0000\n",
      " 1 file changed, 1 insertion(+)\n",
      "[main 549de002ec] commit 1\n",
      " Date: Thu Jan 2 11:40:52 2025 +0000\n",
      " 1 file changed, 1 insertion(+)\n",
      "[main 4c52238558] commit 1\n",
      " Date: Thu Jan 2 11:40:52 2025 +0000\n",
      " 1 file changed, 1 insertion(+)\n",
      "[main 0fad8ef000] commit 1\n",
      " Date: Thu Jan 2 11:40:52 2025 +0000\n",
      " 1 file changed, 1 insertion(+)\n"
     ]
    },
    {
     "name": "stderr",
     "output_type": "stream",
     "text": [
      "To https://github.com/ahammadmejbah/The-90-Day-PyTorch-Mastery-Roadmap\n",
      "   54d2ea74b2..0fad8ef000  main -> main\n"
     ]
    },
    {
     "name": "stdout",
     "output_type": "stream",
     "text": [
      "branch 'main' set up to track 'origin/main'.\n",
      "[main 467b402a56] commit 1\n",
      " Date: Thu Jan 2 11:40:53 2025 +0000\n",
      " 1 file changed, 1 insertion(+)\n",
      "[main 45f128f310] commit 1\n",
      " Date: Thu Jan 2 11:40:53 2025 +0000\n",
      " 1 file changed, 1 insertion(+)\n",
      "[main f027af6c7e] commit 1\n",
      " Date: Thu Jan 2 11:40:53 2025 +0000\n",
      " 1 file changed, 1 insertion(+)\n",
      "[main 15454ff47f] commit 1\n",
      " Date: Thu Jan 2 11:40:53 2025 +0000\n",
      " 1 file changed, 1 insertion(+)\n",
      "[main 64f58b5ad4] commit 1\n",
      " Date: Thu Jan 2 11:40:53 2025 +0000\n",
      " 1 file changed, 1 insertion(+)\n"
     ]
    },
    {
     "name": "stderr",
     "output_type": "stream",
     "text": [
      "To https://github.com/ahammadmejbah/The-90-Day-PyTorch-Mastery-Roadmap\n",
      "   0fad8ef000..64f58b5ad4  main -> main\n"
     ]
    },
    {
     "name": "stdout",
     "output_type": "stream",
     "text": [
      "branch 'main' set up to track 'origin/main'.\n",
      "[main a00e277452] commit 1\n",
      " Date: Thu Jan 2 11:40:54 2025 +0000\n",
      " 1 file changed, 1 insertion(+)\n",
      "[main 9400b44d3b] commit 1\n",
      " Date: Thu Jan 2 11:40:54 2025 +0000\n",
      " 1 file changed, 1 insertion(+)\n",
      "[main 1887b25975] commit 1\n",
      " Date: Thu Jan 2 11:40:54 2025 +0000\n",
      " 1 file changed, 1 insertion(+)\n",
      "[main 1a6f04f017] commit 1\n",
      " Date: Thu Jan 2 11:40:54 2025 +0000\n",
      " 1 file changed, 1 insertion(+)\n",
      "[main 4bc0b6ab54] commit 1\n",
      " Date: Thu Jan 2 11:40:54 2025 +0000\n",
      " 1 file changed, 1 insertion(+)\n",
      "[main ca2cd19a40] commit 1\n",
      " Date: Thu Jan 2 11:40:54 2025 +0000\n",
      " 1 file changed, 1 insertion(+)\n",
      "[main 201ac79cc8] commit 1\n",
      " Date: Thu Jan 2 11:40:54 2025 +0000\n",
      " 1 file changed, 1 insertion(+)\n"
     ]
    },
    {
     "name": "stderr",
     "output_type": "stream",
     "text": [
      "To https://github.com/ahammadmejbah/The-90-Day-PyTorch-Mastery-Roadmap\n",
      "   64f58b5ad4..201ac79cc8  main -> main\n"
     ]
    },
    {
     "name": "stdout",
     "output_type": "stream",
     "text": [
      "branch 'main' set up to track 'origin/main'.\n",
      "[main db33371700] commit 1\n",
      " Date: Thu Jan 2 11:40:55 2025 +0000\n",
      " 1 file changed, 1 insertion(+)\n",
      "[main 8561f605b7] commit 1\n",
      " Date: Thu Jan 2 11:40:55 2025 +0000\n",
      " 1 file changed, 1 insertion(+)\n",
      "[main d92a80fd2b] commit 1\n",
      " Date: Thu Jan 2 11:40:55 2025 +0000\n",
      " 1 file changed, 1 insertion(+)\n"
     ]
    },
    {
     "name": "stderr",
     "output_type": "stream",
     "text": [
      "To https://github.com/ahammadmejbah/The-90-Day-PyTorch-Mastery-Roadmap\n",
      "   201ac79cc8..d92a80fd2b  main -> main\n"
     ]
    },
    {
     "name": "stdout",
     "output_type": "stream",
     "text": [
      "branch 'main' set up to track 'origin/main'.\n",
      "[main ec0d07327b] commit 1\n",
      " Date: Thu Jan 2 11:40:56 2025 +0000\n",
      " 1 file changed, 1 insertion(+)\n",
      "[main f8c483149d] commit 1\n",
      " Date: Thu Jan 2 11:40:56 2025 +0000\n",
      " 1 file changed, 1 insertion(+)\n",
      "[main 5bf4c27b13] commit 1\n",
      " Date: Thu Jan 2 11:40:56 2025 +0000\n",
      " 2 files changed, 181 insertions(+)\n",
      "[main af27880325] commit 1\n",
      " Date: Thu Jan 2 11:40:56 2025 +0000\n",
      " 1 file changed, 1 insertion(+)\n"
     ]
    },
    {
     "name": "stderr",
     "output_type": "stream",
     "text": [
      "To https://github.com/ahammadmejbah/The-90-Day-PyTorch-Mastery-Roadmap\n",
      "   d92a80fd2b..af27880325  main -> main\n"
     ]
    },
    {
     "name": "stdout",
     "output_type": "stream",
     "text": [
      "branch 'main' set up to track 'origin/main'.\n",
      "[main 2c3f75a54d] commit 1\n",
      " Date: Thu Jan 2 11:40:57 2025 +0000\n",
      " 1 file changed, 1 insertion(+)\n",
      "[main 5e7c7929bf] commit 1\n",
      " Date: Thu Jan 2 11:40:57 2025 +0000\n",
      " 1 file changed, 1 insertion(+)\n",
      "[main 5449e321ca] commit 1\n",
      " Date: Thu Jan 2 11:40:57 2025 +0000\n",
      " 1 file changed, 1 insertion(+)\n",
      "[main fd0f17c6f5] commit 1\n",
      " Date: Thu Jan 2 11:40:58 2025 +0000\n",
      " 1 file changed, 1 insertion(+)\n",
      "[main 8cadcb4e71] commit 1\n",
      " Date: Thu Jan 2 11:40:58 2025 +0000\n",
      " 1 file changed, 1 insertion(+)\n",
      "[main 607603bee4] commit 1\n",
      " Date: Thu Jan 2 11:40:58 2025 +0000\n",
      " 1 file changed, 1 insertion(+)\n",
      "[main c6b14cd9bb] commit 1\n",
      " Date: Thu Jan 2 11:40:58 2025 +0000\n",
      " 1 file changed, 1 insertion(+)\n",
      "[main bc2302ceef] commit 1\n",
      " Date: Thu Jan 2 11:40:58 2025 +0000\n",
      " 1 file changed, 1 insertion(+)\n",
      "[main e2e08e34fe] commit 1\n",
      " Date: Thu Jan 2 11:40:58 2025 +0000\n",
      " 1 file changed, 1 insertion(+)\n",
      "[main ecbf561ece] commit 1\n",
      " Date: Thu Jan 2 11:40:58 2025 +0000\n",
      " 1 file changed, 1 insertion(+)\n"
     ]
    },
    {
     "name": "stderr",
     "output_type": "stream",
     "text": [
      "To https://github.com/ahammadmejbah/The-90-Day-PyTorch-Mastery-Roadmap\n",
      "   af27880325..ecbf561ece  main -> main\n"
     ]
    },
    {
     "name": "stdout",
     "output_type": "stream",
     "text": [
      "branch 'main' set up to track 'origin/main'.\n",
      "[main f622f6ca0a] commit 1\n",
      " Date: Thu Jan 2 11:40:59 2025 +0000\n",
      " 1 file changed, 1 insertion(+)\n",
      "[main 44b77ef2ac] commit 1\n",
      " Date: Thu Jan 2 11:40:59 2025 +0000\n",
      " 1 file changed, 1 insertion(+)\n"
     ]
    },
    {
     "name": "stderr",
     "output_type": "stream",
     "text": [
      "To https://github.com/ahammadmejbah/The-90-Day-PyTorch-Mastery-Roadmap\n",
      "   ecbf561ece..44b77ef2ac  main -> main\n"
     ]
    },
    {
     "name": "stdout",
     "output_type": "stream",
     "text": [
      "branch 'main' set up to track 'origin/main'.\n",
      "[main bc10c59376] commit 1\n",
      " Date: Thu Jan 2 11:41:00 2025 +0000\n",
      " 1 file changed, 1 insertion(+)\n",
      "[main 34699feb88] commit 1\n",
      " Date: Thu Jan 2 11:41:00 2025 +0000\n",
      " 1 file changed, 1 insertion(+)\n"
     ]
    },
    {
     "name": "stderr",
     "output_type": "stream",
     "text": [
      "To https://github.com/ahammadmejbah/The-90-Day-PyTorch-Mastery-Roadmap\n",
      "   44b77ef2ac..34699feb88  main -> main\n"
     ]
    },
    {
     "name": "stdout",
     "output_type": "stream",
     "text": [
      "branch 'main' set up to track 'origin/main'.\n",
      "[main ef6d068d25] commit 1\n",
      " Date: Thu Jan 2 11:41:01 2025 +0000\n",
      " 1 file changed, 1 insertion(+)\n",
      "[main ec79fc28d5] commit 1\n",
      " Date: Thu Jan 2 11:41:01 2025 +0000\n",
      " 1 file changed, 1 insertion(+)\n"
     ]
    },
    {
     "name": "stderr",
     "output_type": "stream",
     "text": [
      "To https://github.com/ahammadmejbah/The-90-Day-PyTorch-Mastery-Roadmap\n",
      "   34699feb88..ec79fc28d5  main -> main\n"
     ]
    },
    {
     "name": "stdout",
     "output_type": "stream",
     "text": [
      "branch 'main' set up to track 'origin/main'.\n",
      "[main 5c50a929f4] commit 1\n",
      " Date: Thu Jan 2 11:41:02 2025 +0000\n",
      " 1 file changed, 1 insertion(+)\n",
      "[main 0feaa6d041] commit 1\n",
      " Date: Thu Jan 2 11:41:02 2025 +0000\n",
      " 1 file changed, 1 insertion(+)\n",
      "[main 92da98d982] commit 1\n",
      " Date: Thu Jan 2 11:41:02 2025 +0000\n",
      " 1 file changed, 1 insertion(+)\n"
     ]
    },
    {
     "name": "stderr",
     "output_type": "stream",
     "text": [
      "To https://github.com/ahammadmejbah/The-90-Day-PyTorch-Mastery-Roadmap\n",
      "   ec79fc28d5..92da98d982  main -> main\n"
     ]
    },
    {
     "name": "stdout",
     "output_type": "stream",
     "text": [
      "branch 'main' set up to track 'origin/main'.\n",
      "[main 49efb5c9ba] commit 1\n",
      " Date: Thu Jan 2 11:41:03 2025 +0000\n",
      " 1 file changed, 1 insertion(+)\n",
      "[main 5994fada5e] commit 1\n",
      " Date: Thu Jan 2 11:41:03 2025 +0000\n",
      " 1 file changed, 1 insertion(+)\n",
      "[main 9613aa7f83] commit 1\n",
      " Date: Thu Jan 2 11:41:03 2025 +0000\n",
      " 1 file changed, 1 insertion(+)\n",
      "[main add59f527f] commit 1\n",
      " Date: Thu Jan 2 11:41:03 2025 +0000\n",
      " 1 file changed, 1 insertion(+)\n",
      "[main 201186f20b] commit 1\n",
      " Date: Thu Jan 2 11:41:03 2025 +0000\n",
      " 1 file changed, 1 insertion(+)\n",
      "[main 994de46c2b] commit 1\n",
      " Date: Thu Jan 2 11:41:04 2025 +0000\n",
      " 1 file changed, 1 insertion(+)\n",
      "[main cbaea56c8d] commit 1\n",
      " Date: Thu Jan 2 11:41:04 2025 +0000\n",
      " 1 file changed, 1 insertion(+)\n",
      "[main 5c9de03945] commit 1\n",
      " Date: Thu Jan 2 11:41:04 2025 +0000\n",
      " 1 file changed, 1 insertion(+)\n"
     ]
    },
    {
     "name": "stderr",
     "output_type": "stream",
     "text": [
      "To https://github.com/ahammadmejbah/The-90-Day-PyTorch-Mastery-Roadmap\n",
      "   92da98d982..5c9de03945  main -> main\n"
     ]
    },
    {
     "name": "stdout",
     "output_type": "stream",
     "text": [
      "branch 'main' set up to track 'origin/main'.\n",
      "[main 0676f6b619] commit 1\n",
      " Date: Thu Jan 2 11:41:05 2025 +0000\n",
      " 1 file changed, 1 insertion(+)\n",
      "[main d0b120d61f] commit 1\n",
      " Date: Thu Jan 2 11:41:05 2025 +0000\n",
      " 1 file changed, 1 insertion(+)\n",
      "[main 9d5a698032] commit 1\n",
      " Date: Thu Jan 2 11:41:05 2025 +0000\n",
      " 1 file changed, 1 insertion(+)\n",
      "[main 336e85ba9f] commit 1\n",
      " Date: Thu Jan 2 11:41:05 2025 +0000\n",
      " 1 file changed, 1 insertion(+)\n",
      "[main 606dd2346b] commit 1\n",
      " Date: Thu Jan 2 11:41:05 2025 +0000\n",
      " 1 file changed, 1 insertion(+)\n",
      "[main 46379effbf] commit 1\n",
      " Date: Thu Jan 2 11:41:05 2025 +0000\n",
      " 1 file changed, 1 insertion(+)\n",
      "[main 57575dd4f8] commit 1\n",
      " Date: Thu Jan 2 11:41:05 2025 +0000\n",
      " 1 file changed, 1 insertion(+)\n",
      "[main 235a1b13cf] commit 1\n",
      " Date: Thu Jan 2 11:41:05 2025 +0000\n",
      " 1 file changed, 1 insertion(+)\n",
      "[main 959bd3ada2] commit 1\n",
      " Date: Thu Jan 2 11:41:05 2025 +0000\n",
      " 1 file changed, 1 insertion(+)\n",
      "[main 3537f85139] commit 1\n",
      " Date: Thu Jan 2 11:41:05 2025 +0000\n",
      " 1 file changed, 1 insertion(+)\n"
     ]
    },
    {
     "name": "stderr",
     "output_type": "stream",
     "text": [
      "To https://github.com/ahammadmejbah/The-90-Day-PyTorch-Mastery-Roadmap\n",
      "   5c9de03945..3537f85139  main -> main\n"
     ]
    },
    {
     "name": "stdout",
     "output_type": "stream",
     "text": [
      "branch 'main' set up to track 'origin/main'.\n",
      "[main 0a41d3045e] commit 1\n",
      " Date: Thu Jan 2 11:41:06 2025 +0000\n",
      " 2 files changed, 175 insertions(+)\n",
      "[main cb77a953ef] commit 1\n",
      " Date: Thu Jan 2 11:41:06 2025 +0000\n",
      " 1 file changed, 1 insertion(+)\n"
     ]
    },
    {
     "name": "stderr",
     "output_type": "stream",
     "text": [
      "To https://github.com/ahammadmejbah/The-90-Day-PyTorch-Mastery-Roadmap\n",
      "   3537f85139..cb77a953ef  main -> main\n"
     ]
    },
    {
     "name": "stdout",
     "output_type": "stream",
     "text": [
      "branch 'main' set up to track 'origin/main'.\n",
      "[main 2de5b24641] commit 1\n",
      " Date: Thu Jan 2 11:41:07 2025 +0000\n",
      " 1 file changed, 1 insertion(+)\n",
      "[main 05fa1b8f00] commit 1\n",
      " Date: Thu Jan 2 11:41:07 2025 +0000\n",
      " 1 file changed, 1 insertion(+)\n",
      "[main f944907a1c] commit 1\n",
      " Date: Thu Jan 2 11:41:07 2025 +0000\n",
      " 1 file changed, 1 insertion(+)\n",
      "[main ef187359a0] commit 1\n",
      " Date: Thu Jan 2 11:41:07 2025 +0000\n",
      " 1 file changed, 1 insertion(+)\n",
      "[main a940557136] commit 1\n",
      " Date: Thu Jan 2 11:41:07 2025 +0000\n",
      " 1 file changed, 1 insertion(+)\n",
      "[main ddfe1735ae] commit 1\n",
      " Date: Thu Jan 2 11:41:07 2025 +0000\n",
      " 1 file changed, 1 insertion(+)\n",
      "[main 6b7559f645] commit 1\n",
      " Date: Thu Jan 2 11:41:07 2025 +0000\n",
      " 1 file changed, 1 insertion(+)\n"
     ]
    },
    {
     "name": "stderr",
     "output_type": "stream",
     "text": [
      "To https://github.com/ahammadmejbah/The-90-Day-PyTorch-Mastery-Roadmap\n",
      "   cb77a953ef..6b7559f645  main -> main\n"
     ]
    },
    {
     "name": "stdout",
     "output_type": "stream",
     "text": [
      "branch 'main' set up to track 'origin/main'.\n",
      "[main 164b14104e] commit 1\n",
      " Date: Thu Jan 2 11:41:08 2025 +0000\n",
      " 1 file changed, 1 insertion(+)\n",
      "[main 1540711402] commit 1\n",
      " Date: Thu Jan 2 11:41:08 2025 +0000\n",
      " 1 file changed, 1 insertion(+)\n"
     ]
    },
    {
     "name": "stderr",
     "output_type": "stream",
     "text": [
      "To https://github.com/ahammadmejbah/The-90-Day-PyTorch-Mastery-Roadmap\n",
      "   6b7559f645..1540711402  main -> main\n"
     ]
    },
    {
     "name": "stdout",
     "output_type": "stream",
     "text": [
      "branch 'main' set up to track 'origin/main'.\n",
      "[main 215baa2aee] commit 1\n",
      " Date: Thu Jan 2 11:41:09 2025 +0000\n",
      " 1 file changed, 1 insertion(+)\n",
      "[main 9487711908] commit 1\n",
      " Date: Thu Jan 2 11:41:09 2025 +0000\n",
      " 1 file changed, 1 insertion(+)\n",
      "[main 295d9b2539] commit 1\n",
      " Date: Thu Jan 2 11:41:09 2025 +0000\n",
      " 1 file changed, 1 insertion(+)\n",
      "[main b6096474ce] commit 1\n",
      " Date: Thu Jan 2 11:41:09 2025 +0000\n",
      " 1 file changed, 1 insertion(+)\n",
      "[main ada3202c6a] commit 1\n",
      " Date: Thu Jan 2 11:41:10 2025 +0000\n",
      " 1 file changed, 1 insertion(+)\n",
      "[main 9564046a5a] commit 1\n",
      " Date: Thu Jan 2 11:41:10 2025 +0000\n",
      " 1 file changed, 1 insertion(+)\n",
      "[main e99ea6f3b0] commit 1\n",
      " Date: Thu Jan 2 11:41:10 2025 +0000\n",
      " 1 file changed, 1 insertion(+)\n",
      "[main dc201de46f] commit 1\n",
      " Date: Thu Jan 2 11:41:10 2025 +0000\n",
      " 1 file changed, 1 insertion(+)\n"
     ]
    },
    {
     "name": "stderr",
     "output_type": "stream",
     "text": [
      "To https://github.com/ahammadmejbah/The-90-Day-PyTorch-Mastery-Roadmap\n",
      "   1540711402..dc201de46f  main -> main\n"
     ]
    },
    {
     "name": "stdout",
     "output_type": "stream",
     "text": [
      "branch 'main' set up to track 'origin/main'.\n",
      "[main e53977887e] commit 1\n",
      " Date: Thu Jan 2 11:41:11 2025 +0000\n",
      " 1 file changed, 1 insertion(+)\n",
      "[main 4044b94ba7] commit 1\n",
      " Date: Thu Jan 2 11:41:11 2025 +0000\n",
      " 1 file changed, 1 insertion(+)\n",
      "[main ffd8be5ae1] commit 1\n",
      " Date: Thu Jan 2 11:41:11 2025 +0000\n",
      " 1 file changed, 1 insertion(+)\n",
      "[main 1c3edaf7ed] commit 1\n",
      " Date: Thu Jan 2 11:41:11 2025 +0000\n",
      " 1 file changed, 1 insertion(+)\n",
      "[main 4b5fcacb68] commit 1\n",
      " Date: Thu Jan 2 11:41:11 2025 +0000\n",
      " 1 file changed, 1 insertion(+)\n"
     ]
    },
    {
     "name": "stderr",
     "output_type": "stream",
     "text": [
      "To https://github.com/ahammadmejbah/The-90-Day-PyTorch-Mastery-Roadmap\n",
      "   dc201de46f..4b5fcacb68  main -> main\n"
     ]
    },
    {
     "name": "stdout",
     "output_type": "stream",
     "text": [
      "branch 'main' set up to track 'origin/main'.\n",
      "[main fe3edb8654] commit 1\n",
      " Date: Thu Jan 2 11:41:12 2025 +0000\n",
      " 1 file changed, 1 insertion(+)\n"
     ]
    },
    {
     "name": "stderr",
     "output_type": "stream",
     "text": [
      "To https://github.com/ahammadmejbah/The-90-Day-PyTorch-Mastery-Roadmap\n",
      "   4b5fcacb68..fe3edb8654  main -> main\n"
     ]
    },
    {
     "name": "stdout",
     "output_type": "stream",
     "text": [
      "branch 'main' set up to track 'origin/main'.\n",
      "[main e9771fb176] commit 1\n",
      " Date: Thu Jan 2 11:41:13 2025 +0000\n",
      " 1 file changed, 1 insertion(+)\n"
     ]
    },
    {
     "name": "stderr",
     "output_type": "stream",
     "text": [
      "To https://github.com/ahammadmejbah/The-90-Day-PyTorch-Mastery-Roadmap\n",
      "   fe3edb8654..e9771fb176  main -> main\n"
     ]
    },
    {
     "name": "stdout",
     "output_type": "stream",
     "text": [
      "branch 'main' set up to track 'origin/main'.\n",
      "[main eb18afbf90] commit 1\n",
      " Date: Thu Jan 2 11:41:14 2025 +0000\n",
      " 1 file changed, 1 insertion(+)\n",
      "[main fb5fbf2d77] commit 1\n",
      " Date: Thu Jan 2 11:41:14 2025 +0000\n",
      " 1 file changed, 1 insertion(+)\n",
      "[main 8e1141a759] commit 1\n",
      " Date: Thu Jan 2 11:41:14 2025 +0000\n",
      " 1 file changed, 1 insertion(+)\n",
      "[main cec84a1306] commit 1\n",
      " Date: Thu Jan 2 11:41:14 2025 +0000\n",
      " 1 file changed, 1 insertion(+)\n",
      "[main 3d18e540b6] commit 1\n",
      " Date: Thu Jan 2 11:41:14 2025 +0000\n",
      " 1 file changed, 1 insertion(+)\n",
      "branch 'main' set up to track 'origin/main'.\n"
     ]
    },
    {
     "name": "stderr",
     "output_type": "stream",
     "text": [
      "To https://github.com/ahammadmejbah/The-90-Day-PyTorch-Mastery-Roadmap\n",
      "   e9771fb176..3d18e540b6  main -> main\n"
     ]
    }
   ],
   "source": [
    "import os\n",
    "from random import randint\n",
    "\n",
    "for i in range(100):\n",
    "    for i in range(1, 2):\n",
    "        commit_count = randint(1, 10)\n",
    "        for _ in range(commit_count):\n",
    "            d = f\"{i} days ago\"\n",
    "            with open('file.txt', 'a') as file:\n",
    "                file.write(d + \"\\n\")  # Added newline for readability\n",
    "\n",
    "            os.system('git add .')\n",
    "            # Use proper date formatting for Git\n",
    "            commit_date = f\"{i} days ago\"\n",
    "            os.system(f'git commit --date=\"{commit_date}\" -m \"commit {i}\"')\n",
    "\n",
    "        # Ensure the final push uses standard spaces\n",
    "    os.system('git push -u origin main')"
   ]
  },
  {
   "cell_type": "code",
   "execution_count": null,
   "metadata": {},
   "outputs": [],
   "source": []
  }
 ],
 "metadata": {
  "kernelspec": {
   "display_name": "Python 3",
   "language": "python",
   "name": "python3"
  },
  "language_info": {
   "codemirror_mode": {
    "name": "ipython",
    "version": 3
   },
   "file_extension": ".py",
   "mimetype": "text/x-python",
   "name": "python",
   "nbconvert_exporter": "python",
   "pygments_lexer": "ipython3",
   "version": "3.12.1"
  }
 },
 "nbformat": 4,
 "nbformat_minor": 2
}
